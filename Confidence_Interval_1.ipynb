{
  "cells": [
    {
      "cell_type": "markdown",
      "metadata": {
        "id": "view-in-github",
        "colab_type": "text"
      },
      "source": [
        "<a href=\"https://colab.research.google.com/github/HimanshuSahoo/DATA-SCIENCE/blob/main/Confidence_Interval_1.ipynb\" target=\"_parent\"><img src=\"https://colab.research.google.com/assets/colab-badge.svg\" alt=\"Open In Colab\"/></a>"
      ]
    },
    {
      "cell_type": "code",
      "execution_count": null,
      "source": [
        ""
      ],
      "outputs": [],
      "metadata": {
        "id": "yf1_fdA5Uq-B"
      }
    },
    {
      "cell_type": "code",
      "execution_count": null,
      "source": [
        "from scipy import stats\n",
        "import pandas as pd\n",
        "import numpy as np"
      ],
      "outputs": [],
      "metadata": {
        "id": "4UTlhbsXUq-D"
      }
    },
    {
      "cell_type": "code",
      "execution_count": null,
      "source": [
        "glaxo_df=pd.read_csv('glaxo_df.csv')\n"
      ],
      "outputs": [],
      "metadata": {
        "id": "rvKMrNLfUq-E"
      }
    },
    {
      "cell_type": "code",
      "execution_count": null,
      "source": [
        "glaxo_df_ci = stats.norm.interval(0.95,\n",
        "loc = glaxo_df.gain.mean(),\n",
        "scale = glaxo_df.gain.std())\n",
        "print( 'Gain at 95% confidence interval is:', np.round(glaxo_df_ci, 4))"
      ],
      "outputs": [
        {
          "output_type": "stream",
          "name": "stdout",
          "text": [
            "Gain at 95% confidence interval is: [-0.0258  0.0266]\n"
          ]
        }
      ],
      "metadata": {
        "id": "i8DNDcapUq-F",
        "outputId": "0804e728-0669-483c-84ca-5a16bb0dd15a"
      }
    },
    {
      "cell_type": "code",
      "execution_count": null,
      "source": [
        "beml_df=pd.read_csv('beml_df.csv')\n",
        "\n",
        "beml_df_ci = stats. norm.interval(0.95,\n",
        "loc=beml_df.gain.mean(),\n",
        "scale=beml_df.gain.std())"
      ],
      "outputs": [],
      "metadata": {
        "id": "2FdG1t-4Uq-H"
      }
    },
    {
      "cell_type": "code",
      "execution_count": null,
      "source": [
        "stats. norm.interval(0.95,\n",
        "loc= 1990,\n",
        "scale=2833/np.sqrt(140))"
      ],
      "outputs": [
        {
          "output_type": "execute_result",
          "data": {
            "text/plain": [
              "(1520.721510546228, 2459.2784894537717)"
            ]
          },
          "metadata": {},
          "execution_count": 5
        }
      ],
      "metadata": {
        "id": "XRKfLYsmUq-H",
        "outputId": "162f8f57-dfce-4bfb-d971-875df7dc71f1"
      }
    },
    {
      "cell_type": "code",
      "execution_count": null,
      "source": [
        "glaxo_df_ci = stats.norm.interval(0.95,\n",
        "loc = glaxo_df.gain.mean(),\n",
        "scale = glaxo_df.gain.std())\n",
        "print( 'Gain at 95% confidence interval is:', np.round(glaxo_df_ci, 4))"
      ],
      "outputs": [
        {
          "output_type": "stream",
          "name": "stdout",
          "text": [
            "Gain at 95% confidence interval is: [-0.0258  0.0266]\n"
          ]
        }
      ],
      "metadata": {
        "id": "ij9MiOeBUq-I",
        "outputId": "4fc215f2-fede-4349-ec11-50e557cc750f"
      }
    },
    {
      "cell_type": "markdown",
      "source": [
        "## Population Std Dev known"
      ],
      "metadata": {
        "id": "HiylQioSUq-I"
      }
    },
    {
      "cell_type": "markdown",
      "source": [
        "Endpoints of the range that contains alpha percent of the distribution\n",
        "+ interval ( alpha, loc=0, scale=1 )"
      ],
      "metadata": {
        "id": "P-irEOgyUq-J"
      }
    },
    {
      "cell_type": "code",
      "execution_count": null,
      "source": [
        "stats.norm.interval(0.95,\n",
        "loc = 0,\n",
        "scale = 1)\n",
        "np.round(conf_int)"
      ],
      "outputs": [
        {
          "output_type": "execute_result",
          "data": {
            "text/plain": [
              "array([-2.,  2.])"
            ]
          },
          "metadata": {},
          "execution_count": 15
        }
      ],
      "metadata": {
        "id": "s1OSa8EYUq-K",
        "outputId": "3e7ce4eb-fe3e-4523-c938-2f98c7bf6488"
      }
    },
    {
      "cell_type": "code",
      "execution_count": null,
      "source": [
        "# Get Z-Value\n",
        "## For 95% Confidence\n",
        "stats.norm.ppf(.975)"
      ],
      "outputs": [
        {
          "output_type": "execute_result",
          "data": {
            "text/plain": [
              "1.959963984540054"
            ]
          },
          "metadata": {},
          "execution_count": 3
        }
      ],
      "metadata": {
        "id": "vsoM9is2Uq-K",
        "outputId": "555442b5-a81b-46a2-afe9-4f050664999d"
      }
    },
    {
      "cell_type": "code",
      "execution_count": null,
      "source": [
        "conf_int = stats.norm.interval(0.95,\n",
        "loc = 1990,\n",
        "scale = 2500/np.sqrt(140))\n",
        "np.round(conf_int,0)"
      ],
      "outputs": [
        {
          "output_type": "execute_result",
          "data": {
            "text/plain": [
              "array([1576., 2404.])"
            ]
          },
          "metadata": {},
          "execution_count": 5
        }
      ],
      "metadata": {
        "id": "w_tjdWJgUq-L",
        "outputId": "ab341f16-809f-4bf2-e5c7-da345bba90bd"
      }
    },
    {
      "cell_type": "markdown",
      "source": [
        "## Population Std Dev not known"
      ],
      "metadata": {
        "id": "GvrevzmNUq-L"
      }
    },
    {
      "cell_type": "markdown",
      "source": [
        "### a. Using Z"
      ],
      "metadata": {
        "id": "zQwmbr70Uq-L"
      }
    },
    {
      "cell_type": "code",
      "execution_count": null,
      "source": [
        "conf_int = stats.norm.interval(0.95,\n",
        "loc = 1990,\n",
        "scale = 2833/np.sqrt(140))\n",
        "np.round(conf_int,0)"
      ],
      "outputs": [
        {
          "output_type": "execute_result",
          "data": {
            "text/plain": [
              "array([1521., 2459.])"
            ]
          },
          "metadata": {},
          "execution_count": 6
        }
      ],
      "metadata": {
        "id": "nMWXZyMDUq-L",
        "outputId": "0de65f1f-3a8a-4b96-aa72-5b48f31642d2"
      }
    },
    {
      "cell_type": "markdown",
      "source": [
        "### b. Using t"
      ],
      "metadata": {
        "id": "uXojjJusUq-M"
      }
    },
    {
      "cell_type": "code",
      "execution_count": null,
      "source": [
        "# To get t-value\n",
        "## For 95% Confidence\n",
        "stats.t.ppf(0.975,df=139)"
      ],
      "outputs": [
        {
          "output_type": "execute_result",
          "data": {
            "text/plain": [
              "1.977177724476122"
            ]
          },
          "metadata": {},
          "execution_count": 11
        }
      ],
      "metadata": {
        "id": "PbHu2SFOUq-M",
        "outputId": "7bf33ed9-2153-4fa8-9cf2-e9ce71f7418d"
      }
    },
    {
      "cell_type": "code",
      "execution_count": null,
      "source": [
        "conf_int_t = stats.t.interval( alpha=0.95, df=139, loc=1990, scale=2833/np.sqrt(140))\n",
        "np.round(conf_int_t,0)"
      ],
      "outputs": [
        {
          "output_type": "execute_result",
          "data": {
            "text/plain": [
              "array([1517., 2463.])"
            ]
          },
          "metadata": {},
          "execution_count": 12
        }
      ],
      "metadata": {
        "id": "HgTxt6qKUq-M",
        "outputId": "b833c21f-77b9-4d04-9587-b23f34b3c056"
      }
    },
    {
      "cell_type": "markdown",
      "source": [
        "### Finding p-values"
      ],
      "metadata": {
        "id": "91HNvXrQUq-M"
      }
    },
    {
      "cell_type": "code",
      "execution_count": null,
      "source": [
        "# p-value for t-statistic\n",
        "stats.t.cdf(-2.375,17)"
      ],
      "outputs": [
        {
          "output_type": "execute_result",
          "data": {
            "text/plain": [
              "0.014791498962710226"
            ]
          },
          "metadata": {},
          "execution_count": 2
        }
      ],
      "metadata": {
        "id": "nAzOrLJSUq-M",
        "outputId": "6fcffa36-87f3-4181-fb59-9ffeddcb8109"
      }
    },
    {
      "cell_type": "code",
      "execution_count": null,
      "source": [
        "# p-value for z-statistic\n",
        "stats.norm.cdf(-1.71)"
      ],
      "outputs": [
        {
          "output_type": "execute_result",
          "data": {
            "text/plain": [
              "0.0436329365240319"
            ]
          },
          "metadata": {},
          "execution_count": 3
        }
      ],
      "metadata": {
        "id": "Kl2sHCUBUq-N",
        "outputId": "e8450db6-1d93-42c1-9a4b-9465db9b7960"
      }
    },
    {
      "cell_type": "code",
      "execution_count": null,
      "source": [
        ""
      ],
      "outputs": [],
      "metadata": {
        "id": "wJyeUW65Uq-N"
      }
    }
  ],
  "metadata": {
    "kernelspec": {
      "name": "python3",
      "display_name": "Python 3.8.5 64-bit ('base': conda)"
    },
    "language_info": {
      "codemirror_mode": {
        "name": "ipython",
        "version": 3
      },
      "file_extension": ".py",
      "mimetype": "text/x-python",
      "name": "python",
      "nbconvert_exporter": "python",
      "pygments_lexer": "ipython3",
      "version": "3.8.5"
    },
    "interpreter": {
      "hash": "bab68610a7da1c397d023cc1b38559851e158552e221441758b9edad06bfc4f6"
    },
    "colab": {
      "name": "Confidence Interval_1.ipynb",
      "provenance": [],
      "include_colab_link": true
    }
  },
  "nbformat": 4,
  "nbformat_minor": 0
}