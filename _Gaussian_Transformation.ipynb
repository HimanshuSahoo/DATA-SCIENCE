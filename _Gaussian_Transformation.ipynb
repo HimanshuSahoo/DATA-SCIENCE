{
  "nbformat": 4,
  "nbformat_minor": 5,
  "metadata": {
    "kernelspec": {
      "display_name": "Python 3",
      "language": "python",
      "name": "python3"
    },
    "language_info": {
      "codemirror_mode": {
        "name": "ipython",
        "version": 3
      },
      "file_extension": ".py",
      "mimetype": "text/x-python",
      "name": "python",
      "nbconvert_exporter": "python",
      "pygments_lexer": "ipython3",
      "version": "3.8.8"
    },
    "toc": {
      "base_numbering": 1,
      "nav_menu": {},
      "number_sections": true,
      "sideBar": true,
      "skip_h1_title": false,
      "title_cell": "Table of Contents",
      "title_sidebar": "Contents",
      "toc_cell": false,
      "toc_position": {},
      "toc_section_display": true,
      "toc_window_display": false
    },
    "varInspector": {
      "cols": {
        "lenName": 16,
        "lenType": 16,
        "lenVar": 40
      },
      "kernels_config": {
        "python": {
          "delete_cmd_postfix": "",
          "delete_cmd_prefix": "del ",
          "library": "var_list.py",
          "varRefreshCmd": "print(var_dic_list())"
        },
        "r": {
          "delete_cmd_postfix": ") ",
          "delete_cmd_prefix": "rm(",
          "library": "var_list.r",
          "varRefreshCmd": "cat(var_dic_list()) "
        }
      },
      "types_to_exclude": [
        "module",
        "function",
        "builtin_function_or_method",
        "instance",
        "_Feature"
      ],
      "window_display": false
    },
    "colab": {
      "name": "_Gaussian-Transformation.ipynb",
      "provenance": [],
      "include_colab_link": true
    }
  },
  "cells": [
    {
      "cell_type": "markdown",
      "metadata": {
        "id": "view-in-github",
        "colab_type": "text"
      },
      "source": [
        "<a href=\"https://colab.research.google.com/github/HimanshuSahoo/DATA-SCIENCE/blob/main/_Gaussian_Transformation.ipynb\" target=\"_parent\"><img src=\"https://colab.research.google.com/assets/colab-badge.svg\" alt=\"Open In Colab\"/></a>"
      ]
    },
    {
      "cell_type": "markdown",
      "metadata": {
        "id": "96759dea"
      },
      "source": [
        "##  Select the Right Threshold values using ROC Curve"
      ],
      "id": "96759dea"
    },
    {
      "cell_type": "code",
      "metadata": {
        "id": "3faf10c1"
      },
      "source": [
        "\n",
        "import numpy as np\n",
        "import pandas as pd\n",
        "import matplotlib.pyplot as plt\n",
        "%matplotlib inline\n",
        "import seaborn as sns\n",
        "# roc curve and auc score\n",
        "from sklearn.datasets import make_classification"
      ],
      "id": "3faf10c1",
      "execution_count": 1,
      "outputs": []
    },
    {
      "cell_type": "code",
      "metadata": {
        "id": "32d6463b"
      },
      "source": [
        "from sklearn.model_selection import train_test_split\n",
        "X, y = make_classification(n_samples=2000, n_classes=2, weights=[1,1], random_state=1)"
      ],
      "id": "32d6463b",
      "execution_count": 2,
      "outputs": []
    },
    {
      "cell_type": "code",
      "metadata": {
        "colab": {
          "base_uri": "https://localhost:8080/"
        },
        "id": "f8bf67ef",
        "outputId": "88ff26a7-0a1d-4089-d875-952d2775acf2"
      },
      "source": [
        "X.shape"
      ],
      "id": "f8bf67ef",
      "execution_count": 3,
      "outputs": [
        {
          "output_type": "execute_result",
          "data": {
            "text/plain": [
              "(2000, 20)"
            ]
          },
          "metadata": {},
          "execution_count": 3
        }
      ]
    },
    {
      "cell_type": "code",
      "metadata": {
        "colab": {
          "base_uri": "https://localhost:8080/"
        },
        "id": "dbcfff93",
        "outputId": "3c427f34-e3b3-42f4-e42c-f98115c079c0"
      },
      "source": [
        "y"
      ],
      "id": "dbcfff93",
      "execution_count": 4,
      "outputs": [
        {
          "output_type": "execute_result",
          "data": {
            "text/plain": [
              "array([0, 0, 0, ..., 1, 1, 0])"
            ]
          },
          "metadata": {},
          "execution_count": 4
        }
      ]
    },
    {
      "cell_type": "code",
      "metadata": {
        "id": "700af758"
      },
      "source": [
        "\n",
        "from sklearn.model_selection import train_test_split\n",
        "\n",
        "X_train,X_test,y_train,y_test = train_test_split(X, y, test_size=0.3, random_state=1)"
      ],
      "id": "700af758",
      "execution_count": 5,
      "outputs": []
    },
    {
      "cell_type": "code",
      "metadata": {
        "id": "07ba3e85"
      },
      "source": [
        "from sklearn.metrics import roc_curve\n",
        "from sklearn.metrics import roc_auc_score"
      ],
      "id": "07ba3e85",
      "execution_count": 6,
      "outputs": []
    },
    {
      "cell_type": "markdown",
      "metadata": {
        "id": "8e5619f9"
      },
      "source": [
        "## Random Forests"
      ],
      "id": "8e5619f9"
    },
    {
      "cell_type": "code",
      "metadata": {
        "colab": {
          "base_uri": "https://localhost:8080/"
        },
        "id": "5ba7fc4f",
        "outputId": "f5c63798-d8d5-49ed-ccd4-4f3f0fc36c7c"
      },
      "source": [
        "## Apply RandomForestClassifier\n",
        "from sklearn.ensemble import RandomForestClassifier\n",
        "rf_model = RandomForestClassifier()\n",
        "rf_model.fit(X_train, y_train)\n",
        "ytrain_pred = rf_model.predict_proba(X_train)\n",
        "print('RF train roc-auc: {}'.format(roc_auc_score(y_train, ytrain_pred[:,1])))\n",
        "ytest_pred = rf_model.predict_proba(X_test)\n",
        "print('RF test roc-auc: {}'.format(roc_auc_score(y_test, ytest_pred[:,1])))"
      ],
      "id": "5ba7fc4f",
      "execution_count": 7,
      "outputs": [
        {
          "output_type": "stream",
          "name": "stdout",
          "text": [
            "RF train roc-auc: 1.0\n",
            "RF test roc-auc: 0.9816944444444445\n"
          ]
        }
      ]
    },
    {
      "cell_type": "code",
      "metadata": {
        "colab": {
          "base_uri": "https://localhost:8080/"
        },
        "id": "cf3e2e54",
        "outputId": "3f2cf617-80e2-4d1e-cfb4-e5ab3728a66b"
      },
      "source": [
        "\n",
        "ytrain_pred"
      ],
      "id": "cf3e2e54",
      "execution_count": 8,
      "outputs": [
        {
          "output_type": "execute_result",
          "data": {
            "text/plain": [
              "array([[1.  , 0.  ],\n",
              "       [0.97, 0.03],\n",
              "       [0.02, 0.98],\n",
              "       ...,\n",
              "       [1.  , 0.  ],\n",
              "       [0.99, 0.01],\n",
              "       [0.25, 0.75]])"
            ]
          },
          "metadata": {},
          "execution_count": 8
        }
      ]
    },
    {
      "cell_type": "markdown",
      "metadata": {
        "id": "0f0b268a"
      },
      "source": [
        "## Logistic Regression"
      ],
      "id": "0f0b268a"
    },
    {
      "cell_type": "code",
      "metadata": {
        "colab": {
          "base_uri": "https://localhost:8080/"
        },
        "id": "5eaae445",
        "outputId": "cd3a2d62-eab6-46e6-dbd6-1d326633743e"
      },
      "source": [
        "from sklearn.linear_model import LogisticRegression\n",
        "log_classifier=LogisticRegression()\n",
        "log_classifier.fit(X_train, y_train)\n",
        "ytrain_pred = log_classifier.predict_proba(X_train)\n",
        "print('Logistic train roc-auc: {}'.format(roc_auc_score(y_train, ytrain_pred[:,1])))\n",
        "ytest_pred = log_classifier.predict_proba(X_test)\n",
        "print('Logistic test roc-auc: {}'.format(roc_auc_score(y_test, ytest_pred[:,1])))"
      ],
      "id": "5eaae445",
      "execution_count": 9,
      "outputs": [
        {
          "output_type": "stream",
          "name": "stdout",
          "text": [
            "Logistic train roc-auc: 0.9863568922694498\n",
            "Logistic test roc-auc: 0.9885777777777777\n"
          ]
        }
      ]
    },
    {
      "cell_type": "markdown",
      "metadata": {
        "id": "1e915566"
      },
      "source": [
        "## Adaboost Classifier"
      ],
      "id": "1e915566"
    },
    {
      "cell_type": "code",
      "metadata": {
        "colab": {
          "base_uri": "https://localhost:8080/"
        },
        "id": "40179012",
        "outputId": "8d225d27-d881-4088-ce1f-aa8d48ce6a06"
      },
      "source": [
        "from sklearn.ensemble import AdaBoostClassifier\n",
        "ada_classifier=AdaBoostClassifier()\n",
        "ada_classifier.fit(X_train, y_train)\n",
        "ytrain_pred = ada_classifier.predict_proba(X_train)\n",
        "print('Adaboost train roc-auc: {}'.format(roc_auc_score(y_train, ytrain_pred[:,1])))\n",
        "ytest_pred = ada_classifier.predict_proba(X_test)\n",
        "print('Adaboost test roc-auc: {}'.format(roc_auc_score(y_test, ytest_pred[:,1])))"
      ],
      "id": "40179012",
      "execution_count": 10,
      "outputs": [
        {
          "output_type": "stream",
          "name": "stdout",
          "text": [
            "Adaboost train roc-auc: 0.9975081174960356\n",
            "Adaboost test roc-auc: 0.9826111111111111\n"
          ]
        }
      ]
    },
    {
      "cell_type": "markdown",
      "metadata": {
        "id": "8fe03ad2"
      },
      "source": [
        "## KNNClassifier"
      ],
      "id": "8fe03ad2"
    },
    {
      "cell_type": "code",
      "metadata": {
        "colab": {
          "base_uri": "https://localhost:8080/"
        },
        "id": "df0813d8",
        "outputId": "2fb465b0-ef02-48d9-8473-d42cbf582ed2"
      },
      "source": [
        "\n",
        "from sklearn.neighbors import KNeighborsClassifier\n",
        "knn_classifier=KNeighborsClassifier()\n",
        "knn_classifier.fit(X_train, y_train)\n",
        "ytrain_pred = knn_classifier.predict_proba(X_train)\n",
        "print('Adaboost train roc-auc: {}'.format(roc_auc_score(y_train, ytrain_pred[:,1])))\n",
        "ytest_pred = knn_classifier.predict_proba(X_test)\n",
        "print('Adaboost test roc-auc: {}'.format(roc_auc_score(y_test, ytest_pred[:,1])))"
      ],
      "id": "df0813d8",
      "execution_count": 11,
      "outputs": [
        {
          "output_type": "stream",
          "name": "stdout",
          "text": [
            "Adaboost train roc-auc: 0.981670071491109\n",
            "Adaboost test roc-auc: 0.9426111111111111\n"
          ]
        }
      ]
    },
    {
      "cell_type": "markdown",
      "metadata": {
        "id": "210c44b5"
      },
      "source": [
        "## Now we will focus on selecting the best threshold for maximum accuracy"
      ],
      "id": "210c44b5"
    },
    {
      "cell_type": "code",
      "metadata": {
        "colab": {
          "base_uri": "https://localhost:8080/"
        },
        "id": "cd4988a2",
        "outputId": "69575094-7524-412a-932b-a1c058483fbd"
      },
      "source": [
        "pred=[]\n",
        "for model in [rf_model,log_classifier,ada_classifier,knn_classifier]:\n",
        "    pred.append(pd.Series(model.predict_proba(X_test)[:,1]))\n",
        "final_prediction=pd.concat(pred,axis=1).mean(axis=1)\n",
        "print('Ensemble test roc-auc: {}'.format(roc_auc_score(y_test,final_prediction)))"
      ],
      "id": "cd4988a2",
      "execution_count": 12,
      "outputs": [
        {
          "output_type": "stream",
          "name": "stdout",
          "text": [
            "Ensemble test roc-auc: 0.9847222222222222\n"
          ]
        }
      ]
    },
    {
      "cell_type": "code",
      "metadata": {
        "colab": {
          "base_uri": "https://localhost:8080/",
          "height": 417
        },
        "id": "f9b643cb",
        "outputId": "6b3749bf-0221-4995-d3ef-450ea0a20e09"
      },
      "source": [
        "pd.concat(pred,axis=1)"
      ],
      "id": "f9b643cb",
      "execution_count": 13,
      "outputs": [
        {
          "output_type": "execute_result",
          "data": {
            "text/html": [
              "<div>\n",
              "<style scoped>\n",
              "    .dataframe tbody tr th:only-of-type {\n",
              "        vertical-align: middle;\n",
              "    }\n",
              "\n",
              "    .dataframe tbody tr th {\n",
              "        vertical-align: top;\n",
              "    }\n",
              "\n",
              "    .dataframe thead th {\n",
              "        text-align: right;\n",
              "    }\n",
              "</style>\n",
              "<table border=\"1\" class=\"dataframe\">\n",
              "  <thead>\n",
              "    <tr style=\"text-align: right;\">\n",
              "      <th></th>\n",
              "      <th>0</th>\n",
              "      <th>1</th>\n",
              "      <th>2</th>\n",
              "      <th>3</th>\n",
              "    </tr>\n",
              "  </thead>\n",
              "  <tbody>\n",
              "    <tr>\n",
              "      <th>0</th>\n",
              "      <td>0.97</td>\n",
              "      <td>0.991861</td>\n",
              "      <td>0.559186</td>\n",
              "      <td>1.0</td>\n",
              "    </tr>\n",
              "    <tr>\n",
              "      <th>1</th>\n",
              "      <td>0.03</td>\n",
              "      <td>0.000008</td>\n",
              "      <td>0.463282</td>\n",
              "      <td>0.0</td>\n",
              "    </tr>\n",
              "    <tr>\n",
              "      <th>2</th>\n",
              "      <td>0.93</td>\n",
              "      <td>0.966929</td>\n",
              "      <td>0.538202</td>\n",
              "      <td>0.8</td>\n",
              "    </tr>\n",
              "    <tr>\n",
              "      <th>3</th>\n",
              "      <td>0.98</td>\n",
              "      <td>0.761539</td>\n",
              "      <td>0.509875</td>\n",
              "      <td>0.8</td>\n",
              "    </tr>\n",
              "    <tr>\n",
              "      <th>4</th>\n",
              "      <td>0.55</td>\n",
              "      <td>0.779443</td>\n",
              "      <td>0.490344</td>\n",
              "      <td>0.4</td>\n",
              "    </tr>\n",
              "    <tr>\n",
              "      <th>...</th>\n",
              "      <td>...</td>\n",
              "      <td>...</td>\n",
              "      <td>...</td>\n",
              "      <td>...</td>\n",
              "    </tr>\n",
              "    <tr>\n",
              "      <th>595</th>\n",
              "      <td>0.00</td>\n",
              "      <td>0.024239</td>\n",
              "      <td>0.461121</td>\n",
              "      <td>0.0</td>\n",
              "    </tr>\n",
              "    <tr>\n",
              "      <th>596</th>\n",
              "      <td>0.05</td>\n",
              "      <td>0.000003</td>\n",
              "      <td>0.441377</td>\n",
              "      <td>0.0</td>\n",
              "    </tr>\n",
              "    <tr>\n",
              "      <th>597</th>\n",
              "      <td>1.00</td>\n",
              "      <td>0.984385</td>\n",
              "      <td>0.532403</td>\n",
              "      <td>1.0</td>\n",
              "    </tr>\n",
              "    <tr>\n",
              "      <th>598</th>\n",
              "      <td>0.00</td>\n",
              "      <td>0.001147</td>\n",
              "      <td>0.441720</td>\n",
              "      <td>0.2</td>\n",
              "    </tr>\n",
              "    <tr>\n",
              "      <th>599</th>\n",
              "      <td>0.99</td>\n",
              "      <td>0.989540</td>\n",
              "      <td>0.559890</td>\n",
              "      <td>0.8</td>\n",
              "    </tr>\n",
              "  </tbody>\n",
              "</table>\n",
              "<p>600 rows × 4 columns</p>\n",
              "</div>"
            ],
            "text/plain": [
              "        0         1         2    3\n",
              "0    0.97  0.991861  0.559186  1.0\n",
              "1    0.03  0.000008  0.463282  0.0\n",
              "2    0.93  0.966929  0.538202  0.8\n",
              "3    0.98  0.761539  0.509875  0.8\n",
              "4    0.55  0.779443  0.490344  0.4\n",
              "..    ...       ...       ...  ...\n",
              "595  0.00  0.024239  0.461121  0.0\n",
              "596  0.05  0.000003  0.441377  0.0\n",
              "597  1.00  0.984385  0.532403  1.0\n",
              "598  0.00  0.001147  0.441720  0.2\n",
              "599  0.99  0.989540  0.559890  0.8\n",
              "\n",
              "[600 rows x 4 columns]"
            ]
          },
          "metadata": {},
          "execution_count": 13
        }
      ]
    },
    {
      "cell_type": "code",
      "metadata": {
        "colab": {
          "base_uri": "https://localhost:8080/"
        },
        "id": "b615bdfe",
        "outputId": "f62ad81b-4f0b-44b0-c492-f24855b950ea"
      },
      "source": [
        "final_prediction"
      ],
      "id": "b615bdfe",
      "execution_count": 14,
      "outputs": [
        {
          "output_type": "execute_result",
          "data": {
            "text/plain": [
              "0      0.880262\n",
              "1      0.123323\n",
              "2      0.808783\n",
              "3      0.762853\n",
              "4      0.554947\n",
              "         ...   \n",
              "595    0.121340\n",
              "596    0.122845\n",
              "597    0.879197\n",
              "598    0.160717\n",
              "599    0.834857\n",
              "Length: 600, dtype: float64"
            ]
          },
          "metadata": {},
          "execution_count": 14
        }
      ]
    },
    {
      "cell_type": "code",
      "metadata": {
        "colab": {
          "base_uri": "https://localhost:8080/"
        },
        "id": "740e76ab",
        "outputId": "e8bcb522-6d27-4597-e9af-24aa49bffbd8"
      },
      "source": [
        "#### Calculate the ROc Curve\n",
        "\n",
        "\n",
        "fpr, tpr, thresholds = roc_curve(y_test, final_prediction)\n",
        "thresholds"
      ],
      "id": "740e76ab",
      "execution_count": 15,
      "outputs": [
        {
          "output_type": "execute_result",
          "data": {
            "text/plain": [
              "array([1.91188114, 0.91188114, 0.9060034 , 0.90577475, 0.81202418,\n",
              "       0.8105558 , 0.80448866, 0.80412833, 0.77925879, 0.77821156,\n",
              "       0.76547605, 0.76537124, 0.75197934, 0.75137362, 0.71725181,\n",
              "       0.71393711, 0.67851868, 0.67743537, 0.59906376, 0.59114346,\n",
              "       0.5815152 , 0.57925354, 0.57896627, 0.57486186, 0.54542732,\n",
              "       0.54127948, 0.53355932, 0.53139283, 0.52865858, 0.48616892,\n",
              "       0.45450602, 0.42536956, 0.4246034 , 0.38590767, 0.38379719,\n",
              "       0.35433098, 0.34836612, 0.23338101, 0.23140421, 0.20233682,\n",
              "       0.19848417, 0.12284501, 0.1228351 , 0.10632697])"
            ]
          },
          "metadata": {},
          "execution_count": 15
        }
      ]
    },
    {
      "cell_type": "code",
      "metadata": {
        "colab": {
          "base_uri": "https://localhost:8080/",
          "height": 203
        },
        "id": "9b0077d0",
        "outputId": "5c88ed30-f2fa-4195-bd67-d6d7273167f8"
      },
      "source": [
        "from sklearn.metrics import accuracy_score\n",
        "accuracy_ls = []\n",
        "for thres in thresholds:\n",
        "    y_pred = np.where(final_prediction>thres,1,0)\n",
        "    accuracy_ls.append(accuracy_score(y_test, y_pred, normalize=True))\n",
        "    \n",
        "accuracy_ls = pd.concat([pd.Series(thresholds), pd.Series(accuracy_ls)],\n",
        "                        axis=1)\n",
        "accuracy_ls.columns = ['thresholds', 'accuracy']\n",
        "accuracy_ls.sort_values(by='accuracy', ascending=False, inplace=True)\n",
        "accuracy_ls.head()"
      ],
      "id": "9b0077d0",
      "execution_count": 16,
      "outputs": [
        {
          "output_type": "execute_result",
          "data": {
            "text/html": [
              "<div>\n",
              "<style scoped>\n",
              "    .dataframe tbody tr th:only-of-type {\n",
              "        vertical-align: middle;\n",
              "    }\n",
              "\n",
              "    .dataframe tbody tr th {\n",
              "        vertical-align: top;\n",
              "    }\n",
              "\n",
              "    .dataframe thead th {\n",
              "        text-align: right;\n",
              "    }\n",
              "</style>\n",
              "<table border=\"1\" class=\"dataframe\">\n",
              "  <thead>\n",
              "    <tr style=\"text-align: right;\">\n",
              "      <th></th>\n",
              "      <th>thresholds</th>\n",
              "      <th>accuracy</th>\n",
              "    </tr>\n",
              "  </thead>\n",
              "  <tbody>\n",
              "    <tr>\n",
              "      <th>30</th>\n",
              "      <td>0.454506</td>\n",
              "      <td>0.960000</td>\n",
              "    </tr>\n",
              "    <tr>\n",
              "      <th>27</th>\n",
              "      <td>0.531393</td>\n",
              "      <td>0.960000</td>\n",
              "    </tr>\n",
              "    <tr>\n",
              "      <th>31</th>\n",
              "      <td>0.425370</td>\n",
              "      <td>0.958333</td>\n",
              "    </tr>\n",
              "    <tr>\n",
              "      <th>29</th>\n",
              "      <td>0.486169</td>\n",
              "      <td>0.958333</td>\n",
              "    </tr>\n",
              "    <tr>\n",
              "      <th>28</th>\n",
              "      <td>0.528659</td>\n",
              "      <td>0.958333</td>\n",
              "    </tr>\n",
              "  </tbody>\n",
              "</table>\n",
              "</div>"
            ],
            "text/plain": [
              "    thresholds  accuracy\n",
              "30    0.454506  0.960000\n",
              "27    0.531393  0.960000\n",
              "31    0.425370  0.958333\n",
              "29    0.486169  0.958333\n",
              "28    0.528659  0.958333"
            ]
          },
          "metadata": {},
          "execution_count": 16
        }
      ]
    },
    {
      "cell_type": "code",
      "metadata": {
        "colab": {
          "base_uri": "https://localhost:8080/",
          "height": 1000
        },
        "id": "6f710638",
        "outputId": "0b0cf131-0bc2-41f6-98d5-f44478e99ad1"
      },
      "source": [
        "accuracy_ls"
      ],
      "id": "6f710638",
      "execution_count": 17,
      "outputs": [
        {
          "output_type": "execute_result",
          "data": {
            "text/html": [
              "<div>\n",
              "<style scoped>\n",
              "    .dataframe tbody tr th:only-of-type {\n",
              "        vertical-align: middle;\n",
              "    }\n",
              "\n",
              "    .dataframe tbody tr th {\n",
              "        vertical-align: top;\n",
              "    }\n",
              "\n",
              "    .dataframe thead th {\n",
              "        text-align: right;\n",
              "    }\n",
              "</style>\n",
              "<table border=\"1\" class=\"dataframe\">\n",
              "  <thead>\n",
              "    <tr style=\"text-align: right;\">\n",
              "      <th></th>\n",
              "      <th>thresholds</th>\n",
              "      <th>accuracy</th>\n",
              "    </tr>\n",
              "  </thead>\n",
              "  <tbody>\n",
              "    <tr>\n",
              "      <th>30</th>\n",
              "      <td>0.454506</td>\n",
              "      <td>0.960000</td>\n",
              "    </tr>\n",
              "    <tr>\n",
              "      <th>27</th>\n",
              "      <td>0.531393</td>\n",
              "      <td>0.960000</td>\n",
              "    </tr>\n",
              "    <tr>\n",
              "      <th>31</th>\n",
              "      <td>0.425370</td>\n",
              "      <td>0.958333</td>\n",
              "    </tr>\n",
              "    <tr>\n",
              "      <th>29</th>\n",
              "      <td>0.486169</td>\n",
              "      <td>0.958333</td>\n",
              "    </tr>\n",
              "    <tr>\n",
              "      <th>28</th>\n",
              "      <td>0.528659</td>\n",
              "      <td>0.958333</td>\n",
              "    </tr>\n",
              "    <tr>\n",
              "      <th>26</th>\n",
              "      <td>0.533559</td>\n",
              "      <td>0.958333</td>\n",
              "    </tr>\n",
              "    <tr>\n",
              "      <th>25</th>\n",
              "      <td>0.541279</td>\n",
              "      <td>0.958333</td>\n",
              "    </tr>\n",
              "    <tr>\n",
              "      <th>32</th>\n",
              "      <td>0.424603</td>\n",
              "      <td>0.956667</td>\n",
              "    </tr>\n",
              "    <tr>\n",
              "      <th>24</th>\n",
              "      <td>0.545427</td>\n",
              "      <td>0.956667</td>\n",
              "    </tr>\n",
              "    <tr>\n",
              "      <th>21</th>\n",
              "      <td>0.579254</td>\n",
              "      <td>0.950000</td>\n",
              "    </tr>\n",
              "    <tr>\n",
              "      <th>33</th>\n",
              "      <td>0.385908</td>\n",
              "      <td>0.950000</td>\n",
              "    </tr>\n",
              "    <tr>\n",
              "      <th>23</th>\n",
              "      <td>0.574862</td>\n",
              "      <td>0.950000</td>\n",
              "    </tr>\n",
              "    <tr>\n",
              "      <th>22</th>\n",
              "      <td>0.578966</td>\n",
              "      <td>0.948333</td>\n",
              "    </tr>\n",
              "    <tr>\n",
              "      <th>34</th>\n",
              "      <td>0.383797</td>\n",
              "      <td>0.948333</td>\n",
              "    </tr>\n",
              "    <tr>\n",
              "      <th>20</th>\n",
              "      <td>0.581515</td>\n",
              "      <td>0.948333</td>\n",
              "    </tr>\n",
              "    <tr>\n",
              "      <th>18</th>\n",
              "      <td>0.599064</td>\n",
              "      <td>0.946667</td>\n",
              "    </tr>\n",
              "    <tr>\n",
              "      <th>19</th>\n",
              "      <td>0.591143</td>\n",
              "      <td>0.946667</td>\n",
              "    </tr>\n",
              "    <tr>\n",
              "      <th>35</th>\n",
              "      <td>0.354331</td>\n",
              "      <td>0.941667</td>\n",
              "    </tr>\n",
              "    <tr>\n",
              "      <th>36</th>\n",
              "      <td>0.348366</td>\n",
              "      <td>0.940000</td>\n",
              "    </tr>\n",
              "    <tr>\n",
              "      <th>17</th>\n",
              "      <td>0.677435</td>\n",
              "      <td>0.931667</td>\n",
              "    </tr>\n",
              "    <tr>\n",
              "      <th>16</th>\n",
              "      <td>0.678519</td>\n",
              "      <td>0.930000</td>\n",
              "    </tr>\n",
              "    <tr>\n",
              "      <th>15</th>\n",
              "      <td>0.713937</td>\n",
              "      <td>0.916667</td>\n",
              "    </tr>\n",
              "    <tr>\n",
              "      <th>14</th>\n",
              "      <td>0.717252</td>\n",
              "      <td>0.915000</td>\n",
              "    </tr>\n",
              "    <tr>\n",
              "      <th>38</th>\n",
              "      <td>0.231404</td>\n",
              "      <td>0.873333</td>\n",
              "    </tr>\n",
              "    <tr>\n",
              "      <th>37</th>\n",
              "      <td>0.233381</td>\n",
              "      <td>0.873333</td>\n",
              "    </tr>\n",
              "    <tr>\n",
              "      <th>13</th>\n",
              "      <td>0.751374</td>\n",
              "      <td>0.871667</td>\n",
              "    </tr>\n",
              "    <tr>\n",
              "      <th>12</th>\n",
              "      <td>0.751979</td>\n",
              "      <td>0.870000</td>\n",
              "    </tr>\n",
              "    <tr>\n",
              "      <th>11</th>\n",
              "      <td>0.765371</td>\n",
              "      <td>0.858333</td>\n",
              "    </tr>\n",
              "    <tr>\n",
              "      <th>10</th>\n",
              "      <td>0.765476</td>\n",
              "      <td>0.856667</td>\n",
              "    </tr>\n",
              "    <tr>\n",
              "      <th>39</th>\n",
              "      <td>0.202337</td>\n",
              "      <td>0.846667</td>\n",
              "    </tr>\n",
              "    <tr>\n",
              "      <th>40</th>\n",
              "      <td>0.198484</td>\n",
              "      <td>0.845000</td>\n",
              "    </tr>\n",
              "    <tr>\n",
              "      <th>9</th>\n",
              "      <td>0.778212</td>\n",
              "      <td>0.840000</td>\n",
              "    </tr>\n",
              "    <tr>\n",
              "      <th>8</th>\n",
              "      <td>0.779259</td>\n",
              "      <td>0.838333</td>\n",
              "    </tr>\n",
              "    <tr>\n",
              "      <th>7</th>\n",
              "      <td>0.804128</td>\n",
              "      <td>0.811667</td>\n",
              "    </tr>\n",
              "    <tr>\n",
              "      <th>6</th>\n",
              "      <td>0.804489</td>\n",
              "      <td>0.810000</td>\n",
              "    </tr>\n",
              "    <tr>\n",
              "      <th>5</th>\n",
              "      <td>0.810556</td>\n",
              "      <td>0.803333</td>\n",
              "    </tr>\n",
              "    <tr>\n",
              "      <th>4</th>\n",
              "      <td>0.812024</td>\n",
              "      <td>0.801667</td>\n",
              "    </tr>\n",
              "    <tr>\n",
              "      <th>41</th>\n",
              "      <td>0.122845</td>\n",
              "      <td>0.661667</td>\n",
              "    </tr>\n",
              "    <tr>\n",
              "      <th>42</th>\n",
              "      <td>0.122835</td>\n",
              "      <td>0.660000</td>\n",
              "    </tr>\n",
              "    <tr>\n",
              "      <th>3</th>\n",
              "      <td>0.905775</td>\n",
              "      <td>0.515000</td>\n",
              "    </tr>\n",
              "    <tr>\n",
              "      <th>2</th>\n",
              "      <td>0.906003</td>\n",
              "      <td>0.513333</td>\n",
              "    </tr>\n",
              "    <tr>\n",
              "      <th>43</th>\n",
              "      <td>0.106327</td>\n",
              "      <td>0.501667</td>\n",
              "    </tr>\n",
              "    <tr>\n",
              "      <th>1</th>\n",
              "      <td>0.911881</td>\n",
              "      <td>0.500000</td>\n",
              "    </tr>\n",
              "    <tr>\n",
              "      <th>0</th>\n",
              "      <td>1.911881</td>\n",
              "      <td>0.500000</td>\n",
              "    </tr>\n",
              "  </tbody>\n",
              "</table>\n",
              "</div>"
            ],
            "text/plain": [
              "    thresholds  accuracy\n",
              "30    0.454506  0.960000\n",
              "27    0.531393  0.960000\n",
              "31    0.425370  0.958333\n",
              "29    0.486169  0.958333\n",
              "28    0.528659  0.958333\n",
              "26    0.533559  0.958333\n",
              "25    0.541279  0.958333\n",
              "32    0.424603  0.956667\n",
              "24    0.545427  0.956667\n",
              "21    0.579254  0.950000\n",
              "33    0.385908  0.950000\n",
              "23    0.574862  0.950000\n",
              "22    0.578966  0.948333\n",
              "34    0.383797  0.948333\n",
              "20    0.581515  0.948333\n",
              "18    0.599064  0.946667\n",
              "19    0.591143  0.946667\n",
              "35    0.354331  0.941667\n",
              "36    0.348366  0.940000\n",
              "17    0.677435  0.931667\n",
              "16    0.678519  0.930000\n",
              "15    0.713937  0.916667\n",
              "14    0.717252  0.915000\n",
              "38    0.231404  0.873333\n",
              "37    0.233381  0.873333\n",
              "13    0.751374  0.871667\n",
              "12    0.751979  0.870000\n",
              "11    0.765371  0.858333\n",
              "10    0.765476  0.856667\n",
              "39    0.202337  0.846667\n",
              "40    0.198484  0.845000\n",
              "9     0.778212  0.840000\n",
              "8     0.779259  0.838333\n",
              "7     0.804128  0.811667\n",
              "6     0.804489  0.810000\n",
              "5     0.810556  0.803333\n",
              "4     0.812024  0.801667\n",
              "41    0.122845  0.661667\n",
              "42    0.122835  0.660000\n",
              "3     0.905775  0.515000\n",
              "2     0.906003  0.513333\n",
              "43    0.106327  0.501667\n",
              "1     0.911881  0.500000\n",
              "0     1.911881  0.500000"
            ]
          },
          "metadata": {},
          "execution_count": 17
        }
      ]
    },
    {
      "cell_type": "code",
      "metadata": {
        "id": "ae35afea"
      },
      "source": [
        "def plot_roc_curve(fpr, tpr):\n",
        "    plt.plot(fpr, tpr, color='orange', label='ROC')\n",
        "    plt.plot([0, 1], [0, 1], color='darkblue', linestyle='--')\n",
        "    plt.xlabel('False Positive Rate')\n",
        "    plt.ylabel('True Positive Rate')\n",
        "    plt.title('Receiver Operating Characteristic (ROC) Curve')\n",
        "    plt.legend()\n",
        "    plt.show()"
      ],
      "id": "ae35afea",
      "execution_count": 18,
      "outputs": []
    },
    {
      "cell_type": "code",
      "metadata": {
        "colab": {
          "base_uri": "https://localhost:8080/",
          "height": 295
        },
        "id": "55f658a4",
        "outputId": "39f8ee51-f4e3-4ee2-a7e7-5b18f347bb5c"
      },
      "source": [
        "plot_roc_curve(fpr,tpr)"
      ],
      "id": "55f658a4",
      "execution_count": 19,
      "outputs": [
        {
          "output_type": "display_data",
          "data": {
            "image/png": "[encoded data removed]",
            "text/plain": [
              "<Figure size 432x288 with 1 Axes>"
            ]
          },
          "metadata": {
            "needs_background": "light"
          }
        }
      ]
    },
    {
      "cell_type": "code",
      "metadata": {
        "id": "8721e9ed"
      },
      "source": [
        ""
      ],
      "id": "8721e9ed",
      "execution_count": 19,
      "outputs": []
    }
  ]
}