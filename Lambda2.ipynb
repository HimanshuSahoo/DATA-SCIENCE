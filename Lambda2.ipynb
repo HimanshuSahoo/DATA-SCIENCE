{
  "nbformat": 4,
  "nbformat_minor": 5,
  "metadata": {
    "kernelspec": {
      "display_name": "Python 3",
      "language": "python",
      "name": "python3"
    },
    "language_info": {
      "codemirror_mode": {
        "name": "ipython",
        "version": 3
      },
      "file_extension": ".py",
      "mimetype": "text/x-python",
      "name": "python",
      "nbconvert_exporter": "python",
      "pygments_lexer": "ipython3",
      "version": "3.8.8"
    },
    "toc": {
      "base_numbering": 1,
      "nav_menu": {},
      "number_sections": true,
      "sideBar": true,
      "skip_h1_title": false,
      "title_cell": "Table of Contents",
      "title_sidebar": "Contents",
      "toc_cell": false,
      "toc_position": {},
      "toc_section_display": true,
      "toc_window_display": false
    },
    "varInspector": {
      "cols": {
        "lenName": 16,
        "lenType": 16,
        "lenVar": 40
      },
      "kernels_config": {
        "python": {
          "delete_cmd_postfix": "",
          "delete_cmd_prefix": "del ",
          "library": "var_list.py",
          "varRefreshCmd": "print(var_dic_list())"
        },
        "r": {
          "delete_cmd_postfix": ") ",
          "delete_cmd_prefix": "rm(",
          "library": "var_list.r",
          "varRefreshCmd": "cat(var_dic_list()) "
        }
      },
      "types_to_exclude": [
        "module",
        "function",
        "builtin_function_or_method",
        "instance",
        "_Feature"
      ],
      "window_display": false
    },
    "colab": {
      "name": "Lambda2.ipynb",
      "provenance": [],
      "include_colab_link": true
    }
  },
  "cells": [
    {
      "cell_type": "markdown",
      "metadata": {
        "id": "view-in-github",
        "colab_type": "text"
      },
      "source": [
        "<a href=\"https://colab.research.google.com/github/HimanshuSahoo/DATA-SCIENCE/blob/main/Lambda2.ipynb\" target=\"_parent\"><img src=\"https://colab.research.google.com/assets/colab-badge.svg\" alt=\"Open In Colab\"/></a>"
      ]
    },
    {
      "cell_type": "code",
      "metadata": {
        "id": "1cddb9db"
      },
      "source": [
        "import base64\n",
        "import boto3\n",
        "import gzip\n",
        "import json\n",
        "import logging\n",
        "import os"
      ],
      "id": "1cddb9db",
      "execution_count": null,
      "outputs": []
    },
    {
      "cell_type": "code",
      "metadata": {
        "id": "3c174da3"
      },
      "source": [
        "from botocore.exceptions import ClientError"
      ],
      "id": "3c174da3",
      "execution_count": null,
      "outputs": []
    },
    {
      "cell_type": "code",
      "metadata": {
        "id": "a13d92b1"
      },
      "source": [
        "logging.basicConfig(level=logging.INFO)\n",
        "logger = logging.getLogger(__name__)"
      ],
      "id": "a13d92b1",
      "execution_count": null,
      "outputs": []
    },
    {
      "cell_type": "code",
      "metadata": {
        "id": "1a3202d0"
      },
      "source": [
        "def logpayload(event):\n",
        "    logger.setLevel(logging.DEBUG)\n",
        "    logger.debug(event['awslogs']['data'])\n",
        "    compressed_payload = base64.b64decode(event['awslogs']['data'])\n",
        "    uncompressed_payload = gzip.decompress(compressed_payload)\n",
        "    log_payload = json.loads(uncompressed_payload)\n",
        "    return log_payload"
      ],
      "id": "1a3202d0",
      "execution_count": null,
      "outputs": []
    },
    {
      "cell_type": "code",
      "metadata": {
        "id": "bf1c9951"
      },
      "source": [
        "import pandas as pd"
      ],
      "id": "bf1c9951",
      "execution_count": null,
      "outputs": []
    },
    {
      "cell_type": "code",
      "metadata": {
        "id": "80663f49"
      },
      "source": [
        "payload=pd.read_csv('errorlogs.csv')"
      ],
      "id": "80663f49",
      "execution_count": null,
      "outputs": []
    },
    {
      "cell_type": "code",
      "metadata": {
        "id": "506e1791",
        "outputId": "5d40bc61-7b06-4439-a548-16ad422c2a08"
      },
      "source": [
        "payload"
      ],
      "id": "506e1791",
      "execution_count": null,
      "outputs": [
        {
          "data": {
            "text/html": [
              "<div>\n",
              "<style scoped>\n",
              "    .dataframe tbody tr th:only-of-type {\n",
              "        vertical-align: middle;\n",
              "    }\n",
              "\n",
              "    .dataframe tbody tr th {\n",
              "        vertical-align: top;\n",
              "    }\n",
              "\n",
              "    .dataframe thead th {\n",
              "        text-align: right;\n",
              "    }\n",
              "</style>\n",
              "<table border=\"1\" class=\"dataframe\">\n",
              "  <thead>\n",
              "    <tr style=\"text-align: right;\">\n",
              "      <th></th>\n",
              "      <th>Error</th>\n",
              "    </tr>\n",
              "  </thead>\n",
              "  <tbody>\n",
              "    <tr>\n",
              "      <th>0</th>\n",
              "      <td>[2021-09-10T06:07:27.463-04:00][ERROR]-warning...</td>\n",
              "    </tr>\n",
              "    <tr>\n",
              "      <th>1</th>\n",
              "      <td>[2021-09-10T06:07:58.331-04:00][ERROR]-warning...</td>\n",
              "    </tr>\n",
              "  </tbody>\n",
              "</table>\n",
              "</div>"
            ],
            "text/plain": [
              "                                               Error\n",
              "0  [2021-09-10T06:07:27.463-04:00][ERROR]-warning...\n",
              "1  [2021-09-10T06:07:58.331-04:00][ERROR]-warning..."
            ]
          },
          "execution_count": 7,
          "metadata": {},
          "output_type": "execute_result"
        }
      ]
    },
    {
      "cell_type": "code",
      "metadata": {
        "id": "3e219789"
      },
      "source": [
        "def error_details(payload):\n",
        "    error_msg = \"\"\n",
        "    log_events = payload['logEvents']\n",
        "    logger.debug(payload)\n",
        "    loggroup = payload['logGroup']\n",
        "    logstream = payload['logStream']\n",
        "    lambda_func_name = loggroup.split('/')\n",
        "    logger.debug(f'LogGroup: {loggroup}')\n",
        "    logger.debug(f'Logstream: {logstream}')\n",
        "    logger.debug(f'Function name: {lambda_func_name[3]}')\n",
        "    logger.debug(log_events)\n",
        "    for log_event in log_events:\n",
        "        error_msg += log_event['message']\n",
        "    logger.debug('Message: %s' % error_msg.split(\"\\n\"))\n",
        "    return loggroup, logstream, error_msg, lambda_func_name"
      ],
      "id": "3e219789",
      "execution_count": null,
      "outputs": []
    },
    {
      "cell_type": "code",
      "metadata": {
        "id": "cbb2e1a8"
      },
      "source": [
        "def publish_message(loggroup, logstream, error_msg, lambda_func_name):\n",
        "    sns_arn = os.environ['snsARN']  # Getting the SNS Topic ARN passed in by the environment variables.\n",
        "    snsclient = boto3.client('sns')\n",
        "    try:\n",
        "        message = \"\"\n",
        "        message += \"\\nLambda error  summary\" + \"\\n\\n\"\n",
        "        message += \"##########################################################\\n\"\n",
        "        message += \"# LogGroup Name:- \" + str(loggroup) + \"\\n\"\n",
        "        message += \"# LogStream:- \" + str(logstream) + \"\\n\"\n",
        "        message += \"# Log Message:- \" + \"\\n\"\n",
        "        message += \"# \\t\\t\" + str(error_msg.split(\"\\n\")) + \"\\n\"\n",
        "        message += \"##########################################################\\n\"\n",
        "\n",
        "        # Sending the notification...\n",
        "        snsclient.publish(\n",
        "            TargetArn=sns_arn,\n",
        "            Subject=f'Execution error for Lambda - {lambda_func_name[3]}',\n",
        "            Message=message\n",
        "        )\n",
        "    except ClientError as e:\n",
        "        logger.error(\"An error occured: %s\" % e)"
      ],
      "id": "cbb2e1a8",
      "execution_count": null,
      "outputs": []
    },
    {
      "cell_type": "code",
      "metadata": {
        "id": "d03b4f02"
      },
      "source": [
        "def lambda_handler(event, context):\n",
        "    pload = logpayload(event)\n",
        "    lgroup, lstream, errmessage, lambdaname = error_details(pload)\n",
        "    publish_message(lgroup, lstream, errmessage, lambdaname)"
      ],
      "id": "d03b4f02",
      "execution_count": null,
      "outputs": []
    },
    {
      "cell_type": "code",
      "metadata": {
        "id": "4af52f91"
      },
      "source": [
        ""
      ],
      "id": "4af52f91",
      "execution_count": null,
      "outputs": []
    }
  ]
}