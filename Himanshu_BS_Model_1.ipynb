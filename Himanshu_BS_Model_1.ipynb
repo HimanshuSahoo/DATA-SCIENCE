{
  "cells": [
    {
      "cell_type": "markdown",
      "metadata": {
        "id": "view-in-github",
        "colab_type": "text"
      },
      "source": [
        "<a href=\"https://colab.research.google.com/github/HimanshuSahoo/DATA-SCIENCE/blob/main/Himanshu_BS_Model_1.ipynb\" target=\"_parent\"><img src=\"https://colab.research.google.com/assets/colab-badge.svg\" alt=\"Open In Colab\"/></a>"
      ]
    },
    {
      "cell_type": "code",
      "execution_count": null,
      "id": "b9e146d4",
      "metadata": {
        "id": "b9e146d4"
      },
      "outputs": [],
      "source": [
        "import pandas as pd\n",
        "import numpy as np\n",
        "from bs4 import BeautifulSoup as bs\n",
        "import requests\n",
        "from time import time"
      ]
    },
    {
      "cell_type": "code",
      "execution_count": null,
      "id": "84ef563c",
      "metadata": {
        "id": "84ef563c"
      },
      "outputs": [],
      "source": [
        "#data processing libraries \n",
        "\n",
        "from sklearn import preprocessing\n",
        "\n",
        "import nltk\n",
        "from nltk.stem.porter import PorterStemmer"
      ]
    },
    {
      "cell_type": "code",
      "execution_count": null,
      "id": "b1dffab4",
      "metadata": {
        "id": "b1dffab4"
      },
      "outputs": [],
      "source": [
        "from sklearn.model_selection import train_test_split\n",
        "from sklearn.feature_extraction.text import CountVectorizer\n",
        "from sklearn.naive_bayes import MultinomialNB\n",
        "from sklearn.naive_bayes import GaussianNB\n",
        "from sklearn.ensemble import RandomForestClassifier\n",
        "from sklearn.neighbors import KNeighborsClassifier\n",
        "from sklearn.linear_model import LogisticRegression\n",
        "from sklearn.svm import SVC\n",
        "from sklearn import tree\n",
        "import tensorflow as tf\n",
        "from keras.models import Sequential\n",
        "from keras.layers import Dense\n",
        "from tensorflow.keras.optimizers import Adam\n",
        "import warnings\n",
        "warnings.filterwarnings('ignore')"
      ]
    },
    {
      "cell_type": "code",
      "execution_count": null,
      "id": "a2ee991e",
      "metadata": {
        "id": "a2ee991e"
      },
      "outputs": [],
      "source": [
        "#Evaluate the model\n",
        "from sklearn.metrics import classification_report\n",
        "from sklearn.metrics import confusion_matrix\n",
        "from sklearn.metrics import accuracy_score"
      ]
    },
    {
      "cell_type": "code",
      "execution_count": null,
      "id": "fb3c5e51",
      "metadata": {
        "id": "fb3c5e51"
      },
      "outputs": [],
      "source": [
        "def get_page(url):\n",
        "    page = requests.get(url)\n",
        "    soup = bs(page.text,\"lxml\")\n",
        "    return soup"
      ]
    },
    {
      "cell_type": "code",
      "execution_count": null,
      "id": "609f0b91",
      "metadata": {
        "id": "609f0b91"
      },
      "outputs": [],
      "source": [
        "def get_links(soup):\n",
        "    links=[]\n",
        "    listings = soup.find_all('a' ,{'class' : 'bookTitle'})\n",
        "    base_url=\"https://www.goodreads.com\"\n",
        "    for i in listings:\n",
        "        book_link = i.get(\"href\")\n",
        "        complete_link  = base_url + book_link\n",
        "        links.append(complete_link)\n",
        "    return links"
      ]
    },
    {
      "cell_type": "code",
      "execution_count": null,
      "id": "2adf8755",
      "metadata": {
        "id": "2adf8755"
      },
      "outputs": [],
      "source": [
        "#extract info from each link\n",
        "\n",
        "\n",
        "def extract_info(links):\n",
        "    for link in links:\n",
        "        res = requests.get(link).text\n",
        "        book_soup = bs(res, 'html.parser')\n",
        "        try:\n",
        "            book_id = book_soup.find(\n",
        "                'div', {'id': 'buyButtonContainer'}).get('data-book-id')\n",
        "            title = book_soup.find('h1', {'id': \"bookTitle\"}).text.strip()\n",
        "            author = book_soup.find('span', {'itemprop': \"name\"}).text.strip()\n",
        "            average_rating = book_soup.find(\n",
        "                'span', {'itemprop': \"ratingValue\"}).text.strip()\n",
        "            #description = book_soup.find('div',{'id':\"description\"}).text.strip()\n",
        "            description = book_soup.find('div', {'id': \"description\"}).find_all('span')[\n",
        "                1].text.strip()\n",
        "            genre = book_soup.find(\n",
        "                'a', {'class': \"actionLinkLite bookPageGenreLink\"}).text.strip()\n",
        "            book_image_url = book_soup.find(\n",
        "                'img', {'id': 'coverImage'}).get('src').strip()\n",
        "            book_url = link\n",
        "        except AttributeError:\n",
        "            continue\n",
        "\n",
        "        book = {'book_id': book_id, 'title': title, 'author': author, 'average_rating': average_rating,\n",
        "                'genre': genre, 'description': description, 'url': book_url, 'image_url': book_image_url}\n",
        "        all_books.append(book)\n",
        "    return len(all_books)"
      ]
    },
    {
      "cell_type": "code",
      "execution_count": null,
      "id": "a293c34e",
      "metadata": {
        "id": "a293c34e",
        "outputId": "e9cf0bf6-2b47-4208-df7f-de135de7b8cb"
      },
      "outputs": [
        {
          "ename": "IndexError",
          "evalue": "list index out of range",
          "output_type": "error",
          "traceback": [
            "\u001b[1;31m---------------------------------------------------------------------------\u001b[0m",
            "\u001b[1;31mIndexError\u001b[0m                                Traceback (most recent call last)",
            "\u001b[1;32m<ipython-input-8-6486292f75a4>\u001b[0m in \u001b[0;36m<module>\u001b[1;34m\u001b[0m\n\u001b[0;32m      5\u001b[0m     \u001b[0msoup\u001b[0m \u001b[1;33m=\u001b[0m \u001b[0mget_page\u001b[0m\u001b[1;33m(\u001b[0m\u001b[0murl\u001b[0m\u001b[1;33m)\u001b[0m\u001b[1;33m\u001b[0m\u001b[1;33m\u001b[0m\u001b[0m\n\u001b[0;32m      6\u001b[0m     \u001b[0mlinks\u001b[0m \u001b[1;33m=\u001b[0m \u001b[0mget_links\u001b[0m\u001b[1;33m(\u001b[0m\u001b[0msoup\u001b[0m\u001b[1;33m)\u001b[0m\u001b[1;33m\u001b[0m\u001b[1;33m\u001b[0m\u001b[0m\n\u001b[1;32m----> 7\u001b[1;33m     \u001b[1;33m(\u001b[0m\u001b[0mextract_info\u001b[0m\u001b[1;33m(\u001b[0m\u001b[0mlinks\u001b[0m\u001b[1;33m)\u001b[0m\u001b[1;33m)\u001b[0m\u001b[1;33m\u001b[0m\u001b[1;33m\u001b[0m\u001b[0m\n\u001b[0m",
            "\u001b[1;32m<ipython-input-7-ccfb78314519>\u001b[0m in \u001b[0;36mextract_info\u001b[1;34m(links)\u001b[0m\n\u001b[0;32m     14\u001b[0m                 'span', {'itemprop': \"ratingValue\"}).text.strip()\n\u001b[0;32m     15\u001b[0m             \u001b[1;31m#description = book_soup.find('div',{'id':\"description\"}).text.strip()\u001b[0m\u001b[1;33m\u001b[0m\u001b[1;33m\u001b[0m\u001b[1;33m\u001b[0m\u001b[0m\n\u001b[1;32m---> 16\u001b[1;33m             description = book_soup.find('div', {'id': \"description\"}).find_all('span')[\n\u001b[0m\u001b[0;32m     17\u001b[0m                 1].text.strip()\n\u001b[0;32m     18\u001b[0m             genre = book_soup.find(\n",
            "\u001b[1;31mIndexError\u001b[0m: list index out of range"
          ]
        }
      ],
      "source": [
        "all_books = []\n",
        "books  = pd.DataFrame()\n",
        "for page in range(1,51):\n",
        "    url = \"https://www.goodreads.com/list/show/264.Books_That_Everyone_Should_Read_At_Least_Once?page={}\".format(page)\n",
        "    soup = get_page(url)\n",
        "    links = get_links(soup)\n",
        "    (extract_info(links))"
      ]
    },
    {
      "cell_type": "code",
      "execution_count": null,
      "id": "a9e013f8",
      "metadata": {
        "id": "a9e013f8"
      },
      "outputs": [],
      "source": [
        "books = pd.DataFrame(all_books)"
      ]
    },
    {
      "cell_type": "code",
      "execution_count": null,
      "id": "5f1034af",
      "metadata": {
        "id": "5f1034af"
      },
      "outputs": [],
      "source": [
        "books.to_csv('books_data_40.csv')"
      ]
    },
    {
      "cell_type": "markdown",
      "id": "a2adf0d9",
      "metadata": {
        "id": "a2adf0d9"
      },
      "source": [
        "### Project On Book Recommendation"
      ]
    },
    {
      "cell_type": "code",
      "execution_count": null,
      "id": "5740eefd",
      "metadata": {
        "id": "5740eefd"
      },
      "outputs": [],
      "source": [
        "import pandas as pd\n",
        "import numpy as np\n",
        "import matplotlib.pyplot as plt"
      ]
    },
    {
      "cell_type": "markdown",
      "id": "e3587e4c",
      "metadata": {
        "id": "e3587e4c"
      },
      "source": [
        "### EDA"
      ]
    },
    {
      "cell_type": "code",
      "execution_count": null,
      "id": "c1f6d14a",
      "metadata": {
        "id": "c1f6d14a",
        "outputId": "4572c962-022c-4bbf-c0ac-5d547429cd8d"
      },
      "outputs": [
        {
          "data": {
            "text/html": [
              "<div>\n",
              "<style scoped>\n",
              "    .dataframe tbody tr th:only-of-type {\n",
              "        vertical-align: middle;\n",
              "    }\n",
              "\n",
              "    .dataframe tbody tr th {\n",
              "        vertical-align: top;\n",
              "    }\n",
              "\n",
              "    .dataframe thead th {\n",
              "        text-align: right;\n",
              "    }\n",
              "</style>\n",
              "<table border=\"1\" class=\"dataframe\">\n",
              "  <thead>\n",
              "    <tr style=\"text-align: right;\">\n",
              "      <th></th>\n",
              "      <th>Unnamed: 0</th>\n",
              "      <th>title</th>\n",
              "      <th>author</th>\n",
              "      <th>average_rating</th>\n",
              "      <th>genre</th>\n",
              "      <th>description</th>\n",
              "    </tr>\n",
              "  </thead>\n",
              "  <tbody>\n",
              "    <tr>\n",
              "      <th>0</th>\n",
              "      <td>0</td>\n",
              "      <td>To Kill a Mockingbird</td>\n",
              "      <td>Harper Lee</td>\n",
              "      <td>4.27</td>\n",
              "      <td>Classics</td>\n",
              "      <td>The unforgettable novel of a childhood in a sl...</td>\n",
              "    </tr>\n",
              "    <tr>\n",
              "      <th>1</th>\n",
              "      <td>1</td>\n",
              "      <td>Pride and Prejudice</td>\n",
              "      <td>Jane Austen</td>\n",
              "      <td>4.27</td>\n",
              "      <td>Classics</td>\n",
              "      <td>Alternate cover edition of ISBN 9780679783268S...</td>\n",
              "    </tr>\n",
              "    <tr>\n",
              "      <th>2</th>\n",
              "      <td>2</td>\n",
              "      <td>The Diary of a Young Girl</td>\n",
              "      <td>Anne Frank</td>\n",
              "      <td>4.17</td>\n",
              "      <td>Nonfiction</td>\n",
              "      <td>Discovered in the attic in which she spent the...</td>\n",
              "    </tr>\n",
              "    <tr>\n",
              "      <th>3</th>\n",
              "      <td>3</td>\n",
              "      <td>Animal Farm</td>\n",
              "      <td>George Orwell</td>\n",
              "      <td>3.97</td>\n",
              "      <td>Classics</td>\n",
              "      <td>Librarian's note: There is an Alternate Cover ...</td>\n",
              "    </tr>\n",
              "    <tr>\n",
              "      <th>4</th>\n",
              "      <td>4</td>\n",
              "      <td>The Little Prince</td>\n",
              "      <td>Antoine de Saint-Exupéry</td>\n",
              "      <td>4.31</td>\n",
              "      <td>Classics</td>\n",
              "      <td>A pilot stranded in the desert awakes one morn...</td>\n",
              "    </tr>\n",
              "    <tr>\n",
              "      <th>...</th>\n",
              "      <td>...</td>\n",
              "      <td>...</td>\n",
              "      <td>...</td>\n",
              "      <td>...</td>\n",
              "      <td>...</td>\n",
              "      <td>...</td>\n",
              "    </tr>\n",
              "    <tr>\n",
              "      <th>3347</th>\n",
              "      <td>3347</td>\n",
              "      <td>Asylum: A Hidden Tale - Sinister Tales</td>\n",
              "      <td>Anna Gallegos</td>\n",
              "      <td>4.18</td>\n",
              "      <td>Horror</td>\n",
              "      <td>Maria has been caught and sent to the home of ...</td>\n",
              "    </tr>\n",
              "    <tr>\n",
              "      <th>3348</th>\n",
              "      <td>3348</td>\n",
              "      <td>The Cruel Prince</td>\n",
              "      <td>Holly Black</td>\n",
              "      <td>4.09</td>\n",
              "      <td>Fantasy</td>\n",
              "      <td>This is a previously published cover edition o...</td>\n",
              "    </tr>\n",
              "    <tr>\n",
              "      <th>3349</th>\n",
              "      <td>3349</td>\n",
              "      <td>City of God</td>\n",
              "      <td>Augustine of Hippo</td>\n",
              "      <td>3.87</td>\n",
              "      <td>Philosophy</td>\n",
              "      <td>No book except the Bible itself had a greater ...</td>\n",
              "    </tr>\n",
              "    <tr>\n",
              "      <th>3350</th>\n",
              "      <td>3350</td>\n",
              "      <td>My Name is Joe</td>\n",
              "      <td>Stefan Bourque</td>\n",
              "      <td>3.65</td>\n",
              "      <td>Fiction</td>\n",
              "      <td>When Joe's doctor advises him to get his affai...</td>\n",
              "    </tr>\n",
              "    <tr>\n",
              "      <th>3351</th>\n",
              "      <td>3351</td>\n",
              "      <td>Homeland</td>\n",
              "      <td>R.A. Salvatore</td>\n",
              "      <td>4.22</td>\n",
              "      <td>Fantasy</td>\n",
              "      <td>Drow ranger Drizzt Do'Urden, first introduced ...</td>\n",
              "    </tr>\n",
              "  </tbody>\n",
              "</table>\n",
              "<p>3352 rows × 6 columns</p>\n",
              "</div>"
            ],
            "text/plain": [
              "      Unnamed: 0                                   title  \\\n",
              "0              0                   To Kill a Mockingbird   \n",
              "1              1                     Pride and Prejudice   \n",
              "2              2               The Diary of a Young Girl   \n",
              "3              3                             Animal Farm   \n",
              "4              4                       The Little Prince   \n",
              "...          ...                                     ...   \n",
              "3347        3347  Asylum: A Hidden Tale - Sinister Tales   \n",
              "3348        3348                        The Cruel Prince   \n",
              "3349        3349                             City of God   \n",
              "3350        3350                          My Name is Joe   \n",
              "3351        3351                                Homeland   \n",
              "\n",
              "                        author  average_rating       genre  \\\n",
              "0                   Harper Lee            4.27    Classics   \n",
              "1                  Jane Austen            4.27    Classics   \n",
              "2                   Anne Frank            4.17  Nonfiction   \n",
              "3                George Orwell            3.97    Classics   \n",
              "4     Antoine de Saint-Exupéry            4.31    Classics   \n",
              "...                        ...             ...         ...   \n",
              "3347             Anna Gallegos            4.18      Horror   \n",
              "3348               Holly Black            4.09     Fantasy   \n",
              "3349        Augustine of Hippo            3.87  Philosophy   \n",
              "3350            Stefan Bourque            3.65     Fiction   \n",
              "3351            R.A. Salvatore            4.22     Fantasy   \n",
              "\n",
              "                                            description  \n",
              "0     The unforgettable novel of a childhood in a sl...  \n",
              "1     Alternate cover edition of ISBN 9780679783268S...  \n",
              "2     Discovered in the attic in which she spent the...  \n",
              "3     Librarian's note: There is an Alternate Cover ...  \n",
              "4     A pilot stranded in the desert awakes one morn...  \n",
              "...                                                 ...  \n",
              "3347  Maria has been caught and sent to the home of ...  \n",
              "3348  This is a previously published cover edition o...  \n",
              "3349  No book except the Bible itself had a greater ...  \n",
              "3350  When Joe's doctor advises him to get his affai...  \n",
              "3351  Drow ranger Drizzt Do'Urden, first introduced ...  \n",
              "\n",
              "[3352 rows x 6 columns]"
            ]
          },
          "execution_count": 4,
          "metadata": {},
          "output_type": "execute_result"
        }
      ],
      "source": [
        "books = pd.read_csv(\"books_data.csv\")\n",
        "books"
      ]
    },
    {
      "cell_type": "code",
      "execution_count": null,
      "id": "fac1009f",
      "metadata": {
        "id": "fac1009f"
      },
      "outputs": [],
      "source": [
        "books = books.drop([\"Unnamed: 0\"],axis=1)"
      ]
    },
    {
      "cell_type": "code",
      "execution_count": null,
      "id": "553c31b6",
      "metadata": {
        "id": "553c31b6",
        "outputId": "64a4aefb-4310-4472-8659-9bf979e933cd"
      },
      "outputs": [
        {
          "data": {
            "text/html": [
              "<div>\n",
              "<style scoped>\n",
              "    .dataframe tbody tr th:only-of-type {\n",
              "        vertical-align: middle;\n",
              "    }\n",
              "\n",
              "    .dataframe tbody tr th {\n",
              "        vertical-align: top;\n",
              "    }\n",
              "\n",
              "    .dataframe thead th {\n",
              "        text-align: right;\n",
              "    }\n",
              "</style>\n",
              "<table border=\"1\" class=\"dataframe\">\n",
              "  <thead>\n",
              "    <tr style=\"text-align: right;\">\n",
              "      <th></th>\n",
              "      <th>title</th>\n",
              "      <th>author</th>\n",
              "      <th>average_rating</th>\n",
              "      <th>genre</th>\n",
              "      <th>description</th>\n",
              "    </tr>\n",
              "  </thead>\n",
              "  <tbody>\n",
              "    <tr>\n",
              "      <th>0</th>\n",
              "      <td>To Kill a Mockingbird</td>\n",
              "      <td>Harper Lee</td>\n",
              "      <td>4.27</td>\n",
              "      <td>Classics</td>\n",
              "      <td>The unforgettable novel of a childhood in a sl...</td>\n",
              "    </tr>\n",
              "    <tr>\n",
              "      <th>1</th>\n",
              "      <td>Pride and Prejudice</td>\n",
              "      <td>Jane Austen</td>\n",
              "      <td>4.27</td>\n",
              "      <td>Classics</td>\n",
              "      <td>Alternate cover edition of ISBN 9780679783268S...</td>\n",
              "    </tr>\n",
              "    <tr>\n",
              "      <th>2</th>\n",
              "      <td>The Diary of a Young Girl</td>\n",
              "      <td>Anne Frank</td>\n",
              "      <td>4.17</td>\n",
              "      <td>Nonfiction</td>\n",
              "      <td>Discovered in the attic in which she spent the...</td>\n",
              "    </tr>\n",
              "    <tr>\n",
              "      <th>3</th>\n",
              "      <td>Animal Farm</td>\n",
              "      <td>George Orwell</td>\n",
              "      <td>3.97</td>\n",
              "      <td>Classics</td>\n",
              "      <td>Librarian's note: There is an Alternate Cover ...</td>\n",
              "    </tr>\n",
              "    <tr>\n",
              "      <th>4</th>\n",
              "      <td>The Little Prince</td>\n",
              "      <td>Antoine de Saint-Exupéry</td>\n",
              "      <td>4.31</td>\n",
              "      <td>Classics</td>\n",
              "      <td>A pilot stranded in the desert awakes one morn...</td>\n",
              "    </tr>\n",
              "  </tbody>\n",
              "</table>\n",
              "</div>"
            ],
            "text/plain": [
              "                       title                    author  average_rating  \\\n",
              "0      To Kill a Mockingbird                Harper Lee            4.27   \n",
              "1        Pride and Prejudice               Jane Austen            4.27   \n",
              "2  The Diary of a Young Girl                Anne Frank            4.17   \n",
              "3                Animal Farm             George Orwell            3.97   \n",
              "4          The Little Prince  Antoine de Saint-Exupéry            4.31   \n",
              "\n",
              "        genre                                        description  \n",
              "0    Classics  The unforgettable novel of a childhood in a sl...  \n",
              "1    Classics  Alternate cover edition of ISBN 9780679783268S...  \n",
              "2  Nonfiction  Discovered in the attic in which she spent the...  \n",
              "3    Classics  Librarian's note: There is an Alternate Cover ...  \n",
              "4    Classics  A pilot stranded in the desert awakes one morn...  "
            ]
          },
          "execution_count": 6,
          "metadata": {},
          "output_type": "execute_result"
        }
      ],
      "source": [
        "books.head()"
      ]
    },
    {
      "cell_type": "code",
      "execution_count": null,
      "id": "4d5f19ef",
      "metadata": {
        "id": "4d5f19ef",
        "outputId": "286b38fa-0f71-4277-cac0-faab8781917f"
      },
      "outputs": [
        {
          "data": {
            "text/html": [
              "<div>\n",
              "<style scoped>\n",
              "    .dataframe tbody tr th:only-of-type {\n",
              "        vertical-align: middle;\n",
              "    }\n",
              "\n",
              "    .dataframe tbody tr th {\n",
              "        vertical-align: top;\n",
              "    }\n",
              "\n",
              "    .dataframe thead th {\n",
              "        text-align: right;\n",
              "    }\n",
              "</style>\n",
              "<table border=\"1\" class=\"dataframe\">\n",
              "  <thead>\n",
              "    <tr style=\"text-align: right;\">\n",
              "      <th></th>\n",
              "      <th>title</th>\n",
              "      <th>author</th>\n",
              "      <th>average_rating</th>\n",
              "      <th>genre</th>\n",
              "      <th>description</th>\n",
              "    </tr>\n",
              "  </thead>\n",
              "  <tbody>\n",
              "    <tr>\n",
              "      <th>3347</th>\n",
              "      <td>Asylum: A Hidden Tale - Sinister Tales</td>\n",
              "      <td>Anna Gallegos</td>\n",
              "      <td>4.18</td>\n",
              "      <td>Horror</td>\n",
              "      <td>Maria has been caught and sent to the home of ...</td>\n",
              "    </tr>\n",
              "    <tr>\n",
              "      <th>3348</th>\n",
              "      <td>The Cruel Prince</td>\n",
              "      <td>Holly Black</td>\n",
              "      <td>4.09</td>\n",
              "      <td>Fantasy</td>\n",
              "      <td>This is a previously published cover edition o...</td>\n",
              "    </tr>\n",
              "    <tr>\n",
              "      <th>3349</th>\n",
              "      <td>City of God</td>\n",
              "      <td>Augustine of Hippo</td>\n",
              "      <td>3.87</td>\n",
              "      <td>Philosophy</td>\n",
              "      <td>No book except the Bible itself had a greater ...</td>\n",
              "    </tr>\n",
              "    <tr>\n",
              "      <th>3350</th>\n",
              "      <td>My Name is Joe</td>\n",
              "      <td>Stefan Bourque</td>\n",
              "      <td>3.65</td>\n",
              "      <td>Fiction</td>\n",
              "      <td>When Joe's doctor advises him to get his affai...</td>\n",
              "    </tr>\n",
              "    <tr>\n",
              "      <th>3351</th>\n",
              "      <td>Homeland</td>\n",
              "      <td>R.A. Salvatore</td>\n",
              "      <td>4.22</td>\n",
              "      <td>Fantasy</td>\n",
              "      <td>Drow ranger Drizzt Do'Urden, first introduced ...</td>\n",
              "    </tr>\n",
              "  </tbody>\n",
              "</table>\n",
              "</div>"
            ],
            "text/plain": [
              "                                       title              author  \\\n",
              "3347  Asylum: A Hidden Tale - Sinister Tales       Anna Gallegos   \n",
              "3348                        The Cruel Prince         Holly Black   \n",
              "3349                             City of God  Augustine of Hippo   \n",
              "3350                          My Name is Joe      Stefan Bourque   \n",
              "3351                                Homeland      R.A. Salvatore   \n",
              "\n",
              "      average_rating       genre  \\\n",
              "3347            4.18      Horror   \n",
              "3348            4.09     Fantasy   \n",
              "3349            3.87  Philosophy   \n",
              "3350            3.65     Fiction   \n",
              "3351            4.22     Fantasy   \n",
              "\n",
              "                                            description  \n",
              "3347  Maria has been caught and sent to the home of ...  \n",
              "3348  This is a previously published cover edition o...  \n",
              "3349  No book except the Bible itself had a greater ...  \n",
              "3350  When Joe's doctor advises him to get his affai...  \n",
              "3351  Drow ranger Drizzt Do'Urden, first introduced ...  "
            ]
          },
          "execution_count": 7,
          "metadata": {},
          "output_type": "execute_result"
        }
      ],
      "source": [
        "books.tail()"
      ]
    },
    {
      "cell_type": "code",
      "execution_count": null,
      "id": "7c421d11",
      "metadata": {
        "id": "7c421d11",
        "outputId": "157de645-9f9e-4964-ef88-d612f342b940"
      },
      "outputs": [
        {
          "data": {
            "text/plain": [
              "pandas.core.frame.DataFrame"
            ]
          },
          "execution_count": 8,
          "metadata": {},
          "output_type": "execute_result"
        }
      ],
      "source": [
        "# Data Structure\n",
        "type(books)"
      ]
    },
    {
      "cell_type": "code",
      "execution_count": null,
      "id": "15ab6293",
      "metadata": {
        "id": "15ab6293",
        "outputId": "7b8bdc5f-9754-48c0-9ea2-247fb9f74661"
      },
      "outputs": [
        {
          "data": {
            "text/plain": [
              "(3352, 5)"
            ]
          },
          "execution_count": 9,
          "metadata": {},
          "output_type": "execute_result"
        }
      ],
      "source": [
        "books.shape"
      ]
    },
    {
      "cell_type": "code",
      "execution_count": null,
      "id": "567089e0",
      "metadata": {
        "id": "567089e0",
        "outputId": "b8169df7-a906-4bba-e3dd-9ee4b3ccd749"
      },
      "outputs": [
        {
          "data": {
            "text/plain": [
              "title              object\n",
              "author             object\n",
              "average_rating    float64\n",
              "genre              object\n",
              "description        object\n",
              "dtype: object"
            ]
          },
          "execution_count": 10,
          "metadata": {},
          "output_type": "execute_result"
        }
      ],
      "source": [
        "# Datatypes\n",
        "books.dtypes"
      ]
    },
    {
      "cell_type": "code",
      "execution_count": null,
      "id": "33c160dc",
      "metadata": {
        "id": "33c160dc"
      },
      "outputs": [],
      "source": [
        "books = pd.read_csv('books_data_40.csv')\n",
        "books.drop('Unnamed: 0',axis = 1,inplace = True)"
      ]
    },
    {
      "cell_type": "code",
      "execution_count": null,
      "id": "ee7d12e9",
      "metadata": {
        "id": "ee7d12e9",
        "outputId": "e3872036-81fb-4ce7-c9fc-2a8423d83922"
      },
      "outputs": [
        {
          "name": "stdout",
          "output_type": "stream",
          "text": [
            "<class 'pandas.core.frame.DataFrame'>\n",
            "RangeIndex: 53 entries, 0 to 52\n",
            "Data columns (total 8 columns):\n",
            " #   Column          Non-Null Count  Dtype  \n",
            "---  ------          --------------  -----  \n",
            " 0   book_id         53 non-null     int64  \n",
            " 1   title           53 non-null     object \n",
            " 2   author          53 non-null     object \n",
            " 3   average_rating  53 non-null     float64\n",
            " 4   genre           53 non-null     object \n",
            " 5   description     53 non-null     object \n",
            " 6   url             53 non-null     object \n",
            " 7   image_url       53 non-null     object \n",
            "dtypes: float64(1), int64(1), object(6)\n",
            "memory usage: 3.4+ KB\n"
          ]
        }
      ],
      "source": [
        "books.info()"
      ]
    },
    {
      "cell_type": "markdown",
      "id": "56f24101",
      "metadata": {
        "id": "56f24101"
      },
      "source": [
        "### Datatype Conversion"
      ]
    },
    {
      "cell_type": "code",
      "execution_count": null,
      "id": "14fa95d9",
      "metadata": {
        "id": "14fa95d9",
        "outputId": "ffa219ee-a9e9-49d3-890c-a286fbf81fe2"
      },
      "outputs": [
        {
          "name": "stdout",
          "output_type": "stream",
          "text": [
            "<class 'pandas.core.frame.DataFrame'>\n",
            "RangeIndex: 3352 entries, 0 to 3351\n",
            "Data columns (total 5 columns):\n",
            " #   Column          Non-Null Count  Dtype  \n",
            "---  ------          --------------  -----  \n",
            " 0   title           3352 non-null   object \n",
            " 1   author          3352 non-null   object \n",
            " 2   average_rating  3352 non-null   float64\n",
            " 3   genre           3352 non-null   object \n",
            " 4   description     3352 non-null   object \n",
            "dtypes: float64(1), object(4)\n",
            "memory usage: 131.1+ KB\n"
          ]
        }
      ],
      "source": [
        "books.info()"
      ]
    },
    {
      "cell_type": "code",
      "execution_count": null,
      "id": "7ee7c861",
      "metadata": {
        "id": "7ee7c861",
        "outputId": "baebfac6-f758-4369-bc80-c07e585d26c8"
      },
      "outputs": [
        {
          "data": {
            "text/plain": [
              "title             0\n",
              "author            0\n",
              "average_rating    0\n",
              "genre             0\n",
              "description       0\n",
              "dtype: int64"
            ]
          },
          "execution_count": 12,
          "metadata": {},
          "output_type": "execute_result"
        }
      ],
      "source": [
        "# Checking for null values\n",
        "books.isnull().sum()"
      ]
    },
    {
      "cell_type": "code",
      "execution_count": null,
      "id": "10f53ebe",
      "metadata": {
        "id": "10f53ebe",
        "outputId": "9d1a9214-1433-40a6-e74a-a2f86e5f106c"
      },
      "outputs": [
        {
          "data": {
            "text/plain": [
              "(16, 5)"
            ]
          },
          "execution_count": 13,
          "metadata": {},
          "output_type": "execute_result"
        }
      ],
      "source": [
        "books[books.duplicated()].shape"
      ]
    },
    {
      "cell_type": "code",
      "execution_count": null,
      "id": "b262c845",
      "metadata": {
        "id": "b262c845",
        "outputId": "074a1ad7-b813-4085-fbfd-93ae404fb74e"
      },
      "outputs": [
        {
          "data": {
            "text/plain": [
              "16"
            ]
          },
          "execution_count": 14,
          "metadata": {},
          "output_type": "execute_result"
        }
      ],
      "source": [
        "books.duplicated().sum()"
      ]
    },
    {
      "cell_type": "code",
      "execution_count": null,
      "id": "1652af1e",
      "metadata": {
        "id": "1652af1e",
        "outputId": "ab353906-bedd-474d-99a9-d70c9041b809"
      },
      "outputs": [
        {
          "data": {
            "text/html": [
              "<div>\n",
              "<style scoped>\n",
              "    .dataframe tbody tr th:only-of-type {\n",
              "        vertical-align: middle;\n",
              "    }\n",
              "\n",
              "    .dataframe tbody tr th {\n",
              "        vertical-align: top;\n",
              "    }\n",
              "\n",
              "    .dataframe thead th {\n",
              "        text-align: right;\n",
              "    }\n",
              "</style>\n",
              "<table border=\"1\" class=\"dataframe\">\n",
              "  <thead>\n",
              "    <tr style=\"text-align: right;\">\n",
              "      <th></th>\n",
              "      <th>title</th>\n",
              "      <th>author</th>\n",
              "      <th>average_rating</th>\n",
              "      <th>genre</th>\n",
              "      <th>description</th>\n",
              "    </tr>\n",
              "  </thead>\n",
              "  <tbody>\n",
              "    <tr>\n",
              "      <th>119</th>\n",
              "      <td>Flowers for Algernon</td>\n",
              "      <td>Daniel Keyes</td>\n",
              "      <td>4.16</td>\n",
              "      <td>Fiction</td>\n",
              "      <td>The story of a mentally disabled man whose exp...</td>\n",
              "    </tr>\n",
              "    <tr>\n",
              "      <th>1244</th>\n",
              "      <td>Lost in Yaba: Down and Out in Laos</td>\n",
              "      <td>Walt Gleeson</td>\n",
              "      <td>3.72</td>\n",
              "      <td>Crime</td>\n",
              "      <td>Lost in Yaba is a true story about an expat wh...</td>\n",
              "    </tr>\n",
              "    <tr>\n",
              "      <th>1250</th>\n",
              "      <td>Room</td>\n",
              "      <td>Emma Donoghue</td>\n",
              "      <td>4.06</td>\n",
              "      <td>Fiction</td>\n",
              "      <td>To five-year-old-Jack, Room is the world....To...</td>\n",
              "    </tr>\n",
              "    <tr>\n",
              "      <th>1405</th>\n",
              "      <td>Missing Wings (Aranysargas, #1)</td>\n",
              "      <td>Andrea Luhman</td>\n",
              "      <td>4.32</td>\n",
              "      <td>Epic</td>\n",
              "      <td>Born with an ability the Veilede people of Mad...</td>\n",
              "    </tr>\n",
              "    <tr>\n",
              "      <th>2107</th>\n",
              "      <td>Savvy Sage Online</td>\n",
              "      <td>Richard Sprout</td>\n",
              "      <td>4.28</td>\n",
              "      <td>Drama</td>\n",
              "      <td>Join a fantasy game. Make new friends. Oh, and...</td>\n",
              "    </tr>\n",
              "    <tr>\n",
              "      <th>2145</th>\n",
              "      <td>Rabbit, Run</td>\n",
              "      <td>John Updike</td>\n",
              "      <td>3.58</td>\n",
              "      <td>Fiction</td>\n",
              "      <td>Rabbit, Run is the book that established John ...</td>\n",
              "    </tr>\n",
              "    <tr>\n",
              "      <th>2155</th>\n",
              "      <td>The Last Lecture</td>\n",
              "      <td>Randy Pausch</td>\n",
              "      <td>4.23</td>\n",
              "      <td>Nonfiction</td>\n",
              "      <td>A lot of professors give talks titled 'The Las...</td>\n",
              "    </tr>\n",
              "    <tr>\n",
              "      <th>2502</th>\n",
              "      <td>JOURNEY TO THE WEST: A Long March from Eastern...</td>\n",
              "      <td>Biao  Wang</td>\n",
              "      <td>4.17</td>\n",
              "      <td>Autobiography</td>\n",
              "      <td>Biao Wang's memoir 'JOURNEY TO THE WEST' is a ...</td>\n",
              "    </tr>\n",
              "    <tr>\n",
              "      <th>2527</th>\n",
              "      <td>Old Man's War</td>\n",
              "      <td>John Scalzi</td>\n",
              "      <td>4.19</td>\n",
              "      <td>Science Fiction</td>\n",
              "      <td>John Perry did two things on his 75th birthday...</td>\n",
              "    </tr>\n",
              "    <tr>\n",
              "      <th>2553</th>\n",
              "      <td>Zoroastrians' Fight for Survival</td>\n",
              "      <td>Widad Akreyi</td>\n",
              "      <td>4.59</td>\n",
              "      <td>History</td>\n",
              "      <td>An epic tale of romance and reminiscence. A me...</td>\n",
              "    </tr>\n",
              "    <tr>\n",
              "      <th>2609</th>\n",
              "      <td>Hometown Girl After All</td>\n",
              "      <td>Kirsten Fullmer</td>\n",
              "      <td>4.31</td>\n",
              "      <td>Contemporary</td>\n",
              "      <td>Julia lost everything while she was ill. Self-...</td>\n",
              "    </tr>\n",
              "    <tr>\n",
              "      <th>2621</th>\n",
              "      <td>Hometown Girl Forever</td>\n",
              "      <td>Kirsten Fullmer</td>\n",
              "      <td>4.31</td>\n",
              "      <td>Young Adult</td>\n",
              "      <td>Lizzie gave up her stressful job in Boston to ...</td>\n",
              "    </tr>\n",
              "    <tr>\n",
              "      <th>2948</th>\n",
              "      <td>Nothing to Envy: Ordinary Lives in North Korea</td>\n",
              "      <td>Barbara Demick</td>\n",
              "      <td>4.41</td>\n",
              "      <td>Nonfiction</td>\n",
              "      <td>Nothing to Envy follows the lives of six North...</td>\n",
              "    </tr>\n",
              "    <tr>\n",
              "      <th>2964</th>\n",
              "      <td>The First Fifteen Lives of Harry August</td>\n",
              "      <td>Claire North</td>\n",
              "      <td>4.01</td>\n",
              "      <td>Science Fiction</td>\n",
              "      <td>Some stories cannot be told in just one lifeti...</td>\n",
              "    </tr>\n",
              "    <tr>\n",
              "      <th>2973</th>\n",
              "      <td>Thirteen Reasons Why</td>\n",
              "      <td>Jay Asher</td>\n",
              "      <td>3.88</td>\n",
              "      <td>Young Adult</td>\n",
              "      <td>You can’t stop the future. You can’t rewind th...</td>\n",
              "    </tr>\n",
              "    <tr>\n",
              "      <th>3286</th>\n",
              "      <td>Between the World and Me</td>\n",
              "      <td>Ta-Nehisi Coates</td>\n",
              "      <td>4.37</td>\n",
              "      <td>Nonfiction</td>\n",
              "      <td>“This is your country, this is your world, thi...</td>\n",
              "    </tr>\n",
              "  </tbody>\n",
              "</table>\n",
              "</div>"
            ],
            "text/plain": [
              "                                                  title            author  \\\n",
              "119                                Flowers for Algernon      Daniel Keyes   \n",
              "1244                 Lost in Yaba: Down and Out in Laos      Walt Gleeson   \n",
              "1250                                               Room     Emma Donoghue   \n",
              "1405                    Missing Wings (Aranysargas, #1)     Andrea Luhman   \n",
              "2107                                  Savvy Sage Online    Richard Sprout   \n",
              "2145                                        Rabbit, Run       John Updike   \n",
              "2155                                   The Last Lecture      Randy Pausch   \n",
              "2502  JOURNEY TO THE WEST: A Long March from Eastern...        Biao  Wang   \n",
              "2527                                      Old Man's War       John Scalzi   \n",
              "2553                   Zoroastrians' Fight for Survival      Widad Akreyi   \n",
              "2609                            Hometown Girl After All   Kirsten Fullmer   \n",
              "2621                              Hometown Girl Forever   Kirsten Fullmer   \n",
              "2948     Nothing to Envy: Ordinary Lives in North Korea    Barbara Demick   \n",
              "2964            The First Fifteen Lives of Harry August      Claire North   \n",
              "2973                               Thirteen Reasons Why         Jay Asher   \n",
              "3286                           Between the World and Me  Ta-Nehisi Coates   \n",
              "\n",
              "      average_rating            genre  \\\n",
              "119             4.16          Fiction   \n",
              "1244            3.72            Crime   \n",
              "1250            4.06          Fiction   \n",
              "1405            4.32             Epic   \n",
              "2107            4.28            Drama   \n",
              "2145            3.58          Fiction   \n",
              "2155            4.23       Nonfiction   \n",
              "2502            4.17    Autobiography   \n",
              "2527            4.19  Science Fiction   \n",
              "2553            4.59          History   \n",
              "2609            4.31     Contemporary   \n",
              "2621            4.31      Young Adult   \n",
              "2948            4.41       Nonfiction   \n",
              "2964            4.01  Science Fiction   \n",
              "2973            3.88      Young Adult   \n",
              "3286            4.37       Nonfiction   \n",
              "\n",
              "                                            description  \n",
              "119   The story of a mentally disabled man whose exp...  \n",
              "1244  Lost in Yaba is a true story about an expat wh...  \n",
              "1250  To five-year-old-Jack, Room is the world....To...  \n",
              "1405  Born with an ability the Veilede people of Mad...  \n",
              "2107  Join a fantasy game. Make new friends. Oh, and...  \n",
              "2145  Rabbit, Run is the book that established John ...  \n",
              "2155  A lot of professors give talks titled 'The Las...  \n",
              "2502  Biao Wang's memoir 'JOURNEY TO THE WEST' is a ...  \n",
              "2527  John Perry did two things on his 75th birthday...  \n",
              "2553  An epic tale of romance and reminiscence. A me...  \n",
              "2609  Julia lost everything while she was ill. Self-...  \n",
              "2621  Lizzie gave up her stressful job in Boston to ...  \n",
              "2948  Nothing to Envy follows the lives of six North...  \n",
              "2964  Some stories cannot be told in just one lifeti...  \n",
              "2973  You can’t stop the future. You can’t rewind th...  \n",
              "3286  “This is your country, this is your world, thi...  "
            ]
          },
          "execution_count": 15,
          "metadata": {},
          "output_type": "execute_result"
        }
      ],
      "source": [
        "#Print the duplicated rows\n",
        "books[books.duplicated()] "
      ]
    },
    {
      "cell_type": "code",
      "execution_count": null,
      "id": "072d2e28",
      "metadata": {
        "id": "072d2e28",
        "outputId": "d3b3a5a3-a54e-4bf5-c3bf-51089741154e"
      },
      "outputs": [
        {
          "data": {
            "text/html": [
              "<div>\n",
              "<style scoped>\n",
              "    .dataframe tbody tr th:only-of-type {\n",
              "        vertical-align: middle;\n",
              "    }\n",
              "\n",
              "    .dataframe tbody tr th {\n",
              "        vertical-align: top;\n",
              "    }\n",
              "\n",
              "    .dataframe thead th {\n",
              "        text-align: right;\n",
              "    }\n",
              "</style>\n",
              "<table border=\"1\" class=\"dataframe\">\n",
              "  <thead>\n",
              "    <tr style=\"text-align: right;\">\n",
              "      <th></th>\n",
              "      <th>title</th>\n",
              "      <th>author</th>\n",
              "      <th>average_rating</th>\n",
              "      <th>genre</th>\n",
              "      <th>description</th>\n",
              "    </tr>\n",
              "  </thead>\n",
              "  <tbody>\n",
              "    <tr>\n",
              "      <th>0</th>\n",
              "      <td>To Kill a Mockingbird</td>\n",
              "      <td>Harper Lee</td>\n",
              "      <td>4.27</td>\n",
              "      <td>Classics</td>\n",
              "      <td>The unforgettable novel of a childhood in a sl...</td>\n",
              "    </tr>\n",
              "    <tr>\n",
              "      <th>1</th>\n",
              "      <td>Pride and Prejudice</td>\n",
              "      <td>Jane Austen</td>\n",
              "      <td>4.27</td>\n",
              "      <td>Classics</td>\n",
              "      <td>Alternate cover edition of ISBN 9780679783268S...</td>\n",
              "    </tr>\n",
              "    <tr>\n",
              "      <th>2</th>\n",
              "      <td>The Diary of a Young Girl</td>\n",
              "      <td>Anne Frank</td>\n",
              "      <td>4.17</td>\n",
              "      <td>Nonfiction</td>\n",
              "      <td>Discovered in the attic in which she spent the...</td>\n",
              "    </tr>\n",
              "    <tr>\n",
              "      <th>3</th>\n",
              "      <td>Animal Farm</td>\n",
              "      <td>George Orwell</td>\n",
              "      <td>3.97</td>\n",
              "      <td>Classics</td>\n",
              "      <td>Librarian's note: There is an Alternate Cover ...</td>\n",
              "    </tr>\n",
              "    <tr>\n",
              "      <th>4</th>\n",
              "      <td>The Little Prince</td>\n",
              "      <td>Antoine de Saint-Exupéry</td>\n",
              "      <td>4.31</td>\n",
              "      <td>Classics</td>\n",
              "      <td>A pilot stranded in the desert awakes one morn...</td>\n",
              "    </tr>\n",
              "    <tr>\n",
              "      <th>...</th>\n",
              "      <td>...</td>\n",
              "      <td>...</td>\n",
              "      <td>...</td>\n",
              "      <td>...</td>\n",
              "      <td>...</td>\n",
              "    </tr>\n",
              "    <tr>\n",
              "      <th>3347</th>\n",
              "      <td>Asylum: A Hidden Tale - Sinister Tales</td>\n",
              "      <td>Anna Gallegos</td>\n",
              "      <td>4.18</td>\n",
              "      <td>Horror</td>\n",
              "      <td>Maria has been caught and sent to the home of ...</td>\n",
              "    </tr>\n",
              "    <tr>\n",
              "      <th>3348</th>\n",
              "      <td>The Cruel Prince</td>\n",
              "      <td>Holly Black</td>\n",
              "      <td>4.09</td>\n",
              "      <td>Fantasy</td>\n",
              "      <td>This is a previously published cover edition o...</td>\n",
              "    </tr>\n",
              "    <tr>\n",
              "      <th>3349</th>\n",
              "      <td>City of God</td>\n",
              "      <td>Augustine of Hippo</td>\n",
              "      <td>3.87</td>\n",
              "      <td>Philosophy</td>\n",
              "      <td>No book except the Bible itself had a greater ...</td>\n",
              "    </tr>\n",
              "    <tr>\n",
              "      <th>3350</th>\n",
              "      <td>My Name is Joe</td>\n",
              "      <td>Stefan Bourque</td>\n",
              "      <td>3.65</td>\n",
              "      <td>Fiction</td>\n",
              "      <td>When Joe's doctor advises him to get his affai...</td>\n",
              "    </tr>\n",
              "    <tr>\n",
              "      <th>3351</th>\n",
              "      <td>Homeland</td>\n",
              "      <td>R.A. Salvatore</td>\n",
              "      <td>4.22</td>\n",
              "      <td>Fantasy</td>\n",
              "      <td>Drow ranger Drizzt Do'Urden, first introduced ...</td>\n",
              "    </tr>\n",
              "  </tbody>\n",
              "</table>\n",
              "<p>3336 rows × 5 columns</p>\n",
              "</div>"
            ],
            "text/plain": [
              "                                       title                    author  \\\n",
              "0                      To Kill a Mockingbird                Harper Lee   \n",
              "1                        Pride and Prejudice               Jane Austen   \n",
              "2                  The Diary of a Young Girl                Anne Frank   \n",
              "3                                Animal Farm             George Orwell   \n",
              "4                          The Little Prince  Antoine de Saint-Exupéry   \n",
              "...                                      ...                       ...   \n",
              "3347  Asylum: A Hidden Tale - Sinister Tales             Anna Gallegos   \n",
              "3348                        The Cruel Prince               Holly Black   \n",
              "3349                             City of God        Augustine of Hippo   \n",
              "3350                          My Name is Joe            Stefan Bourque   \n",
              "3351                                Homeland            R.A. Salvatore   \n",
              "\n",
              "      average_rating       genre  \\\n",
              "0               4.27    Classics   \n",
              "1               4.27    Classics   \n",
              "2               4.17  Nonfiction   \n",
              "3               3.97    Classics   \n",
              "4               4.31    Classics   \n",
              "...              ...         ...   \n",
              "3347            4.18      Horror   \n",
              "3348            4.09     Fantasy   \n",
              "3349            3.87  Philosophy   \n",
              "3350            3.65     Fiction   \n",
              "3351            4.22     Fantasy   \n",
              "\n",
              "                                            description  \n",
              "0     The unforgettable novel of a childhood in a sl...  \n",
              "1     Alternate cover edition of ISBN 9780679783268S...  \n",
              "2     Discovered in the attic in which she spent the...  \n",
              "3     Librarian's note: There is an Alternate Cover ...  \n",
              "4     A pilot stranded in the desert awakes one morn...  \n",
              "...                                                 ...  \n",
              "3347  Maria has been caught and sent to the home of ...  \n",
              "3348  This is a previously published cover edition o...  \n",
              "3349  No book except the Bible itself had a greater ...  \n",
              "3350  When Joe's doctor advises him to get his affai...  \n",
              "3351  Drow ranger Drizzt Do'Urden, first introduced ...  \n",
              "\n",
              "[3336 rows x 5 columns]"
            ]
          },
          "execution_count": 16,
          "metadata": {},
          "output_type": "execute_result"
        }
      ],
      "source": [
        "books.drop_duplicates(keep='first',inplace= True)\n",
        "books"
      ]
    },
    {
      "cell_type": "code",
      "execution_count": null,
      "id": "dd685917",
      "metadata": {
        "id": "dd685917",
        "outputId": "d8fd0e9e-5d9f-4dd7-bc45-1ae7201b56e2"
      },
      "outputs": [
        {
          "data": {
            "text/plain": [
              "(3336, 5)"
            ]
          },
          "execution_count": 17,
          "metadata": {},
          "output_type": "execute_result"
        }
      ],
      "source": [
        "books.shape"
      ]
    },
    {
      "cell_type": "code",
      "execution_count": null,
      "id": "c1972617",
      "metadata": {
        "id": "c1972617",
        "outputId": "f0435e99-b691-4877-f9eb-3aef157c14e5"
      },
      "outputs": [
        {
          "data": {
            "text/html": [
              "<div>\n",
              "<style scoped>\n",
              "    .dataframe tbody tr th:only-of-type {\n",
              "        vertical-align: middle;\n",
              "    }\n",
              "\n",
              "    .dataframe tbody tr th {\n",
              "        vertical-align: top;\n",
              "    }\n",
              "\n",
              "    .dataframe thead th {\n",
              "        text-align: right;\n",
              "    }\n",
              "</style>\n",
              "<table border=\"1\" class=\"dataframe\">\n",
              "  <thead>\n",
              "    <tr style=\"text-align: right;\">\n",
              "      <th></th>\n",
              "      <th>Title</th>\n",
              "      <th>Author</th>\n",
              "      <th>Avg-Rating</th>\n",
              "      <th>Genre</th>\n",
              "      <th>Description</th>\n",
              "    </tr>\n",
              "  </thead>\n",
              "  <tbody>\n",
              "    <tr>\n",
              "      <th>0</th>\n",
              "      <td>To Kill a Mockingbird</td>\n",
              "      <td>Harper Lee</td>\n",
              "      <td>4.27</td>\n",
              "      <td>Classics</td>\n",
              "      <td>The unforgettable novel of a childhood in a sl...</td>\n",
              "    </tr>\n",
              "    <tr>\n",
              "      <th>1</th>\n",
              "      <td>Pride and Prejudice</td>\n",
              "      <td>Jane Austen</td>\n",
              "      <td>4.27</td>\n",
              "      <td>Classics</td>\n",
              "      <td>Alternate cover edition of ISBN 9780679783268S...</td>\n",
              "    </tr>\n",
              "    <tr>\n",
              "      <th>2</th>\n",
              "      <td>The Diary of a Young Girl</td>\n",
              "      <td>Anne Frank</td>\n",
              "      <td>4.17</td>\n",
              "      <td>Nonfiction</td>\n",
              "      <td>Discovered in the attic in which she spent the...</td>\n",
              "    </tr>\n",
              "    <tr>\n",
              "      <th>3</th>\n",
              "      <td>Animal Farm</td>\n",
              "      <td>George Orwell</td>\n",
              "      <td>3.97</td>\n",
              "      <td>Classics</td>\n",
              "      <td>Librarian's note: There is an Alternate Cover ...</td>\n",
              "    </tr>\n",
              "    <tr>\n",
              "      <th>4</th>\n",
              "      <td>The Little Prince</td>\n",
              "      <td>Antoine de Saint-Exupéry</td>\n",
              "      <td>4.31</td>\n",
              "      <td>Classics</td>\n",
              "      <td>A pilot stranded in the desert awakes one morn...</td>\n",
              "    </tr>\n",
              "    <tr>\n",
              "      <th>...</th>\n",
              "      <td>...</td>\n",
              "      <td>...</td>\n",
              "      <td>...</td>\n",
              "      <td>...</td>\n",
              "      <td>...</td>\n",
              "    </tr>\n",
              "    <tr>\n",
              "      <th>3347</th>\n",
              "      <td>Asylum: A Hidden Tale - Sinister Tales</td>\n",
              "      <td>Anna Gallegos</td>\n",
              "      <td>4.18</td>\n",
              "      <td>Horror</td>\n",
              "      <td>Maria has been caught and sent to the home of ...</td>\n",
              "    </tr>\n",
              "    <tr>\n",
              "      <th>3348</th>\n",
              "      <td>The Cruel Prince</td>\n",
              "      <td>Holly Black</td>\n",
              "      <td>4.09</td>\n",
              "      <td>Fantasy</td>\n",
              "      <td>This is a previously published cover edition o...</td>\n",
              "    </tr>\n",
              "    <tr>\n",
              "      <th>3349</th>\n",
              "      <td>City of God</td>\n",
              "      <td>Augustine of Hippo</td>\n",
              "      <td>3.87</td>\n",
              "      <td>Philosophy</td>\n",
              "      <td>No book except the Bible itself had a greater ...</td>\n",
              "    </tr>\n",
              "    <tr>\n",
              "      <th>3350</th>\n",
              "      <td>My Name is Joe</td>\n",
              "      <td>Stefan Bourque</td>\n",
              "      <td>3.65</td>\n",
              "      <td>Fiction</td>\n",
              "      <td>When Joe's doctor advises him to get his affai...</td>\n",
              "    </tr>\n",
              "    <tr>\n",
              "      <th>3351</th>\n",
              "      <td>Homeland</td>\n",
              "      <td>R.A. Salvatore</td>\n",
              "      <td>4.22</td>\n",
              "      <td>Fantasy</td>\n",
              "      <td>Drow ranger Drizzt Do'Urden, first introduced ...</td>\n",
              "    </tr>\n",
              "  </tbody>\n",
              "</table>\n",
              "<p>3336 rows × 5 columns</p>\n",
              "</div>"
            ],
            "text/plain": [
              "                                       Title                    Author  \\\n",
              "0                      To Kill a Mockingbird                Harper Lee   \n",
              "1                        Pride and Prejudice               Jane Austen   \n",
              "2                  The Diary of a Young Girl                Anne Frank   \n",
              "3                                Animal Farm             George Orwell   \n",
              "4                          The Little Prince  Antoine de Saint-Exupéry   \n",
              "...                                      ...                       ...   \n",
              "3347  Asylum: A Hidden Tale - Sinister Tales             Anna Gallegos   \n",
              "3348                        The Cruel Prince               Holly Black   \n",
              "3349                             City of God        Augustine of Hippo   \n",
              "3350                          My Name is Joe            Stefan Bourque   \n",
              "3351                                Homeland            R.A. Salvatore   \n",
              "\n",
              "      Avg-Rating       Genre  \\\n",
              "0           4.27    Classics   \n",
              "1           4.27    Classics   \n",
              "2           4.17  Nonfiction   \n",
              "3           3.97    Classics   \n",
              "4           4.31    Classics   \n",
              "...          ...         ...   \n",
              "3347        4.18      Horror   \n",
              "3348        4.09     Fantasy   \n",
              "3349        3.87  Philosophy   \n",
              "3350        3.65     Fiction   \n",
              "3351        4.22     Fantasy   \n",
              "\n",
              "                                            Description  \n",
              "0     The unforgettable novel of a childhood in a sl...  \n",
              "1     Alternate cover edition of ISBN 9780679783268S...  \n",
              "2     Discovered in the attic in which she spent the...  \n",
              "3     Librarian's note: There is an Alternate Cover ...  \n",
              "4     A pilot stranded in the desert awakes one morn...  \n",
              "...                                                 ...  \n",
              "3347  Maria has been caught and sent to the home of ...  \n",
              "3348  This is a previously published cover edition o...  \n",
              "3349  No book except the Bible itself had a greater ...  \n",
              "3350  When Joe's doctor advises him to get his affai...  \n",
              "3351  Drow ranger Drizzt Do'Urden, first introduced ...  \n",
              "\n",
              "[3336 rows x 5 columns]"
            ]
          },
          "execution_count": 18,
          "metadata": {},
          "output_type": "execute_result"
        }
      ],
      "source": [
        "books = books.rename(columns={\"title\":\"Title\",\"author\":\"Author\",\"average_rating\":\"Avg-Rating\",\"genre\":\"Genre\",\"description\":\"Description\"})\n",
        "books"
      ]
    },
    {
      "cell_type": "code",
      "execution_count": null,
      "id": "bab11fd6",
      "metadata": {
        "id": "bab11fd6",
        "outputId": "15a31628-ba9a-4154-ffc9-f281c2057a6b"
      },
      "outputs": [
        {
          "data": {
            "text/plain": [
              "Fiction        802\n",
              "Nonfiction     391\n",
              "Fantasy        324\n",
              "Classics       302\n",
              "Young Adult    182\n",
              "              ... \n",
              "Academic         1\n",
              "Design           1\n",
              "Literature       1\n",
              "Comics           1\n",
              "Occult           1\n",
              "Name: Genre, Length: 77, dtype: int64"
            ]
          },
          "execution_count": 19,
          "metadata": {},
          "output_type": "execute_result"
        }
      ],
      "source": [
        "books['Genre'].value_counts()"
      ]
    },
    {
      "cell_type": "code",
      "execution_count": null,
      "id": "61b27af6",
      "metadata": {
        "id": "61b27af6",
        "outputId": "9115ba44-9730-4e9c-ae55-43fa0dd5d31f"
      },
      "outputs": [
        {
          "data": {
            "text/plain": [
              "<AxesSubplot:>"
            ]
          },
          "execution_count": 20,
          "metadata": {},
          "output_type": "execute_result"
        },
        {
          "data": {
            "image/png": "[encoded data removed]",
            "text/plain": [
              "<Figure size 1080x360 with 1 Axes>"
            ]
          },
          "metadata": {
            "needs_background": "light"
          },
          "output_type": "display_data"
        }
      ],
      "source": [
        "books.Genre.value_counts().plot(x='genre',y = 'count',kind = 'bar',figsize = (15,5))"
      ]
    },
    {
      "cell_type": "code",
      "execution_count": null,
      "id": "fc756aa7",
      "metadata": {
        "id": "fc756aa7",
        "outputId": "28f9393d-eaec-4faf-c407-6e99cdea997c"
      },
      "outputs": [
        {
          "name": "stdout",
          "output_type": "stream",
          "text": [
            "The Little Prince\n"
          ]
        },
        {
          "data": {
            "text/plain": [
              "'A pilot stranded in the desert awakes one morning to see, standing before him, the most extraordinary little fellow. \"Please,\" asks the stranger, \"draw me a sheep.\" And the pilot realizes that when life\\'s events are too difficult to understand, there is no choice but to succumb to their mysteries. He pulls out pencil and paper... And thus begins this wise and enchanting fa\\r\\nA pilot stranded in the desert awakes one morning to see, standing before him, the most extraordinary little fellow. \"Please,\" asks the stranger, \"draw me a sheep.\" And the pilot realizes that when life\\'s events are too difficult to understand, there is no choice but to succumb to their mysteries. He pulls out pencil and paper... And thus begins this wise and enchanting fable that, in teaching the secret of what is really important in life, has changed forever the world for its readers.Few stories are as widely read and as universally cherished by children and adults alike as The Little Prince, presented here in a stunning new translation with carefully restored artwork. The definitive edition of a worldwide classic, it will capture the hearts of readers of all ages.\\r\\n...more'"
            ]
          },
          "execution_count": 21,
          "metadata": {},
          "output_type": "execute_result"
        }
      ],
      "source": [
        "#print the title and description of a random sample\n",
        "print(books['Title'][4])\n",
        "books['Description'][4]"
      ]
    },
    {
      "cell_type": "code",
      "execution_count": null,
      "id": "f5d2c07d",
      "metadata": {
        "id": "f5d2c07d",
        "outputId": "2f1d4eb8-abfe-4534-b83b-e4f1831108a7"
      },
      "outputs": [
        {
          "data": {
            "text/plain": [
              "<seaborn.axisgrid.FacetGrid at 0x25afe2ca730>"
            ]
          },
          "execution_count": 22,
          "metadata": {},
          "output_type": "execute_result"
        },
        {
          "data": {
            "text/plain": [
              "<Figure size 864x720 with 0 Axes>"
            ]
          },
          "metadata": {},
          "output_type": "display_data"
        },
        {
          "data": {
            "image/png": "[encoded data removed]",
            "text/plain": [
              "<Figure size 360x360 with 1 Axes>"
            ]
          },
          "metadata": {
            "needs_background": "light"
          },
          "output_type": "display_data"
        }
      ],
      "source": [
        "#Calculating the word count for book description\n",
        "import seaborn as sns\n",
        "import matplotlib.pyplot as plt\n",
        "books['Word_count'] = books['Description'].apply(lambda x: len(str(x).split()))# Plotting the word count\n",
        "plt.figure(figsize=[12, 10])\n",
        "sns.displot(books['Word_count'])"
      ]
    },
    {
      "cell_type": "code",
      "execution_count": null,
      "id": "462825b0",
      "metadata": {
        "id": "462825b0",
        "outputId": "d71ad928-2fd5-45ef-c23c-2c86d7ffa1c4"
      },
      "outputs": [
        {
          "data": {
            "text/html": [
              "<div>\n",
              "<style scoped>\n",
              "    .dataframe tbody tr th:only-of-type {\n",
              "        vertical-align: middle;\n",
              "    }\n",
              "\n",
              "    .dataframe tbody tr th {\n",
              "        vertical-align: top;\n",
              "    }\n",
              "\n",
              "    .dataframe thead th {\n",
              "        text-align: right;\n",
              "    }\n",
              "</style>\n",
              "<table border=\"1\" class=\"dataframe\">\n",
              "  <thead>\n",
              "    <tr style=\"text-align: right;\">\n",
              "      <th></th>\n",
              "      <th>Title</th>\n",
              "      <th>Author</th>\n",
              "      <th>Avg-Rating</th>\n",
              "      <th>Genre</th>\n",
              "      <th>Description</th>\n",
              "      <th>Word_count</th>\n",
              "    </tr>\n",
              "  </thead>\n",
              "  <tbody>\n",
              "    <tr>\n",
              "      <th>0</th>\n",
              "      <td>To Kill a Mockingbird</td>\n",
              "      <td>Harper Lee</td>\n",
              "      <td>4.27</td>\n",
              "      <td>Classics</td>\n",
              "      <td>The unforgettable novel of a childhood in a sl...</td>\n",
              "      <td>202</td>\n",
              "    </tr>\n",
              "    <tr>\n",
              "      <th>1</th>\n",
              "      <td>Pride and Prejudice</td>\n",
              "      <td>Jane Austen</td>\n",
              "      <td>4.27</td>\n",
              "      <td>Classics</td>\n",
              "      <td>Alternate cover edition of ISBN 9780679783268S...</td>\n",
              "      <td>158</td>\n",
              "    </tr>\n",
              "    <tr>\n",
              "      <th>2</th>\n",
              "      <td>The Diary of a Young Girl</td>\n",
              "      <td>Anne Frank</td>\n",
              "      <td>4.17</td>\n",
              "      <td>Nonfiction</td>\n",
              "      <td>Discovered in the attic in which she spent the...</td>\n",
              "      <td>232</td>\n",
              "    </tr>\n",
              "    <tr>\n",
              "      <th>3</th>\n",
              "      <td>Animal Farm</td>\n",
              "      <td>George Orwell</td>\n",
              "      <td>3.97</td>\n",
              "      <td>Classics</td>\n",
              "      <td>Librarian's note: There is an Alternate Cover ...</td>\n",
              "      <td>187</td>\n",
              "    </tr>\n",
              "    <tr>\n",
              "      <th>4</th>\n",
              "      <td>The Little Prince</td>\n",
              "      <td>Antoine de Saint-Exupéry</td>\n",
              "      <td>4.31</td>\n",
              "      <td>Classics</td>\n",
              "      <td>A pilot stranded in the desert awakes one morn...</td>\n",
              "      <td>195</td>\n",
              "    </tr>\n",
              "  </tbody>\n",
              "</table>\n",
              "</div>"
            ],
            "text/plain": [
              "                       Title                    Author  Avg-Rating  \\\n",
              "0      To Kill a Mockingbird                Harper Lee        4.27   \n",
              "1        Pride and Prejudice               Jane Austen        4.27   \n",
              "2  The Diary of a Young Girl                Anne Frank        4.17   \n",
              "3                Animal Farm             George Orwell        3.97   \n",
              "4          The Little Prince  Antoine de Saint-Exupéry        4.31   \n",
              "\n",
              "        Genre                                        Description  Word_count  \n",
              "0    Classics  The unforgettable novel of a childhood in a sl...         202  \n",
              "1    Classics  Alternate cover edition of ISBN 9780679783268S...         158  \n",
              "2  Nonfiction  Discovered in the attic in which she spent the...         232  \n",
              "3    Classics  Librarian's note: There is an Alternate Cover ...         187  \n",
              "4    Classics  A pilot stranded in the desert awakes one morn...         195  "
            ]
          },
          "execution_count": 23,
          "metadata": {},
          "output_type": "execute_result"
        }
      ],
      "source": [
        "books.head()"
      ]
    },
    {
      "cell_type": "markdown",
      "id": "27e29997",
      "metadata": {
        "id": "27e29997"
      },
      "source": [
        "### Data Preprocessing"
      ]
    },
    {
      "cell_type": "code",
      "execution_count": null,
      "id": "d0b9d2ca",
      "metadata": {
        "id": "d0b9d2ca",
        "outputId": "3baa33c9-fda7-4990-d04d-871f232333d2"
      },
      "outputs": [
        {
          "data": {
            "text/plain": [
              "array(['Classics', 'Nonfiction', 'Historical', 'Fantasy', 'Fiction',\n",
              "       'Young Adult', 'Childrens', 'Science Fiction', 'Poetry', 'Horror',\n",
              "       'History', 'Mystery', 'Travel', 'Romance', 'Philosophy', 'Science',\n",
              "       'Sequential Art', 'Christian', 'Academic', 'Self Help', 'Language',\n",
              "       'Thriller', 'Religion', 'Plays', 'Cultural', 'Contemporary',\n",
              "       'Drama', 'Autobiography', 'Esoterica', 'Short Stories', 'Crime',\n",
              "       'Psychology', 'Feminism', 'Christian Fiction', 'Adventure',\n",
              "       'Biography', 'Food and Drink', 'Spirituality', 'Paranormal',\n",
              "       'Holiday', 'Novels', 'Epic', 'Inspirational', 'Apocalyptic',\n",
              "       'Book Club', 'Realistic Fiction', 'Economics', 'Polyamorous',\n",
              "       'Marriage', 'Education', 'Humor', 'Art', 'Business', 'Politics',\n",
              "       'Womens Fiction', 'Health', 'New Adult', 'Erotica',\n",
              "       'Shapeshifters', 'War', 'Design', 'Adult', 'Parenting', 'Gothic',\n",
              "       'Animals', 'LGBT', 'Modern', 'Literature', 'Magical Realism',\n",
              "       'Music', 'Dark', 'Suspense', 'Westerns', 'Medical', 'Comics',\n",
              "       'Occult', 'Literary Fiction'], dtype=object)"
            ]
          },
          "execution_count": 25,
          "metadata": {},
          "output_type": "execute_result"
        }
      ],
      "source": [
        "books.Genre.unique()"
      ]
    },
    {
      "cell_type": "code",
      "execution_count": null,
      "id": "6ebeea5b",
      "metadata": {
        "id": "6ebeea5b"
      },
      "outputs": [],
      "source": [
        "#filtering books with genres consiting more than 100 books\n",
        "df = books[books['Genre'].map(books['Genre'].value_counts()) > 100]"
      ]
    },
    {
      "cell_type": "code",
      "execution_count": null,
      "id": "979ef2f3",
      "metadata": {
        "id": "979ef2f3",
        "outputId": "e4504c77-d8f6-4ca9-ac16-478d4d7f956b"
      },
      "outputs": [
        {
          "name": "stdout",
          "output_type": "stream",
          "text": [
            "<class 'pandas.core.frame.DataFrame'>\n",
            "Int64Index: 2287 entries, 0 to 3351\n",
            "Data columns (total 6 columns):\n",
            " #   Column       Non-Null Count  Dtype  \n",
            "---  ------       --------------  -----  \n",
            " 0   Title        2287 non-null   object \n",
            " 1   Author       2287 non-null   object \n",
            " 2   Avg-Rating   2287 non-null   float64\n",
            " 3   Genre        2287 non-null   object \n",
            " 4   Description  2287 non-null   object \n",
            " 5   Word_count   2287 non-null   int64  \n",
            "dtypes: float64(1), int64(1), object(4)\n",
            "memory usage: 125.1+ KB\n"
          ]
        }
      ],
      "source": [
        "df.info()"
      ]
    },
    {
      "cell_type": "code",
      "execution_count": null,
      "id": "5a0c9af3",
      "metadata": {
        "id": "5a0c9af3",
        "outputId": "519c31fd-7e92-4fee-a911-af9986f2af9b"
      },
      "outputs": [
        {
          "data": {
            "text/plain": [
              "Fiction        802\n",
              "Nonfiction     391\n",
              "Fantasy        324\n",
              "Classics       302\n",
              "Young Adult    182\n",
              "Historical     159\n",
              "Mystery        127\n",
              "Name: Genre, dtype: int64"
            ]
          },
          "execution_count": 28,
          "metadata": {},
          "output_type": "execute_result"
        }
      ],
      "source": [
        "df.Genre.value_counts()"
      ]
    },
    {
      "cell_type": "code",
      "execution_count": null,
      "id": "3782e88c",
      "metadata": {
        "id": "3782e88c",
        "outputId": "2f8c1945-62b1-459f-e06f-d4706beb12bd"
      },
      "outputs": [
        {
          "name": "stdout",
          "output_type": "stream",
          "text": [
            "<class 'pandas.core.frame.DataFrame'>\n",
            "Int64Index: 204 entries, 38 to 3350\n",
            "Data columns (total 6 columns):\n",
            " #   Column       Non-Null Count  Dtype  \n",
            "---  ------       --------------  -----  \n",
            " 0   Title        204 non-null    object \n",
            " 1   Author       204 non-null    object \n",
            " 2   Avg-Rating   204 non-null    float64\n",
            " 3   Genre        204 non-null    object \n",
            " 4   Description  204 non-null    object \n",
            " 5   Word_count   204 non-null    int64  \n",
            "dtypes: float64(1), int64(1), object(4)\n",
            "memory usage: 11.2+ KB\n"
          ]
        }
      ],
      "source": [
        "# creating a sub dataframe of fiction books with  less than 160 word count.\n",
        "df1 = df[(df.Genre == 'Fiction') & (df.Word_count <= 160)]\n",
        "df1.info()"
      ]
    },
    {
      "cell_type": "code",
      "execution_count": null,
      "id": "461377d8",
      "metadata": {
        "id": "461377d8",
        "outputId": "e530a72b-f4ca-4425-92c1-2112da6b5076"
      },
      "outputs": [
        {
          "name": "stderr",
          "output_type": "stream",
          "text": [
            "C:\\Users\\himan\\anaconda3\\lib\\site-packages\\pandas\\core\\frame.py:4308: SettingWithCopyWarning: \n",
            "A value is trying to be set on a copy of a slice from a DataFrame\n",
            "\n",
            "See the caveats in the documentation: https://pandas.pydata.org/pandas-docs/stable/user_guide/indexing.html#returning-a-view-versus-a-copy\n",
            "  return super().drop(\n"
          ]
        }
      ],
      "source": [
        "# dropping the  rows created in df2 from the df1 column.\n",
        "df.drop(df1.index,axis=0,inplace=True)"
      ]
    },
    {
      "cell_type": "code",
      "execution_count": null,
      "id": "be5afbf7",
      "metadata": {
        "id": "be5afbf7",
        "outputId": "2cdd0c61-296b-4114-f55d-ff5e829e5abf"
      },
      "outputs": [
        {
          "data": {
            "text/plain": [
              "Fiction        598\n",
              "Nonfiction     391\n",
              "Fantasy        324\n",
              "Classics       302\n",
              "Young Adult    182\n",
              "Historical     159\n",
              "Mystery        127\n",
              "Name: Genre, dtype: int64"
            ]
          },
          "execution_count": 31,
          "metadata": {},
          "output_type": "execute_result"
        }
      ],
      "source": [
        "df.Genre.value_counts()"
      ]
    },
    {
      "cell_type": "code",
      "execution_count": null,
      "id": "1ed5034d",
      "metadata": {
        "id": "1ed5034d",
        "outputId": "2d3e0e08-6c6c-4b3b-cead-a7f15ade214a"
      },
      "outputs": [
        {
          "data": {
            "text/plain": [
              "array([<AxesSubplot:ylabel='Genre'>], dtype=object)"
            ]
          },
          "execution_count": 32,
          "metadata": {},
          "output_type": "execute_result"
        },
        {
          "data": {
            "image/png": "[encoded data removed]",
            "text/plain": [
              "<Figure size 1080x720 with 1 Axes>"
            ]
          },
          "metadata": {},
          "output_type": "display_data"
        }
      ],
      "source": [
        "df.Genre.value_counts().plot(kind='pie', subplots=True, startangle=90,\n",
        "figsize=(15,10), autopct='%1.1f%%')"
      ]
    },
    {
      "cell_type": "code",
      "execution_count": null,
      "id": "62f82a95",
      "metadata": {
        "id": "62f82a95",
        "outputId": "6e07b260-c10e-4f80-ed61-4f94e35f48a8"
      },
      "outputs": [
        {
          "name": "stderr",
          "output_type": "stream",
          "text": [
            "<ipython-input-33-049cc9dc623b>:4: SettingWithCopyWarning: \n",
            "A value is trying to be set on a copy of a slice from a DataFrame.\n",
            "Try using .loc[row_indexer,col_indexer] = value instead\n",
            "\n",
            "See the caveats in the documentation: https://pandas.pydata.org/pandas-docs/stable/user_guide/indexing.html#returning-a-view-versus-a-copy\n",
            "  df['Genre_le'] = le.fit_transform(df.Genre)\n"
          ]
        }
      ],
      "source": [
        "from sklearn.preprocessing import LabelEncoder\n",
        "from sklearn import preprocessing\n",
        "le = preprocessing.LabelEncoder()\n",
        "df['Genre_le'] = le.fit_transform(df.Genre)"
      ]
    },
    {
      "cell_type": "code",
      "execution_count": null,
      "id": "f9331ae6",
      "metadata": {
        "id": "f9331ae6",
        "outputId": "9591cad2-035f-479c-f518-90ab477e11e5"
      },
      "outputs": [
        {
          "data": {
            "text/html": [
              "<div>\n",
              "<style scoped>\n",
              "    .dataframe tbody tr th:only-of-type {\n",
              "        vertical-align: middle;\n",
              "    }\n",
              "\n",
              "    .dataframe tbody tr th {\n",
              "        vertical-align: top;\n",
              "    }\n",
              "\n",
              "    .dataframe thead th {\n",
              "        text-align: right;\n",
              "    }\n",
              "</style>\n",
              "<table border=\"1\" class=\"dataframe\">\n",
              "  <thead>\n",
              "    <tr style=\"text-align: right;\">\n",
              "      <th></th>\n",
              "      <th>Title</th>\n",
              "      <th>Author</th>\n",
              "      <th>Avg-Rating</th>\n",
              "      <th>Genre</th>\n",
              "      <th>Description</th>\n",
              "      <th>Word_count</th>\n",
              "      <th>Genre_le</th>\n",
              "    </tr>\n",
              "  </thead>\n",
              "  <tbody>\n",
              "    <tr>\n",
              "      <th>0</th>\n",
              "      <td>To Kill a Mockingbird</td>\n",
              "      <td>Harper Lee</td>\n",
              "      <td>4.27</td>\n",
              "      <td>Classics</td>\n",
              "      <td>The unforgettable novel of a childhood in a sl...</td>\n",
              "      <td>202</td>\n",
              "      <td>0</td>\n",
              "    </tr>\n",
              "    <tr>\n",
              "      <th>1</th>\n",
              "      <td>Pride and Prejudice</td>\n",
              "      <td>Jane Austen</td>\n",
              "      <td>4.27</td>\n",
              "      <td>Classics</td>\n",
              "      <td>Alternate cover edition of ISBN 9780679783268S...</td>\n",
              "      <td>158</td>\n",
              "      <td>0</td>\n",
              "    </tr>\n",
              "    <tr>\n",
              "      <th>2</th>\n",
              "      <td>The Diary of a Young Girl</td>\n",
              "      <td>Anne Frank</td>\n",
              "      <td>4.17</td>\n",
              "      <td>Nonfiction</td>\n",
              "      <td>Discovered in the attic in which she spent the...</td>\n",
              "      <td>232</td>\n",
              "      <td>5</td>\n",
              "    </tr>\n",
              "    <tr>\n",
              "      <th>3</th>\n",
              "      <td>Animal Farm</td>\n",
              "      <td>George Orwell</td>\n",
              "      <td>3.97</td>\n",
              "      <td>Classics</td>\n",
              "      <td>Librarian's note: There is an Alternate Cover ...</td>\n",
              "      <td>187</td>\n",
              "      <td>0</td>\n",
              "    </tr>\n",
              "    <tr>\n",
              "      <th>4</th>\n",
              "      <td>The Little Prince</td>\n",
              "      <td>Antoine de Saint-Exupéry</td>\n",
              "      <td>4.31</td>\n",
              "      <td>Classics</td>\n",
              "      <td>A pilot stranded in the desert awakes one morn...</td>\n",
              "      <td>195</td>\n",
              "      <td>0</td>\n",
              "    </tr>\n",
              "  </tbody>\n",
              "</table>\n",
              "</div>"
            ],
            "text/plain": [
              "                       Title                    Author  Avg-Rating  \\\n",
              "0      To Kill a Mockingbird                Harper Lee        4.27   \n",
              "1        Pride and Prejudice               Jane Austen        4.27   \n",
              "2  The Diary of a Young Girl                Anne Frank        4.17   \n",
              "3                Animal Farm             George Orwell        3.97   \n",
              "4          The Little Prince  Antoine de Saint-Exupéry        4.31   \n",
              "\n",
              "        Genre                                        Description  Word_count  \\\n",
              "0    Classics  The unforgettable novel of a childhood in a sl...         202   \n",
              "1    Classics  Alternate cover edition of ISBN 9780679783268S...         158   \n",
              "2  Nonfiction  Discovered in the attic in which she spent the...         232   \n",
              "3    Classics  Librarian's note: There is an Alternate Cover ...         187   \n",
              "4    Classics  A pilot stranded in the desert awakes one morn...         195   \n",
              "\n",
              "   Genre_le  \n",
              "0         0  \n",
              "1         0  \n",
              "2         5  \n",
              "3         0  \n",
              "4         0  "
            ]
          },
          "execution_count": 34,
          "metadata": {},
          "output_type": "execute_result"
        }
      ],
      "source": [
        "df.Genre.unique()\n",
        "df.head()"
      ]
    },
    {
      "cell_type": "code",
      "execution_count": null,
      "id": "86218f53",
      "metadata": {
        "id": "86218f53",
        "outputId": "b0fc4c99-8f22-4a19-ba65-8bdd4a19093d"
      },
      "outputs": [
        {
          "name": "stderr",
          "output_type": "stream",
          "text": [
            "<ipython-input-35-3317338b3c91>:1: SettingWithCopyWarning: \n",
            "A value is trying to be set on a copy of a slice from a DataFrame.\n",
            "Try using .loc[row_indexer,col_indexer] = value instead\n",
            "\n",
            "See the caveats in the documentation: https://pandas.pydata.org/pandas-docs/stable/user_guide/indexing.html#returning-a-view-versus-a-copy\n",
            "  df['Author'] = df['Author'].str.replace(\" \",\"\")\n",
            "<ipython-input-35-3317338b3c91>:2: SettingWithCopyWarning: \n",
            "A value is trying to be set on a copy of a slice from a DataFrame.\n",
            "Try using .loc[row_indexer,col_indexer] = value instead\n",
            "\n",
            "See the caveats in the documentation: https://pandas.pydata.org/pandas-docs/stable/user_guide/indexing.html#returning-a-view-versus-a-copy\n",
            "  df['Tags'] = df['Author'] + \" \" + df['Description']\n",
            "C:\\Users\\himan\\anaconda3\\lib\\site-packages\\pandas\\core\\frame.py:4308: SettingWithCopyWarning: \n",
            "A value is trying to be set on a copy of a slice from a DataFrame\n",
            "\n",
            "See the caveats in the documentation: https://pandas.pydata.org/pandas-docs/stable/user_guide/indexing.html#returning-a-view-versus-a-copy\n",
            "  return super().drop(\n",
            "<ipython-input-35-3317338b3c91>:4: SettingWithCopyWarning: \n",
            "A value is trying to be set on a copy of a slice from a DataFrame.\n",
            "Try using .loc[row_indexer,col_indexer] = value instead\n",
            "\n",
            "See the caveats in the documentation: https://pandas.pydata.org/pandas-docs/stable/user_guide/indexing.html#returning-a-view-versus-a-copy\n",
            "  df['Tags'] = df['Tags'].apply(lambda x: x.lower())\n"
          ]
        },
        {
          "data": {
            "text/html": [
              "<div>\n",
              "<style scoped>\n",
              "    .dataframe tbody tr th:only-of-type {\n",
              "        vertical-align: middle;\n",
              "    }\n",
              "\n",
              "    .dataframe tbody tr th {\n",
              "        vertical-align: top;\n",
              "    }\n",
              "\n",
              "    .dataframe thead th {\n",
              "        text-align: right;\n",
              "    }\n",
              "</style>\n",
              "<table border=\"1\" class=\"dataframe\">\n",
              "  <thead>\n",
              "    <tr style=\"text-align: right;\">\n",
              "      <th></th>\n",
              "      <th>Title</th>\n",
              "      <th>Avg-Rating</th>\n",
              "      <th>Genre</th>\n",
              "      <th>Genre_le</th>\n",
              "      <th>Tags</th>\n",
              "    </tr>\n",
              "  </thead>\n",
              "  <tbody>\n",
              "    <tr>\n",
              "      <th>0</th>\n",
              "      <td>To Kill a Mockingbird</td>\n",
              "      <td>4.27</td>\n",
              "      <td>Classics</td>\n",
              "      <td>0</td>\n",
              "      <td>harperlee the unforgettable novel of a childho...</td>\n",
              "    </tr>\n",
              "    <tr>\n",
              "      <th>1</th>\n",
              "      <td>Pride and Prejudice</td>\n",
              "      <td>4.27</td>\n",
              "      <td>Classics</td>\n",
              "      <td>0</td>\n",
              "      <td>janeausten alternate cover edition of isbn 978...</td>\n",
              "    </tr>\n",
              "    <tr>\n",
              "      <th>2</th>\n",
              "      <td>The Diary of a Young Girl</td>\n",
              "      <td>4.17</td>\n",
              "      <td>Nonfiction</td>\n",
              "      <td>5</td>\n",
              "      <td>annefrank discovered in the attic in which she...</td>\n",
              "    </tr>\n",
              "    <tr>\n",
              "      <th>3</th>\n",
              "      <td>Animal Farm</td>\n",
              "      <td>3.97</td>\n",
              "      <td>Classics</td>\n",
              "      <td>0</td>\n",
              "      <td>georgeorwell librarian's note: there is an alt...</td>\n",
              "    </tr>\n",
              "    <tr>\n",
              "      <th>4</th>\n",
              "      <td>The Little Prince</td>\n",
              "      <td>4.31</td>\n",
              "      <td>Classics</td>\n",
              "      <td>0</td>\n",
              "      <td>antoinedesaint-exupéry a pilot stranded in the...</td>\n",
              "    </tr>\n",
              "  </tbody>\n",
              "</table>\n",
              "</div>"
            ],
            "text/plain": [
              "                       Title  Avg-Rating       Genre  Genre_le  \\\n",
              "0      To Kill a Mockingbird        4.27    Classics         0   \n",
              "1        Pride and Prejudice        4.27    Classics         0   \n",
              "2  The Diary of a Young Girl        4.17  Nonfiction         5   \n",
              "3                Animal Farm        3.97    Classics         0   \n",
              "4          The Little Prince        4.31    Classics         0   \n",
              "\n",
              "                                                Tags  \n",
              "0  harperlee the unforgettable novel of a childho...  \n",
              "1  janeausten alternate cover edition of isbn 978...  \n",
              "2  annefrank discovered in the attic in which she...  \n",
              "3  georgeorwell librarian's note: there is an alt...  \n",
              "4  antoinedesaint-exupéry a pilot stranded in the...  "
            ]
          },
          "execution_count": 35,
          "metadata": {},
          "output_type": "execute_result"
        }
      ],
      "source": [
        "df['Author'] = df['Author'].str.replace(\" \",\"\")\n",
        "df['Tags'] = df['Author'] + \" \" + df['Description']\n",
        "df.drop(['Word_count', 'Author', 'Description'], axis=1, inplace=True)\n",
        "df['Tags'] = df['Tags'].apply(lambda x: x.lower())\n",
        "df.head()"
      ]
    },
    {
      "cell_type": "code",
      "execution_count": null,
      "id": "bd838e57",
      "metadata": {
        "id": "bd838e57"
      },
      "outputs": [],
      "source": [
        "#stemming\n",
        "import nltk\n",
        "from nltk.stem.porter import PorterStemmer\n",
        "ps = PorterStemmer()\n",
        "def stemming(text):\n",
        "    y = []\n",
        "    for i in text.split():\n",
        "        y.append(ps.stem(i))\n",
        "        \n",
        "    return \" \".join(y)"
      ]
    },
    {
      "cell_type": "code",
      "execution_count": null,
      "id": "2e6281b9",
      "metadata": {
        "id": "2e6281b9",
        "outputId": "64036c48-727a-48b5-abe7-730a58ef3908"
      },
      "outputs": [
        {
          "name": "stderr",
          "output_type": "stream",
          "text": [
            "<ipython-input-37-2581147c87d5>:1: SettingWithCopyWarning: \n",
            "A value is trying to be set on a copy of a slice from a DataFrame.\n",
            "Try using .loc[row_indexer,col_indexer] = value instead\n",
            "\n",
            "See the caveats in the documentation: https://pandas.pydata.org/pandas-docs/stable/user_guide/indexing.html#returning-a-view-versus-a-copy\n",
            "  df['Tags'] = df['Tags'].apply(stemming)\n"
          ]
        },
        {
          "data": {
            "text/html": [
              "<div>\n",
              "<style scoped>\n",
              "    .dataframe tbody tr th:only-of-type {\n",
              "        vertical-align: middle;\n",
              "    }\n",
              "\n",
              "    .dataframe tbody tr th {\n",
              "        vertical-align: top;\n",
              "    }\n",
              "\n",
              "    .dataframe thead th {\n",
              "        text-align: right;\n",
              "    }\n",
              "</style>\n",
              "<table border=\"1\" class=\"dataframe\">\n",
              "  <thead>\n",
              "    <tr style=\"text-align: right;\">\n",
              "      <th></th>\n",
              "      <th>Title</th>\n",
              "      <th>Avg-Rating</th>\n",
              "      <th>Genre</th>\n",
              "      <th>Genre_le</th>\n",
              "      <th>Tags</th>\n",
              "    </tr>\n",
              "  </thead>\n",
              "  <tbody>\n",
              "    <tr>\n",
              "      <th>0</th>\n",
              "      <td>To Kill a Mockingbird</td>\n",
              "      <td>4.27</td>\n",
              "      <td>Classics</td>\n",
              "      <td>0</td>\n",
              "      <td>harperle the unforgett novel of a childhood in...</td>\n",
              "    </tr>\n",
              "    <tr>\n",
              "      <th>1</th>\n",
              "      <td>Pride and Prejudice</td>\n",
              "      <td>4.27</td>\n",
              "      <td>Classics</td>\n",
              "      <td>0</td>\n",
              "      <td>janeausten altern cover edit of isbn 978067978...</td>\n",
              "    </tr>\n",
              "    <tr>\n",
              "      <th>2</th>\n",
              "      <td>The Diary of a Young Girl</td>\n",
              "      <td>4.17</td>\n",
              "      <td>Nonfiction</td>\n",
              "      <td>5</td>\n",
              "      <td>annefrank discov in the attic in which she spe...</td>\n",
              "    </tr>\n",
              "    <tr>\n",
              "      <th>3</th>\n",
              "      <td>Animal Farm</td>\n",
              "      <td>3.97</td>\n",
              "      <td>Classics</td>\n",
              "      <td>0</td>\n",
              "      <td>georgeorwel librarian' note: there is an alter...</td>\n",
              "    </tr>\n",
              "    <tr>\n",
              "      <th>4</th>\n",
              "      <td>The Little Prince</td>\n",
              "      <td>4.31</td>\n",
              "      <td>Classics</td>\n",
              "      <td>0</td>\n",
              "      <td>antoinedesaint-exupéri a pilot strand in the d...</td>\n",
              "    </tr>\n",
              "  </tbody>\n",
              "</table>\n",
              "</div>"
            ],
            "text/plain": [
              "                       Title  Avg-Rating       Genre  Genre_le  \\\n",
              "0      To Kill a Mockingbird        4.27    Classics         0   \n",
              "1        Pride and Prejudice        4.27    Classics         0   \n",
              "2  The Diary of a Young Girl        4.17  Nonfiction         5   \n",
              "3                Animal Farm        3.97    Classics         0   \n",
              "4          The Little Prince        4.31    Classics         0   \n",
              "\n",
              "                                                Tags  \n",
              "0  harperle the unforgett novel of a childhood in...  \n",
              "1  janeausten altern cover edit of isbn 978067978...  \n",
              "2  annefrank discov in the attic in which she spe...  \n",
              "3  georgeorwel librarian' note: there is an alter...  \n",
              "4  antoinedesaint-exupéri a pilot strand in the d...  "
            ]
          },
          "execution_count": 37,
          "metadata": {},
          "output_type": "execute_result"
        }
      ],
      "source": [
        "df['Tags'] = df['Tags'].apply(stemming)\n",
        "df.head()"
      ]
    },
    {
      "cell_type": "code",
      "execution_count": null,
      "id": "9f2d42c6",
      "metadata": {
        "id": "9f2d42c6",
        "outputId": "b1fb3321-40df-421d-90bb-f8834695db21"
      },
      "outputs": [
        {
          "data": {
            "text/html": [
              "<div>\n",
              "<style scoped>\n",
              "    .dataframe tbody tr th:only-of-type {\n",
              "        vertical-align: middle;\n",
              "    }\n",
              "\n",
              "    .dataframe tbody tr th {\n",
              "        vertical-align: top;\n",
              "    }\n",
              "\n",
              "    .dataframe thead th {\n",
              "        text-align: right;\n",
              "    }\n",
              "</style>\n",
              "<table border=\"1\" class=\"dataframe\">\n",
              "  <thead>\n",
              "    <tr style=\"text-align: right;\">\n",
              "      <th></th>\n",
              "      <th>Tags</th>\n",
              "    </tr>\n",
              "  </thead>\n",
              "  <tbody>\n",
              "    <tr>\n",
              "      <th>0</th>\n",
              "      <td>harperle the unforgett novel of a childhood in...</td>\n",
              "    </tr>\n",
              "    <tr>\n",
              "      <th>1</th>\n",
              "      <td>janeausten altern cover edit of isbn 978067978...</td>\n",
              "    </tr>\n",
              "    <tr>\n",
              "      <th>2</th>\n",
              "      <td>annefrank discov in the attic in which she spe...</td>\n",
              "    </tr>\n",
              "    <tr>\n",
              "      <th>3</th>\n",
              "      <td>georgeorwel librarian' note: there is an alter...</td>\n",
              "    </tr>\n",
              "    <tr>\n",
              "      <th>4</th>\n",
              "      <td>antoinedesaint-exupéri a pilot strand in the d...</td>\n",
              "    </tr>\n",
              "    <tr>\n",
              "      <th>...</th>\n",
              "      <td>...</td>\n",
              "    </tr>\n",
              "    <tr>\n",
              "      <th>3344</th>\n",
              "      <td>theodoretaylor phillip is excit when the germa...</td>\n",
              "    </tr>\n",
              "    <tr>\n",
              "      <th>3345</th>\n",
              "      <td>andreahirata begitu banyak hal menakjubkan yan...</td>\n",
              "    </tr>\n",
              "    <tr>\n",
              "      <th>3346</th>\n",
              "      <td>w.somersetmaugham base on the life of paul gau...</td>\n",
              "    </tr>\n",
              "    <tr>\n",
              "      <th>3348</th>\n",
              "      <td>hollyblack thi is a previous publish cover edi...</td>\n",
              "    </tr>\n",
              "    <tr>\n",
              "      <th>3351</th>\n",
              "      <td>r.a.salvator drow ranger drizzt do'urden, firs...</td>\n",
              "    </tr>\n",
              "  </tbody>\n",
              "</table>\n",
              "<p>2083 rows × 1 columns</p>\n",
              "</div>"
            ],
            "text/plain": [
              "                                                   Tags\n",
              "0     harperle the unforgett novel of a childhood in...\n",
              "1     janeausten altern cover edit of isbn 978067978...\n",
              "2     annefrank discov in the attic in which she spe...\n",
              "3     georgeorwel librarian' note: there is an alter...\n",
              "4     antoinedesaint-exupéri a pilot strand in the d...\n",
              "...                                                 ...\n",
              "3344  theodoretaylor phillip is excit when the germa...\n",
              "3345  andreahirata begitu banyak hal menakjubkan yan...\n",
              "3346  w.somersetmaugham base on the life of paul gau...\n",
              "3348  hollyblack thi is a previous publish cover edi...\n",
              "3351  r.a.salvator drow ranger drizzt do'urden, firs...\n",
              "\n",
              "[2083 rows x 1 columns]"
            ]
          },
          "execution_count": 38,
          "metadata": {},
          "output_type": "execute_result"
        }
      ],
      "source": [
        "# assign the independent features (text) to X variable and the target to y\n",
        "X = pd.DataFrame(df['Tags'])\n",
        "X"
      ]
    },
    {
      "cell_type": "code",
      "execution_count": null,
      "id": "6d3e5c59",
      "metadata": {
        "id": "6d3e5c59",
        "outputId": "cbeb0005-66ca-4e39-932f-57c77d30229e"
      },
      "outputs": [
        {
          "data": {
            "text/plain": [
              "0       0\n",
              "1       0\n",
              "2       5\n",
              "3       0\n",
              "4       0\n",
              "       ..\n",
              "3344    2\n",
              "3345    2\n",
              "3346    2\n",
              "3348    1\n",
              "3351    1\n",
              "Name: Genre_le, Length: 2083, dtype: int32"
            ]
          },
          "execution_count": 39,
          "metadata": {},
          "output_type": "execute_result"
        }
      ],
      "source": [
        "y = df['Genre_le']\n",
        "y"
      ]
    },
    {
      "cell_type": "code",
      "execution_count": null,
      "id": "dbe41af1",
      "metadata": {
        "id": "dbe41af1",
        "outputId": "a3a72fd4-befb-4fd0-b17e-b918def45605"
      },
      "outputs": [
        {
          "data": {
            "text/plain": [
              "2    598\n",
              "5    391\n",
              "1    324\n",
              "0    302\n",
              "6    182\n",
              "3    159\n",
              "4    127\n",
              "Name: Genre_le, dtype: int64"
            ]
          },
          "execution_count": 40,
          "metadata": {},
          "output_type": "execute_result"
        }
      ],
      "source": [
        "y.value_counts()"
      ]
    },
    {
      "cell_type": "markdown",
      "id": "8292612e",
      "metadata": {
        "id": "8292612e"
      },
      "source": [
        "### Balancing The Data"
      ]
    },
    {
      "cell_type": "code",
      "execution_count": null,
      "id": "a540269c",
      "metadata": {
        "id": "a540269c"
      },
      "outputs": [],
      "source": [
        "from imblearn.over_sampling import RandomOverSampler\n",
        "from imblearn.under_sampling import RandomUnderSampler"
      ]
    },
    {
      "cell_type": "code",
      "execution_count": null,
      "id": "3c286b7c",
      "metadata": {
        "id": "3c286b7c"
      },
      "outputs": [],
      "source": [
        "#performing oversampling on all genres except genre class  2\n",
        "strategy = {0:400, 1:400, 2:598, 3:400, 4:400, 5:400,6:400}\n",
        "os = RandomOverSampler(sampling_strategy = strategy)"
      ]
    },
    {
      "cell_type": "code",
      "execution_count": null,
      "id": "902cae90",
      "metadata": {
        "id": "902cae90"
      },
      "outputs": [],
      "source": [
        "X1, y1 = os.fit_resample(X,y)"
      ]
    },
    {
      "cell_type": "code",
      "execution_count": null,
      "id": "21adc924",
      "metadata": {
        "id": "21adc924",
        "outputId": "be43463a-b6f2-48c0-a52c-5272cb313048"
      },
      "outputs": [
        {
          "name": "stdout",
          "output_type": "stream",
          "text": [
            "Counter({2: 598, 5: 391, 1: 324, 0: 302, 6: 182, 3: 159, 4: 127})\n"
          ]
        }
      ],
      "source": [
        "from collections import Counter\n",
        "print (Counter(y))"
      ]
    },
    {
      "cell_type": "code",
      "execution_count": null,
      "id": "96ff70d2",
      "metadata": {
        "id": "96ff70d2",
        "outputId": "c9580590-7a12-4881-b406-6afca84884e2"
      },
      "outputs": [
        {
          "name": "stdout",
          "output_type": "stream",
          "text": [
            "Counter({2: 598, 0: 400, 5: 400, 3: 400, 1: 400, 6: 400, 4: 400})\n"
          ]
        }
      ],
      "source": [
        "print(Counter(y1))"
      ]
    },
    {
      "cell_type": "code",
      "execution_count": null,
      "id": "709e4bd9",
      "metadata": {
        "id": "709e4bd9"
      },
      "outputs": [],
      "source": [
        "#performing undersampling on class 2\n",
        "strategy = {0:400, 1:400, 2:400, 3:400, 4:400,5:400,6:400}\n",
        "us = RandomUnderSampler(sampling_strategy = strategy)"
      ]
    },
    {
      "cell_type": "code",
      "execution_count": null,
      "id": "7f02eadd",
      "metadata": {
        "id": "7f02eadd"
      },
      "outputs": [],
      "source": [
        "X_new, y_new = us.fit_resample(X1,y1)"
      ]
    },
    {
      "cell_type": "code",
      "execution_count": null,
      "id": "8a112001",
      "metadata": {
        "id": "8a112001",
        "outputId": "0b896de8-462a-4d14-d3a8-c6a5009ef001"
      },
      "outputs": [
        {
          "name": "stdout",
          "output_type": "stream",
          "text": [
            "Counter({0: 400, 1: 400, 2: 400, 3: 400, 4: 400, 5: 400, 6: 400})\n"
          ]
        }
      ],
      "source": [
        "print(Counter(y_new))"
      ]
    },
    {
      "cell_type": "code",
      "execution_count": null,
      "id": "9b58f344",
      "metadata": {
        "id": "9b58f344",
        "outputId": "41fc295e-f2e1-4d95-fbf6-b4beb7b9c514"
      },
      "outputs": [
        {
          "data": {
            "text/plain": [
              "<AxesSubplot:>"
            ]
          },
          "execution_count": 49,
          "metadata": {},
          "output_type": "execute_result"
        },
        {
          "data": {
            "image/png": "[encoded data removed]",
            "text/plain": [
              "<Figure size 432x288 with 1 Axes>"
            ]
          },
          "metadata": {
            "needs_background": "light"
          },
          "output_type": "display_data"
        }
      ],
      "source": [
        "y_new.value_counts().plot(x='y_new',y = 'count',kind = 'bar')"
      ]
    },
    {
      "cell_type": "code",
      "execution_count": null,
      "id": "8739dc80",
      "metadata": {
        "id": "8739dc80",
        "outputId": "4b509190-c3f8-4875-9589-dc0a2456a9f5"
      },
      "outputs": [
        {
          "data": {
            "text/plain": [
              "(2800,)"
            ]
          },
          "execution_count": 50,
          "metadata": {},
          "output_type": "execute_result"
        }
      ],
      "source": [
        "y_new.shape"
      ]
    },
    {
      "cell_type": "markdown",
      "id": "097a2e86",
      "metadata": {
        "id": "097a2e86"
      },
      "source": [
        "### Split the dataset into Training and Testing Datasets"
      ]
    },
    {
      "cell_type": "code",
      "execution_count": null,
      "id": "0b766b8d",
      "metadata": {
        "id": "0b766b8d",
        "outputId": "b5bfcebf-39e3-499d-9ef3-0945bc04b688"
      },
      "outputs": [
        {
          "name": "stdout",
          "output_type": "stream",
          "text": [
            "Shape of training data: (2240, 1)\n",
            "Shape of testing data: (560, 1)\n"
          ]
        }
      ],
      "source": [
        "#split data into training 80% and test 20%\n",
        "from sklearn.model_selection import train_test_split\n",
        "X_train, X_test, y_train, y_test = train_test_split(X_new, y_new, test_size=0.20)\n",
        "\n",
        "print('Shape of training data:',(X_train.shape))\n",
        "print('Shape of testing data:',(X_test.shape))"
      ]
    },
    {
      "cell_type": "code",
      "execution_count": null,
      "id": "04b8cafd",
      "metadata": {
        "id": "04b8cafd",
        "outputId": "aba758b6-cde2-4b74-ea63-a3d99686d3f4"
      },
      "outputs": [
        {
          "data": {
            "text/html": [
              "<div>\n",
              "<style scoped>\n",
              "    .dataframe tbody tr th:only-of-type {\n",
              "        vertical-align: middle;\n",
              "    }\n",
              "\n",
              "    .dataframe tbody tr th {\n",
              "        vertical-align: top;\n",
              "    }\n",
              "\n",
              "    .dataframe thead th {\n",
              "        text-align: right;\n",
              "    }\n",
              "</style>\n",
              "<table border=\"1\" class=\"dataframe\">\n",
              "  <thead>\n",
              "    <tr style=\"text-align: right;\">\n",
              "      <th></th>\n",
              "      <th>Tags</th>\n",
              "    </tr>\n",
              "  </thead>\n",
              "  <tbody>\n",
              "    <tr>\n",
              "      <th>2304</th>\n",
              "      <td>sophiaamoruso được ca ngợi như một “hiện tượng...</td>\n",
              "    </tr>\n",
              "    <tr>\n",
              "      <th>1222</th>\n",
              "      <td>marthahallkelli inspir by the life of a real w...</td>\n",
              "    </tr>\n",
              "    <tr>\n",
              "      <th>2056</th>\n",
              "      <td>kurtvonnegutjr. in a volum that is penetrating...</td>\n",
              "    </tr>\n",
              "    <tr>\n",
              "      <th>2463</th>\n",
              "      <td>patrick three armi march on new prentisstown, ...</td>\n",
              "    </tr>\n",
              "    <tr>\n",
              "      <th>2348</th>\n",
              "      <td>maryroach in bonk, the best-sel author of stif...</td>\n",
              "    </tr>\n",
              "  </tbody>\n",
              "</table>\n",
              "</div>"
            ],
            "text/plain": [
              "                                                   Tags\n",
              "2304  sophiaamoruso được ca ngợi như một “hiện tượng...\n",
              "1222  marthahallkelli inspir by the life of a real w...\n",
              "2056  kurtvonnegutjr. in a volum that is penetrating...\n",
              "2463  patrick three armi march on new prentisstown, ...\n",
              "2348  maryroach in bonk, the best-sel author of stif..."
            ]
          },
          "execution_count": 52,
          "metadata": {},
          "output_type": "execute_result"
        }
      ],
      "source": [
        "X_train.head()"
      ]
    },
    {
      "cell_type": "code",
      "execution_count": null,
      "id": "00e4b5d1",
      "metadata": {
        "id": "00e4b5d1",
        "outputId": "eaadad93-fde4-447f-b73f-d5f66456d498"
      },
      "outputs": [
        {
          "data": {
            "text/plain": [
              "2304    sophiaamoruso được ca ngợi như một “hiện tượng...\n",
              "1222    marthahallkelli inspir by the life of a real w...\n",
              "2056    kurtvonnegutjr. in a volum that is penetrating...\n",
              "2463    patrick three armi march on new prentisstown, ...\n",
              "2348    maryroach in bonk, the best-sel author of stif...\n",
              "Name: Tags, dtype: object"
            ]
          },
          "execution_count": 53,
          "metadata": {},
          "output_type": "execute_result"
        }
      ],
      "source": [
        "x_train = X_train.iloc[:,0]\n",
        "x_train.head()"
      ]
    },
    {
      "cell_type": "markdown",
      "id": "e2a3247f",
      "metadata": {
        "id": "e2a3247f"
      },
      "source": [
        "### CountVectorizer - Feature Extraction"
      ]
    },
    {
      "cell_type": "code",
      "execution_count": null,
      "id": "f47daad0",
      "metadata": {
        "id": "f47daad0"
      },
      "outputs": [],
      "source": [
        "from sklearn.feature_extraction.text import CountVectorizer\n",
        "cv = CountVectorizer(max_features = 10000)"
      ]
    },
    {
      "cell_type": "code",
      "execution_count": null,
      "id": "58942a03",
      "metadata": {
        "id": "58942a03",
        "outputId": "090f0350-a7a2-43b6-bd37-e8880a76760e"
      },
      "outputs": [
        {
          "data": {
            "text/plain": [
              "array([[0, 0, 0, ..., 0, 0, 0],\n",
              "       [0, 0, 0, ..., 0, 0, 0],\n",
              "       [0, 0, 0, ..., 0, 0, 0],\n",
              "       ...,\n",
              "       [0, 0, 0, ..., 0, 0, 0],\n",
              "       [0, 0, 0, ..., 0, 0, 0],\n",
              "       [0, 0, 0, ..., 0, 0, 0]], dtype=int64)"
            ]
          },
          "execution_count": 55,
          "metadata": {},
          "output_type": "execute_result"
        }
      ],
      "source": [
        "x = cv.fit_transform(x_train).toarray()\n",
        "x"
      ]
    },
    {
      "cell_type": "code",
      "execution_count": null,
      "id": "618c504f",
      "metadata": {
        "id": "618c504f",
        "outputId": "7110ef17-ea8f-4de1-a944-ca3e46954486"
      },
      "outputs": [
        {
          "data": {
            "text/plain": [
              "128     williamshakespear tempest two gentlemen of ver...\n",
              "2739    toddstrass the wave is base on a true incid th...\n",
              "2339    robertfulghum robert fulghum engag with muse o...\n",
              "97      georgeorwel thi edit featur georg orwell’ best...\n",
              "1396    ammarhabib usa today bestselleravail in paperb...\n",
              "Name: Tags, dtype: object"
            ]
          },
          "execution_count": 56,
          "metadata": {},
          "output_type": "execute_result"
        }
      ],
      "source": [
        "x_test = X_test.iloc[:,0]\n",
        "x_test.head()"
      ]
    },
    {
      "cell_type": "code",
      "execution_count": null,
      "id": "dc2dcdb1",
      "metadata": {
        "id": "dc2dcdb1",
        "outputId": "1fbded50-bb45-46ae-bf0c-a38bb2d48e5c"
      },
      "outputs": [
        {
          "data": {
            "text/plain": [
              "(560, 10000)"
            ]
          },
          "execution_count": 57,
          "metadata": {},
          "output_type": "execute_result"
        }
      ],
      "source": [
        "test_x = cv.transform(x_test).toarray()\n",
        "test_x.shape"
      ]
    },
    {
      "cell_type": "markdown",
      "id": "1fce661f",
      "metadata": {
        "id": "1fce661f"
      },
      "source": [
        "## Model Building"
      ]
    },
    {
      "cell_type": "markdown",
      "id": "8fd65f9a",
      "metadata": {
        "id": "8fd65f9a"
      },
      "source": [
        "### Logistic Regression"
      ]
    },
    {
      "cell_type": "code",
      "execution_count": null,
      "id": "bc73dd49",
      "metadata": {
        "id": "bc73dd49"
      },
      "outputs": [],
      "source": [
        "from sklearn.linear_model import LogisticRegression\n",
        "from sklearn.metrics import accuracy_score\n",
        "from sklearn.naive_bayes import MultinomialNB\n",
        "from sklearn.metrics import classification_report\n",
        "from sklearn.metrics import confusion_matrix"
      ]
    },
    {
      "cell_type": "code",
      "execution_count": null,
      "id": "1bbdb87c",
      "metadata": {
        "id": "1bbdb87c",
        "outputId": "a071296a-d6e4-47fb-8dd8-801293625047"
      },
      "outputs": [
        {
          "name": "stdout",
          "output_type": "stream",
          "text": [
            "Accuracy: 0.83\n",
            "Other Metrics:\n",
            "              precision    recall  f1-score   support\n",
            "\n",
            "           0       0.79      0.71      0.75        69\n",
            "           1       0.87      0.88      0.87        83\n",
            "           2       0.60      0.64      0.62        83\n",
            "           3       0.95      0.91      0.93        92\n",
            "           4       0.95      0.92      0.93        77\n",
            "           5       0.86      0.86      0.86        76\n",
            "           6       0.80      0.88      0.84        80\n",
            "\n",
            "    accuracy                           0.83       560\n",
            "   macro avg       0.83      0.83      0.83       560\n",
            "weighted avg       0.83      0.83      0.83       560\n",
            "\n"
          ]
        }
      ],
      "source": [
        "clf1= MultinomialNB()\n",
        "clf1.fit(x, y_train)\n",
        "y_pred = clf1.predict(test_x)\n",
        "accuracy = accuracy_score(y_test, y_pred)\n",
        "\n",
        "print(\"Accuracy:\",  round(accuracy,2))\n",
        "\n",
        "print(\"Other Metrics:\")\n",
        "print(classification_report(y_test, y_pred))"
      ]
    },
    {
      "cell_type": "code",
      "execution_count": null,
      "id": "e6615eec",
      "metadata": {
        "id": "e6615eec",
        "outputId": "ff796f88-fcce-4122-c173-63d3e1b8ab58"
      },
      "outputs": [
        {
          "name": "stdout",
          "output_type": "stream",
          "text": [
            "[[49  2 15  0  0  2  1]\n",
            " [ 2 73  2  1  0  0  5]\n",
            " [ 9  3 53  3  3  7  5]\n",
            " [ 0  0  4 84  0  0  4]\n",
            " [ 0  1  1  0 71  2  2]\n",
            " [ 2  0  9  0  0 65  0]\n",
            " [ 0  5  4  0  1  0 70]]\n"
          ]
        }
      ],
      "source": [
        "print(confusion_matrix(y_test, y_pred))"
      ]
    },
    {
      "cell_type": "code",
      "execution_count": null,
      "id": "6ad6a6f0",
      "metadata": {
        "id": "6ad6a6f0",
        "outputId": "1b590ee7-9d64-4a72-fb0a-a45be2e160e1"
      },
      "outputs": [
        {
          "name": "stdout",
          "output_type": "stream",
          "text": [
            "Accuracy: 0.99\n",
            "Other Metrics:\n",
            "              precision    recall  f1-score   support\n",
            "\n",
            "           0       1.00      0.94      0.97        69\n",
            "           1       1.00      1.00      1.00        83\n",
            "           2       0.99      1.00      0.99        83\n",
            "           3       0.98      0.99      0.98        92\n",
            "           4       1.00      1.00      1.00        77\n",
            "           5       1.00      1.00      1.00        76\n",
            "           6       0.98      1.00      0.99        80\n",
            "\n",
            "    accuracy                           0.99       560\n",
            "   macro avg       0.99      0.99      0.99       560\n",
            "weighted avg       0.99      0.99      0.99       560\n",
            "\n",
            "[[65  0  1  2  0  0  1]\n",
            " [ 0 83  0  0  0  0  0]\n",
            " [ 0  0 83  0  0  0  0]\n",
            " [ 0  0  0 91  0  0  1]\n",
            " [ 0  0  0  0 77  0  0]\n",
            " [ 0  0  0  0  0 76  0]\n",
            " [ 0  0  0  0  0  0 80]]\n"
          ]
        }
      ],
      "source": [
        "model1= MultinomialNB()\n",
        "model1.fit(test_x, y_test)\n",
        "y_pred = model1.predict(test_x)\n",
        "accuracy = accuracy_score(y_test, y_pred)\n",
        "\n",
        "print(\"Accuracy:\",  round(accuracy,2))\n",
        "\n",
        "print(\"Other Metrics:\")\n",
        "print(classification_report(y_test, y_pred))\n",
        "print(confusion_matrix(y_test, y_pred))"
      ]
    },
    {
      "cell_type": "markdown",
      "id": "04e05a2c",
      "metadata": {
        "id": "04e05a2c"
      },
      "source": [
        "### Decision tree"
      ]
    },
    {
      "cell_type": "code",
      "execution_count": null,
      "id": "7409a8ac",
      "metadata": {
        "id": "7409a8ac"
      },
      "outputs": [],
      "source": [
        "from sklearn.tree import  DecisionTreeClassifier\n",
        "from sklearn import tree\n",
        "from sklearn.ensemble import RandomForestClassifier"
      ]
    },
    {
      "cell_type": "code",
      "execution_count": null,
      "id": "a89c4c4d",
      "metadata": {
        "id": "a89c4c4d",
        "outputId": "0a3b6a07-5af1-46ea-c8c6-477f064c9822"
      },
      "outputs": [
        {
          "name": "stdout",
          "output_type": "stream",
          "text": [
            "Accuracy: 0.68\n",
            "Other Metrics:\n",
            "              precision    recall  f1-score   support\n",
            "\n",
            "           0       0.55      0.64      0.59        69\n",
            "           1       0.66      0.69      0.67        83\n",
            "           2       0.42      0.31      0.36        83\n",
            "           3       0.85      0.85      0.85        92\n",
            "           4       0.90      0.94      0.92        77\n",
            "           5       0.62      0.38      0.47        76\n",
            "           6       0.65      0.91      0.76        80\n",
            "\n",
            "    accuracy                           0.68       560\n",
            "   macro avg       0.66      0.67      0.66       560\n",
            "weighted avg       0.67      0.68      0.66       560\n",
            "\n"
          ]
        }
      ],
      "source": [
        "clf2= DecisionTreeClassifier()\n",
        "clf2.fit(x, y_train)\n",
        "y_pred = clf2.predict(test_x)\n",
        "accuracy = accuracy_score(y_test, y_pred)\n",
        "\n",
        "print(\"Accuracy:\",  round(accuracy,2))\n",
        "\n",
        "print(\"Other Metrics:\")\n",
        "print(classification_report(y_test, y_pred))"
      ]
    },
    {
      "cell_type": "code",
      "execution_count": null,
      "id": "1fe4e2a1",
      "metadata": {
        "id": "1fe4e2a1",
        "outputId": "d8be3062-aa81-4235-e81e-f37dbba670bc"
      },
      "outputs": [
        {
          "name": "stdout",
          "output_type": "stream",
          "text": [
            "[[44  6  8  0  1  3  7]\n",
            " [ 5 57 10  1  1  0  9]\n",
            " [10 13 26  6  2 11 15]\n",
            " [ 5  3  2 78  0  3  1]\n",
            " [ 1  2  2  0 72  0  0]\n",
            " [14  6 10  7  3 29  7]\n",
            " [ 1  0  4  0  1  1 73]]\n"
          ]
        }
      ],
      "source": [
        "print(confusion_matrix(y_test, y_pred))"
      ]
    },
    {
      "cell_type": "code",
      "execution_count": null,
      "id": "4f43ff1d",
      "metadata": {
        "id": "4f43ff1d",
        "outputId": "67bbd539-8323-4996-a618-7084f7371282"
      },
      "outputs": [
        {
          "name": "stdout",
          "output_type": "stream",
          "text": [
            "Accuracy: 1.0\n",
            "Other Metrics:\n",
            "              precision    recall  f1-score   support\n",
            "\n",
            "           0       1.00      1.00      1.00        69\n",
            "           1       1.00      1.00      1.00        83\n",
            "           2       1.00      1.00      1.00        83\n",
            "           3       1.00      1.00      1.00        92\n",
            "           4       1.00      1.00      1.00        77\n",
            "           5       1.00      1.00      1.00        76\n",
            "           6       1.00      1.00      1.00        80\n",
            "\n",
            "    accuracy                           1.00       560\n",
            "   macro avg       1.00      1.00      1.00       560\n",
            "weighted avg       1.00      1.00      1.00       560\n",
            "\n",
            "[[69  0  0  0  0  0  0]\n",
            " [ 0 83  0  0  0  0  0]\n",
            " [ 0  0 83  0  0  0  0]\n",
            " [ 0  0  0 92  0  0  0]\n",
            " [ 0  0  0  0 77  0  0]\n",
            " [ 0  0  0  0  0 76  0]\n",
            " [ 0  0  0  0  0  0 80]]\n"
          ]
        }
      ],
      "source": [
        "model2 = DecisionTreeClassifier()\n",
        "model2.fit(test_x, y_test)\n",
        "y_pred = model2.predict(test_x)\n",
        "accuracy = accuracy_score(y_test, y_pred)\n",
        "\n",
        "print(\"Accuracy:\",  round(accuracy,2))\n",
        "\n",
        "print(\"Other Metrics:\")\n",
        "print(classification_report(y_test, y_pred))\n",
        "print(confusion_matrix(y_test, y_pred))"
      ]
    },
    {
      "cell_type": "markdown",
      "id": "a80feba0",
      "metadata": {
        "id": "a80feba0"
      },
      "source": [
        "### RandomForest"
      ]
    },
    {
      "cell_type": "code",
      "execution_count": null,
      "id": "d3626ea4",
      "metadata": {
        "id": "d3626ea4",
        "outputId": "f2a57251-0f53-4a3a-c5ae-bab1d355e905"
      },
      "outputs": [
        {
          "name": "stdout",
          "output_type": "stream",
          "text": [
            "Accuracy: 0.54\n",
            "Other Metrics:\n",
            "              precision    recall  f1-score   support\n",
            "\n",
            "           0       0.34      0.86      0.48        69\n",
            "           1       0.70      0.39      0.50        83\n",
            "           2       0.50      0.07      0.13        83\n",
            "           3       0.82      0.35      0.49        92\n",
            "           4       0.62      0.91      0.74        77\n",
            "           5       0.60      0.67      0.63        76\n",
            "           6       0.62      0.69      0.65        80\n",
            "\n",
            "    accuracy                           0.54       560\n",
            "   macro avg       0.60      0.56      0.52       560\n",
            "weighted avg       0.61      0.54      0.51       560\n",
            "\n"
          ]
        }
      ],
      "source": [
        "clf3= RandomForestClassifier(max_depth=2, random_state=0)\n",
        "clf3.fit(x, y_train)\n",
        "y_pred = clf3.predict(test_x)\n",
        "accuracy = accuracy_score(y_test, y_pred)\n",
        "\n",
        "print(\"Accuracy:\",  round(accuracy,2))\n",
        "\n",
        "print(\"Other Metrics:\")\n",
        "print(classification_report(y_test, y_pred))"
      ]
    },
    {
      "cell_type": "code",
      "execution_count": null,
      "id": "804f624a",
      "metadata": {
        "id": "804f624a",
        "outputId": "d57b2c56-162d-44ef-986f-49bd6b695d4e"
      },
      "outputs": [
        {
          "name": "stdout",
          "output_type": "stream",
          "text": [
            "[[59  0  0  2  3  2  3]\n",
            " [19 32  0  4  8  9 11]\n",
            " [37  5  6  0 14 12  9]\n",
            " [27  6  5 32  9  8  5]\n",
            " [ 4  0  0  0 70  0  3]\n",
            " [17  1  0  1  3 51  3]\n",
            " [13  2  1  0  6  3 55]]\n"
          ]
        }
      ],
      "source": [
        "print(confusion_matrix(y_test, y_pred))"
      ]
    },
    {
      "cell_type": "code",
      "execution_count": null,
      "id": "ff067c2c",
      "metadata": {
        "id": "ff067c2c",
        "outputId": "11e657f7-afa0-45e0-9245-f544e8ba9277"
      },
      "outputs": [
        {
          "name": "stdout",
          "output_type": "stream",
          "text": [
            "Accuracy: 0.48\n",
            "Other Metrics:\n",
            "              precision    recall  f1-score   support\n",
            "\n",
            "           0       1.00      0.10      0.18        69\n",
            "           1       0.77      0.59      0.67        83\n",
            "           2       0.85      0.13      0.23        83\n",
            "           3       0.26      0.99      0.41        92\n",
            "           4       0.90      0.70      0.79        77\n",
            "           5       0.96      0.36      0.52        76\n",
            "           6       0.94      0.39      0.55        80\n",
            "\n",
            "    accuracy                           0.48       560\n",
            "   macro avg       0.81      0.47      0.48       560\n",
            "weighted avg       0.79      0.48      0.48       560\n",
            "\n",
            "[[ 7  1  0 61  0  0  0]\n",
            " [ 0 49  0 30  2  0  2]\n",
            " [ 0  4 11 66  1  1  0]\n",
            " [ 0  1  0 91  0  0  0]\n",
            " [ 0  1  0 22 54  0  0]\n",
            " [ 0  4  1 44  0 27  0]\n",
            " [ 0  4  1 41  3  0 31]]\n"
          ]
        }
      ],
      "source": [
        "model3 = RandomForestClassifier(max_depth=2, random_state=0)\n",
        "model3.fit(test_x, y_test)\n",
        "y_pred = model3.predict(test_x)\n",
        "accuracy = accuracy_score(y_test, y_pred)\n",
        "\n",
        "print(\"Accuracy:\",  round(accuracy,2))\n",
        "\n",
        "print(\"Other Metrics:\")\n",
        "print(classification_report(y_test, y_pred))\n",
        "print(confusion_matrix(y_test, y_pred))"
      ]
    },
    {
      "cell_type": "markdown",
      "id": "d1579aa9",
      "metadata": {
        "id": "d1579aa9"
      },
      "source": [
        "### KNN"
      ]
    },
    {
      "cell_type": "code",
      "execution_count": null,
      "id": "062517df",
      "metadata": {
        "id": "062517df"
      },
      "outputs": [],
      "source": [
        "from sklearn.neighbors import KNeighborsClassifier"
      ]
    },
    {
      "cell_type": "code",
      "execution_count": null,
      "id": "504006e1",
      "metadata": {
        "id": "504006e1",
        "outputId": "3ac65f98-439b-463b-dac7-bcca7f7e4d49"
      },
      "outputs": [
        {
          "name": "stdout",
          "output_type": "stream",
          "text": [
            "Accuracy: 0.39\n",
            "Other Metrics:\n",
            "              precision    recall  f1-score   support\n",
            "\n",
            "           0       0.21      0.90      0.34        69\n",
            "           1       0.42      0.34      0.38        83\n",
            "           2       0.28      0.16      0.20        83\n",
            "           3       0.59      0.41      0.49        92\n",
            "           4       0.93      0.52      0.67        77\n",
            "           5       0.93      0.17      0.29        76\n",
            "           6       0.71      0.31      0.43        80\n",
            "\n",
            "    accuracy                           0.39       560\n",
            "   macro avg       0.58      0.40      0.40       560\n",
            "weighted avg       0.58      0.39      0.40       560\n",
            "\n"
          ]
        }
      ],
      "source": [
        "clf4= KNeighborsClassifier(n_neighbors=5, metric='euclidean')\n",
        "clf4.fit(x, y_train)\n",
        "y_pred = clf4.predict(test_x)\n",
        "accuracy = accuracy_score(y_test, y_pred)\n",
        "\n",
        "print(\"Accuracy:\",  round(accuracy,2))\n",
        "\n",
        "print(\"Other Metrics:\")\n",
        "print(classification_report(y_test, y_pred))"
      ]
    },
    {
      "cell_type": "code",
      "execution_count": null,
      "id": "48779428",
      "metadata": {
        "id": "48779428",
        "outputId": "e9b65488-7126-4cad-bf49-491f276a26ab"
      },
      "outputs": [
        {
          "name": "stdout",
          "output_type": "stream",
          "text": [
            "[[62  4  2  1  0  0  0]\n",
            " [40 28  3  6  1  1  4]\n",
            " [53  7 13  7  0  0  3]\n",
            " [32 11  9 38  1  0  1]\n",
            " [26  5  2  3 40  0  1]\n",
            " [34  7 15  6  0 13  1]\n",
            " [44  4  3  3  1  0 25]]\n"
          ]
        }
      ],
      "source": [
        "print(confusion_matrix(y_test, y_pred))"
      ]
    },
    {
      "cell_type": "code",
      "execution_count": null,
      "id": "c2a8f1c3",
      "metadata": {
        "id": "c2a8f1c3",
        "outputId": "d1eb7765-17bd-4c8b-c022-c35b3dcc37ae"
      },
      "outputs": [
        {
          "name": "stdout",
          "output_type": "stream",
          "text": [
            "Accuracy: 0.45\n",
            "Other Metrics:\n",
            "              precision    recall  f1-score   support\n",
            "\n",
            "           0       0.32      0.77      0.45        69\n",
            "           1       0.36      0.66      0.47        83\n",
            "           2       0.38      0.34      0.36        83\n",
            "           3       0.57      0.38      0.46        92\n",
            "           4       0.67      0.49      0.57        77\n",
            "           5       0.74      0.30      0.43        76\n",
            "           6       0.90      0.24      0.38        80\n",
            "\n",
            "    accuracy                           0.45       560\n",
            "   macro avg       0.56      0.45      0.44       560\n",
            "weighted avg       0.57      0.45      0.44       560\n",
            "\n",
            "[[53  7  3  5  1  0  0]\n",
            " [13 55  7  3  1  3  1]\n",
            " [20 25 28  8  1  0  1]\n",
            " [24 11 15 35  4  3  0]\n",
            " [15 15  6  3 38  0  0]\n",
            " [15 15 13  6  4 23  0]\n",
            " [24 25  1  1  8  2 19]]\n"
          ]
        }
      ],
      "source": [
        "model4 = KNeighborsClassifier(n_neighbors=5, metric='euclidean')\n",
        "model4.fit(test_x, y_test)\n",
        "y_pred = model4.predict(test_x)\n",
        "accuracy = accuracy_score(y_test, y_pred)\n",
        "\n",
        "print(\"Accuracy:\",  round(accuracy,2))\n",
        "\n",
        "print(\"Other Metrics:\")\n",
        "print(classification_report(y_test, y_pred))\n",
        "print(confusion_matrix(y_test, y_pred))"
      ]
    },
    {
      "cell_type": "markdown",
      "id": "d6bee361",
      "metadata": {
        "id": "d6bee361"
      },
      "source": [
        "### Logistic Regresion"
      ]
    },
    {
      "cell_type": "code",
      "execution_count": null,
      "id": "e89ae2db",
      "metadata": {
        "id": "e89ae2db"
      },
      "outputs": [],
      "source": [
        "from sklearn.linear_model import LogisticRegression"
      ]
    },
    {
      "cell_type": "code",
      "execution_count": null,
      "id": "ce2f9e5e",
      "metadata": {
        "id": "ce2f9e5e",
        "outputId": "6d5e599c-1c58-48e5-9477-ad2624649377"
      },
      "outputs": [
        {
          "name": "stdout",
          "output_type": "stream",
          "text": [
            "Accuracy: 0.81\n",
            "Other Metrics:\n",
            "              precision    recall  f1-score   support\n",
            "\n",
            "           0       0.70      0.83      0.76        69\n",
            "           1       0.76      0.87      0.81        83\n",
            "           2       0.71      0.43      0.54        83\n",
            "           3       0.86      0.90      0.88        92\n",
            "           4       0.96      0.95      0.95        77\n",
            "           5       0.81      0.82      0.81        76\n",
            "           6       0.85      0.89      0.87        80\n",
            "\n",
            "    accuracy                           0.81       560\n",
            "   macro avg       0.81      0.81      0.80       560\n",
            "weighted avg       0.81      0.81      0.80       560\n",
            "\n"
          ]
        }
      ],
      "source": [
        "clf5 = LogisticRegression(max_iter=2000)\n",
        "clf5.fit(x, y_train)\n",
        "y_pred = clf5.predict(test_x)\n",
        "accuracy = accuracy_score(y_test, y_pred)\n",
        "\n",
        "print(\"Accuracy:\",  round(accuracy,2))\n",
        "\n",
        "print(\"Other Metrics:\")\n",
        "print(classification_report(y_test, y_pred))"
      ]
    },
    {
      "cell_type": "code",
      "execution_count": null,
      "id": "ec8d14fa",
      "metadata": {
        "id": "ec8d14fa",
        "outputId": "ab0e3340-932c-458a-cca5-0789be1c60a6"
      },
      "outputs": [
        {
          "name": "stdout",
          "output_type": "stream",
          "text": [
            "[[57  2  4  3  0  3  0]\n",
            " [ 2 72  3  1  0  1  4]\n",
            " [11  8 36  8  2 10  8]\n",
            " [ 2  5  2 83  0  0  0]\n",
            " [ 1  3  0  0 73  0  0]\n",
            " [ 6  1  6  0  0 62  1]\n",
            " [ 2  4  0  1  1  1 71]]\n"
          ]
        }
      ],
      "source": [
        "print(confusion_matrix(y_test, y_pred))"
      ]
    },
    {
      "cell_type": "code",
      "execution_count": null,
      "id": "07f18672",
      "metadata": {
        "id": "07f18672",
        "outputId": "e96c37e4-faf4-4438-fcdc-f589114c5c4d"
      },
      "outputs": [
        {
          "name": "stdout",
          "output_type": "stream",
          "text": [
            "Accuracy: 1.0\n",
            "Other Metrics:\n",
            "              precision    recall  f1-score   support\n",
            "\n",
            "           0       1.00      1.00      1.00        69\n",
            "           1       1.00      1.00      1.00        83\n",
            "           2       1.00      1.00      1.00        83\n",
            "           3       1.00      1.00      1.00        92\n",
            "           4       1.00      1.00      1.00        77\n",
            "           5       1.00      1.00      1.00        76\n",
            "           6       1.00      1.00      1.00        80\n",
            "\n",
            "    accuracy                           1.00       560\n",
            "   macro avg       1.00      1.00      1.00       560\n",
            "weighted avg       1.00      1.00      1.00       560\n",
            "\n",
            "[[69  0  0  0  0  0  0]\n",
            " [ 0 83  0  0  0  0  0]\n",
            " [ 0  0 83  0  0  0  0]\n",
            " [ 0  0  0 92  0  0  0]\n",
            " [ 0  0  0  0 77  0  0]\n",
            " [ 0  0  0  0  0 76  0]\n",
            " [ 0  0  0  0  0  0 80]]\n"
          ]
        }
      ],
      "source": [
        "model5 = LogisticRegression(max_iter=2000)\n",
        "model5.fit(test_x, y_test)\n",
        "y_pred = model5.predict(test_x)\n",
        "accuracy = accuracy_score(y_test, y_pred)\n",
        "\n",
        "print(\"Accuracy:\",  round(accuracy,2))\n",
        "\n",
        "print(\"Other Metrics:\")\n",
        "print(classification_report(y_test, y_pred))\n",
        "print(confusion_matrix(y_test, y_pred))"
      ]
    },
    {
      "cell_type": "markdown",
      "id": "22b8a902",
      "metadata": {
        "id": "22b8a902"
      },
      "source": [
        "### SVM"
      ]
    },
    {
      "cell_type": "code",
      "execution_count": null,
      "id": "cb77c127",
      "metadata": {
        "id": "cb77c127"
      },
      "outputs": [],
      "source": [
        "from sklearn import svm\n",
        "from sklearn.svm import SVC"
      ]
    },
    {
      "cell_type": "code",
      "execution_count": null,
      "id": "e7d05cbc",
      "metadata": {
        "id": "e7d05cbc",
        "outputId": "fe3c1878-f5a4-4486-8f88-2c1b14cdd070"
      },
      "outputs": [
        {
          "name": "stdout",
          "output_type": "stream",
          "text": [
            "Accuracy: 0.73\n",
            "Other Metrics:\n",
            "              precision    recall  f1-score   support\n",
            "\n",
            "           0       0.52      0.86      0.65        69\n",
            "           1       0.78      0.65      0.71        83\n",
            "           2       0.54      0.43      0.48        83\n",
            "           3       0.86      0.76      0.81        92\n",
            "           4       0.97      0.90      0.93        77\n",
            "           5       0.83      0.70      0.76        76\n",
            "           6       0.74      0.88      0.80        80\n",
            "\n",
            "    accuracy                           0.73       560\n",
            "   macro avg       0.75      0.74      0.73       560\n",
            "weighted avg       0.75      0.73      0.73       560\n",
            "\n"
          ]
        }
      ],
      "source": [
        "clf6= SVC()\n",
        "clf6.fit(x, y_train)\n",
        "y_pred = clf6.predict(test_x)\n",
        "accuracy = accuracy_score(y_test, y_pred)\n",
        "\n",
        "print(\"Accuracy:\",  round(accuracy,2))\n",
        "\n",
        "print(\"Other Metrics:\")\n",
        "print(classification_report(y_test, y_pred))"
      ]
    },
    {
      "cell_type": "code",
      "execution_count": null,
      "id": "2ad1353d",
      "metadata": {
        "id": "2ad1353d",
        "outputId": "8778b2be-23ee-484c-9e49-2b6c7d438fdf"
      },
      "outputs": [
        {
          "name": "stdout",
          "output_type": "stream",
          "text": [
            "[[59  1  3  1  0  3  2]\n",
            " [ 9 54  7  2  0  2  9]\n",
            " [19  7 36  7  0  4 10]\n",
            " [ 6  4  8 70  0  1  3]\n",
            " [ 7  0  1  0 69  0  0]\n",
            " [10  1 11  0  0 53  1]\n",
            " [ 3  2  1  1  2  1 70]]\n"
          ]
        }
      ],
      "source": [
        "print(confusion_matrix(y_test, y_pred))"
      ]
    },
    {
      "cell_type": "code",
      "execution_count": null,
      "id": "cc8a5cca",
      "metadata": {
        "id": "cc8a5cca",
        "outputId": "3a9d195c-b094-4cb9-fd1f-af22f5704c37"
      },
      "outputs": [
        {
          "name": "stdout",
          "output_type": "stream",
          "text": [
            "Accuracy: 0.85\n",
            "Other Metrics:\n",
            "              precision    recall  f1-score   support\n",
            "\n",
            "           0       0.66      0.88      0.76        69\n",
            "           1       0.92      0.78      0.84        83\n",
            "           2       0.84      0.81      0.82        83\n",
            "           3       0.87      0.87      0.87        92\n",
            "           4       0.99      0.88      0.93        77\n",
            "           5       0.97      0.83      0.89        76\n",
            "           6       0.81      0.93      0.87        80\n",
            "\n",
            "    accuracy                           0.85       560\n",
            "   macro avg       0.86      0.85      0.85       560\n",
            "weighted avg       0.87      0.85      0.86       560\n",
            "\n",
            "[[61  2  2  1  0  0  3]\n",
            " [ 9 65  2  2  1  1  3]\n",
            " [ 3  2 67  6  0  0  5]\n",
            " [ 6  0  1 80  0  0  5]\n",
            " [ 4  0  3  0 68  1  1]\n",
            " [ 7  0  3  3  0 63  0]\n",
            " [ 2  2  2  0  0  0 74]]\n"
          ]
        }
      ],
      "source": [
        "model6 = SVC()\n",
        "model6.fit(test_x, y_test)\n",
        "y_pred = model6.predict(test_x)\n",
        "accuracy = accuracy_score(y_test, y_pred)\n",
        "\n",
        "print(\"Accuracy:\",  round(accuracy,2))\n",
        "\n",
        "print(\"Other Metrics:\")\n",
        "print(classification_report(y_test, y_pred))\n",
        "print(confusion_matrix(y_test, y_pred))"
      ]
    },
    {
      "cell_type": "markdown",
      "id": "a2debe13",
      "metadata": {
        "id": "a2debe13"
      },
      "source": [
        "### SGD Classifier"
      ]
    },
    {
      "cell_type": "code",
      "execution_count": null,
      "id": "72b80dfb",
      "metadata": {
        "id": "72b80dfb"
      },
      "outputs": [],
      "source": [
        "from sklearn.linear_model import SGDClassifier"
      ]
    },
    {
      "cell_type": "code",
      "execution_count": null,
      "id": "359b68e4",
      "metadata": {
        "id": "359b68e4",
        "outputId": "bdf74b46-56f7-40a0-910e-5c2b056fb3ba"
      },
      "outputs": [
        {
          "name": "stdout",
          "output_type": "stream",
          "text": [
            "Accuracy: 0.74\n",
            "Other Metrics:\n",
            "              precision    recall  f1-score   support\n",
            "\n",
            "           0       0.67      0.75      0.71        69\n",
            "           1       0.59      0.90      0.71        83\n",
            "           2       0.75      0.04      0.07        83\n",
            "           3       0.75      0.90      0.82        92\n",
            "           4       0.88      0.92      0.90        77\n",
            "           5       0.84      0.75      0.79        76\n",
            "           6       0.78      0.89      0.83        80\n",
            "\n",
            "    accuracy                           0.74       560\n",
            "   macro avg       0.75      0.74      0.69       560\n",
            "weighted avg       0.75      0.74      0.69       560\n",
            "\n"
          ]
        }
      ],
      "source": [
        "clf7= SGDClassifier(early_stopping= True)\n",
        "clf7.fit(x, y_train)\n",
        "y_pred = clf7.predict(test_x)\n",
        "accuracy = accuracy_score(y_test, y_pred)\n",
        "\n",
        "print(\"Accuracy:\",  round(accuracy,2))\n",
        "\n",
        "print(\"Other Metrics:\")\n",
        "print(classification_report(y_test, y_pred))"
      ]
    },
    {
      "cell_type": "code",
      "execution_count": null,
      "id": "b99a5234",
      "metadata": {
        "id": "b99a5234",
        "outputId": "bdac0156-3a9b-4f71-c767-c930636c11c1"
      },
      "outputs": [
        {
          "name": "stdout",
          "output_type": "stream",
          "text": [
            "[[52  8  0  5  1  3  0]\n",
            " [ 0 75  0  0  1  1  6]\n",
            " [17 22  3 18  6  7 10]\n",
            " [ 2  4  0 83  1  0  2]\n",
            " [ 0  6  0  0 71  0  0]\n",
            " [ 5  8  1  3  0 57  2]\n",
            " [ 2  5  0  1  1  0 71]]\n"
          ]
        }
      ],
      "source": [
        "print(confusion_matrix(y_test, y_pred))"
      ]
    },
    {
      "cell_type": "code",
      "execution_count": null,
      "id": "b4243e16",
      "metadata": {
        "id": "b4243e16",
        "outputId": "cdfc4027-7328-41b9-fb67-439ee4bd1bfe"
      },
      "outputs": [
        {
          "name": "stdout",
          "output_type": "stream",
          "text": [
            "Accuracy: 0.91\n",
            "Other Metrics:\n",
            "              precision    recall  f1-score   support\n",
            "\n",
            "           0       0.89      0.94      0.92        69\n",
            "           1       0.76      0.98      0.86        83\n",
            "           2       0.95      0.76      0.85        83\n",
            "           3       1.00      0.82      0.90        92\n",
            "           4       0.99      0.96      0.97        77\n",
            "           5       0.93      0.97      0.95        76\n",
            "           6       0.91      0.96      0.93        80\n",
            "\n",
            "    accuracy                           0.91       560\n",
            "   macro avg       0.92      0.91      0.91       560\n",
            "weighted avg       0.92      0.91      0.91       560\n",
            "\n",
            "[[65  1  0  0  0  2  1]\n",
            " [ 0 81  1  0  0  0  1]\n",
            " [ 6 12 63  0  0  1  1]\n",
            " [ 1  9  0 75  0  3  4]\n",
            " [ 0  1  1  0 74  0  1]\n",
            " [ 1  1  0  0  0 74  0]\n",
            " [ 0  1  1  0  1  0 77]]\n"
          ]
        }
      ],
      "source": [
        "model7 = SGDClassifier(early_stopping= True)\n",
        "model7.fit(test_x, y_test)\n",
        "y_pred = model7.predict(test_x)\n",
        "accuracy = accuracy_score(y_test, y_pred)\n",
        "\n",
        "print(\"Accuracy:\",  round(accuracy,2))\n",
        "\n",
        "print(\"Other Metrics:\")\n",
        "print(classification_report(y_test, y_pred))\n",
        "print(confusion_matrix(y_test, y_pred))"
      ]
    },
    {
      "cell_type": "markdown",
      "id": "c4b7a6c4",
      "metadata": {
        "id": "c4b7a6c4"
      },
      "source": [
        "### GaussianNB"
      ]
    },
    {
      "cell_type": "code",
      "execution_count": null,
      "id": "6a6c0223",
      "metadata": {
        "id": "6a6c0223"
      },
      "outputs": [],
      "source": [
        "from sklearn.naive_bayes import GaussianNB"
      ]
    },
    {
      "cell_type": "code",
      "execution_count": null,
      "id": "fff2a372",
      "metadata": {
        "id": "fff2a372",
        "outputId": "8c825101-076e-46eb-8bf5-24bde2613efe"
      },
      "outputs": [
        {
          "name": "stdout",
          "output_type": "stream",
          "text": [
            "Accuracy: 0.75\n",
            "Other Metrics:\n",
            "              precision    recall  f1-score   support\n",
            "\n",
            "           0       0.76      0.57      0.65        69\n",
            "           1       0.88      0.71      0.79        83\n",
            "           2       0.40      0.55      0.47        83\n",
            "           3       0.94      0.89      0.92        92\n",
            "           4       0.97      0.91      0.94        77\n",
            "           5       0.55      0.70      0.62        76\n",
            "           6       0.97      0.89      0.93        80\n",
            "\n",
            "    accuracy                           0.75       560\n",
            "   macro avg       0.78      0.75      0.76       560\n",
            "weighted avg       0.79      0.75      0.76       560\n",
            "\n"
          ]
        }
      ],
      "source": [
        "clf8= GaussianNB()\n",
        "clf8.fit(x, y_train)\n",
        "y_pred = clf8.predict(test_x)\n",
        "accuracy = accuracy_score(y_test, y_pred)\n",
        "\n",
        "print(\"Accuracy:\",  round(accuracy,2))\n",
        "\n",
        "print(\"Other Metrics:\")\n",
        "print(classification_report(y_test, y_pred))"
      ]
    },
    {
      "cell_type": "code",
      "execution_count": null,
      "id": "0732c778",
      "metadata": {
        "id": "0732c778",
        "outputId": "514e1770-1713-4b99-cd07-49804947afe1"
      },
      "outputs": [
        {
          "name": "stdout",
          "output_type": "stream",
          "text": [
            "[[39  1 20  2  0  7  0]\n",
            " [ 1 59 16  2  0  4  1]\n",
            " [ 7  3 46  1  1 25  0]\n",
            " [ 2  1  4 82  0  2  1]\n",
            " [ 0  0  5  0 70  2  0]\n",
            " [ 2  3 18  0  0 53  0]\n",
            " [ 0  0  5  0  1  3 71]]\n"
          ]
        }
      ],
      "source": [
        "print(confusion_matrix(y_test, y_pred))"
      ]
    },
    {
      "cell_type": "code",
      "execution_count": null,
      "id": "1d844212",
      "metadata": {
        "id": "1d844212",
        "outputId": "e8b69c8d-9961-4704-ed12-255b1074dc31"
      },
      "outputs": [
        {
          "name": "stdout",
          "output_type": "stream",
          "text": [
            "Accuracy: 1.0\n",
            "Other Metrics:\n",
            "              precision    recall  f1-score   support\n",
            "\n",
            "           0       1.00      1.00      1.00        69\n",
            "           1       1.00      1.00      1.00        83\n",
            "           2       1.00      1.00      1.00        83\n",
            "           3       1.00      1.00      1.00        92\n",
            "           4       1.00      1.00      1.00        77\n",
            "           5       1.00      1.00      1.00        76\n",
            "           6       1.00      1.00      1.00        80\n",
            "\n",
            "    accuracy                           1.00       560\n",
            "   macro avg       1.00      1.00      1.00       560\n",
            "weighted avg       1.00      1.00      1.00       560\n",
            "\n",
            "[[69  0  0  0  0  0  0]\n",
            " [ 0 83  0  0  0  0  0]\n",
            " [ 0  0 83  0  0  0  0]\n",
            " [ 0  0  0 92  0  0  0]\n",
            " [ 0  0  0  0 77  0  0]\n",
            " [ 0  0  0  0  0 76  0]\n",
            " [ 0  0  0  0  0  0 80]]\n"
          ]
        }
      ],
      "source": [
        "model8 = GaussianNB()\n",
        "model8.fit(test_x, y_test)\n",
        "y_pred = model8.predict(test_x)\n",
        "accuracy = accuracy_score(y_test, y_pred)\n",
        "\n",
        "print(\"Accuracy:\",  round(accuracy,2))\n",
        "\n",
        "print(\"Other Metrics:\")\n",
        "print(classification_report(y_test, y_pred))\n",
        "print(confusion_matrix(y_test, y_pred))"
      ]
    },
    {
      "cell_type": "markdown",
      "id": "fddad2c9",
      "metadata": {
        "id": "fddad2c9"
      },
      "source": [
        "### Neural Network"
      ]
    },
    {
      "cell_type": "code",
      "execution_count": null,
      "id": "529bf309",
      "metadata": {
        "id": "529bf309"
      },
      "outputs": [],
      "source": [
        "import tensorflow as tf\n",
        "from keras.models import Sequential\n",
        "from keras.layers import Dense\n",
        "from tensorflow.keras.optimizers import Adam\n",
        "from keras.wrappers.scikit_learn import KerasClassifier\n",
        "\n",
        "def create_model():\n",
        "    clf9 = Sequential()\n",
        "    clf9.add(Dense(10, input_dim=10000, kernel_initializer='uniform', activation='relu'))\n",
        "    clf9.add(Dense(1, kernel_initializer='uniform', activation='sigmoid'))\n",
        "    \n",
        "    adam=Adam(lr=0.01)\n",
        "    clf9.compile(loss='binary_crossentropy', optimizer=adam, metrics=['accuracy'])\n",
        "    return clf9"
      ]
    },
    {
      "cell_type": "code",
      "execution_count": null,
      "id": "bd22d193",
      "metadata": {
        "id": "bd22d193",
        "outputId": "6ec18dad-8828-489e-a076-eb734de1acaf"
      },
      "outputs": [
        {
          "name": "stderr",
          "output_type": "stream",
          "text": [
            "C:\\Users\\himan\\anaconda3\\lib\\site-packages\\keras\\optimizer_v2\\optimizer_v2.py:355: UserWarning: The `lr` argument is deprecated, use `learning_rate` instead.\n",
            "  warnings.warn(\n"
          ]
        },
        {
          "name": "stdout",
          "output_type": "stream",
          "text": [
            "Accuracy: 0.15\n",
            "Other Metrics:\n",
            "              precision    recall  f1-score   support\n",
            "\n",
            "           0       0.00      0.00      0.00        69\n",
            "           1       0.15      1.00      0.26        83\n",
            "           2       0.00      0.00      0.00        83\n",
            "           3       0.00      0.00      0.00        92\n",
            "           4       0.00      0.00      0.00        77\n",
            "           5       0.00      0.00      0.00        76\n",
            "           6       0.00      0.00      0.00        80\n",
            "\n",
            "    accuracy                           0.15       560\n",
            "   macro avg       0.02      0.14      0.04       560\n",
            "weighted avg       0.02      0.15      0.04       560\n",
            "\n"
          ]
        },
        {
          "name": "stderr",
          "output_type": "stream",
          "text": [
            "C:\\Users\\himan\\anaconda3\\lib\\site-packages\\sklearn\\metrics\\_classification.py:1248: UndefinedMetricWarning: Precision and F-score are ill-defined and being set to 0.0 in labels with no predicted samples. Use `zero_division` parameter to control this behavior.\n",
            "  _warn_prf(average, modifier, msg_start, len(result))\n",
            "C:\\Users\\himan\\anaconda3\\lib\\site-packages\\sklearn\\metrics\\_classification.py:1248: UndefinedMetricWarning: Precision and F-score are ill-defined and being set to 0.0 in labels with no predicted samples. Use `zero_division` parameter to control this behavior.\n",
            "  _warn_prf(average, modifier, msg_start, len(result))\n",
            "C:\\Users\\himan\\anaconda3\\lib\\site-packages\\sklearn\\metrics\\_classification.py:1248: UndefinedMetricWarning: Precision and F-score are ill-defined and being set to 0.0 in labels with no predicted samples. Use `zero_division` parameter to control this behavior.\n",
            "  _warn_prf(average, modifier, msg_start, len(result))\n"
          ]
        }
      ],
      "source": [
        "clf9 = KerasClassifier(build_fn=create_model,verbose = 0, batch_size = 10, epochs = 50 )\n",
        "clf9.fit(x, y_train)\n",
        "y_pred = clf9.predict(test_x)\n",
        "accuracy = accuracy_score(y_test, y_pred)\n",
        "\n",
        "print(\"Accuracy:\",  round(accuracy,2))\n",
        "\n",
        "print(\"Other Metrics:\")\n",
        "print(classification_report(y_test, y_pred))"
      ]
    },
    {
      "cell_type": "code",
      "execution_count": null,
      "id": "60efec3c",
      "metadata": {
        "id": "60efec3c",
        "outputId": "a87502fd-5df7-40eb-e464-3ef8dfa2e21f"
      },
      "outputs": [
        {
          "name": "stdout",
          "output_type": "stream",
          "text": [
            "[[ 0 69  0  0  0  0  0]\n",
            " [ 0 83  0  0  0  0  0]\n",
            " [ 0 83  0  0  0  0  0]\n",
            " [ 0 92  0  0  0  0  0]\n",
            " [ 0 77  0  0  0  0  0]\n",
            " [ 0 76  0  0  0  0  0]\n",
            " [ 0 80  0  0  0  0  0]]\n"
          ]
        }
      ],
      "source": [
        "print(confusion_matrix(y_test, y_pred))"
      ]
    },
    {
      "cell_type": "code",
      "execution_count": null,
      "id": "69d1542a",
      "metadata": {
        "id": "69d1542a",
        "outputId": "36d40b2d-5535-458e-b7fe-bf88a790b0a3"
      },
      "outputs": [
        {
          "name": "stderr",
          "output_type": "stream",
          "text": [
            "C:\\Users\\himan\\anaconda3\\lib\\site-packages\\keras\\optimizer_v2\\optimizer_v2.py:355: UserWarning: The `lr` argument is deprecated, use `learning_rate` instead.\n",
            "  warnings.warn(\n"
          ]
        },
        {
          "name": "stdout",
          "output_type": "stream",
          "text": [
            "Accuracy: 0.91\n",
            "Other Metrics:\n",
            "              precision    recall  f1-score   support\n",
            "\n",
            "           0       0.89      0.94      0.92        69\n",
            "           1       0.76      0.98      0.86        83\n",
            "           2       0.95      0.76      0.85        83\n",
            "           3       1.00      0.82      0.90        92\n",
            "           4       0.99      0.96      0.97        77\n",
            "           5       0.93      0.97      0.95        76\n",
            "           6       0.91      0.96      0.93        80\n",
            "\n",
            "    accuracy                           0.91       560\n",
            "   macro avg       0.92      0.91      0.91       560\n",
            "weighted avg       0.92      0.91      0.91       560\n",
            "\n",
            "[[65  1  0  0  0  2  1]\n",
            " [ 0 81  1  0  0  0  1]\n",
            " [ 6 12 63  0  0  1  1]\n",
            " [ 1  9  0 75  0  3  4]\n",
            " [ 0  1  1  0 74  0  1]\n",
            " [ 1  1  0  0  0 74  0]\n",
            " [ 0  1  1  0  1  0 77]]\n"
          ]
        }
      ],
      "source": [
        "model9 = KerasClassifier(build_fn=create_model,verbose = 0, batch_size = 10, epochs = 50 )\n",
        "model9.fit(test_x, y_test)\n",
        "y_pred = model7.predict(test_x)\n",
        "accuracy = accuracy_score(y_test, y_pred)\n",
        "\n",
        "print(\"Accuracy:\",  round(accuracy,2))\n",
        "\n",
        "print(\"Other Metrics:\")\n",
        "print(classification_report(y_test, y_pred))\n",
        "print(confusion_matrix(y_test, y_pred))"
      ]
    },
    {
      "cell_type": "code",
      "execution_count": null,
      "id": "90b746d0",
      "metadata": {
        "id": "90b746d0"
      },
      "outputs": [],
      "source": [
        "Model_Name = ['Multinomial NB', 'Logistic Regression', 'SGDClassifier', 'Guassian NB', 'SVM', 'Decision Tree', 'Random Forest', 'KNN', 'Neural Network']\n",
        "Train_Accuracy = [0.85,0.84,0.81,0.74,0.74,0.67,0.54,0.40,0.15]\n",
        "Test_Accuracy = [0.99,1.00,0.95,1.00,0.89,1.00,0.59,0.43,0.95]"
      ]
    },
    {
      "cell_type": "code",
      "execution_count": null,
      "id": "e14d1d98",
      "metadata": {
        "id": "e14d1d98"
      },
      "outputs": [],
      "source": [
        "Model_Table = pd.DataFrame({'Model_Name' : Model_Name,\n",
        "                            'Train_Accuracy' : Train_Accuracy,\n",
        "                           'Test_Accuracy': Test_Accuracy})  "
      ]
    },
    {
      "cell_type": "code",
      "execution_count": null,
      "id": "6a04a53a",
      "metadata": {
        "id": "6a04a53a",
        "outputId": "998daa8a-6734-4b8c-c2de-f002876ab0bc"
      },
      "outputs": [
        {
          "data": {
            "text/html": [
              "<div>\n",
              "<style scoped>\n",
              "    .dataframe tbody tr th:only-of-type {\n",
              "        vertical-align: middle;\n",
              "    }\n",
              "\n",
              "    .dataframe tbody tr th {\n",
              "        vertical-align: top;\n",
              "    }\n",
              "\n",
              "    .dataframe thead th {\n",
              "        text-align: right;\n",
              "    }\n",
              "</style>\n",
              "<table border=\"1\" class=\"dataframe\">\n",
              "  <thead>\n",
              "    <tr style=\"text-align: right;\">\n",
              "      <th></th>\n",
              "      <th>Model_Name</th>\n",
              "      <th>Train_Accuracy</th>\n",
              "      <th>Test_Accuracy</th>\n",
              "    </tr>\n",
              "  </thead>\n",
              "  <tbody>\n",
              "    <tr>\n",
              "      <th>0</th>\n",
              "      <td>Multinomial NB</td>\n",
              "      <td>0.85</td>\n",
              "      <td>0.99</td>\n",
              "    </tr>\n",
              "    <tr>\n",
              "      <th>1</th>\n",
              "      <td>Logistic Regression</td>\n",
              "      <td>0.84</td>\n",
              "      <td>1.00</td>\n",
              "    </tr>\n",
              "    <tr>\n",
              "      <th>2</th>\n",
              "      <td>SGDClassifier</td>\n",
              "      <td>0.81</td>\n",
              "      <td>0.95</td>\n",
              "    </tr>\n",
              "    <tr>\n",
              "      <th>3</th>\n",
              "      <td>Guassian NB</td>\n",
              "      <td>0.74</td>\n",
              "      <td>1.00</td>\n",
              "    </tr>\n",
              "    <tr>\n",
              "      <th>4</th>\n",
              "      <td>SVM</td>\n",
              "      <td>0.74</td>\n",
              "      <td>0.89</td>\n",
              "    </tr>\n",
              "    <tr>\n",
              "      <th>5</th>\n",
              "      <td>Decision Tree</td>\n",
              "      <td>0.67</td>\n",
              "      <td>1.00</td>\n",
              "    </tr>\n",
              "    <tr>\n",
              "      <th>6</th>\n",
              "      <td>Random Forest</td>\n",
              "      <td>0.54</td>\n",
              "      <td>0.59</td>\n",
              "    </tr>\n",
              "    <tr>\n",
              "      <th>7</th>\n",
              "      <td>KNN</td>\n",
              "      <td>0.40</td>\n",
              "      <td>0.43</td>\n",
              "    </tr>\n",
              "    <tr>\n",
              "      <th>8</th>\n",
              "      <td>Neural Network</td>\n",
              "      <td>0.15</td>\n",
              "      <td>0.95</td>\n",
              "    </tr>\n",
              "  </tbody>\n",
              "</table>\n",
              "</div>"
            ],
            "text/plain": [
              "            Model_Name  Train_Accuracy  Test_Accuracy\n",
              "0       Multinomial NB            0.85           0.99\n",
              "1  Logistic Regression            0.84           1.00\n",
              "2        SGDClassifier            0.81           0.95\n",
              "3          Guassian NB            0.74           1.00\n",
              "4                  SVM            0.74           0.89\n",
              "5        Decision Tree            0.67           1.00\n",
              "6        Random Forest            0.54           0.59\n",
              "7                  KNN            0.40           0.43\n",
              "8       Neural Network            0.15           0.95"
            ]
          },
          "execution_count": 99,
          "metadata": {},
          "output_type": "execute_result"
        }
      ],
      "source": [
        "Model_Table"
      ]
    },
    {
      "cell_type": "code",
      "execution_count": null,
      "id": "20232c76",
      "metadata": {
        "id": "20232c76"
      },
      "outputs": [],
      "source": [
        ""
      ]
    },
    {
      "cell_type": "code",
      "execution_count": null,
      "id": "0576202f",
      "metadata": {
        "id": "0576202f"
      },
      "outputs": [],
      "source": [
        ""
      ]
    },
    {
      "cell_type": "code",
      "execution_count": null,
      "id": "685cb4dc",
      "metadata": {
        "id": "685cb4dc"
      },
      "outputs": [],
      "source": [
        ""
      ]
    },
    {
      "cell_type": "code",
      "execution_count": null,
      "id": "4de9b904",
      "metadata": {
        "id": "4de9b904"
      },
      "outputs": [],
      "source": [
        ""
      ]
    },
    {
      "cell_type": "code",
      "execution_count": null,
      "id": "872ae3f8",
      "metadata": {
        "id": "872ae3f8"
      },
      "outputs": [],
      "source": [
        ""
      ]
    },
    {
      "cell_type": "code",
      "execution_count": null,
      "id": "730c2abc",
      "metadata": {
        "id": "730c2abc"
      },
      "outputs": [],
      "source": [
        ""
      ]
    },
    {
      "cell_type": "code",
      "execution_count": null,
      "id": "fdf97afe",
      "metadata": {
        "id": "fdf97afe"
      },
      "outputs": [],
      "source": [
        ""
      ]
    },
    {
      "cell_type": "code",
      "execution_count": null,
      "id": "36d43f6c",
      "metadata": {
        "id": "36d43f6c"
      },
      "outputs": [],
      "source": [
        ""
      ]
    },
    {
      "cell_type": "code",
      "execution_count": null,
      "id": "5c1ecd7d",
      "metadata": {
        "id": "5c1ecd7d",
        "outputId": "16e6a875-3b71-4b13-9220-1dd8bfa6bbab"
      },
      "outputs": [
        {
          "data": {
            "text/plain": [
              "(53, 8)"
            ]
          },
          "execution_count": 13,
          "metadata": {},
          "output_type": "execute_result"
        }
      ],
      "source": [
        "#shape of the final dataframe\n",
        "books.shape"
      ]
    },
    {
      "cell_type": "markdown",
      "id": "0438dc65",
      "metadata": {
        "id": "0438dc65"
      },
      "source": [
        "### EDA"
      ]
    },
    {
      "cell_type": "code",
      "execution_count": null,
      "id": "8280516c",
      "metadata": {
        "id": "8280516c",
        "outputId": "ff3ce372-01ed-49d8-c829-fda22b3ce972"
      },
      "outputs": [
        {
          "data": {
            "text/plain": [
              "book_id           0\n",
              "title             0\n",
              "author            0\n",
              "average_rating    0\n",
              "genre             0\n",
              "description       0\n",
              "url               0\n",
              "image_url         0\n",
              "dtype: int64"
            ]
          },
          "execution_count": 14,
          "metadata": {},
          "output_type": "execute_result"
        }
      ],
      "source": [
        "#checking null values\n",
        "books.isnull().sum()"
      ]
    },
    {
      "cell_type": "code",
      "execution_count": null,
      "id": "4a816d77",
      "metadata": {
        "id": "4a816d77",
        "outputId": "54c75fe0-561d-460c-9cf2-7f624301baea"
      },
      "outputs": [
        {
          "data": {
            "text/plain": [
              "0"
            ]
          },
          "execution_count": 15,
          "metadata": {},
          "output_type": "execute_result"
        }
      ],
      "source": [
        "#checking duplicate rows\n",
        "books.duplicated().sum()"
      ]
    },
    {
      "cell_type": "code",
      "execution_count": null,
      "id": "517933a0",
      "metadata": {
        "id": "517933a0"
      },
      "outputs": [],
      "source": [
        "#dropping duplicates\n",
        "books.drop_duplicates(keep = 'first',inplace = True)"
      ]
    },
    {
      "cell_type": "code",
      "execution_count": null,
      "id": "47b7dead",
      "metadata": {
        "id": "47b7dead",
        "outputId": "cca297bd-a3c4-4b7b-9983-27a993f47628"
      },
      "outputs": [
        {
          "data": {
            "text/plain": [
              "Classics           30\n",
              "Fantasy             6\n",
              "Fiction             6\n",
              "Childrens           3\n",
              "Nonfiction          2\n",
              "Science Fiction     2\n",
              "Young Adult         2\n",
              "Poetry              1\n",
              "Historical          1\n",
              "Name: genre, dtype: int64"
            ]
          },
          "execution_count": 17,
          "metadata": {},
          "output_type": "execute_result"
        }
      ],
      "source": [
        "#check value count by genre\n",
        "books.genre.value_counts()"
      ]
    },
    {
      "cell_type": "markdown",
      "id": "40ff1de5",
      "metadata": {
        "id": "40ff1de5"
      },
      "source": [
        "### Distribution of data by Genre"
      ]
    },
    {
      "cell_type": "code",
      "execution_count": null,
      "id": "fea683a4",
      "metadata": {
        "id": "fea683a4",
        "outputId": "84c491be-2ca7-4999-d898-1ad1892a98cd"
      },
      "outputs": [
        {
          "data": {
            "text/plain": [
              "<AxesSubplot:>"
            ]
          },
          "execution_count": 18,
          "metadata": {},
          "output_type": "execute_result"
        },
        {
          "data": {
            "image/png": "[encoded data removed]",
            "text/plain": [
              "<Figure size 1440x360 with 1 Axes>"
            ]
          },
          "metadata": {
            "needs_background": "light"
          },
          "output_type": "display_data"
        }
      ],
      "source": [
        "books['genre'].value_counts().plot(x='genre',y = 'count',kind = 'bar',figsize = (20,5))"
      ]
    },
    {
      "cell_type": "code",
      "execution_count": null,
      "id": "848b85a3",
      "metadata": {
        "id": "848b85a3",
        "outputId": "71d2c363-075c-4285-ef1d-cc898b7ba514"
      },
      "outputs": [
        {
          "name": "stdout",
          "output_type": "stream",
          "text": [
            "The Book Thief\n"
          ]
        },
        {
          "data": {
            "text/plain": [
              "\"Librarian's note: An alternate cover edition can be found hereIt is 1939. Nazi Germany. The country is holding its breath. Death has never been busier, and will be busier still.By her brother's graveside, Liesel's life is changed when she picks up a single object, partially hidden in the snow. It is The Gravedigger's Handbook, left behind there by accident, and it is her first act of book thievery. So begins a love affair with books and words, as Liesel, with the help of her accordian-playing foster father, learns to read. Soon she is stealing books from Nazi book-burnings, the mayor's wife's library, wherever there are books to be found.But these are dangerous times. When Liesel's foster family hides a Jew in their basement, Liesel's world is both opened up, and closed down.In superbly crafted writing that burns with intensity, award-winning author Markus Zusak has given us one of the most enduring stories of our time.(Note: this title was not published as YA fiction)\""
            ]
          },
          "execution_count": 19,
          "metadata": {},
          "output_type": "execute_result"
        }
      ],
      "source": [
        "#print the title and description of a random sample\n",
        "\n",
        "print(books['title'][10])\n",
        "books['description'][10]"
      ]
    },
    {
      "cell_type": "code",
      "execution_count": null,
      "id": "73d782f8",
      "metadata": {
        "id": "73d782f8",
        "outputId": "41415648-2c26-42d1-8a16-987f1fa3b24e"
      },
      "outputs": [
        {
          "data": {
            "text/plain": [
              "0"
            ]
          },
          "execution_count": 20,
          "metadata": {},
          "output_type": "execute_result"
        }
      ],
      "source": [
        "#print the title and description of a random sample\n",
        "\n",
        "books.duplicated().sum()"
      ]
    },
    {
      "cell_type": "code",
      "execution_count": null,
      "id": "068142e0",
      "metadata": {
        "id": "068142e0",
        "outputId": "f6620b1d-c372-429f-ffce-11f0a1f77d9e"
      },
      "outputs": [
        {
          "data": {
            "text/plain": [
              "<seaborn.axisgrid.FacetGrid at 0x2cb06446850>"
            ]
          },
          "execution_count": 21,
          "metadata": {},
          "output_type": "execute_result"
        },
        {
          "data": {
            "text/plain": [
              "<Figure size 864x720 with 0 Axes>"
            ]
          },
          "metadata": {},
          "output_type": "display_data"
        },
        {
          "data": {
            "image/png": "[encoded data removed]",
            "text/plain": [
              "<Figure size 360x360 with 1 Axes>"
            ]
          },
          "metadata": {
            "needs_background": "light"
          },
          "output_type": "display_data"
        }
      ],
      "source": [
        "#Calculating the word count for book description and adding a new column to the dataframe\n",
        "\n",
        "import seaborn as sns\n",
        "import matplotlib.pyplot as plt\n",
        "\n",
        "books['word_count'] = books['description'].apply(lambda x: len(str(x).split()))  # Plotting the word count\n",
        "plt.figure(figsize=[12, 10])\n",
        "sns.displot(books['word_count'])"
      ]
    },
    {
      "cell_type": "code",
      "execution_count": null,
      "id": "4c918aa7",
      "metadata": {
        "id": "4c918aa7",
        "outputId": "3bee473d-501c-4d70-ffcc-40db31701785"
      },
      "outputs": [
        {
          "data": {
            "text/html": [
              "<div>\n",
              "<style scoped>\n",
              "    .dataframe tbody tr th:only-of-type {\n",
              "        vertical-align: middle;\n",
              "    }\n",
              "\n",
              "    .dataframe tbody tr th {\n",
              "        vertical-align: top;\n",
              "    }\n",
              "\n",
              "    .dataframe thead th {\n",
              "        text-align: right;\n",
              "    }\n",
              "</style>\n",
              "<table border=\"1\" class=\"dataframe\">\n",
              "  <thead>\n",
              "    <tr style=\"text-align: right;\">\n",
              "      <th></th>\n",
              "      <th>book_id</th>\n",
              "      <th>title</th>\n",
              "      <th>author</th>\n",
              "      <th>average_rating</th>\n",
              "      <th>genre</th>\n",
              "      <th>description</th>\n",
              "      <th>url</th>\n",
              "      <th>image_url</th>\n",
              "      <th>word_count</th>\n",
              "    </tr>\n",
              "  </thead>\n",
              "  <tbody>\n",
              "    <tr>\n",
              "      <th>0</th>\n",
              "      <td>2657</td>\n",
              "      <td>To Kill a Mockingbird</td>\n",
              "      <td>Harper Lee</td>\n",
              "      <td>4.27</td>\n",
              "      <td>Classics</td>\n",
              "      <td>The unforgettable novel of a childhood in a sl...</td>\n",
              "      <td>https://www.goodreads.com/book/show/2657.To_Ki...</td>\n",
              "      <td>https://i.gr-assets.com/images/S/compressed.ph...</td>\n",
              "      <td>137</td>\n",
              "    </tr>\n",
              "    <tr>\n",
              "      <th>1</th>\n",
              "      <td>3</td>\n",
              "      <td>Harry Potter and the Sorcerer's Stone</td>\n",
              "      <td>J.K. Rowling</td>\n",
              "      <td>4.47</td>\n",
              "      <td>Fantasy</td>\n",
              "      <td>Harry Potter's life is miserable. His parents ...</td>\n",
              "      <td>https://www.goodreads.com/book/show/3.Harry_Po...</td>\n",
              "      <td>https://i.gr-assets.com/images/S/compressed.ph...</td>\n",
              "      <td>220</td>\n",
              "    </tr>\n",
              "    <tr>\n",
              "      <th>2</th>\n",
              "      <td>1885</td>\n",
              "      <td>Pride and Prejudice</td>\n",
              "      <td>Jane Austen</td>\n",
              "      <td>4.27</td>\n",
              "      <td>Classics</td>\n",
              "      <td>Alternate cover edition of ISBN 9780679783268S...</td>\n",
              "      <td>https://www.goodreads.com/book/show/1885.Pride...</td>\n",
              "      <td>https://i.gr-assets.com/images/S/compressed.ph...</td>\n",
              "      <td>100</td>\n",
              "    </tr>\n",
              "    <tr>\n",
              "      <th>3</th>\n",
              "      <td>48855</td>\n",
              "      <td>The Diary of a Young Girl</td>\n",
              "      <td>Anne Frank</td>\n",
              "      <td>4.17</td>\n",
              "      <td>Nonfiction</td>\n",
              "      <td>Discovered in the attic in which she spent the...</td>\n",
              "      <td>https://www.goodreads.com/book/show/48855.The_...</td>\n",
              "      <td>https://i.gr-assets.com/images/S/compressed.ph...</td>\n",
              "      <td>166</td>\n",
              "    </tr>\n",
              "    <tr>\n",
              "      <th>4</th>\n",
              "      <td>170448</td>\n",
              "      <td>Animal Farm</td>\n",
              "      <td>George Orwell</td>\n",
              "      <td>3.97</td>\n",
              "      <td>Classics</td>\n",
              "      <td>Librarian's note: There is an Alternate Cover ...</td>\n",
              "      <td>https://www.goodreads.com/book/show/170448.Ani...</td>\n",
              "      <td>https://i.gr-assets.com/images/S/compressed.ph...</td>\n",
              "      <td>123</td>\n",
              "    </tr>\n",
              "  </tbody>\n",
              "</table>\n",
              "</div>"
            ],
            "text/plain": [
              "   book_id                                  title         author  \\\n",
              "0     2657                  To Kill a Mockingbird     Harper Lee   \n",
              "1        3  Harry Potter and the Sorcerer's Stone   J.K. Rowling   \n",
              "2     1885                    Pride and Prejudice    Jane Austen   \n",
              "3    48855              The Diary of a Young Girl     Anne Frank   \n",
              "4   170448                            Animal Farm  George Orwell   \n",
              "\n",
              "   average_rating       genre  \\\n",
              "0            4.27    Classics   \n",
              "1            4.47     Fantasy   \n",
              "2            4.27    Classics   \n",
              "3            4.17  Nonfiction   \n",
              "4            3.97    Classics   \n",
              "\n",
              "                                         description  \\\n",
              "0  The unforgettable novel of a childhood in a sl...   \n",
              "1  Harry Potter's life is miserable. His parents ...   \n",
              "2  Alternate cover edition of ISBN 9780679783268S...   \n",
              "3  Discovered in the attic in which she spent the...   \n",
              "4  Librarian's note: There is an Alternate Cover ...   \n",
              "\n",
              "                                                 url  \\\n",
              "0  https://www.goodreads.com/book/show/2657.To_Ki...   \n",
              "1  https://www.goodreads.com/book/show/3.Harry_Po...   \n",
              "2  https://www.goodreads.com/book/show/1885.Pride...   \n",
              "3  https://www.goodreads.com/book/show/48855.The_...   \n",
              "4  https://www.goodreads.com/book/show/170448.Ani...   \n",
              "\n",
              "                                           image_url  word_count  \n",
              "0  https://i.gr-assets.com/images/S/compressed.ph...         137  \n",
              "1  https://i.gr-assets.com/images/S/compressed.ph...         220  \n",
              "2  https://i.gr-assets.com/images/S/compressed.ph...         100  \n",
              "3  https://i.gr-assets.com/images/S/compressed.ph...         166  \n",
              "4  https://i.gr-assets.com/images/S/compressed.ph...         123  "
            ]
          },
          "execution_count": 22,
          "metadata": {},
          "output_type": "execute_result"
        }
      ],
      "source": [
        "books.head()"
      ]
    },
    {
      "cell_type": "markdown",
      "id": "65a2a308",
      "metadata": {
        "id": "65a2a308"
      },
      "source": [
        "### Data Preprocessing"
      ]
    },
    {
      "cell_type": "code",
      "execution_count": null,
      "id": "81cac365",
      "metadata": {
        "id": "81cac365",
        "outputId": "47c6d23a-bafb-49d5-da3f-013c65eee844"
      },
      "outputs": [
        {
          "data": {
            "text/plain": [
              "array(['Classics', 'Fantasy', 'Nonfiction', 'Historical', 'Fiction',\n",
              "       'Young Adult', 'Childrens', 'Science Fiction', 'Poetry'],\n",
              "      dtype=object)"
            ]
          },
          "execution_count": 23,
          "metadata": {},
          "output_type": "execute_result"
        }
      ],
      "source": [
        "books['genre'].unique()"
      ]
    },
    {
      "cell_type": "code",
      "execution_count": null,
      "id": "71531b33",
      "metadata": {
        "id": "71531b33"
      },
      "outputs": [],
      "source": [
        "#filtering #1  books with genres consiting more than 100 books\n",
        "df = books[books['genre'].map(books['genre'].value_counts()) > 100]"
      ]
    },
    {
      "cell_type": "code",
      "execution_count": null,
      "id": "ed6c3fd7",
      "metadata": {
        "id": "ed6c3fd7",
        "outputId": "74ce4b22-b301-4e8b-e91b-900b3ef9c26a"
      },
      "outputs": [
        {
          "data": {
            "text/plain": [
              "Series([], Name: genre, dtype: int64)"
            ]
          },
          "execution_count": 25,
          "metadata": {},
          "output_type": "execute_result"
        }
      ],
      "source": [
        "df['genre'].value_counts()"
      ]
    },
    {
      "cell_type": "code",
      "execution_count": null,
      "id": "494a9d79",
      "metadata": {
        "id": "494a9d79"
      },
      "outputs": [],
      "source": [
        "# creating a sub dataframe of fiction books with  less than 160 word count.\n",
        "# As description is our main criteria for model accuracy and prediction , we are removing the books which has low word count.\n",
        "df2 = df[(df.genre == 'Fiction') & (df.word_count <= 160)]\n",
        "# dropping the  rows created in df2 from the df column.\n",
        "df.drop(df2.index,axis=0,inplace=True)"
      ]
    },
    {
      "cell_type": "code",
      "execution_count": null,
      "id": "0a4541be",
      "metadata": {
        "id": "0a4541be",
        "outputId": "bd0d17cb-914b-4a07-faf5-56d22e4efe13"
      },
      "outputs": [
        {
          "data": {
            "text/plain": [
              "Series([], Name: genre, dtype: int64)"
            ]
          },
          "execution_count": 27,
          "metadata": {},
          "output_type": "execute_result"
        }
      ],
      "source": [
        "df.genre.value_counts()\n",
        "# Updated genre count."
      ]
    },
    {
      "cell_type": "code",
      "execution_count": null,
      "id": "da4ae2d7",
      "metadata": {
        "id": "da4ae2d7",
        "outputId": "93279b7c-0602-4005-b90e-52ad5e62f97a"
      },
      "outputs": [
        {
          "data": {
            "text/plain": [
              "array([<AxesSubplot:ylabel='genre'>], dtype=object)"
            ]
          },
          "execution_count": 97,
          "metadata": {},
          "output_type": "execute_result"
        },
        {
          "data": {
            "image/png": "[encoded data removed]",
            "text/plain": [
              "<Figure size 1080x720 with 1 Axes>"
            ]
          },
          "metadata": {},
          "output_type": "display_data"
        }
      ],
      "source": [
        "df.genre.value_counts().plot(kind='pie', subplots=True, startangle=90,\n",
        "figsize=(15,10), autopct='%1.1f%%')"
      ]
    },
    {
      "cell_type": "code",
      "execution_count": null,
      "id": "9453a974",
      "metadata": {
        "id": "9453a974"
      },
      "outputs": [],
      "source": [
        "# Label encoding the Class column : Abusive = 0 and Non Abusive = 1\n",
        "\n",
        "le = preprocessing.LabelEncoder()\n",
        "df['genre_le'] = le.fit_transform(df.genre)"
      ]
    },
    {
      "cell_type": "code",
      "execution_count": null,
      "id": "cc9e20ad",
      "metadata": {
        "id": "cc9e20ad",
        "outputId": "e8cf7b28-a898-434e-8d84-2c028786c378"
      },
      "outputs": [
        {
          "data": {
            "text/html": [
              "<div>\n",
              "<style scoped>\n",
              "    .dataframe tbody tr th:only-of-type {\n",
              "        vertical-align: middle;\n",
              "    }\n",
              "\n",
              "    .dataframe tbody tr th {\n",
              "        vertical-align: top;\n",
              "    }\n",
              "\n",
              "    .dataframe thead th {\n",
              "        text-align: right;\n",
              "    }\n",
              "</style>\n",
              "<table border=\"1\" class=\"dataframe\">\n",
              "  <thead>\n",
              "    <tr style=\"text-align: right;\">\n",
              "      <th></th>\n",
              "      <th>book_id</th>\n",
              "      <th>title</th>\n",
              "      <th>average_rating</th>\n",
              "      <th>genre</th>\n",
              "      <th>url</th>\n",
              "      <th>image_url</th>\n",
              "      <th>genre_le</th>\n",
              "      <th>tags</th>\n",
              "    </tr>\n",
              "  </thead>\n",
              "  <tbody>\n",
              "  </tbody>\n",
              "</table>\n",
              "</div>"
            ],
            "text/plain": [
              "Empty DataFrame\n",
              "Columns: [book_id, title, average_rating, genre, url, image_url, genre_le, tags]\n",
              "Index: []"
            ]
          },
          "execution_count": 99,
          "metadata": {},
          "output_type": "execute_result"
        }
      ],
      "source": [
        "df.genre.unique()\n",
        "df.head()"
      ]
    },
    {
      "cell_type": "code",
      "execution_count": null,
      "id": "58f403f8",
      "metadata": {
        "id": "58f403f8",
        "outputId": "9ff755a3-9ecd-445c-dd71-3b360364d625"
      },
      "outputs": [
        {
          "ename": "KeyError",
          "evalue": "'author'",
          "output_type": "error",
          "traceback": [
            "\u001b[1;31m---------------------------------------------------------------------------\u001b[0m",
            "\u001b[1;31mKeyError\u001b[0m                                  Traceback (most recent call last)",
            "\u001b[1;32m~\\anaconda3\\lib\\site-packages\\pandas\\core\\indexes\\base.py\u001b[0m in \u001b[0;36mget_loc\u001b[1;34m(self, key, method, tolerance)\u001b[0m\n\u001b[0;32m   3079\u001b[0m             \u001b[1;32mtry\u001b[0m\u001b[1;33m:\u001b[0m\u001b[1;33m\u001b[0m\u001b[1;33m\u001b[0m\u001b[0m\n\u001b[1;32m-> 3080\u001b[1;33m                 \u001b[1;32mreturn\u001b[0m \u001b[0mself\u001b[0m\u001b[1;33m.\u001b[0m\u001b[0m_engine\u001b[0m\u001b[1;33m.\u001b[0m\u001b[0mget_loc\u001b[0m\u001b[1;33m(\u001b[0m\u001b[0mcasted_key\u001b[0m\u001b[1;33m)\u001b[0m\u001b[1;33m\u001b[0m\u001b[1;33m\u001b[0m\u001b[0m\n\u001b[0m\u001b[0;32m   3081\u001b[0m             \u001b[1;32mexcept\u001b[0m \u001b[0mKeyError\u001b[0m \u001b[1;32mas\u001b[0m \u001b[0merr\u001b[0m\u001b[1;33m:\u001b[0m\u001b[1;33m\u001b[0m\u001b[1;33m\u001b[0m\u001b[0m\n",
            "\u001b[1;32mpandas\\_libs\\index.pyx\u001b[0m in \u001b[0;36mpandas._libs.index.IndexEngine.get_loc\u001b[1;34m()\u001b[0m\n",
            "\u001b[1;32mpandas\\_libs\\index.pyx\u001b[0m in \u001b[0;36mpandas._libs.index.IndexEngine.get_loc\u001b[1;34m()\u001b[0m\n",
            "\u001b[1;32mpandas\\_libs\\hashtable_class_helper.pxi\u001b[0m in \u001b[0;36mpandas._libs.hashtable.PyObjectHashTable.get_item\u001b[1;34m()\u001b[0m\n",
            "\u001b[1;32mpandas\\_libs\\hashtable_class_helper.pxi\u001b[0m in \u001b[0;36mpandas._libs.hashtable.PyObjectHashTable.get_item\u001b[1;34m()\u001b[0m\n",
            "\u001b[1;31mKeyError\u001b[0m: 'author'",
            "\nThe above exception was the direct cause of the following exception:\n",
            "\u001b[1;31mKeyError\u001b[0m                                  Traceback (most recent call last)",
            "\u001b[1;32m<ipython-input-100-ed89a079a48a>\u001b[0m in \u001b[0;36m<module>\u001b[1;34m\u001b[0m\n\u001b[1;32m----> 1\u001b[1;33m \u001b[0mdf\u001b[0m\u001b[1;33m[\u001b[0m\u001b[1;34m'author'\u001b[0m\u001b[1;33m]\u001b[0m \u001b[1;33m=\u001b[0m \u001b[0mdf\u001b[0m\u001b[1;33m[\u001b[0m\u001b[1;34m'author'\u001b[0m\u001b[1;33m]\u001b[0m\u001b[1;33m.\u001b[0m\u001b[0mstr\u001b[0m\u001b[1;33m.\u001b[0m\u001b[0mreplace\u001b[0m\u001b[1;33m(\u001b[0m\u001b[1;34m\" \"\u001b[0m\u001b[1;33m,\u001b[0m\u001b[1;34m\"\"\u001b[0m\u001b[1;33m)\u001b[0m\u001b[1;33m\u001b[0m\u001b[1;33m\u001b[0m\u001b[0m\n\u001b[0m\u001b[0;32m      2\u001b[0m \u001b[0mdf\u001b[0m\u001b[1;33m[\u001b[0m\u001b[1;34m'tags'\u001b[0m\u001b[1;33m]\u001b[0m \u001b[1;33m=\u001b[0m \u001b[0mdf\u001b[0m\u001b[1;33m[\u001b[0m\u001b[1;34m'author'\u001b[0m\u001b[1;33m]\u001b[0m \u001b[1;33m+\u001b[0m \u001b[1;34m\" \"\u001b[0m \u001b[1;33m+\u001b[0m \u001b[0mdf\u001b[0m\u001b[1;33m[\u001b[0m\u001b[1;34m'description'\u001b[0m\u001b[1;33m]\u001b[0m\u001b[1;33m\u001b[0m\u001b[1;33m\u001b[0m\u001b[0m\n\u001b[0;32m      3\u001b[0m \u001b[0mdf\u001b[0m\u001b[1;33m.\u001b[0m\u001b[0mdrop\u001b[0m\u001b[1;33m(\u001b[0m\u001b[1;33m[\u001b[0m\u001b[1;34m'word_count'\u001b[0m\u001b[1;33m,\u001b[0m \u001b[1;34m'author'\u001b[0m\u001b[1;33m,\u001b[0m \u001b[1;34m'description'\u001b[0m\u001b[1;33m]\u001b[0m\u001b[1;33m,\u001b[0m \u001b[0maxis\u001b[0m\u001b[1;33m=\u001b[0m\u001b[1;36m1\u001b[0m\u001b[1;33m,\u001b[0m \u001b[0minplace\u001b[0m\u001b[1;33m=\u001b[0m\u001b[1;32mTrue\u001b[0m\u001b[1;33m)\u001b[0m\u001b[1;33m\u001b[0m\u001b[1;33m\u001b[0m\u001b[0m\n\u001b[0;32m      4\u001b[0m \u001b[0mdf\u001b[0m\u001b[1;33m[\u001b[0m\u001b[1;34m'tags'\u001b[0m\u001b[1;33m]\u001b[0m \u001b[1;33m=\u001b[0m \u001b[0mdf\u001b[0m\u001b[1;33m[\u001b[0m\u001b[1;34m'tags'\u001b[0m\u001b[1;33m]\u001b[0m\u001b[1;33m.\u001b[0m\u001b[0mapply\u001b[0m\u001b[1;33m(\u001b[0m\u001b[1;32mlambda\u001b[0m \u001b[0mx\u001b[0m\u001b[1;33m:\u001b[0m \u001b[0mx\u001b[0m\u001b[1;33m.\u001b[0m\u001b[0mlower\u001b[0m\u001b[1;33m(\u001b[0m\u001b[1;33m)\u001b[0m\u001b[1;33m)\u001b[0m\u001b[1;33m\u001b[0m\u001b[1;33m\u001b[0m\u001b[0m\n\u001b[0;32m      5\u001b[0m \u001b[0mdf\u001b[0m\u001b[1;33m.\u001b[0m\u001b[0mhead\u001b[0m\u001b[1;33m(\u001b[0m\u001b[1;33m)\u001b[0m\u001b[1;33m\u001b[0m\u001b[1;33m\u001b[0m\u001b[0m\n",
            "\u001b[1;32m~\\anaconda3\\lib\\site-packages\\pandas\\core\\frame.py\u001b[0m in \u001b[0;36m__getitem__\u001b[1;34m(self, key)\u001b[0m\n\u001b[0;32m   3022\u001b[0m             \u001b[1;32mif\u001b[0m \u001b[0mself\u001b[0m\u001b[1;33m.\u001b[0m\u001b[0mcolumns\u001b[0m\u001b[1;33m.\u001b[0m\u001b[0mnlevels\u001b[0m \u001b[1;33m>\u001b[0m \u001b[1;36m1\u001b[0m\u001b[1;33m:\u001b[0m\u001b[1;33m\u001b[0m\u001b[1;33m\u001b[0m\u001b[0m\n\u001b[0;32m   3023\u001b[0m                 \u001b[1;32mreturn\u001b[0m \u001b[0mself\u001b[0m\u001b[1;33m.\u001b[0m\u001b[0m_getitem_multilevel\u001b[0m\u001b[1;33m(\u001b[0m\u001b[0mkey\u001b[0m\u001b[1;33m)\u001b[0m\u001b[1;33m\u001b[0m\u001b[1;33m\u001b[0m\u001b[0m\n\u001b[1;32m-> 3024\u001b[1;33m             \u001b[0mindexer\u001b[0m \u001b[1;33m=\u001b[0m \u001b[0mself\u001b[0m\u001b[1;33m.\u001b[0m\u001b[0mcolumns\u001b[0m\u001b[1;33m.\u001b[0m\u001b[0mget_loc\u001b[0m\u001b[1;33m(\u001b[0m\u001b[0mkey\u001b[0m\u001b[1;33m)\u001b[0m\u001b[1;33m\u001b[0m\u001b[1;33m\u001b[0m\u001b[0m\n\u001b[0m\u001b[0;32m   3025\u001b[0m             \u001b[1;32mif\u001b[0m \u001b[0mis_integer\u001b[0m\u001b[1;33m(\u001b[0m\u001b[0mindexer\u001b[0m\u001b[1;33m)\u001b[0m\u001b[1;33m:\u001b[0m\u001b[1;33m\u001b[0m\u001b[1;33m\u001b[0m\u001b[0m\n\u001b[0;32m   3026\u001b[0m                 \u001b[0mindexer\u001b[0m \u001b[1;33m=\u001b[0m \u001b[1;33m[\u001b[0m\u001b[0mindexer\u001b[0m\u001b[1;33m]\u001b[0m\u001b[1;33m\u001b[0m\u001b[1;33m\u001b[0m\u001b[0m\n",
            "\u001b[1;32m~\\anaconda3\\lib\\site-packages\\pandas\\core\\indexes\\base.py\u001b[0m in \u001b[0;36mget_loc\u001b[1;34m(self, key, method, tolerance)\u001b[0m\n\u001b[0;32m   3080\u001b[0m                 \u001b[1;32mreturn\u001b[0m \u001b[0mself\u001b[0m\u001b[1;33m.\u001b[0m\u001b[0m_engine\u001b[0m\u001b[1;33m.\u001b[0m\u001b[0mget_loc\u001b[0m\u001b[1;33m(\u001b[0m\u001b[0mcasted_key\u001b[0m\u001b[1;33m)\u001b[0m\u001b[1;33m\u001b[0m\u001b[1;33m\u001b[0m\u001b[0m\n\u001b[0;32m   3081\u001b[0m             \u001b[1;32mexcept\u001b[0m \u001b[0mKeyError\u001b[0m \u001b[1;32mas\u001b[0m \u001b[0merr\u001b[0m\u001b[1;33m:\u001b[0m\u001b[1;33m\u001b[0m\u001b[1;33m\u001b[0m\u001b[0m\n\u001b[1;32m-> 3082\u001b[1;33m                 \u001b[1;32mraise\u001b[0m \u001b[0mKeyError\u001b[0m\u001b[1;33m(\u001b[0m\u001b[0mkey\u001b[0m\u001b[1;33m)\u001b[0m \u001b[1;32mfrom\u001b[0m \u001b[0merr\u001b[0m\u001b[1;33m\u001b[0m\u001b[1;33m\u001b[0m\u001b[0m\n\u001b[0m\u001b[0;32m   3083\u001b[0m \u001b[1;33m\u001b[0m\u001b[0m\n\u001b[0;32m   3084\u001b[0m         \u001b[1;32mif\u001b[0m \u001b[0mtolerance\u001b[0m \u001b[1;32mis\u001b[0m \u001b[1;32mnot\u001b[0m \u001b[1;32mNone\u001b[0m\u001b[1;33m:\u001b[0m\u001b[1;33m\u001b[0m\u001b[1;33m\u001b[0m\u001b[0m\n",
            "\u001b[1;31mKeyError\u001b[0m: 'author'"
          ]
        }
      ],
      "source": [
        "df['author'] = df['author'].str.replace(\" \",\"\")\n",
        "df['tags'] = df['author'] + \" \" + df['description']\n",
        "df.drop(['word_count', 'author', 'description'], axis=1, inplace=True)\n",
        "df['tags'] = df['tags'].apply(lambda x: x.lower())\n",
        "df.head()"
      ]
    },
    {
      "cell_type": "code",
      "execution_count": null,
      "id": "52a9d899",
      "metadata": {
        "id": "52a9d899"
      },
      "outputs": [],
      "source": [
        "#stemming\n",
        "ps = PorterStemmer()"
      ]
    },
    {
      "cell_type": "code",
      "execution_count": null,
      "id": "c2816d19",
      "metadata": {
        "id": "c2816d19"
      },
      "outputs": [],
      "source": [
        "def stemming(text):\n",
        "    y = []\n",
        "    for i in text.split():\n",
        "        y.append(ps.stem(i))\n",
        "        \n",
        "    return \" \".join(y)"
      ]
    },
    {
      "cell_type": "code",
      "execution_count": null,
      "id": "a1d22f05",
      "metadata": {
        "id": "a1d22f05",
        "outputId": "165e4390-24a0-45a0-a7a0-004c07e6b5af"
      },
      "outputs": [
        {
          "data": {
            "text/html": [
              "<div>\n",
              "<style scoped>\n",
              "    .dataframe tbody tr th:only-of-type {\n",
              "        vertical-align: middle;\n",
              "    }\n",
              "\n",
              "    .dataframe tbody tr th {\n",
              "        vertical-align: top;\n",
              "    }\n",
              "\n",
              "    .dataframe thead th {\n",
              "        text-align: right;\n",
              "    }\n",
              "</style>\n",
              "<table border=\"1\" class=\"dataframe\">\n",
              "  <thead>\n",
              "    <tr style=\"text-align: right;\">\n",
              "      <th></th>\n",
              "      <th>book_id</th>\n",
              "      <th>title</th>\n",
              "      <th>average_rating</th>\n",
              "      <th>genre</th>\n",
              "      <th>url</th>\n",
              "      <th>image_url</th>\n",
              "      <th>genre_le</th>\n",
              "      <th>tags</th>\n",
              "    </tr>\n",
              "  </thead>\n",
              "  <tbody>\n",
              "  </tbody>\n",
              "</table>\n",
              "</div>"
            ],
            "text/plain": [
              "Empty DataFrame\n",
              "Columns: [book_id, title, average_rating, genre, url, image_url, genre_le, tags]\n",
              "Index: []"
            ]
          },
          "execution_count": 34,
          "metadata": {},
          "output_type": "execute_result"
        }
      ],
      "source": [
        "df['tags'] = df['tags'].apply(stemming)\n",
        "df.head()"
      ]
    },
    {
      "cell_type": "code",
      "execution_count": null,
      "id": "3515381a",
      "metadata": {
        "id": "3515381a"
      },
      "outputs": [],
      "source": [
        "# assign the independent features (text) to X variable and the target to y\n",
        "X = pd.DataFrame(df['tags'])\n",
        "y = df['genre_le']"
      ]
    },
    {
      "cell_type": "code",
      "execution_count": null,
      "id": "b42904a0",
      "metadata": {
        "id": "b42904a0",
        "outputId": "27581dc0-edba-4ff0-f909-651b5f8b079e"
      },
      "outputs": [
        {
          "data": {
            "text/plain": [
              "Series([], Name: genre_le, dtype: float64)"
            ]
          },
          "execution_count": 36,
          "metadata": {},
          "output_type": "execute_result"
        }
      ],
      "source": [
        "y"
      ]
    },
    {
      "cell_type": "code",
      "execution_count": null,
      "id": "87b3b92e",
      "metadata": {
        "id": "87b3b92e"
      },
      "outputs": [],
      "source": [
        "from imblearn.over_sampling import RandomOverSampler\n",
        "from imblearn.under_sampling import RandomUnderSampler"
      ]
    },
    {
      "cell_type": "code",
      "execution_count": null,
      "id": "5f1bb76f",
      "metadata": {
        "id": "5f1bb76f",
        "outputId": "0638c862-95cf-48f7-9c05-39976541bad9"
      },
      "outputs": [
        {
          "data": {
            "text/plain": [
              "Series([], Name: genre_le, dtype: int64)"
            ]
          },
          "execution_count": 38,
          "metadata": {},
          "output_type": "execute_result"
        }
      ],
      "source": [
        "y.value_counts()"
      ]
    },
    {
      "cell_type": "code",
      "execution_count": null,
      "id": "99cc19f4",
      "metadata": {
        "id": "99cc19f4"
      },
      "outputs": [],
      "source": [
        "#performing oversampling on all genres except genre class  2\n",
        "strategy = {0:400, 1:400, 2:598, 3:400, 4:400, 5:400,6:400}\n",
        "os = RandomOverSampler(sampling_strategy = strategy)"
      ]
    },
    {
      "cell_type": "code",
      "execution_count": null,
      "id": "e4818e7d",
      "metadata": {
        "id": "e4818e7d",
        "outputId": "5bf9cf7f-3ff7-44c5-fd02-3206547be128"
      },
      "outputs": [
        {
          "ename": "ValueError",
          "evalue": "Found array with 0 sample(s) (shape=(0, 1)) while a minimum of 1 is required.",
          "output_type": "error",
          "traceback": [
            "\u001b[1;31m---------------------------------------------------------------------------\u001b[0m",
            "\u001b[1;31mValueError\u001b[0m                                Traceback (most recent call last)",
            "\u001b[1;32m<ipython-input-40-b126ec55c34b>\u001b[0m in \u001b[0;36m<module>\u001b[1;34m\u001b[0m\n\u001b[1;32m----> 1\u001b[1;33m \u001b[0mX_rs\u001b[0m\u001b[1;33m,\u001b[0m \u001b[0my_rs\u001b[0m \u001b[1;33m=\u001b[0m \u001b[0mos\u001b[0m\u001b[1;33m.\u001b[0m\u001b[0mfit_resample\u001b[0m\u001b[1;33m(\u001b[0m\u001b[0mX\u001b[0m\u001b[1;33m,\u001b[0m\u001b[0my\u001b[0m\u001b[1;33m)\u001b[0m\u001b[1;33m\u001b[0m\u001b[1;33m\u001b[0m\u001b[0m\n\u001b[0m",
            "\u001b[1;32m~\\anaconda3\\lib\\site-packages\\imblearn\\base.py\u001b[0m in \u001b[0;36mfit_resample\u001b[1;34m(self, X, y)\u001b[0m\n\u001b[0;32m     75\u001b[0m         \u001b[0mcheck_classification_targets\u001b[0m\u001b[1;33m(\u001b[0m\u001b[0my\u001b[0m\u001b[1;33m)\u001b[0m\u001b[1;33m\u001b[0m\u001b[1;33m\u001b[0m\u001b[0m\n\u001b[0;32m     76\u001b[0m         \u001b[0marrays_transformer\u001b[0m \u001b[1;33m=\u001b[0m \u001b[0mArraysTransformer\u001b[0m\u001b[1;33m(\u001b[0m\u001b[0mX\u001b[0m\u001b[1;33m,\u001b[0m \u001b[0my\u001b[0m\u001b[1;33m)\u001b[0m\u001b[1;33m\u001b[0m\u001b[1;33m\u001b[0m\u001b[0m\n\u001b[1;32m---> 77\u001b[1;33m         \u001b[0mX\u001b[0m\u001b[1;33m,\u001b[0m \u001b[0my\u001b[0m\u001b[1;33m,\u001b[0m \u001b[0mbinarize_y\u001b[0m \u001b[1;33m=\u001b[0m \u001b[0mself\u001b[0m\u001b[1;33m.\u001b[0m\u001b[0m_check_X_y\u001b[0m\u001b[1;33m(\u001b[0m\u001b[0mX\u001b[0m\u001b[1;33m,\u001b[0m \u001b[0my\u001b[0m\u001b[1;33m)\u001b[0m\u001b[1;33m\u001b[0m\u001b[1;33m\u001b[0m\u001b[0m\n\u001b[0m\u001b[0;32m     78\u001b[0m \u001b[1;33m\u001b[0m\u001b[0m\n\u001b[0;32m     79\u001b[0m         self.sampling_strategy_ = check_sampling_strategy(\n",
            "\u001b[1;32m~\\anaconda3\\lib\\site-packages\\imblearn\\over_sampling\\_random_over_sampler.py\u001b[0m in \u001b[0;36m_check_X_y\u001b[1;34m(self, X, y)\u001b[0m\n\u001b[0;32m    138\u001b[0m     \u001b[1;32mdef\u001b[0m \u001b[0m_check_X_y\u001b[0m\u001b[1;33m(\u001b[0m\u001b[0mself\u001b[0m\u001b[1;33m,\u001b[0m \u001b[0mX\u001b[0m\u001b[1;33m,\u001b[0m \u001b[0my\u001b[0m\u001b[1;33m)\u001b[0m\u001b[1;33m:\u001b[0m\u001b[1;33m\u001b[0m\u001b[1;33m\u001b[0m\u001b[0m\n\u001b[0;32m    139\u001b[0m         \u001b[0my\u001b[0m\u001b[1;33m,\u001b[0m \u001b[0mbinarize_y\u001b[0m \u001b[1;33m=\u001b[0m \u001b[0mcheck_target_type\u001b[0m\u001b[1;33m(\u001b[0m\u001b[0my\u001b[0m\u001b[1;33m,\u001b[0m \u001b[0mindicate_one_vs_all\u001b[0m\u001b[1;33m=\u001b[0m\u001b[1;32mTrue\u001b[0m\u001b[1;33m)\u001b[0m\u001b[1;33m\u001b[0m\u001b[1;33m\u001b[0m\u001b[0m\n\u001b[1;32m--> 140\u001b[1;33m         X, y = self._validate_data(\n\u001b[0m\u001b[0;32m    141\u001b[0m             \u001b[0mX\u001b[0m\u001b[1;33m,\u001b[0m\u001b[1;33m\u001b[0m\u001b[1;33m\u001b[0m\u001b[0m\n\u001b[0;32m    142\u001b[0m             \u001b[0my\u001b[0m\u001b[1;33m,\u001b[0m\u001b[1;33m\u001b[0m\u001b[1;33m\u001b[0m\u001b[0m\n",
            "\u001b[1;32m~\\anaconda3\\lib\\site-packages\\sklearn\\base.py\u001b[0m in \u001b[0;36m_validate_data\u001b[1;34m(self, X, y, reset, validate_separately, **check_params)\u001b[0m\n\u001b[0;32m    431\u001b[0m                 \u001b[0my\u001b[0m \u001b[1;33m=\u001b[0m \u001b[0mcheck_array\u001b[0m\u001b[1;33m(\u001b[0m\u001b[0my\u001b[0m\u001b[1;33m,\u001b[0m \u001b[1;33m**\u001b[0m\u001b[0mcheck_y_params\u001b[0m\u001b[1;33m)\u001b[0m\u001b[1;33m\u001b[0m\u001b[1;33m\u001b[0m\u001b[0m\n\u001b[0;32m    432\u001b[0m             \u001b[1;32melse\u001b[0m\u001b[1;33m:\u001b[0m\u001b[1;33m\u001b[0m\u001b[1;33m\u001b[0m\u001b[0m\n\u001b[1;32m--> 433\u001b[1;33m                 \u001b[0mX\u001b[0m\u001b[1;33m,\u001b[0m \u001b[0my\u001b[0m \u001b[1;33m=\u001b[0m \u001b[0mcheck_X_y\u001b[0m\u001b[1;33m(\u001b[0m\u001b[0mX\u001b[0m\u001b[1;33m,\u001b[0m \u001b[0my\u001b[0m\u001b[1;33m,\u001b[0m \u001b[1;33m**\u001b[0m\u001b[0mcheck_params\u001b[0m\u001b[1;33m)\u001b[0m\u001b[1;33m\u001b[0m\u001b[1;33m\u001b[0m\u001b[0m\n\u001b[0m\u001b[0;32m    434\u001b[0m             \u001b[0mout\u001b[0m \u001b[1;33m=\u001b[0m \u001b[0mX\u001b[0m\u001b[1;33m,\u001b[0m \u001b[0my\u001b[0m\u001b[1;33m\u001b[0m\u001b[1;33m\u001b[0m\u001b[0m\n\u001b[0;32m    435\u001b[0m \u001b[1;33m\u001b[0m\u001b[0m\n",
            "\u001b[1;32m~\\anaconda3\\lib\\site-packages\\sklearn\\utils\\validation.py\u001b[0m in \u001b[0;36minner_f\u001b[1;34m(*args, **kwargs)\u001b[0m\n\u001b[0;32m     61\u001b[0m             \u001b[0mextra_args\u001b[0m \u001b[1;33m=\u001b[0m \u001b[0mlen\u001b[0m\u001b[1;33m(\u001b[0m\u001b[0margs\u001b[0m\u001b[1;33m)\u001b[0m \u001b[1;33m-\u001b[0m \u001b[0mlen\u001b[0m\u001b[1;33m(\u001b[0m\u001b[0mall_args\u001b[0m\u001b[1;33m)\u001b[0m\u001b[1;33m\u001b[0m\u001b[1;33m\u001b[0m\u001b[0m\n\u001b[0;32m     62\u001b[0m             \u001b[1;32mif\u001b[0m \u001b[0mextra_args\u001b[0m \u001b[1;33m<=\u001b[0m \u001b[1;36m0\u001b[0m\u001b[1;33m:\u001b[0m\u001b[1;33m\u001b[0m\u001b[1;33m\u001b[0m\u001b[0m\n\u001b[1;32m---> 63\u001b[1;33m                 \u001b[1;32mreturn\u001b[0m \u001b[0mf\u001b[0m\u001b[1;33m(\u001b[0m\u001b[1;33m*\u001b[0m\u001b[0margs\u001b[0m\u001b[1;33m,\u001b[0m \u001b[1;33m**\u001b[0m\u001b[0mkwargs\u001b[0m\u001b[1;33m)\u001b[0m\u001b[1;33m\u001b[0m\u001b[1;33m\u001b[0m\u001b[0m\n\u001b[0m\u001b[0;32m     64\u001b[0m \u001b[1;33m\u001b[0m\u001b[0m\n\u001b[0;32m     65\u001b[0m             \u001b[1;31m# extra_args > 0\u001b[0m\u001b[1;33m\u001b[0m\u001b[1;33m\u001b[0m\u001b[1;33m\u001b[0m\u001b[0m\n",
            "\u001b[1;32m~\\anaconda3\\lib\\site-packages\\sklearn\\utils\\validation.py\u001b[0m in \u001b[0;36mcheck_X_y\u001b[1;34m(X, y, accept_sparse, accept_large_sparse, dtype, order, copy, force_all_finite, ensure_2d, allow_nd, multi_output, ensure_min_samples, ensure_min_features, y_numeric, estimator)\u001b[0m\n\u001b[0;32m    869\u001b[0m         \u001b[1;32mraise\u001b[0m \u001b[0mValueError\u001b[0m\u001b[1;33m(\u001b[0m\u001b[1;34m\"y cannot be None\"\u001b[0m\u001b[1;33m)\u001b[0m\u001b[1;33m\u001b[0m\u001b[1;33m\u001b[0m\u001b[0m\n\u001b[0;32m    870\u001b[0m \u001b[1;33m\u001b[0m\u001b[0m\n\u001b[1;32m--> 871\u001b[1;33m     X = check_array(X, accept_sparse=accept_sparse,\n\u001b[0m\u001b[0;32m    872\u001b[0m                     \u001b[0maccept_large_sparse\u001b[0m\u001b[1;33m=\u001b[0m\u001b[0maccept_large_sparse\u001b[0m\u001b[1;33m,\u001b[0m\u001b[1;33m\u001b[0m\u001b[1;33m\u001b[0m\u001b[0m\n\u001b[0;32m    873\u001b[0m                     \u001b[0mdtype\u001b[0m\u001b[1;33m=\u001b[0m\u001b[0mdtype\u001b[0m\u001b[1;33m,\u001b[0m \u001b[0morder\u001b[0m\u001b[1;33m=\u001b[0m\u001b[0morder\u001b[0m\u001b[1;33m,\u001b[0m \u001b[0mcopy\u001b[0m\u001b[1;33m=\u001b[0m\u001b[0mcopy\u001b[0m\u001b[1;33m,\u001b[0m\u001b[1;33m\u001b[0m\u001b[1;33m\u001b[0m\u001b[0m\n",
            "\u001b[1;32m~\\anaconda3\\lib\\site-packages\\sklearn\\utils\\validation.py\u001b[0m in \u001b[0;36minner_f\u001b[1;34m(*args, **kwargs)\u001b[0m\n\u001b[0;32m     61\u001b[0m             \u001b[0mextra_args\u001b[0m \u001b[1;33m=\u001b[0m \u001b[0mlen\u001b[0m\u001b[1;33m(\u001b[0m\u001b[0margs\u001b[0m\u001b[1;33m)\u001b[0m \u001b[1;33m-\u001b[0m \u001b[0mlen\u001b[0m\u001b[1;33m(\u001b[0m\u001b[0mall_args\u001b[0m\u001b[1;33m)\u001b[0m\u001b[1;33m\u001b[0m\u001b[1;33m\u001b[0m\u001b[0m\n\u001b[0;32m     62\u001b[0m             \u001b[1;32mif\u001b[0m \u001b[0mextra_args\u001b[0m \u001b[1;33m<=\u001b[0m \u001b[1;36m0\u001b[0m\u001b[1;33m:\u001b[0m\u001b[1;33m\u001b[0m\u001b[1;33m\u001b[0m\u001b[0m\n\u001b[1;32m---> 63\u001b[1;33m                 \u001b[1;32mreturn\u001b[0m \u001b[0mf\u001b[0m\u001b[1;33m(\u001b[0m\u001b[1;33m*\u001b[0m\u001b[0margs\u001b[0m\u001b[1;33m,\u001b[0m \u001b[1;33m**\u001b[0m\u001b[0mkwargs\u001b[0m\u001b[1;33m)\u001b[0m\u001b[1;33m\u001b[0m\u001b[1;33m\u001b[0m\u001b[0m\n\u001b[0m\u001b[0;32m     64\u001b[0m \u001b[1;33m\u001b[0m\u001b[0m\n\u001b[0;32m     65\u001b[0m             \u001b[1;31m# extra_args > 0\u001b[0m\u001b[1;33m\u001b[0m\u001b[1;33m\u001b[0m\u001b[1;33m\u001b[0m\u001b[0m\n",
            "\u001b[1;32m~\\anaconda3\\lib\\site-packages\\sklearn\\utils\\validation.py\u001b[0m in \u001b[0;36mcheck_array\u001b[1;34m(array, accept_sparse, accept_large_sparse, dtype, order, copy, force_all_finite, ensure_2d, allow_nd, ensure_min_samples, ensure_min_features, estimator)\u001b[0m\n\u001b[0;32m    724\u001b[0m         \u001b[0mn_samples\u001b[0m \u001b[1;33m=\u001b[0m \u001b[0m_num_samples\u001b[0m\u001b[1;33m(\u001b[0m\u001b[0marray\u001b[0m\u001b[1;33m)\u001b[0m\u001b[1;33m\u001b[0m\u001b[1;33m\u001b[0m\u001b[0m\n\u001b[0;32m    725\u001b[0m         \u001b[1;32mif\u001b[0m \u001b[0mn_samples\u001b[0m \u001b[1;33m<\u001b[0m \u001b[0mensure_min_samples\u001b[0m\u001b[1;33m:\u001b[0m\u001b[1;33m\u001b[0m\u001b[1;33m\u001b[0m\u001b[0m\n\u001b[1;32m--> 726\u001b[1;33m             raise ValueError(\"Found array with %d sample(s) (shape=%s) while a\"\n\u001b[0m\u001b[0;32m    727\u001b[0m                              \u001b[1;34m\" minimum of %d is required%s.\"\u001b[0m\u001b[1;33m\u001b[0m\u001b[1;33m\u001b[0m\u001b[0m\n\u001b[0;32m    728\u001b[0m                              % (n_samples, array.shape, ensure_min_samples,\n",
            "\u001b[1;31mValueError\u001b[0m: Found array with 0 sample(s) (shape=(0, 1)) while a minimum of 1 is required."
          ]
        }
      ],
      "source": [
        "X_rs, y_rs = os.fit_resample(X,y)"
      ]
    },
    {
      "cell_type": "code",
      "execution_count": null,
      "id": "5c9443fe",
      "metadata": {
        "id": "5c9443fe",
        "outputId": "7fa4ccc3-4b9a-4dd9-b3fe-69128c1b5155"
      },
      "outputs": [
        {
          "name": "stdout",
          "output_type": "stream",
          "text": [
            "Counter()\n"
          ]
        }
      ],
      "source": [
        "from collections import Counter\n",
        "print(Counter(y))"
      ]
    },
    {
      "cell_type": "code",
      "execution_count": null,
      "id": "7e9dcfe1",
      "metadata": {
        "id": "7e9dcfe1",
        "outputId": "8cb00cab-0885-4128-f286-efb747acf08a"
      },
      "outputs": [
        {
          "ename": "NameError",
          "evalue": "name 'y_rs' is not defined",
          "output_type": "error",
          "traceback": [
            "\u001b[1;31m---------------------------------------------------------------------------\u001b[0m",
            "\u001b[1;31mNameError\u001b[0m                                 Traceback (most recent call last)",
            "\u001b[1;32m<ipython-input-42-2ee86928b3ab>\u001b[0m in \u001b[0;36m<module>\u001b[1;34m\u001b[0m\n\u001b[1;32m----> 1\u001b[1;33m \u001b[0mprint\u001b[0m\u001b[1;33m(\u001b[0m\u001b[0mCounter\u001b[0m\u001b[1;33m(\u001b[0m\u001b[0my_rs\u001b[0m\u001b[1;33m)\u001b[0m\u001b[1;33m)\u001b[0m\u001b[1;33m\u001b[0m\u001b[1;33m\u001b[0m\u001b[0m\n\u001b[0m",
            "\u001b[1;31mNameError\u001b[0m: name 'y_rs' is not defined"
          ]
        }
      ],
      "source": [
        "print(Counter(y_rs))"
      ]
    },
    {
      "cell_type": "code",
      "execution_count": null,
      "id": "f961b60e",
      "metadata": {
        "id": "f961b60e"
      },
      "outputs": [],
      "source": [
        "#performing undersampling on class 2\n",
        "strategy = {0:400, 1:400, 2:400, 3:400, 4:400,5:400,6:400}\n",
        "us = RandomUnderSampler(sampling_strategy = strategy)"
      ]
    },
    {
      "cell_type": "code",
      "execution_count": null,
      "id": "0d4a0d21",
      "metadata": {
        "id": "0d4a0d21",
        "outputId": "cfbdfd1a-90bc-413c-da33-ee35ed724fd8"
      },
      "outputs": [
        {
          "ename": "NameError",
          "evalue": "name 'X_rs' is not defined",
          "output_type": "error",
          "traceback": [
            "\u001b[1;31m---------------------------------------------------------------------------\u001b[0m",
            "\u001b[1;31mNameError\u001b[0m                                 Traceback (most recent call last)",
            "\u001b[1;32m<ipython-input-44-f18705ab9a48>\u001b[0m in \u001b[0;36m<module>\u001b[1;34m\u001b[0m\n\u001b[1;32m----> 1\u001b[1;33m \u001b[0mX_new\u001b[0m\u001b[1;33m,\u001b[0m \u001b[0my_new\u001b[0m \u001b[1;33m=\u001b[0m \u001b[0mus\u001b[0m\u001b[1;33m.\u001b[0m\u001b[0mfit_resample\u001b[0m\u001b[1;33m(\u001b[0m\u001b[0mX_rs\u001b[0m\u001b[1;33m,\u001b[0m\u001b[0my_rs\u001b[0m\u001b[1;33m)\u001b[0m\u001b[1;33m\u001b[0m\u001b[1;33m\u001b[0m\u001b[0m\n\u001b[0m",
            "\u001b[1;31mNameError\u001b[0m: name 'X_rs' is not defined"
          ]
        }
      ],
      "source": [
        "X_new, y_new = us.fit_resample(X_rs,y_rs)"
      ]
    },
    {
      "cell_type": "code",
      "execution_count": null,
      "id": "8310a4ef",
      "metadata": {
        "id": "8310a4ef",
        "outputId": "a34ed180-fbf5-46b6-c014-c915cd42a179"
      },
      "outputs": [
        {
          "ename": "NameError",
          "evalue": "name 'y_new' is not defined",
          "output_type": "error",
          "traceback": [
            "\u001b[1;31m---------------------------------------------------------------------------\u001b[0m",
            "\u001b[1;31mNameError\u001b[0m                                 Traceback (most recent call last)",
            "\u001b[1;32m<ipython-input-45-665bfc300011>\u001b[0m in \u001b[0;36m<module>\u001b[1;34m\u001b[0m\n\u001b[1;32m----> 1\u001b[1;33m \u001b[0mprint\u001b[0m\u001b[1;33m(\u001b[0m\u001b[0mCounter\u001b[0m\u001b[1;33m(\u001b[0m\u001b[0my_new\u001b[0m\u001b[1;33m)\u001b[0m\u001b[1;33m)\u001b[0m\u001b[1;33m\u001b[0m\u001b[1;33m\u001b[0m\u001b[0m\n\u001b[0m",
            "\u001b[1;31mNameError\u001b[0m: name 'y_new' is not defined"
          ]
        }
      ],
      "source": [
        "print(Counter(y_new))"
      ]
    },
    {
      "cell_type": "code",
      "execution_count": null,
      "id": "a1474672",
      "metadata": {
        "id": "a1474672",
        "outputId": "8c8998e7-0cd8-477b-8b67-20cb7c23f7f7"
      },
      "outputs": [
        {
          "ename": "NameError",
          "evalue": "name 'y_new' is not defined",
          "output_type": "error",
          "traceback": [
            "\u001b[1;31m---------------------------------------------------------------------------\u001b[0m",
            "\u001b[1;31mNameError\u001b[0m                                 Traceback (most recent call last)",
            "\u001b[1;32m<ipython-input-46-c7f204866322>\u001b[0m in \u001b[0;36m<module>\u001b[1;34m\u001b[0m\n\u001b[1;32m----> 1\u001b[1;33m \u001b[0my_new\u001b[0m\u001b[1;33m.\u001b[0m\u001b[0mvalue_counts\u001b[0m\u001b[1;33m(\u001b[0m\u001b[1;33m)\u001b[0m\u001b[1;33m.\u001b[0m\u001b[0mplot\u001b[0m\u001b[1;33m(\u001b[0m\u001b[0mx\u001b[0m\u001b[1;33m=\u001b[0m\u001b[1;34m'y_new'\u001b[0m\u001b[1;33m,\u001b[0m\u001b[0my\u001b[0m \u001b[1;33m=\u001b[0m \u001b[1;34m'count'\u001b[0m\u001b[1;33m,\u001b[0m\u001b[0mkind\u001b[0m \u001b[1;33m=\u001b[0m \u001b[1;34m'bar'\u001b[0m\u001b[1;33m)\u001b[0m\u001b[1;33m\u001b[0m\u001b[1;33m\u001b[0m\u001b[0m\n\u001b[0m",
            "\u001b[1;31mNameError\u001b[0m: name 'y_new' is not defined"
          ]
        }
      ],
      "source": [
        "y_new.value_counts().plot(x='y_new',y = 'count',kind = 'bar')"
      ]
    },
    {
      "cell_type": "code",
      "execution_count": null,
      "id": "3b6d13cf",
      "metadata": {
        "id": "3b6d13cf",
        "outputId": "386c3013-6640-4b62-f1cc-9419eb1dbf22"
      },
      "outputs": [
        {
          "ename": "NameError",
          "evalue": "name 'y_new' is not defined",
          "output_type": "error",
          "traceback": [
            "\u001b[1;31m---------------------------------------------------------------------------\u001b[0m",
            "\u001b[1;31mNameError\u001b[0m                                 Traceback (most recent call last)",
            "\u001b[1;32m<ipython-input-47-5dfd540f4978>\u001b[0m in \u001b[0;36m<module>\u001b[1;34m\u001b[0m\n\u001b[1;32m----> 1\u001b[1;33m \u001b[0my_new\u001b[0m\u001b[1;33m.\u001b[0m\u001b[0mshape\u001b[0m\u001b[1;33m\u001b[0m\u001b[1;33m\u001b[0m\u001b[0m\n\u001b[0m",
            "\u001b[1;31mNameError\u001b[0m: name 'y_new' is not defined"
          ]
        }
      ],
      "source": [
        "y_new.shape"
      ]
    },
    {
      "cell_type": "markdown",
      "id": "9b757f26",
      "metadata": {
        "id": "9b757f26"
      },
      "source": [
        "### Split the dataset into Train and Test sets"
      ]
    },
    {
      "cell_type": "code",
      "execution_count": null,
      "id": "95342f41",
      "metadata": {
        "id": "95342f41",
        "outputId": "c1865ddf-721e-4002-c03a-e6900ed1fd32"
      },
      "outputs": [
        {
          "ename": "NameError",
          "evalue": "name 'X_new' is not defined",
          "output_type": "error",
          "traceback": [
            "\u001b[1;31m---------------------------------------------------------------------------\u001b[0m",
            "\u001b[1;31mNameError\u001b[0m                                 Traceback (most recent call last)",
            "\u001b[1;32m<ipython-input-48-f3d1867634eb>\u001b[0m in \u001b[0;36m<module>\u001b[1;34m\u001b[0m\n\u001b[0;32m      1\u001b[0m \u001b[1;31m#split data into training 80% and test 20%\u001b[0m\u001b[1;33m\u001b[0m\u001b[1;33m\u001b[0m\u001b[1;33m\u001b[0m\u001b[0m\n\u001b[1;32m----> 2\u001b[1;33m \u001b[0mX_train\u001b[0m\u001b[1;33m,\u001b[0m \u001b[0mX_test\u001b[0m\u001b[1;33m,\u001b[0m \u001b[0my_train\u001b[0m\u001b[1;33m,\u001b[0m \u001b[0my_test\u001b[0m \u001b[1;33m=\u001b[0m \u001b[0mtrain_test_split\u001b[0m\u001b[1;33m(\u001b[0m\u001b[0mX_new\u001b[0m\u001b[1;33m,\u001b[0m \u001b[0my_new\u001b[0m\u001b[1;33m,\u001b[0m \u001b[0mtest_size\u001b[0m\u001b[1;33m=\u001b[0m\u001b[1;36m0.20\u001b[0m\u001b[1;33m,\u001b[0m \u001b[0mrandom_state\u001b[0m\u001b[1;33m=\u001b[0m\u001b[1;36m2021\u001b[0m\u001b[1;33m)\u001b[0m\u001b[1;33m\u001b[0m\u001b[1;33m\u001b[0m\u001b[0m\n\u001b[0m",
            "\u001b[1;31mNameError\u001b[0m: name 'X_new' is not defined"
          ]
        }
      ],
      "source": [
        "#split data into training 80% and test 20%\n",
        "X_train, X_test, y_train, y_test = train_test_split(X_new, y_new, test_size=0.20, random_state=2021)"
      ]
    },
    {
      "cell_type": "code",
      "execution_count": null,
      "id": "e598d2a0",
      "metadata": {
        "id": "e598d2a0",
        "outputId": "85cdaff3-6434-47e6-d9a3-ebf509c65c0b"
      },
      "outputs": [
        {
          "ename": "NameError",
          "evalue": "name 'X_train' is not defined",
          "output_type": "error",
          "traceback": [
            "\u001b[1;31m---------------------------------------------------------------------------\u001b[0m",
            "\u001b[1;31mNameError\u001b[0m                                 Traceback (most recent call last)",
            "\u001b[1;32m<ipython-input-49-73020798007e>\u001b[0m in \u001b[0;36m<module>\u001b[1;34m\u001b[0m\n\u001b[1;32m----> 1\u001b[1;33m \u001b[0mX_train\u001b[0m\u001b[1;33m.\u001b[0m\u001b[0mhead\u001b[0m\u001b[1;33m(\u001b[0m\u001b[1;33m)\u001b[0m\u001b[1;33m\u001b[0m\u001b[1;33m\u001b[0m\u001b[0m\n\u001b[0m",
            "\u001b[1;31mNameError\u001b[0m: name 'X_train' is not defined"
          ]
        }
      ],
      "source": [
        "X_train.head()"
      ]
    },
    {
      "cell_type": "code",
      "execution_count": null,
      "id": "88228861",
      "metadata": {
        "id": "88228861",
        "outputId": "2c3a0faa-c955-49d5-afd8-f7a74d819e1d"
      },
      "outputs": [
        {
          "ename": "NameError",
          "evalue": "name 'X_train' is not defined",
          "output_type": "error",
          "traceback": [
            "\u001b[1;31m---------------------------------------------------------------------------\u001b[0m",
            "\u001b[1;31mNameError\u001b[0m                                 Traceback (most recent call last)",
            "\u001b[1;32m<ipython-input-50-90f789ba6443>\u001b[0m in \u001b[0;36m<module>\u001b[1;34m\u001b[0m\n\u001b[1;32m----> 1\u001b[1;33m \u001b[0mx_train\u001b[0m \u001b[1;33m=\u001b[0m \u001b[0mX_train\u001b[0m\u001b[1;33m.\u001b[0m\u001b[0miloc\u001b[0m\u001b[1;33m[\u001b[0m\u001b[1;33m:\u001b[0m\u001b[1;33m,\u001b[0m\u001b[1;36m0\u001b[0m\u001b[1;33m]\u001b[0m\u001b[1;33m\u001b[0m\u001b[1;33m\u001b[0m\u001b[0m\n\u001b[0m\u001b[0;32m      2\u001b[0m \u001b[0mx_train\u001b[0m\u001b[1;33m.\u001b[0m\u001b[0mhead\u001b[0m\u001b[1;33m(\u001b[0m\u001b[1;33m)\u001b[0m\u001b[1;33m\u001b[0m\u001b[1;33m\u001b[0m\u001b[0m\n",
            "\u001b[1;31mNameError\u001b[0m: name 'X_train' is not defined"
          ]
        }
      ],
      "source": [
        "x_train = X_train.iloc[:,0]\n",
        "x_train.head()"
      ]
    },
    {
      "cell_type": "markdown",
      "id": "739c6d05",
      "metadata": {
        "id": "739c6d05"
      },
      "source": [
        "### CountVectorizer - Feature Extraction"
      ]
    },
    {
      "cell_type": "code",
      "execution_count": null,
      "id": "773c26a2",
      "metadata": {
        "id": "773c26a2"
      },
      "outputs": [],
      "source": [
        "#using countvectorizer\n",
        "cv = CountVectorizer(max_features = 10000)"
      ]
    },
    {
      "cell_type": "code",
      "execution_count": null,
      "id": "e6fef536",
      "metadata": {
        "id": "e6fef536",
        "outputId": "f2f53e38-5439-4183-87f5-59bc0fa82fcc"
      },
      "outputs": [
        {
          "ename": "NameError",
          "evalue": "name 'x_train' is not defined",
          "output_type": "error",
          "traceback": [
            "\u001b[1;31m---------------------------------------------------------------------------\u001b[0m",
            "\u001b[1;31mNameError\u001b[0m                                 Traceback (most recent call last)",
            "\u001b[1;32m<ipython-input-52-58c9681c4b1c>\u001b[0m in \u001b[0;36m<module>\u001b[1;34m\u001b[0m\n\u001b[1;32m----> 1\u001b[1;33m \u001b[0mx\u001b[0m \u001b[1;33m=\u001b[0m \u001b[0mcv\u001b[0m\u001b[1;33m.\u001b[0m\u001b[0mfit_transform\u001b[0m\u001b[1;33m(\u001b[0m\u001b[0mx_train\u001b[0m\u001b[1;33m)\u001b[0m\u001b[1;33m.\u001b[0m\u001b[0mtoarray\u001b[0m\u001b[1;33m(\u001b[0m\u001b[1;33m)\u001b[0m\u001b[1;33m\u001b[0m\u001b[1;33m\u001b[0m\u001b[0m\n\u001b[0m\u001b[0;32m      2\u001b[0m \u001b[0mx\u001b[0m\u001b[1;33m\u001b[0m\u001b[1;33m\u001b[0m\u001b[0m\n",
            "\u001b[1;31mNameError\u001b[0m: name 'x_train' is not defined"
          ]
        }
      ],
      "source": [
        "x = cv.fit_transform(x_train).toarray()\n",
        "x"
      ]
    },
    {
      "cell_type": "code",
      "execution_count": null,
      "id": "72dd0040",
      "metadata": {
        "id": "72dd0040",
        "outputId": "36f918fb-17ca-487c-d77a-ce77d92aef3e"
      },
      "outputs": [
        {
          "ename": "NameError",
          "evalue": "name 'X_test' is not defined",
          "output_type": "error",
          "traceback": [
            "\u001b[1;31m---------------------------------------------------------------------------\u001b[0m",
            "\u001b[1;31mNameError\u001b[0m                                 Traceback (most recent call last)",
            "\u001b[1;32m<ipython-input-53-908489977849>\u001b[0m in \u001b[0;36m<module>\u001b[1;34m\u001b[0m\n\u001b[1;32m----> 1\u001b[1;33m \u001b[0mx_test\u001b[0m \u001b[1;33m=\u001b[0m \u001b[0mX_test\u001b[0m\u001b[1;33m.\u001b[0m\u001b[0miloc\u001b[0m\u001b[1;33m[\u001b[0m\u001b[1;33m:\u001b[0m\u001b[1;33m,\u001b[0m\u001b[1;36m0\u001b[0m\u001b[1;33m]\u001b[0m\u001b[1;33m\u001b[0m\u001b[1;33m\u001b[0m\u001b[0m\n\u001b[0m\u001b[0;32m      2\u001b[0m \u001b[0mx_test\u001b[0m\u001b[1;33m.\u001b[0m\u001b[0mhead\u001b[0m\u001b[1;33m(\u001b[0m\u001b[1;33m)\u001b[0m\u001b[1;33m\u001b[0m\u001b[1;33m\u001b[0m\u001b[0m\n",
            "\u001b[1;31mNameError\u001b[0m: name 'X_test' is not defined"
          ]
        }
      ],
      "source": [
        "x_test = X_test.iloc[:,0]\n",
        "x_test.head()"
      ]
    },
    {
      "cell_type": "code",
      "execution_count": null,
      "id": "32fe854a",
      "metadata": {
        "id": "32fe854a",
        "outputId": "e5d8547f-a37f-4e16-9dff-e8223a92dc0c"
      },
      "outputs": [
        {
          "ename": "NameError",
          "evalue": "name 'x_test' is not defined",
          "output_type": "error",
          "traceback": [
            "\u001b[1;31m---------------------------------------------------------------------------\u001b[0m",
            "\u001b[1;31mNameError\u001b[0m                                 Traceback (most recent call last)",
            "\u001b[1;32m<ipython-input-54-4f467dfaddaf>\u001b[0m in \u001b[0;36m<module>\u001b[1;34m\u001b[0m\n\u001b[1;32m----> 1\u001b[1;33m \u001b[0mtest_x\u001b[0m \u001b[1;33m=\u001b[0m \u001b[0mcv\u001b[0m\u001b[1;33m.\u001b[0m\u001b[0mtransform\u001b[0m\u001b[1;33m(\u001b[0m\u001b[0mx_test\u001b[0m\u001b[1;33m)\u001b[0m\u001b[1;33m.\u001b[0m\u001b[0mtoarray\u001b[0m\u001b[1;33m(\u001b[0m\u001b[1;33m)\u001b[0m\u001b[1;33m\u001b[0m\u001b[1;33m\u001b[0m\u001b[0m\n\u001b[0m\u001b[0;32m      2\u001b[0m \u001b[0mtest_x\u001b[0m\u001b[1;33m.\u001b[0m\u001b[0mshape\u001b[0m\u001b[1;33m\u001b[0m\u001b[1;33m\u001b[0m\u001b[0m\n",
            "\u001b[1;31mNameError\u001b[0m: name 'x_test' is not defined"
          ]
        }
      ],
      "source": [
        "test_x = cv.transform(x_test).toarray()\n",
        "test_x.shape"
      ]
    },
    {
      "cell_type": "markdown",
      "id": "13eb2dfb",
      "metadata": {
        "id": "13eb2dfb"
      },
      "source": [
        "### Model Fitting"
      ]
    },
    {
      "cell_type": "code",
      "execution_count": null,
      "id": "869a9ff5",
      "metadata": {
        "id": "869a9ff5"
      },
      "outputs": [],
      "source": [
        "# Creating empty lists to store model training time, model predicting time, model accuracy scores, model precision scores.\n",
        "training_time = []\n",
        "predicting_time = []\n",
        "accuracy_scores = []\n",
        "precision_scores = []\n",
        "recall_scores = []\n",
        "f1_scores = []"
      ]
    },
    {
      "cell_type": "code",
      "execution_count": null,
      "id": "cab30e38",
      "metadata": {
        "id": "cab30e38"
      },
      "outputs": [],
      "source": [
        "model1 = MultinomialNB()"
      ]
    },
    {
      "cell_type": "code",
      "execution_count": null,
      "id": "ce365fa4",
      "metadata": {
        "id": "ce365fa4",
        "outputId": "ccbfd06a-64e5-4136-8da3-2e6451843041"
      },
      "outputs": [
        {
          "ename": "NameError",
          "evalue": "name 'x' is not defined",
          "output_type": "error",
          "traceback": [
            "\u001b[1;31m---------------------------------------------------------------------------\u001b[0m",
            "\u001b[1;31mNameError\u001b[0m                                 Traceback (most recent call last)",
            "\u001b[1;32m<ipython-input-57-03ef65320b7a>\u001b[0m in \u001b[0;36m<module>\u001b[1;34m\u001b[0m\n\u001b[0;32m      1\u001b[0m \u001b[1;31m#train model and predict model training time\u001b[0m\u001b[1;33m\u001b[0m\u001b[1;33m\u001b[0m\u001b[1;33m\u001b[0m\u001b[0m\n\u001b[0;32m      2\u001b[0m \u001b[0mt0\u001b[0m \u001b[1;33m=\u001b[0m \u001b[0mtime\u001b[0m\u001b[1;33m(\u001b[0m\u001b[1;33m)\u001b[0m\u001b[1;33m\u001b[0m\u001b[1;33m\u001b[0m\u001b[0m\n\u001b[1;32m----> 3\u001b[1;33m \u001b[0mmodel1\u001b[0m\u001b[1;33m.\u001b[0m\u001b[0mfit\u001b[0m\u001b[1;33m(\u001b[0m\u001b[0mx\u001b[0m\u001b[1;33m,\u001b[0m \u001b[0my_train\u001b[0m\u001b[1;33m)\u001b[0m\u001b[1;33m\u001b[0m\u001b[1;33m\u001b[0m\u001b[0m\n\u001b[0m\u001b[0;32m      4\u001b[0m \u001b[0mprint\u001b[0m\u001b[1;33m(\u001b[0m\u001b[1;34m\"\\nTraining time:\"\u001b[0m\u001b[1;33m,\u001b[0m \u001b[0mround\u001b[0m\u001b[1;33m(\u001b[0m\u001b[0mtime\u001b[0m\u001b[1;33m(\u001b[0m\u001b[1;33m)\u001b[0m\u001b[1;33m-\u001b[0m\u001b[0mt0\u001b[0m\u001b[1;33m,\u001b[0m \u001b[1;36m3\u001b[0m\u001b[1;33m)\u001b[0m\u001b[1;33m,\u001b[0m \u001b[1;34m\"s\\n\"\u001b[0m\u001b[1;33m)\u001b[0m\u001b[1;33m\u001b[0m\u001b[1;33m\u001b[0m\u001b[0m\n\u001b[0;32m      5\u001b[0m \u001b[0mtraining_time\u001b[0m\u001b[1;33m.\u001b[0m\u001b[0mappend\u001b[0m\u001b[1;33m(\u001b[0m\u001b[0mround\u001b[0m\u001b[1;33m(\u001b[0m\u001b[0mtime\u001b[0m\u001b[1;33m(\u001b[0m\u001b[1;33m)\u001b[0m\u001b[1;33m-\u001b[0m\u001b[0mt0\u001b[0m\u001b[1;33m,\u001b[0m \u001b[1;36m3\u001b[0m\u001b[1;33m)\u001b[0m\u001b[1;33m)\u001b[0m\u001b[1;33m\u001b[0m\u001b[1;33m\u001b[0m\u001b[0m\n",
            "\u001b[1;31mNameError\u001b[0m: name 'x' is not defined"
          ]
        }
      ],
      "source": [
        "#train model and predict model training time\n",
        "t0 = time()\n",
        "model1.fit(x, y_train)\n",
        "print(\"\\nTraining time:\", round(time()-t0, 3), \"s\\n\")\n",
        "training_time.append(round(time()-t0, 3))"
      ]
    },
    {
      "cell_type": "code",
      "execution_count": null,
      "id": "7cb91907",
      "metadata": {
        "id": "7cb91907",
        "outputId": "c788c68f-6f7c-47b5-8823-504970cbb09b"
      },
      "outputs": [
        {
          "ename": "NameError",
          "evalue": "name 'test_x' is not defined",
          "output_type": "error",
          "traceback": [
            "\u001b[1;31m---------------------------------------------------------------------------\u001b[0m",
            "\u001b[1;31mNameError\u001b[0m                                 Traceback (most recent call last)",
            "\u001b[1;32m<ipython-input-58-d8bba45cd9fd>\u001b[0m in \u001b[0;36m<module>\u001b[1;34m\u001b[0m\n\u001b[0;32m      1\u001b[0m \u001b[1;31m# Predit using the trained model\u001b[0m\u001b[1;33m\u001b[0m\u001b[1;33m\u001b[0m\u001b[1;33m\u001b[0m\u001b[0m\n\u001b[0;32m      2\u001b[0m \u001b[0mt1\u001b[0m \u001b[1;33m=\u001b[0m \u001b[0mtime\u001b[0m\u001b[1;33m(\u001b[0m\u001b[1;33m)\u001b[0m\u001b[1;33m\u001b[0m\u001b[1;33m\u001b[0m\u001b[0m\n\u001b[1;32m----> 3\u001b[1;33m \u001b[0mpredicted\u001b[0m \u001b[1;33m=\u001b[0m \u001b[0mmodel1\u001b[0m\u001b[1;33m.\u001b[0m\u001b[0mpredict\u001b[0m\u001b[1;33m(\u001b[0m\u001b[0mtest_x\u001b[0m\u001b[1;33m)\u001b[0m\u001b[1;33m\u001b[0m\u001b[1;33m\u001b[0m\u001b[0m\n\u001b[0m\u001b[0;32m      4\u001b[0m \u001b[0mprint\u001b[0m\u001b[1;33m(\u001b[0m\u001b[1;34m\"Predicting time:\"\u001b[0m\u001b[1;33m,\u001b[0m \u001b[0mround\u001b[0m\u001b[1;33m(\u001b[0m\u001b[0mtime\u001b[0m\u001b[1;33m(\u001b[0m\u001b[1;33m)\u001b[0m\u001b[1;33m-\u001b[0m\u001b[0mt1\u001b[0m\u001b[1;33m,\u001b[0m \u001b[1;36m3\u001b[0m\u001b[1;33m)\u001b[0m\u001b[1;33m,\u001b[0m \u001b[1;34m\"s\\n\"\u001b[0m\u001b[1;33m)\u001b[0m\u001b[1;33m\u001b[0m\u001b[1;33m\u001b[0m\u001b[0m\n\u001b[0;32m      5\u001b[0m \u001b[0mpredicting_time\u001b[0m\u001b[1;33m.\u001b[0m\u001b[0mappend\u001b[0m\u001b[1;33m(\u001b[0m\u001b[0mround\u001b[0m\u001b[1;33m(\u001b[0m\u001b[0mtime\u001b[0m\u001b[1;33m(\u001b[0m\u001b[1;33m)\u001b[0m\u001b[1;33m-\u001b[0m\u001b[0mt1\u001b[0m\u001b[1;33m,\u001b[0m \u001b[1;36m3\u001b[0m\u001b[1;33m)\u001b[0m\u001b[1;33m)\u001b[0m\u001b[1;33m\u001b[0m\u001b[1;33m\u001b[0m\u001b[0m\n",
            "\u001b[1;31mNameError\u001b[0m: name 'test_x' is not defined"
          ]
        }
      ],
      "source": [
        "# Predit using the trained model\n",
        "t1 = time()\n",
        "predicted = model1.predict(test_x)\n",
        "print(\"Predicting time:\", round(time()-t1, 3), \"s\\n\")\n",
        "predicting_time.append(round(time()-t1, 3))"
      ]
    },
    {
      "cell_type": "code",
      "execution_count": null,
      "id": "c311713a",
      "metadata": {
        "id": "c311713a",
        "outputId": "1af8fd96-e27e-4874-e096-ac15f0f73db5"
      },
      "outputs": [
        {
          "ename": "NameError",
          "evalue": "name 'y_test' is not defined",
          "output_type": "error",
          "traceback": [
            "\u001b[1;31m---------------------------------------------------------------------------\u001b[0m",
            "\u001b[1;31mNameError\u001b[0m                                 Traceback (most recent call last)",
            "\u001b[1;32m<ipython-input-59-9c0690d76aeb>\u001b[0m in \u001b[0;36m<module>\u001b[1;34m\u001b[0m\n\u001b[0;32m      2\u001b[0m \u001b[1;32mfrom\u001b[0m \u001b[0msklearn\u001b[0m\u001b[1;33m.\u001b[0m\u001b[0mmetrics\u001b[0m \u001b[1;32mimport\u001b[0m \u001b[0mprecision_recall_fscore_support\u001b[0m\u001b[1;33m\u001b[0m\u001b[1;33m\u001b[0m\u001b[0m\n\u001b[0;32m      3\u001b[0m \u001b[1;33m\u001b[0m\u001b[0m\n\u001b[1;32m----> 4\u001b[1;33m \u001b[0mprint\u001b[0m\u001b[1;33m(\u001b[0m\u001b[1;34m'\\nAccuracy Score'\u001b[0m\u001b[1;33m,\u001b[0m\u001b[0maccuracy_score\u001b[0m\u001b[1;33m(\u001b[0m\u001b[0my_test\u001b[0m\u001b[1;33m,\u001b[0m\u001b[0mpredicted\u001b[0m\u001b[1;33m)\u001b[0m\u001b[1;33m)\u001b[0m\u001b[1;33m\u001b[0m\u001b[1;33m\u001b[0m\u001b[0m\n\u001b[0m\u001b[0;32m      5\u001b[0m \u001b[1;33m\u001b[0m\u001b[0m\n\u001b[0;32m      6\u001b[0m \u001b[0maccuracy_scores\u001b[0m\u001b[1;33m.\u001b[0m\u001b[0mappend\u001b[0m\u001b[1;33m(\u001b[0m\u001b[0maccuracy_score\u001b[0m\u001b[1;33m(\u001b[0m\u001b[0my_test\u001b[0m\u001b[1;33m,\u001b[0m\u001b[0mpredicted\u001b[0m\u001b[1;33m)\u001b[0m\u001b[1;33m.\u001b[0m\u001b[0mround\u001b[0m\u001b[1;33m(\u001b[0m\u001b[1;36m2\u001b[0m\u001b[1;33m)\u001b[0m\u001b[1;33m)\u001b[0m\u001b[1;33m\u001b[0m\u001b[1;33m\u001b[0m\u001b[0m\n",
            "\u001b[1;31mNameError\u001b[0m: name 'y_test' is not defined"
          ]
        }
      ],
      "source": [
        "## Evaluate model - Accuracy, Precision, Recall\n",
        "from sklearn.metrics import precision_recall_fscore_support\n",
        "\n",
        "print('\\nAccuracy Score',accuracy_score(y_test,predicted))\n",
        "\n",
        "accuracy_scores.append(accuracy_score(y_test,predicted).round(2))\n",
        "\n",
        "print(\"Classification Report:\\n\",classification_report(y_test, predicted))\n",
        "clf_rep = precision_recall_fscore_support(y_test,predicted)\n",
        "precision_scores.append(clf_rep[0][0].round(2))\n",
        "recall_scores.append(clf_rep[1][0].round(2))\n",
        "f1_scores.append(clf_rep[2][0].round(2))\n",
        "\n",
        "## Plot confusion matrix\n",
        "print(\"confusion matrix:\\n\",confusion_matrix(y_test, predicted))"
      ]
    },
    {
      "cell_type": "code",
      "execution_count": null,
      "id": "4e82981a",
      "metadata": {
        "id": "4e82981a"
      },
      "outputs": [],
      "source": [
        "model2 = GaussianNB()"
      ]
    },
    {
      "cell_type": "code",
      "execution_count": null,
      "id": "90aba788",
      "metadata": {
        "id": "90aba788",
        "outputId": "270b4120-ddb6-4851-eed9-348bd73a07dd"
      },
      "outputs": [
        {
          "ename": "NameError",
          "evalue": "name 'x' is not defined",
          "output_type": "error",
          "traceback": [
            "\u001b[1;31m---------------------------------------------------------------------------\u001b[0m",
            "\u001b[1;31mNameError\u001b[0m                                 Traceback (most recent call last)",
            "\u001b[1;32m<ipython-input-61-664b3d991502>\u001b[0m in \u001b[0;36m<module>\u001b[1;34m\u001b[0m\n\u001b[0;32m      1\u001b[0m \u001b[1;31m#train model and predict model training time\u001b[0m\u001b[1;33m\u001b[0m\u001b[1;33m\u001b[0m\u001b[1;33m\u001b[0m\u001b[0m\n\u001b[0;32m      2\u001b[0m \u001b[0mt0\u001b[0m \u001b[1;33m=\u001b[0m \u001b[0mtime\u001b[0m\u001b[1;33m(\u001b[0m\u001b[1;33m)\u001b[0m\u001b[1;33m\u001b[0m\u001b[1;33m\u001b[0m\u001b[0m\n\u001b[1;32m----> 3\u001b[1;33m \u001b[0mmodel2\u001b[0m\u001b[1;33m.\u001b[0m\u001b[0mfit\u001b[0m\u001b[1;33m(\u001b[0m\u001b[0mx\u001b[0m\u001b[1;33m,\u001b[0m \u001b[0my_train\u001b[0m\u001b[1;33m)\u001b[0m\u001b[1;33m\u001b[0m\u001b[1;33m\u001b[0m\u001b[0m\n\u001b[0m\u001b[0;32m      4\u001b[0m \u001b[0mprint\u001b[0m\u001b[1;33m(\u001b[0m\u001b[1;34m\"\\nTraining time:\"\u001b[0m\u001b[1;33m,\u001b[0m \u001b[0mround\u001b[0m\u001b[1;33m(\u001b[0m\u001b[0mtime\u001b[0m\u001b[1;33m(\u001b[0m\u001b[1;33m)\u001b[0m\u001b[1;33m-\u001b[0m\u001b[0mt0\u001b[0m\u001b[1;33m,\u001b[0m \u001b[1;36m3\u001b[0m\u001b[1;33m)\u001b[0m\u001b[1;33m,\u001b[0m \u001b[1;34m\"s\\n\"\u001b[0m\u001b[1;33m)\u001b[0m\u001b[1;33m\u001b[0m\u001b[1;33m\u001b[0m\u001b[0m\n\u001b[0;32m      5\u001b[0m \u001b[0mtraining_time\u001b[0m\u001b[1;33m.\u001b[0m\u001b[0mappend\u001b[0m\u001b[1;33m(\u001b[0m\u001b[0mround\u001b[0m\u001b[1;33m(\u001b[0m\u001b[0mtime\u001b[0m\u001b[1;33m(\u001b[0m\u001b[1;33m)\u001b[0m\u001b[1;33m-\u001b[0m\u001b[0mt0\u001b[0m\u001b[1;33m,\u001b[0m \u001b[1;36m3\u001b[0m\u001b[1;33m)\u001b[0m\u001b[1;33m)\u001b[0m\u001b[1;33m\u001b[0m\u001b[1;33m\u001b[0m\u001b[0m\n",
            "\u001b[1;31mNameError\u001b[0m: name 'x' is not defined"
          ]
        }
      ],
      "source": [
        "#train model and predict model training time\n",
        "t0 = time()\n",
        "model2.fit(x, y_train)\n",
        "print(\"\\nTraining time:\", round(time()-t0, 3), \"s\\n\")\n",
        "training_time.append(round(time()-t0, 3))"
      ]
    },
    {
      "cell_type": "code",
      "execution_count": null,
      "id": "f090436e",
      "metadata": {
        "id": "f090436e",
        "outputId": "e260f51d-4330-4c2b-80bc-55853b2bd671"
      },
      "outputs": [
        {
          "ename": "NameError",
          "evalue": "name 'test_x' is not defined",
          "output_type": "error",
          "traceback": [
            "\u001b[1;31m---------------------------------------------------------------------------\u001b[0m",
            "\u001b[1;31mNameError\u001b[0m                                 Traceback (most recent call last)",
            "\u001b[1;32m<ipython-input-62-f6686918d19c>\u001b[0m in \u001b[0;36m<module>\u001b[1;34m\u001b[0m\n\u001b[0;32m      1\u001b[0m \u001b[1;31m# Predit using the trained model\u001b[0m\u001b[1;33m\u001b[0m\u001b[1;33m\u001b[0m\u001b[1;33m\u001b[0m\u001b[0m\n\u001b[0;32m      2\u001b[0m \u001b[0mt1\u001b[0m \u001b[1;33m=\u001b[0m \u001b[0mtime\u001b[0m\u001b[1;33m(\u001b[0m\u001b[1;33m)\u001b[0m\u001b[1;33m\u001b[0m\u001b[1;33m\u001b[0m\u001b[0m\n\u001b[1;32m----> 3\u001b[1;33m \u001b[0mpredicted\u001b[0m \u001b[1;33m=\u001b[0m \u001b[0mmodel2\u001b[0m\u001b[1;33m.\u001b[0m\u001b[0mpredict\u001b[0m\u001b[1;33m(\u001b[0m\u001b[0mtest_x\u001b[0m\u001b[1;33m)\u001b[0m\u001b[1;33m\u001b[0m\u001b[1;33m\u001b[0m\u001b[0m\n\u001b[0m\u001b[0;32m      4\u001b[0m \u001b[0mprint\u001b[0m\u001b[1;33m(\u001b[0m\u001b[1;34m\"Predicting time:\"\u001b[0m\u001b[1;33m,\u001b[0m \u001b[0mround\u001b[0m\u001b[1;33m(\u001b[0m\u001b[0mtime\u001b[0m\u001b[1;33m(\u001b[0m\u001b[1;33m)\u001b[0m\u001b[1;33m-\u001b[0m\u001b[0mt1\u001b[0m\u001b[1;33m,\u001b[0m \u001b[1;36m3\u001b[0m\u001b[1;33m)\u001b[0m\u001b[1;33m,\u001b[0m \u001b[1;34m\"s\\n\"\u001b[0m\u001b[1;33m)\u001b[0m\u001b[1;33m\u001b[0m\u001b[1;33m\u001b[0m\u001b[0m\n\u001b[0;32m      5\u001b[0m \u001b[0mpredicting_time\u001b[0m\u001b[1;33m.\u001b[0m\u001b[0mappend\u001b[0m\u001b[1;33m(\u001b[0m\u001b[0mround\u001b[0m\u001b[1;33m(\u001b[0m\u001b[0mtime\u001b[0m\u001b[1;33m(\u001b[0m\u001b[1;33m)\u001b[0m\u001b[1;33m-\u001b[0m\u001b[0mt1\u001b[0m\u001b[1;33m,\u001b[0m \u001b[1;36m3\u001b[0m\u001b[1;33m)\u001b[0m\u001b[1;33m)\u001b[0m\u001b[1;33m\u001b[0m\u001b[1;33m\u001b[0m\u001b[0m\n",
            "\u001b[1;31mNameError\u001b[0m: name 'test_x' is not defined"
          ]
        }
      ],
      "source": [
        "# Predit using the trained model\n",
        "t1 = time()\n",
        "predicted = model2.predict(test_x)\n",
        "print(\"Predicting time:\", round(time()-t1, 3), \"s\\n\")\n",
        "predicting_time.append(round(time()-t1, 3))"
      ]
    },
    {
      "cell_type": "code",
      "execution_count": null,
      "id": "9e9f7f41",
      "metadata": {
        "id": "9e9f7f41",
        "outputId": "f6c70e7a-53f9-4c0a-cba4-29ef59a34f07"
      },
      "outputs": [
        {
          "ename": "NameError",
          "evalue": "name 'y_test' is not defined",
          "output_type": "error",
          "traceback": [
            "\u001b[1;31m---------------------------------------------------------------------------\u001b[0m",
            "\u001b[1;31mNameError\u001b[0m                                 Traceback (most recent call last)",
            "\u001b[1;32m<ipython-input-63-9c0690d76aeb>\u001b[0m in \u001b[0;36m<module>\u001b[1;34m\u001b[0m\n\u001b[0;32m      2\u001b[0m \u001b[1;32mfrom\u001b[0m \u001b[0msklearn\u001b[0m\u001b[1;33m.\u001b[0m\u001b[0mmetrics\u001b[0m \u001b[1;32mimport\u001b[0m \u001b[0mprecision_recall_fscore_support\u001b[0m\u001b[1;33m\u001b[0m\u001b[1;33m\u001b[0m\u001b[0m\n\u001b[0;32m      3\u001b[0m \u001b[1;33m\u001b[0m\u001b[0m\n\u001b[1;32m----> 4\u001b[1;33m \u001b[0mprint\u001b[0m\u001b[1;33m(\u001b[0m\u001b[1;34m'\\nAccuracy Score'\u001b[0m\u001b[1;33m,\u001b[0m\u001b[0maccuracy_score\u001b[0m\u001b[1;33m(\u001b[0m\u001b[0my_test\u001b[0m\u001b[1;33m,\u001b[0m\u001b[0mpredicted\u001b[0m\u001b[1;33m)\u001b[0m\u001b[1;33m)\u001b[0m\u001b[1;33m\u001b[0m\u001b[1;33m\u001b[0m\u001b[0m\n\u001b[0m\u001b[0;32m      5\u001b[0m \u001b[1;33m\u001b[0m\u001b[0m\n\u001b[0;32m      6\u001b[0m \u001b[0maccuracy_scores\u001b[0m\u001b[1;33m.\u001b[0m\u001b[0mappend\u001b[0m\u001b[1;33m(\u001b[0m\u001b[0maccuracy_score\u001b[0m\u001b[1;33m(\u001b[0m\u001b[0my_test\u001b[0m\u001b[1;33m,\u001b[0m\u001b[0mpredicted\u001b[0m\u001b[1;33m)\u001b[0m\u001b[1;33m.\u001b[0m\u001b[0mround\u001b[0m\u001b[1;33m(\u001b[0m\u001b[1;36m2\u001b[0m\u001b[1;33m)\u001b[0m\u001b[1;33m)\u001b[0m\u001b[1;33m\u001b[0m\u001b[1;33m\u001b[0m\u001b[0m\n",
            "\u001b[1;31mNameError\u001b[0m: name 'y_test' is not defined"
          ]
        }
      ],
      "source": [
        "## Evaluate model - Accuracy, Precision, Recall\n",
        "from sklearn.metrics import precision_recall_fscore_support\n",
        "\n",
        "print('\\nAccuracy Score',accuracy_score(y_test,predicted))\n",
        "\n",
        "accuracy_scores.append(accuracy_score(y_test,predicted).round(2))\n",
        "\n",
        "print(\"Classification Report:\\n\",classification_report(y_test, predicted))\n",
        "clf_rep = precision_recall_fscore_support(y_test,predicted)\n",
        "precision_scores.append(clf_rep[0][0].round(2))\n",
        "recall_scores.append(clf_rep[1][0].round(2))\n",
        "f1_scores.append(clf_rep[2][0].round(2))\n",
        "\n",
        "## Plot confusion matrix\n",
        "print(\"confusion matrix:\\n\",confusion_matrix(y_test, predicted))"
      ]
    },
    {
      "cell_type": "code",
      "execution_count": null,
      "id": "202e75b0",
      "metadata": {
        "id": "202e75b0"
      },
      "outputs": [],
      "source": [
        "model3 = tree.DecisionTreeClassifier()"
      ]
    },
    {
      "cell_type": "code",
      "execution_count": null,
      "id": "11221f32",
      "metadata": {
        "id": "11221f32",
        "outputId": "bd693794-9100-424f-8839-996b860ac1f5"
      },
      "outputs": [
        {
          "ename": "NameError",
          "evalue": "name 'x' is not defined",
          "output_type": "error",
          "traceback": [
            "\u001b[1;31m---------------------------------------------------------------------------\u001b[0m",
            "\u001b[1;31mNameError\u001b[0m                                 Traceback (most recent call last)",
            "\u001b[1;32m<ipython-input-65-333b2f2b3e1d>\u001b[0m in \u001b[0;36m<module>\u001b[1;34m\u001b[0m\n\u001b[0;32m      1\u001b[0m \u001b[1;31m#train model and predict model training time\u001b[0m\u001b[1;33m\u001b[0m\u001b[1;33m\u001b[0m\u001b[1;33m\u001b[0m\u001b[0m\n\u001b[0;32m      2\u001b[0m \u001b[0mt0\u001b[0m \u001b[1;33m=\u001b[0m \u001b[0mtime\u001b[0m\u001b[1;33m(\u001b[0m\u001b[1;33m)\u001b[0m\u001b[1;33m\u001b[0m\u001b[1;33m\u001b[0m\u001b[0m\n\u001b[1;32m----> 3\u001b[1;33m \u001b[0mmodel3\u001b[0m\u001b[1;33m.\u001b[0m\u001b[0mfit\u001b[0m\u001b[1;33m(\u001b[0m\u001b[0mx\u001b[0m\u001b[1;33m,\u001b[0m \u001b[0my_train\u001b[0m\u001b[1;33m)\u001b[0m\u001b[1;33m\u001b[0m\u001b[1;33m\u001b[0m\u001b[0m\n\u001b[0m\u001b[0;32m      4\u001b[0m \u001b[0mprint\u001b[0m\u001b[1;33m(\u001b[0m\u001b[1;34m\"\\nTraining time:\"\u001b[0m\u001b[1;33m,\u001b[0m \u001b[0mround\u001b[0m\u001b[1;33m(\u001b[0m\u001b[0mtime\u001b[0m\u001b[1;33m(\u001b[0m\u001b[1;33m)\u001b[0m\u001b[1;33m-\u001b[0m\u001b[0mt0\u001b[0m\u001b[1;33m,\u001b[0m \u001b[1;36m3\u001b[0m\u001b[1;33m)\u001b[0m\u001b[1;33m,\u001b[0m \u001b[1;34m\"s\\n\"\u001b[0m\u001b[1;33m)\u001b[0m\u001b[1;33m\u001b[0m\u001b[1;33m\u001b[0m\u001b[0m\n\u001b[0;32m      5\u001b[0m \u001b[0mtraining_time\u001b[0m\u001b[1;33m.\u001b[0m\u001b[0mappend\u001b[0m\u001b[1;33m(\u001b[0m\u001b[0mround\u001b[0m\u001b[1;33m(\u001b[0m\u001b[0mtime\u001b[0m\u001b[1;33m(\u001b[0m\u001b[1;33m)\u001b[0m\u001b[1;33m-\u001b[0m\u001b[0mt0\u001b[0m\u001b[1;33m,\u001b[0m \u001b[1;36m3\u001b[0m\u001b[1;33m)\u001b[0m\u001b[1;33m)\u001b[0m\u001b[1;33m\u001b[0m\u001b[1;33m\u001b[0m\u001b[0m\n",
            "\u001b[1;31mNameError\u001b[0m: name 'x' is not defined"
          ]
        }
      ],
      "source": [
        "#train model and predict model training time\n",
        "t0 = time()\n",
        "model3.fit(x, y_train)\n",
        "print(\"\\nTraining time:\", round(time()-t0, 3), \"s\\n\")\n",
        "training_time.append(round(time()-t0, 3))"
      ]
    },
    {
      "cell_type": "code",
      "execution_count": null,
      "id": "1f1c8d36",
      "metadata": {
        "id": "1f1c8d36",
        "outputId": "6255e89a-0049-4958-c41b-e017ab903ad0"
      },
      "outputs": [
        {
          "ename": "NameError",
          "evalue": "name 'test_x' is not defined",
          "output_type": "error",
          "traceback": [
            "\u001b[1;31m---------------------------------------------------------------------------\u001b[0m",
            "\u001b[1;31mNameError\u001b[0m                                 Traceback (most recent call last)",
            "\u001b[1;32m<ipython-input-66-a9b7f8d5108b>\u001b[0m in \u001b[0;36m<module>\u001b[1;34m\u001b[0m\n\u001b[0;32m      1\u001b[0m \u001b[1;31m# Predit using the trained model\u001b[0m\u001b[1;33m\u001b[0m\u001b[1;33m\u001b[0m\u001b[1;33m\u001b[0m\u001b[0m\n\u001b[0;32m      2\u001b[0m \u001b[0mt1\u001b[0m \u001b[1;33m=\u001b[0m \u001b[0mtime\u001b[0m\u001b[1;33m(\u001b[0m\u001b[1;33m)\u001b[0m\u001b[1;33m\u001b[0m\u001b[1;33m\u001b[0m\u001b[0m\n\u001b[1;32m----> 3\u001b[1;33m \u001b[0mpredicted\u001b[0m \u001b[1;33m=\u001b[0m \u001b[0mmodel3\u001b[0m\u001b[1;33m.\u001b[0m\u001b[0mpredict\u001b[0m\u001b[1;33m(\u001b[0m\u001b[0mtest_x\u001b[0m\u001b[1;33m)\u001b[0m\u001b[1;33m\u001b[0m\u001b[1;33m\u001b[0m\u001b[0m\n\u001b[0m\u001b[0;32m      4\u001b[0m \u001b[0mprint\u001b[0m\u001b[1;33m(\u001b[0m\u001b[1;34m\"Predicting time:\"\u001b[0m\u001b[1;33m,\u001b[0m \u001b[0mround\u001b[0m\u001b[1;33m(\u001b[0m\u001b[0mtime\u001b[0m\u001b[1;33m(\u001b[0m\u001b[1;33m)\u001b[0m\u001b[1;33m-\u001b[0m\u001b[0mt1\u001b[0m\u001b[1;33m,\u001b[0m \u001b[1;36m3\u001b[0m\u001b[1;33m)\u001b[0m\u001b[1;33m,\u001b[0m \u001b[1;34m\"s\\n\"\u001b[0m\u001b[1;33m)\u001b[0m\u001b[1;33m\u001b[0m\u001b[1;33m\u001b[0m\u001b[0m\n\u001b[0;32m      5\u001b[0m \u001b[0mpredicting_time\u001b[0m\u001b[1;33m.\u001b[0m\u001b[0mappend\u001b[0m\u001b[1;33m(\u001b[0m\u001b[0mround\u001b[0m\u001b[1;33m(\u001b[0m\u001b[0mtime\u001b[0m\u001b[1;33m(\u001b[0m\u001b[1;33m)\u001b[0m\u001b[1;33m-\u001b[0m\u001b[0mt1\u001b[0m\u001b[1;33m,\u001b[0m \u001b[1;36m3\u001b[0m\u001b[1;33m)\u001b[0m\u001b[1;33m)\u001b[0m\u001b[1;33m\u001b[0m\u001b[1;33m\u001b[0m\u001b[0m\n",
            "\u001b[1;31mNameError\u001b[0m: name 'test_x' is not defined"
          ]
        }
      ],
      "source": [
        "# Predit using the trained model\n",
        "t1 = time()\n",
        "predicted = model3.predict(test_x)\n",
        "print(\"Predicting time:\", round(time()-t1, 3), \"s\\n\")\n",
        "predicting_time.append(round(time()-t1, 3))"
      ]
    },
    {
      "cell_type": "code",
      "execution_count": null,
      "id": "00b487c6",
      "metadata": {
        "id": "00b487c6",
        "outputId": "36791afc-fdab-4e52-bbb9-8e69d598bdba"
      },
      "outputs": [
        {
          "ename": "NameError",
          "evalue": "name 'y_test' is not defined",
          "output_type": "error",
          "traceback": [
            "\u001b[1;31m---------------------------------------------------------------------------\u001b[0m",
            "\u001b[1;31mNameError\u001b[0m                                 Traceback (most recent call last)",
            "\u001b[1;32m<ipython-input-67-9c0690d76aeb>\u001b[0m in \u001b[0;36m<module>\u001b[1;34m\u001b[0m\n\u001b[0;32m      2\u001b[0m \u001b[1;32mfrom\u001b[0m \u001b[0msklearn\u001b[0m\u001b[1;33m.\u001b[0m\u001b[0mmetrics\u001b[0m \u001b[1;32mimport\u001b[0m \u001b[0mprecision_recall_fscore_support\u001b[0m\u001b[1;33m\u001b[0m\u001b[1;33m\u001b[0m\u001b[0m\n\u001b[0;32m      3\u001b[0m \u001b[1;33m\u001b[0m\u001b[0m\n\u001b[1;32m----> 4\u001b[1;33m \u001b[0mprint\u001b[0m\u001b[1;33m(\u001b[0m\u001b[1;34m'\\nAccuracy Score'\u001b[0m\u001b[1;33m,\u001b[0m\u001b[0maccuracy_score\u001b[0m\u001b[1;33m(\u001b[0m\u001b[0my_test\u001b[0m\u001b[1;33m,\u001b[0m\u001b[0mpredicted\u001b[0m\u001b[1;33m)\u001b[0m\u001b[1;33m)\u001b[0m\u001b[1;33m\u001b[0m\u001b[1;33m\u001b[0m\u001b[0m\n\u001b[0m\u001b[0;32m      5\u001b[0m \u001b[1;33m\u001b[0m\u001b[0m\n\u001b[0;32m      6\u001b[0m \u001b[0maccuracy_scores\u001b[0m\u001b[1;33m.\u001b[0m\u001b[0mappend\u001b[0m\u001b[1;33m(\u001b[0m\u001b[0maccuracy_score\u001b[0m\u001b[1;33m(\u001b[0m\u001b[0my_test\u001b[0m\u001b[1;33m,\u001b[0m\u001b[0mpredicted\u001b[0m\u001b[1;33m)\u001b[0m\u001b[1;33m.\u001b[0m\u001b[0mround\u001b[0m\u001b[1;33m(\u001b[0m\u001b[1;36m2\u001b[0m\u001b[1;33m)\u001b[0m\u001b[1;33m)\u001b[0m\u001b[1;33m\u001b[0m\u001b[1;33m\u001b[0m\u001b[0m\n",
            "\u001b[1;31mNameError\u001b[0m: name 'y_test' is not defined"
          ]
        }
      ],
      "source": [
        "## Evaluate model - Accuracy, Precision, Recall\n",
        "from sklearn.metrics import precision_recall_fscore_support\n",
        "\n",
        "print('\\nAccuracy Score',accuracy_score(y_test,predicted))\n",
        "\n",
        "accuracy_scores.append(accuracy_score(y_test,predicted).round(2))\n",
        "\n",
        "print(\"Classification Report:\\n\",classification_report(y_test, predicted))\n",
        "clf_rep = precision_recall_fscore_support(y_test,predicted)\n",
        "precision_scores.append(clf_rep[0][0].round(2))\n",
        "recall_scores.append(clf_rep[1][0].round(2))\n",
        "f1_scores.append(clf_rep[2][0].round(2))\n",
        "\n",
        "## Plot confusion matrix\n",
        "print(\"confusion matrix:\\n\",confusion_matrix(y_test, predicted))"
      ]
    },
    {
      "cell_type": "code",
      "execution_count": null,
      "id": "9e66bbac",
      "metadata": {
        "id": "9e66bbac"
      },
      "outputs": [],
      "source": [
        "model5 = KNeighborsClassifier(n_neighbors=5, metric='euclidean')"
      ]
    },
    {
      "cell_type": "code",
      "execution_count": null,
      "id": "10210f45",
      "metadata": {
        "id": "10210f45",
        "outputId": "2748569f-0f5f-4943-c735-1c4e0b2753e2"
      },
      "outputs": [
        {
          "ename": "NameError",
          "evalue": "name 'x' is not defined",
          "output_type": "error",
          "traceback": [
            "\u001b[1;31m---------------------------------------------------------------------------\u001b[0m",
            "\u001b[1;31mNameError\u001b[0m                                 Traceback (most recent call last)",
            "\u001b[1;32m<ipython-input-69-464a970c7bb0>\u001b[0m in \u001b[0;36m<module>\u001b[1;34m\u001b[0m\n\u001b[0;32m      1\u001b[0m \u001b[1;31m#train model and predict model training time\u001b[0m\u001b[1;33m\u001b[0m\u001b[1;33m\u001b[0m\u001b[1;33m\u001b[0m\u001b[0m\n\u001b[0;32m      2\u001b[0m \u001b[0mt0\u001b[0m \u001b[1;33m=\u001b[0m \u001b[0mtime\u001b[0m\u001b[1;33m(\u001b[0m\u001b[1;33m)\u001b[0m\u001b[1;33m\u001b[0m\u001b[1;33m\u001b[0m\u001b[0m\n\u001b[1;32m----> 3\u001b[1;33m \u001b[0mmodel5\u001b[0m\u001b[1;33m.\u001b[0m\u001b[0mfit\u001b[0m\u001b[1;33m(\u001b[0m\u001b[0mx\u001b[0m\u001b[1;33m,\u001b[0m \u001b[0my_train\u001b[0m\u001b[1;33m)\u001b[0m\u001b[1;33m\u001b[0m\u001b[1;33m\u001b[0m\u001b[0m\n\u001b[0m\u001b[0;32m      4\u001b[0m \u001b[0mprint\u001b[0m\u001b[1;33m(\u001b[0m\u001b[1;34m\"\\nTraining time:\"\u001b[0m\u001b[1;33m,\u001b[0m \u001b[0mround\u001b[0m\u001b[1;33m(\u001b[0m\u001b[0mtime\u001b[0m\u001b[1;33m(\u001b[0m\u001b[1;33m)\u001b[0m\u001b[1;33m-\u001b[0m\u001b[0mt0\u001b[0m\u001b[1;33m,\u001b[0m \u001b[1;36m3\u001b[0m\u001b[1;33m)\u001b[0m\u001b[1;33m,\u001b[0m \u001b[1;34m\"s\\n\"\u001b[0m\u001b[1;33m)\u001b[0m\u001b[1;33m\u001b[0m\u001b[1;33m\u001b[0m\u001b[0m\n\u001b[0;32m      5\u001b[0m \u001b[0mtraining_time\u001b[0m\u001b[1;33m.\u001b[0m\u001b[0mappend\u001b[0m\u001b[1;33m(\u001b[0m\u001b[0mround\u001b[0m\u001b[1;33m(\u001b[0m\u001b[0mtime\u001b[0m\u001b[1;33m(\u001b[0m\u001b[1;33m)\u001b[0m\u001b[1;33m-\u001b[0m\u001b[0mt0\u001b[0m\u001b[1;33m,\u001b[0m \u001b[1;36m3\u001b[0m\u001b[1;33m)\u001b[0m\u001b[1;33m)\u001b[0m\u001b[1;33m\u001b[0m\u001b[1;33m\u001b[0m\u001b[0m\n",
            "\u001b[1;31mNameError\u001b[0m: name 'x' is not defined"
          ]
        }
      ],
      "source": [
        "#train model and predict model training time\n",
        "t0 = time()\n",
        "model5.fit(x, y_train)\n",
        "print(\"\\nTraining time:\", round(time()-t0, 3), \"s\\n\")\n",
        "training_time.append(round(time()-t0, 3))"
      ]
    },
    {
      "cell_type": "code",
      "execution_count": null,
      "id": "2553794d",
      "metadata": {
        "id": "2553794d",
        "outputId": "225e4c2c-d541-4429-97ba-50e6900ee99c"
      },
      "outputs": [
        {
          "ename": "NameError",
          "evalue": "name 'test_x' is not defined",
          "output_type": "error",
          "traceback": [
            "\u001b[1;31m---------------------------------------------------------------------------\u001b[0m",
            "\u001b[1;31mNameError\u001b[0m                                 Traceback (most recent call last)",
            "\u001b[1;32m<ipython-input-70-ce7e92f4389b>\u001b[0m in \u001b[0;36m<module>\u001b[1;34m\u001b[0m\n\u001b[0;32m      1\u001b[0m \u001b[1;31m# Predit using the trained model\u001b[0m\u001b[1;33m\u001b[0m\u001b[1;33m\u001b[0m\u001b[1;33m\u001b[0m\u001b[0m\n\u001b[0;32m      2\u001b[0m \u001b[0mt1\u001b[0m \u001b[1;33m=\u001b[0m \u001b[0mtime\u001b[0m\u001b[1;33m(\u001b[0m\u001b[1;33m)\u001b[0m\u001b[1;33m\u001b[0m\u001b[1;33m\u001b[0m\u001b[0m\n\u001b[1;32m----> 3\u001b[1;33m \u001b[0mpredicted\u001b[0m \u001b[1;33m=\u001b[0m \u001b[0mmodel5\u001b[0m\u001b[1;33m.\u001b[0m\u001b[0mpredict\u001b[0m\u001b[1;33m(\u001b[0m\u001b[0mtest_x\u001b[0m\u001b[1;33m)\u001b[0m\u001b[1;33m\u001b[0m\u001b[1;33m\u001b[0m\u001b[0m\n\u001b[0m\u001b[0;32m      4\u001b[0m \u001b[0mprint\u001b[0m\u001b[1;33m(\u001b[0m\u001b[1;34m\"Predicting time:\"\u001b[0m\u001b[1;33m,\u001b[0m \u001b[0mround\u001b[0m\u001b[1;33m(\u001b[0m\u001b[0mtime\u001b[0m\u001b[1;33m(\u001b[0m\u001b[1;33m)\u001b[0m\u001b[1;33m-\u001b[0m\u001b[0mt1\u001b[0m\u001b[1;33m,\u001b[0m \u001b[1;36m3\u001b[0m\u001b[1;33m)\u001b[0m\u001b[1;33m,\u001b[0m \u001b[1;34m\"s\\n\"\u001b[0m\u001b[1;33m)\u001b[0m\u001b[1;33m\u001b[0m\u001b[1;33m\u001b[0m\u001b[0m\n\u001b[0;32m      5\u001b[0m \u001b[0mpredicting_time\u001b[0m\u001b[1;33m.\u001b[0m\u001b[0mappend\u001b[0m\u001b[1;33m(\u001b[0m\u001b[0mround\u001b[0m\u001b[1;33m(\u001b[0m\u001b[0mtime\u001b[0m\u001b[1;33m(\u001b[0m\u001b[1;33m)\u001b[0m\u001b[1;33m-\u001b[0m\u001b[0mt1\u001b[0m\u001b[1;33m,\u001b[0m \u001b[1;36m3\u001b[0m\u001b[1;33m)\u001b[0m\u001b[1;33m)\u001b[0m\u001b[1;33m\u001b[0m\u001b[1;33m\u001b[0m\u001b[0m\n",
            "\u001b[1;31mNameError\u001b[0m: name 'test_x' is not defined"
          ]
        }
      ],
      "source": [
        "# Predit using the trained model\n",
        "t1 = time()\n",
        "predicted = model5.predict(test_x)\n",
        "print(\"Predicting time:\", round(time()-t1, 3), \"s\\n\")\n",
        "predicting_time.append(round(time()-t1, 3))"
      ]
    },
    {
      "cell_type": "code",
      "execution_count": null,
      "id": "461f3f9c",
      "metadata": {
        "id": "461f3f9c",
        "outputId": "7ecaf7fe-aab4-4bdd-e4fa-302ebad5e65e"
      },
      "outputs": [
        {
          "ename": "NameError",
          "evalue": "name 'y_test' is not defined",
          "output_type": "error",
          "traceback": [
            "\u001b[1;31m---------------------------------------------------------------------------\u001b[0m",
            "\u001b[1;31mNameError\u001b[0m                                 Traceback (most recent call last)",
            "\u001b[1;32m<ipython-input-71-9c0690d76aeb>\u001b[0m in \u001b[0;36m<module>\u001b[1;34m\u001b[0m\n\u001b[0;32m      2\u001b[0m \u001b[1;32mfrom\u001b[0m \u001b[0msklearn\u001b[0m\u001b[1;33m.\u001b[0m\u001b[0mmetrics\u001b[0m \u001b[1;32mimport\u001b[0m \u001b[0mprecision_recall_fscore_support\u001b[0m\u001b[1;33m\u001b[0m\u001b[1;33m\u001b[0m\u001b[0m\n\u001b[0;32m      3\u001b[0m \u001b[1;33m\u001b[0m\u001b[0m\n\u001b[1;32m----> 4\u001b[1;33m \u001b[0mprint\u001b[0m\u001b[1;33m(\u001b[0m\u001b[1;34m'\\nAccuracy Score'\u001b[0m\u001b[1;33m,\u001b[0m\u001b[0maccuracy_score\u001b[0m\u001b[1;33m(\u001b[0m\u001b[0my_test\u001b[0m\u001b[1;33m,\u001b[0m\u001b[0mpredicted\u001b[0m\u001b[1;33m)\u001b[0m\u001b[1;33m)\u001b[0m\u001b[1;33m\u001b[0m\u001b[1;33m\u001b[0m\u001b[0m\n\u001b[0m\u001b[0;32m      5\u001b[0m \u001b[1;33m\u001b[0m\u001b[0m\n\u001b[0;32m      6\u001b[0m \u001b[0maccuracy_scores\u001b[0m\u001b[1;33m.\u001b[0m\u001b[0mappend\u001b[0m\u001b[1;33m(\u001b[0m\u001b[0maccuracy_score\u001b[0m\u001b[1;33m(\u001b[0m\u001b[0my_test\u001b[0m\u001b[1;33m,\u001b[0m\u001b[0mpredicted\u001b[0m\u001b[1;33m)\u001b[0m\u001b[1;33m.\u001b[0m\u001b[0mround\u001b[0m\u001b[1;33m(\u001b[0m\u001b[1;36m2\u001b[0m\u001b[1;33m)\u001b[0m\u001b[1;33m)\u001b[0m\u001b[1;33m\u001b[0m\u001b[1;33m\u001b[0m\u001b[0m\n",
            "\u001b[1;31mNameError\u001b[0m: name 'y_test' is not defined"
          ]
        }
      ],
      "source": [
        "## Evaluate model - Accuracy, Precision, Recall\n",
        "from sklearn.metrics import precision_recall_fscore_support\n",
        "\n",
        "print('\\nAccuracy Score',accuracy_score(y_test,predicted))\n",
        "\n",
        "accuracy_scores.append(accuracy_score(y_test,predicted).round(2))\n",
        "\n",
        "print(\"Classification Report:\\n\",classification_report(y_test, predicted))\n",
        "clf_rep = precision_recall_fscore_support(y_test,predicted)\n",
        "precision_scores.append(clf_rep[0][0].round(2))\n",
        "recall_scores.append(clf_rep[1][0].round(2))\n",
        "f1_scores.append(clf_rep[2][0].round(2))\n",
        "\n",
        "## Plot confusion matrix\n",
        "print(\"confusion matrix:\\n\",confusion_matrix(y_test, predicted))"
      ]
    },
    {
      "cell_type": "code",
      "execution_count": null,
      "id": "15397c8b",
      "metadata": {
        "id": "15397c8b"
      },
      "outputs": [],
      "source": [
        "model6 = LogisticRegression(max_iter=2000)"
      ]
    },
    {
      "cell_type": "code",
      "execution_count": null,
      "id": "78b433a8",
      "metadata": {
        "id": "78b433a8",
        "outputId": "a0a65c77-f2de-48d8-e2f3-502f528ed89e"
      },
      "outputs": [
        {
          "ename": "NameError",
          "evalue": "name 'x' is not defined",
          "output_type": "error",
          "traceback": [
            "\u001b[1;31m---------------------------------------------------------------------------\u001b[0m",
            "\u001b[1;31mNameError\u001b[0m                                 Traceback (most recent call last)",
            "\u001b[1;32m<ipython-input-73-ebd5d3e27a95>\u001b[0m in \u001b[0;36m<module>\u001b[1;34m\u001b[0m\n\u001b[0;32m      1\u001b[0m \u001b[1;31m#train model and predict model training time\u001b[0m\u001b[1;33m\u001b[0m\u001b[1;33m\u001b[0m\u001b[1;33m\u001b[0m\u001b[0m\n\u001b[0;32m      2\u001b[0m \u001b[0mt0\u001b[0m \u001b[1;33m=\u001b[0m \u001b[0mtime\u001b[0m\u001b[1;33m(\u001b[0m\u001b[1;33m)\u001b[0m\u001b[1;33m\u001b[0m\u001b[1;33m\u001b[0m\u001b[0m\n\u001b[1;32m----> 3\u001b[1;33m \u001b[0mmodel6\u001b[0m\u001b[1;33m.\u001b[0m\u001b[0mfit\u001b[0m\u001b[1;33m(\u001b[0m\u001b[0mx\u001b[0m\u001b[1;33m,\u001b[0m \u001b[0my_train\u001b[0m\u001b[1;33m)\u001b[0m\u001b[1;33m\u001b[0m\u001b[1;33m\u001b[0m\u001b[0m\n\u001b[0m\u001b[0;32m      4\u001b[0m \u001b[0mprint\u001b[0m\u001b[1;33m(\u001b[0m\u001b[1;34m\"\\nTraining time:\"\u001b[0m\u001b[1;33m,\u001b[0m \u001b[0mround\u001b[0m\u001b[1;33m(\u001b[0m\u001b[0mtime\u001b[0m\u001b[1;33m(\u001b[0m\u001b[1;33m)\u001b[0m\u001b[1;33m-\u001b[0m\u001b[0mt0\u001b[0m\u001b[1;33m,\u001b[0m \u001b[1;36m3\u001b[0m\u001b[1;33m)\u001b[0m\u001b[1;33m,\u001b[0m \u001b[1;34m\"s\\n\"\u001b[0m\u001b[1;33m)\u001b[0m\u001b[1;33m\u001b[0m\u001b[1;33m\u001b[0m\u001b[0m\n\u001b[0;32m      5\u001b[0m \u001b[0mtraining_time\u001b[0m\u001b[1;33m.\u001b[0m\u001b[0mappend\u001b[0m\u001b[1;33m(\u001b[0m\u001b[0mround\u001b[0m\u001b[1;33m(\u001b[0m\u001b[0mtime\u001b[0m\u001b[1;33m(\u001b[0m\u001b[1;33m)\u001b[0m\u001b[1;33m-\u001b[0m\u001b[0mt0\u001b[0m\u001b[1;33m,\u001b[0m \u001b[1;36m3\u001b[0m\u001b[1;33m)\u001b[0m\u001b[1;33m)\u001b[0m\u001b[1;33m\u001b[0m\u001b[1;33m\u001b[0m\u001b[0m\n",
            "\u001b[1;31mNameError\u001b[0m: name 'x' is not defined"
          ]
        }
      ],
      "source": [
        "#train model and predict model training time\n",
        "t0 = time()\n",
        "model6.fit(x, y_train)\n",
        "print(\"\\nTraining time:\", round(time()-t0, 3), \"s\\n\")\n",
        "training_time.append(round(time()-t0, 3))"
      ]
    },
    {
      "cell_type": "code",
      "execution_count": null,
      "id": "2a3a9e37",
      "metadata": {
        "id": "2a3a9e37",
        "outputId": "6b49fe52-07e7-4c9a-c999-db0d5754cc57"
      },
      "outputs": [
        {
          "ename": "NameError",
          "evalue": "name 'test_x' is not defined",
          "output_type": "error",
          "traceback": [
            "\u001b[1;31m---------------------------------------------------------------------------\u001b[0m",
            "\u001b[1;31mNameError\u001b[0m                                 Traceback (most recent call last)",
            "\u001b[1;32m<ipython-input-74-21d2be3e520c>\u001b[0m in \u001b[0;36m<module>\u001b[1;34m\u001b[0m\n\u001b[0;32m      1\u001b[0m \u001b[1;31m# Predit using the trained model\u001b[0m\u001b[1;33m\u001b[0m\u001b[1;33m\u001b[0m\u001b[1;33m\u001b[0m\u001b[0m\n\u001b[0;32m      2\u001b[0m \u001b[0mt1\u001b[0m \u001b[1;33m=\u001b[0m \u001b[0mtime\u001b[0m\u001b[1;33m(\u001b[0m\u001b[1;33m)\u001b[0m\u001b[1;33m\u001b[0m\u001b[1;33m\u001b[0m\u001b[0m\n\u001b[1;32m----> 3\u001b[1;33m \u001b[0mpredicted\u001b[0m \u001b[1;33m=\u001b[0m \u001b[0mmodel6\u001b[0m\u001b[1;33m.\u001b[0m\u001b[0mpredict\u001b[0m\u001b[1;33m(\u001b[0m\u001b[0mtest_x\u001b[0m\u001b[1;33m)\u001b[0m\u001b[1;33m\u001b[0m\u001b[1;33m\u001b[0m\u001b[0m\n\u001b[0m\u001b[0;32m      4\u001b[0m \u001b[0mprint\u001b[0m\u001b[1;33m(\u001b[0m\u001b[1;34m\"Predicting time:\"\u001b[0m\u001b[1;33m,\u001b[0m \u001b[0mround\u001b[0m\u001b[1;33m(\u001b[0m\u001b[0mtime\u001b[0m\u001b[1;33m(\u001b[0m\u001b[1;33m)\u001b[0m\u001b[1;33m-\u001b[0m\u001b[0mt1\u001b[0m\u001b[1;33m,\u001b[0m \u001b[1;36m3\u001b[0m\u001b[1;33m)\u001b[0m\u001b[1;33m,\u001b[0m \u001b[1;34m\"s\\n\"\u001b[0m\u001b[1;33m)\u001b[0m\u001b[1;33m\u001b[0m\u001b[1;33m\u001b[0m\u001b[0m\n\u001b[0;32m      5\u001b[0m \u001b[0mpredicting_time\u001b[0m\u001b[1;33m.\u001b[0m\u001b[0mappend\u001b[0m\u001b[1;33m(\u001b[0m\u001b[0mround\u001b[0m\u001b[1;33m(\u001b[0m\u001b[0mtime\u001b[0m\u001b[1;33m(\u001b[0m\u001b[1;33m)\u001b[0m\u001b[1;33m-\u001b[0m\u001b[0mt1\u001b[0m\u001b[1;33m,\u001b[0m \u001b[1;36m3\u001b[0m\u001b[1;33m)\u001b[0m\u001b[1;33m)\u001b[0m\u001b[1;33m\u001b[0m\u001b[1;33m\u001b[0m\u001b[0m\n",
            "\u001b[1;31mNameError\u001b[0m: name 'test_x' is not defined"
          ]
        }
      ],
      "source": [
        "# Predit using the trained model\n",
        "t1 = time()\n",
        "predicted = model6.predict(test_x)\n",
        "print(\"Predicting time:\", round(time()-t1, 3), \"s\\n\")\n",
        "predicting_time.append(round(time()-t1, 3))"
      ]
    },
    {
      "cell_type": "code",
      "execution_count": null,
      "id": "de9eed83",
      "metadata": {
        "id": "de9eed83",
        "outputId": "da9152a2-6283-4975-b022-6c5c0915712f"
      },
      "outputs": [
        {
          "ename": "NameError",
          "evalue": "name 'y_test' is not defined",
          "output_type": "error",
          "traceback": [
            "\u001b[1;31m---------------------------------------------------------------------------\u001b[0m",
            "\u001b[1;31mNameError\u001b[0m                                 Traceback (most recent call last)",
            "\u001b[1;32m<ipython-input-75-9c0690d76aeb>\u001b[0m in \u001b[0;36m<module>\u001b[1;34m\u001b[0m\n\u001b[0;32m      2\u001b[0m \u001b[1;32mfrom\u001b[0m \u001b[0msklearn\u001b[0m\u001b[1;33m.\u001b[0m\u001b[0mmetrics\u001b[0m \u001b[1;32mimport\u001b[0m \u001b[0mprecision_recall_fscore_support\u001b[0m\u001b[1;33m\u001b[0m\u001b[1;33m\u001b[0m\u001b[0m\n\u001b[0;32m      3\u001b[0m \u001b[1;33m\u001b[0m\u001b[0m\n\u001b[1;32m----> 4\u001b[1;33m \u001b[0mprint\u001b[0m\u001b[1;33m(\u001b[0m\u001b[1;34m'\\nAccuracy Score'\u001b[0m\u001b[1;33m,\u001b[0m\u001b[0maccuracy_score\u001b[0m\u001b[1;33m(\u001b[0m\u001b[0my_test\u001b[0m\u001b[1;33m,\u001b[0m\u001b[0mpredicted\u001b[0m\u001b[1;33m)\u001b[0m\u001b[1;33m)\u001b[0m\u001b[1;33m\u001b[0m\u001b[1;33m\u001b[0m\u001b[0m\n\u001b[0m\u001b[0;32m      5\u001b[0m \u001b[1;33m\u001b[0m\u001b[0m\n\u001b[0;32m      6\u001b[0m \u001b[0maccuracy_scores\u001b[0m\u001b[1;33m.\u001b[0m\u001b[0mappend\u001b[0m\u001b[1;33m(\u001b[0m\u001b[0maccuracy_score\u001b[0m\u001b[1;33m(\u001b[0m\u001b[0my_test\u001b[0m\u001b[1;33m,\u001b[0m\u001b[0mpredicted\u001b[0m\u001b[1;33m)\u001b[0m\u001b[1;33m.\u001b[0m\u001b[0mround\u001b[0m\u001b[1;33m(\u001b[0m\u001b[1;36m2\u001b[0m\u001b[1;33m)\u001b[0m\u001b[1;33m)\u001b[0m\u001b[1;33m\u001b[0m\u001b[1;33m\u001b[0m\u001b[0m\n",
            "\u001b[1;31mNameError\u001b[0m: name 'y_test' is not defined"
          ]
        }
      ],
      "source": [
        "## Evaluate model - Accuracy, Precision, Recall\n",
        "from sklearn.metrics import precision_recall_fscore_support\n",
        "\n",
        "print('\\nAccuracy Score',accuracy_score(y_test,predicted))\n",
        "\n",
        "accuracy_scores.append(accuracy_score(y_test,predicted).round(2))\n",
        "\n",
        "print(\"Classification Report:\\n\",classification_report(y_test, predicted))\n",
        "clf_rep = precision_recall_fscore_support(y_test,predicted)\n",
        "precision_scores.append(clf_rep[0][0].round(2))\n",
        "recall_scores.append(clf_rep[1][0].round(2))\n",
        "f1_scores.append(clf_rep[2][0].round(2))\n",
        "\n",
        "## Plot confusion matrix\n",
        "print(\"confusion matrix:\\n\",confusion_matrix(y_test, predicted))"
      ]
    },
    {
      "cell_type": "code",
      "execution_count": null,
      "id": "d24c9629",
      "metadata": {
        "id": "d24c9629"
      },
      "outputs": [],
      "source": [
        "model7 = SVC(kernel='linear',gamma='auto')"
      ]
    },
    {
      "cell_type": "code",
      "execution_count": null,
      "id": "c8e731e3",
      "metadata": {
        "id": "c8e731e3",
        "outputId": "f15ebaae-2bd4-4df2-b11f-7b5e0d56ac84"
      },
      "outputs": [
        {
          "ename": "NameError",
          "evalue": "name 'x' is not defined",
          "output_type": "error",
          "traceback": [
            "\u001b[1;31m---------------------------------------------------------------------------\u001b[0m",
            "\u001b[1;31mNameError\u001b[0m                                 Traceback (most recent call last)",
            "\u001b[1;32m<ipython-input-77-0bcc37b1875c>\u001b[0m in \u001b[0;36m<module>\u001b[1;34m\u001b[0m\n\u001b[0;32m      1\u001b[0m \u001b[1;31m#train model and predict model training time\u001b[0m\u001b[1;33m\u001b[0m\u001b[1;33m\u001b[0m\u001b[1;33m\u001b[0m\u001b[0m\n\u001b[0;32m      2\u001b[0m \u001b[0mt0\u001b[0m \u001b[1;33m=\u001b[0m \u001b[0mtime\u001b[0m\u001b[1;33m(\u001b[0m\u001b[1;33m)\u001b[0m\u001b[1;33m\u001b[0m\u001b[1;33m\u001b[0m\u001b[0m\n\u001b[1;32m----> 3\u001b[1;33m \u001b[0mmodel7\u001b[0m\u001b[1;33m.\u001b[0m\u001b[0mfit\u001b[0m\u001b[1;33m(\u001b[0m\u001b[0mx\u001b[0m\u001b[1;33m,\u001b[0m \u001b[0my_train\u001b[0m\u001b[1;33m)\u001b[0m\u001b[1;33m\u001b[0m\u001b[1;33m\u001b[0m\u001b[0m\n\u001b[0m\u001b[0;32m      4\u001b[0m \u001b[0mprint\u001b[0m\u001b[1;33m(\u001b[0m\u001b[1;34m\"\\nTraining time:\"\u001b[0m\u001b[1;33m,\u001b[0m \u001b[0mround\u001b[0m\u001b[1;33m(\u001b[0m\u001b[0mtime\u001b[0m\u001b[1;33m(\u001b[0m\u001b[1;33m)\u001b[0m\u001b[1;33m-\u001b[0m\u001b[0mt0\u001b[0m\u001b[1;33m,\u001b[0m \u001b[1;36m3\u001b[0m\u001b[1;33m)\u001b[0m\u001b[1;33m,\u001b[0m \u001b[1;34m\"s\\n\"\u001b[0m\u001b[1;33m)\u001b[0m\u001b[1;33m\u001b[0m\u001b[1;33m\u001b[0m\u001b[0m\n\u001b[0;32m      5\u001b[0m \u001b[0mtraining_time\u001b[0m\u001b[1;33m.\u001b[0m\u001b[0mappend\u001b[0m\u001b[1;33m(\u001b[0m\u001b[0mround\u001b[0m\u001b[1;33m(\u001b[0m\u001b[0mtime\u001b[0m\u001b[1;33m(\u001b[0m\u001b[1;33m)\u001b[0m\u001b[1;33m-\u001b[0m\u001b[0mt0\u001b[0m\u001b[1;33m,\u001b[0m \u001b[1;36m3\u001b[0m\u001b[1;33m)\u001b[0m\u001b[1;33m)\u001b[0m\u001b[1;33m\u001b[0m\u001b[1;33m\u001b[0m\u001b[0m\n",
            "\u001b[1;31mNameError\u001b[0m: name 'x' is not defined"
          ]
        }
      ],
      "source": [
        "#train model and predict model training time\n",
        "t0 = time()\n",
        "model7.fit(x, y_train)\n",
        "print(\"\\nTraining time:\", round(time()-t0, 3), \"s\\n\")\n",
        "training_time.append(round(time()-t0, 3))"
      ]
    },
    {
      "cell_type": "code",
      "execution_count": null,
      "id": "4371c112",
      "metadata": {
        "id": "4371c112",
        "outputId": "b904d0cb-15b4-43ff-ade6-f32cb43d21ba"
      },
      "outputs": [
        {
          "ename": "NameError",
          "evalue": "name 'test_x' is not defined",
          "output_type": "error",
          "traceback": [
            "\u001b[1;31m---------------------------------------------------------------------------\u001b[0m",
            "\u001b[1;31mNameError\u001b[0m                                 Traceback (most recent call last)",
            "\u001b[1;32m<ipython-input-78-586dda0e1c6a>\u001b[0m in \u001b[0;36m<module>\u001b[1;34m\u001b[0m\n\u001b[0;32m      1\u001b[0m \u001b[1;31m# Predit using the trained model\u001b[0m\u001b[1;33m\u001b[0m\u001b[1;33m\u001b[0m\u001b[1;33m\u001b[0m\u001b[0m\n\u001b[0;32m      2\u001b[0m \u001b[0mt1\u001b[0m \u001b[1;33m=\u001b[0m \u001b[0mtime\u001b[0m\u001b[1;33m(\u001b[0m\u001b[1;33m)\u001b[0m\u001b[1;33m\u001b[0m\u001b[1;33m\u001b[0m\u001b[0m\n\u001b[1;32m----> 3\u001b[1;33m \u001b[0mpredicted\u001b[0m \u001b[1;33m=\u001b[0m \u001b[0mmodel7\u001b[0m\u001b[1;33m.\u001b[0m\u001b[0mpredict\u001b[0m\u001b[1;33m(\u001b[0m\u001b[0mtest_x\u001b[0m\u001b[1;33m)\u001b[0m\u001b[1;33m\u001b[0m\u001b[1;33m\u001b[0m\u001b[0m\n\u001b[0m\u001b[0;32m      4\u001b[0m \u001b[0mprint\u001b[0m\u001b[1;33m(\u001b[0m\u001b[1;34m\"Predicting time:\"\u001b[0m\u001b[1;33m,\u001b[0m \u001b[0mround\u001b[0m\u001b[1;33m(\u001b[0m\u001b[0mtime\u001b[0m\u001b[1;33m(\u001b[0m\u001b[1;33m)\u001b[0m\u001b[1;33m-\u001b[0m\u001b[0mt1\u001b[0m\u001b[1;33m,\u001b[0m \u001b[1;36m3\u001b[0m\u001b[1;33m)\u001b[0m\u001b[1;33m,\u001b[0m \u001b[1;34m\"s\\n\"\u001b[0m\u001b[1;33m)\u001b[0m\u001b[1;33m\u001b[0m\u001b[1;33m\u001b[0m\u001b[0m\n\u001b[0;32m      5\u001b[0m \u001b[0mpredicting_time\u001b[0m\u001b[1;33m.\u001b[0m\u001b[0mappend\u001b[0m\u001b[1;33m(\u001b[0m\u001b[0mround\u001b[0m\u001b[1;33m(\u001b[0m\u001b[0mtime\u001b[0m\u001b[1;33m(\u001b[0m\u001b[1;33m)\u001b[0m\u001b[1;33m-\u001b[0m\u001b[0mt1\u001b[0m\u001b[1;33m,\u001b[0m \u001b[1;36m3\u001b[0m\u001b[1;33m)\u001b[0m\u001b[1;33m)\u001b[0m\u001b[1;33m\u001b[0m\u001b[1;33m\u001b[0m\u001b[0m\n",
            "\u001b[1;31mNameError\u001b[0m: name 'test_x' is not defined"
          ]
        }
      ],
      "source": [
        "# Predit using the trained model\n",
        "t1 = time()\n",
        "predicted = model7.predict(test_x)\n",
        "print(\"Predicting time:\", round(time()-t1, 3), \"s\\n\")\n",
        "predicting_time.append(round(time()-t1, 3))"
      ]
    },
    {
      "cell_type": "code",
      "execution_count": null,
      "id": "b022100b",
      "metadata": {
        "id": "b022100b",
        "outputId": "313acd59-4d00-4385-cd95-33b55fd16709"
      },
      "outputs": [
        {
          "ename": "NameError",
          "evalue": "name 'y_test' is not defined",
          "output_type": "error",
          "traceback": [
            "\u001b[1;31m---------------------------------------------------------------------------\u001b[0m",
            "\u001b[1;31mNameError\u001b[0m                                 Traceback (most recent call last)",
            "\u001b[1;32m<ipython-input-79-9c0690d76aeb>\u001b[0m in \u001b[0;36m<module>\u001b[1;34m\u001b[0m\n\u001b[0;32m      2\u001b[0m \u001b[1;32mfrom\u001b[0m \u001b[0msklearn\u001b[0m\u001b[1;33m.\u001b[0m\u001b[0mmetrics\u001b[0m \u001b[1;32mimport\u001b[0m \u001b[0mprecision_recall_fscore_support\u001b[0m\u001b[1;33m\u001b[0m\u001b[1;33m\u001b[0m\u001b[0m\n\u001b[0;32m      3\u001b[0m \u001b[1;33m\u001b[0m\u001b[0m\n\u001b[1;32m----> 4\u001b[1;33m \u001b[0mprint\u001b[0m\u001b[1;33m(\u001b[0m\u001b[1;34m'\\nAccuracy Score'\u001b[0m\u001b[1;33m,\u001b[0m\u001b[0maccuracy_score\u001b[0m\u001b[1;33m(\u001b[0m\u001b[0my_test\u001b[0m\u001b[1;33m,\u001b[0m\u001b[0mpredicted\u001b[0m\u001b[1;33m)\u001b[0m\u001b[1;33m)\u001b[0m\u001b[1;33m\u001b[0m\u001b[1;33m\u001b[0m\u001b[0m\n\u001b[0m\u001b[0;32m      5\u001b[0m \u001b[1;33m\u001b[0m\u001b[0m\n\u001b[0;32m      6\u001b[0m \u001b[0maccuracy_scores\u001b[0m\u001b[1;33m.\u001b[0m\u001b[0mappend\u001b[0m\u001b[1;33m(\u001b[0m\u001b[0maccuracy_score\u001b[0m\u001b[1;33m(\u001b[0m\u001b[0my_test\u001b[0m\u001b[1;33m,\u001b[0m\u001b[0mpredicted\u001b[0m\u001b[1;33m)\u001b[0m\u001b[1;33m.\u001b[0m\u001b[0mround\u001b[0m\u001b[1;33m(\u001b[0m\u001b[1;36m2\u001b[0m\u001b[1;33m)\u001b[0m\u001b[1;33m)\u001b[0m\u001b[1;33m\u001b[0m\u001b[1;33m\u001b[0m\u001b[0m\n",
            "\u001b[1;31mNameError\u001b[0m: name 'y_test' is not defined"
          ]
        }
      ],
      "source": [
        "## Evaluate model - Accuracy, Precision, Recall\n",
        "from sklearn.metrics import precision_recall_fscore_support\n",
        "\n",
        "print('\\nAccuracy Score',accuracy_score(y_test,predicted))\n",
        "\n",
        "accuracy_scores.append(accuracy_score(y_test,predicted).round(2))\n",
        "\n",
        "print(\"Classification Report:\\n\",classification_report(y_test, predicted))\n",
        "clf_rep = precision_recall_fscore_support(y_test,predicted)\n",
        "precision_scores.append(clf_rep[0][0].round(2))\n",
        "recall_scores.append(clf_rep[1][0].round(2))\n",
        "f1_scores.append(clf_rep[2][0].round(2))\n",
        "\n",
        "## Plot confusion matrix\n",
        "print(\"confusion matrix:\\n\",confusion_matrix(y_test, predicted))"
      ]
    },
    {
      "cell_type": "code",
      "execution_count": null,
      "id": "5ef8d23d",
      "metadata": {
        "id": "5ef8d23d"
      },
      "outputs": [],
      "source": [
        "from keras.wrappers.scikit_learn import KerasClassifier\n",
        "\n",
        "# create model\n",
        "def create_model():\n",
        "    model8 = Sequential()\n",
        "    model8.add(Dense(10, input_dim=10000, kernel_initializer='uniform', activation='relu'))\n",
        "    model8.add(Dense(1, kernel_initializer='uniform', activation='sigmoid'))\n",
        "    \n",
        "    adam=Adam(lr=0.01)\n",
        "    model8.compile(loss='binary_crossentropy', optimizer=adam, metrics=['accuracy'])\n",
        "    return model8\n",
        "\n",
        "# Create the model\n",
        "\n",
        "model8 = KerasClassifier(build_fn=create_model,verbose = 0, batch_size = 10, epochs = 50 )"
      ]
    },
    {
      "cell_type": "code",
      "execution_count": null,
      "id": "9f0226cd",
      "metadata": {
        "id": "9f0226cd",
        "outputId": "d770d1f8-96af-45af-a6ee-4e3779b3805d"
      },
      "outputs": [
        {
          "ename": "NameError",
          "evalue": "name 'x' is not defined",
          "output_type": "error",
          "traceback": [
            "\u001b[1;31m---------------------------------------------------------------------------\u001b[0m",
            "\u001b[1;31mNameError\u001b[0m                                 Traceback (most recent call last)",
            "\u001b[1;32m<ipython-input-81-0e013e541559>\u001b[0m in \u001b[0;36m<module>\u001b[1;34m\u001b[0m\n\u001b[0;32m      1\u001b[0m \u001b[0mt0\u001b[0m \u001b[1;33m=\u001b[0m \u001b[0mtime\u001b[0m\u001b[1;33m(\u001b[0m\u001b[1;33m)\u001b[0m\u001b[1;33m\u001b[0m\u001b[1;33m\u001b[0m\u001b[0m\n\u001b[1;32m----> 2\u001b[1;33m \u001b[0mnn\u001b[0m \u001b[1;33m=\u001b[0m \u001b[0mmodel8\u001b[0m\u001b[1;33m.\u001b[0m\u001b[0mfit\u001b[0m\u001b[1;33m(\u001b[0m\u001b[0mx\u001b[0m\u001b[1;33m,\u001b[0m \u001b[0my_train\u001b[0m\u001b[1;33m)\u001b[0m\u001b[1;33m\u001b[0m\u001b[1;33m\u001b[0m\u001b[0m\n\u001b[0m\u001b[0;32m      3\u001b[0m \u001b[0mprint\u001b[0m\u001b[1;33m(\u001b[0m\u001b[1;34m\"\\nTraining time:\"\u001b[0m\u001b[1;33m,\u001b[0m \u001b[0mround\u001b[0m\u001b[1;33m(\u001b[0m\u001b[0mtime\u001b[0m\u001b[1;33m(\u001b[0m\u001b[1;33m)\u001b[0m\u001b[1;33m-\u001b[0m\u001b[0mt0\u001b[0m\u001b[1;33m,\u001b[0m \u001b[1;36m3\u001b[0m\u001b[1;33m)\u001b[0m\u001b[1;33m,\u001b[0m \u001b[1;34m\"s\\n\"\u001b[0m\u001b[1;33m)\u001b[0m\u001b[1;33m\u001b[0m\u001b[1;33m\u001b[0m\u001b[0m\n\u001b[0;32m      4\u001b[0m \u001b[0mtraining_time\u001b[0m\u001b[1;33m.\u001b[0m\u001b[0mappend\u001b[0m\u001b[1;33m(\u001b[0m\u001b[0mround\u001b[0m\u001b[1;33m(\u001b[0m\u001b[0mtime\u001b[0m\u001b[1;33m(\u001b[0m\u001b[1;33m)\u001b[0m\u001b[1;33m-\u001b[0m\u001b[0mt0\u001b[0m\u001b[1;33m,\u001b[0m \u001b[1;36m3\u001b[0m\u001b[1;33m)\u001b[0m\u001b[1;33m)\u001b[0m\u001b[1;33m\u001b[0m\u001b[1;33m\u001b[0m\u001b[0m\n",
            "\u001b[1;31mNameError\u001b[0m: name 'x' is not defined"
          ]
        }
      ],
      "source": [
        "t0 = time()\n",
        "nn = model8.fit(x, y_train)\n",
        "print(\"\\nTraining time:\", round(time()-t0, 3), \"s\\n\")\n",
        "training_time.append(round(time()-t0, 3))"
      ]
    },
    {
      "cell_type": "code",
      "execution_count": null,
      "id": "0fe981d1",
      "metadata": {
        "id": "0fe981d1",
        "outputId": "b21c57b4-941e-4a33-9434-a92c79c69250"
      },
      "outputs": [
        {
          "ename": "NameError",
          "evalue": "name 'test_x' is not defined",
          "output_type": "error",
          "traceback": [
            "\u001b[1;31m---------------------------------------------------------------------------\u001b[0m",
            "\u001b[1;31mNameError\u001b[0m                                 Traceback (most recent call last)",
            "\u001b[1;32m<ipython-input-82-8fac1747f079>\u001b[0m in \u001b[0;36m<module>\u001b[1;34m\u001b[0m\n\u001b[0;32m      1\u001b[0m \u001b[0mt1\u001b[0m \u001b[1;33m=\u001b[0m \u001b[0mtime\u001b[0m\u001b[1;33m(\u001b[0m\u001b[1;33m)\u001b[0m\u001b[1;33m\u001b[0m\u001b[1;33m\u001b[0m\u001b[0m\n\u001b[1;32m----> 2\u001b[1;33m \u001b[0mpred\u001b[0m \u001b[1;33m=\u001b[0m \u001b[0mmodel8\u001b[0m\u001b[1;33m.\u001b[0m\u001b[0mpredict\u001b[0m\u001b[1;33m(\u001b[0m\u001b[0mtest_x\u001b[0m\u001b[1;33m)\u001b[0m\u001b[1;33m.\u001b[0m\u001b[0mround\u001b[0m\u001b[1;33m(\u001b[0m\u001b[1;36m1\u001b[0m\u001b[1;33m)\u001b[0m\u001b[1;33m\u001b[0m\u001b[1;33m\u001b[0m\u001b[0m\n\u001b[0m\u001b[0;32m      3\u001b[0m \u001b[0mpredicting_time\u001b[0m\u001b[1;33m.\u001b[0m\u001b[0mappend\u001b[0m\u001b[1;33m(\u001b[0m\u001b[0mround\u001b[0m\u001b[1;33m(\u001b[0m\u001b[0mtime\u001b[0m\u001b[1;33m(\u001b[0m\u001b[1;33m)\u001b[0m\u001b[1;33m-\u001b[0m\u001b[0mt1\u001b[0m\u001b[1;33m,\u001b[0m \u001b[1;36m3\u001b[0m\u001b[1;33m)\u001b[0m\u001b[1;33m)\u001b[0m\u001b[1;33m\u001b[0m\u001b[1;33m\u001b[0m\u001b[0m\n\u001b[0;32m      4\u001b[0m \u001b[1;33m\u001b[0m\u001b[0m\n\u001b[0;32m      5\u001b[0m \u001b[0mprint\u001b[0m\u001b[1;33m(\u001b[0m\u001b[0mpred\u001b[0m\u001b[1;33m[\u001b[0m\u001b[1;36m0\u001b[0m\u001b[1;33m:\u001b[0m\u001b[1;36m5\u001b[0m\u001b[1;33m]\u001b[0m\u001b[1;33m)\u001b[0m\u001b[1;33m\u001b[0m\u001b[1;33m\u001b[0m\u001b[0m\n",
            "\u001b[1;31mNameError\u001b[0m: name 'test_x' is not defined"
          ]
        }
      ],
      "source": [
        "t1 = time()\n",
        "pred = model8.predict(test_x).round(1) \n",
        "predicting_time.append(round(time()-t1, 3))\n",
        "\n",
        "print(pred[0:5]) "
      ]
    },
    {
      "cell_type": "code",
      "execution_count": null,
      "id": "2ca8a472",
      "metadata": {
        "id": "2ca8a472",
        "outputId": "13c5813c-7ea9-4fdb-9c73-df552fcb55ee"
      },
      "outputs": [
        {
          "ename": "NameError",
          "evalue": "name 'y_test' is not defined",
          "output_type": "error",
          "traceback": [
            "\u001b[1;31m---------------------------------------------------------------------------\u001b[0m",
            "\u001b[1;31mNameError\u001b[0m                                 Traceback (most recent call last)",
            "\u001b[1;32m<ipython-input-83-4dc76698937b>\u001b[0m in \u001b[0;36m<module>\u001b[1;34m\u001b[0m\n\u001b[0;32m      2\u001b[0m \u001b[1;32mfrom\u001b[0m \u001b[0msklearn\u001b[0m\u001b[1;33m.\u001b[0m\u001b[0mmetrics\u001b[0m \u001b[1;32mimport\u001b[0m \u001b[0mprecision_recall_fscore_support\u001b[0m\u001b[1;33m\u001b[0m\u001b[1;33m\u001b[0m\u001b[0m\n\u001b[0;32m      3\u001b[0m \u001b[1;33m\u001b[0m\u001b[0m\n\u001b[1;32m----> 4\u001b[1;33m \u001b[0mprint\u001b[0m\u001b[1;33m(\u001b[0m\u001b[1;34m'\\nAccuracy Score'\u001b[0m\u001b[1;33m,\u001b[0m\u001b[0maccuracy_score\u001b[0m\u001b[1;33m(\u001b[0m\u001b[0my_test\u001b[0m\u001b[1;33m,\u001b[0m\u001b[0mpred\u001b[0m\u001b[1;33m)\u001b[0m\u001b[1;33m)\u001b[0m\u001b[1;33m\u001b[0m\u001b[1;33m\u001b[0m\u001b[0m\n\u001b[0m\u001b[0;32m      5\u001b[0m \u001b[1;33m\u001b[0m\u001b[0m\n\u001b[0;32m      6\u001b[0m \u001b[0maccuracy_scores\u001b[0m\u001b[1;33m.\u001b[0m\u001b[0mappend\u001b[0m\u001b[1;33m(\u001b[0m\u001b[0maccuracy_score\u001b[0m\u001b[1;33m(\u001b[0m\u001b[0my_test\u001b[0m\u001b[1;33m,\u001b[0m\u001b[0mpred\u001b[0m\u001b[1;33m)\u001b[0m\u001b[1;33m.\u001b[0m\u001b[0mround\u001b[0m\u001b[1;33m(\u001b[0m\u001b[1;36m2\u001b[0m\u001b[1;33m)\u001b[0m\u001b[1;33m)\u001b[0m\u001b[1;33m\u001b[0m\u001b[1;33m\u001b[0m\u001b[0m\n",
            "\u001b[1;31mNameError\u001b[0m: name 'y_test' is not defined"
          ]
        }
      ],
      "source": [
        "## Evaluate model - Accuracy, Precision, Recall\n",
        "from sklearn.metrics import precision_recall_fscore_support\n",
        "\n",
        "print('\\nAccuracy Score',accuracy_score(y_test,pred))\n",
        "\n",
        "accuracy_scores.append(accuracy_score(y_test,pred).round(2))\n",
        "\n",
        "print(\"Classification Report:\\n\",classification_report(y_test, pred))\n",
        "clf_rep = precision_recall_fscore_support(y_test,pred)\n",
        "precision_scores.append(clf_rep[0][0].round(2))\n",
        "recall_scores.append(clf_rep[1][0].round(2))\n",
        "f1_scores.append(clf_rep[2][0].round(2))\n",
        "\n",
        "## Plot confusion matrix\n",
        "print(\"confusion matrix:\\n\",confusion_matrix(y_test, pred))"
      ]
    },
    {
      "cell_type": "code",
      "execution_count": null,
      "id": "a2589e3c",
      "metadata": {
        "id": "a2589e3c"
      },
      "outputs": [],
      "source": [
        "model4 = RandomForestClassifier(max_depth=2, random_state=0)"
      ]
    },
    {
      "cell_type": "code",
      "execution_count": null,
      "id": "6f4249ff",
      "metadata": {
        "id": "6f4249ff",
        "outputId": "7819ff9d-c55b-4913-a221-167adcfdf52e"
      },
      "outputs": [
        {
          "ename": "NameError",
          "evalue": "name 'x' is not defined",
          "output_type": "error",
          "traceback": [
            "\u001b[1;31m---------------------------------------------------------------------------\u001b[0m",
            "\u001b[1;31mNameError\u001b[0m                                 Traceback (most recent call last)",
            "\u001b[1;32m<ipython-input-85-f205069a245f>\u001b[0m in \u001b[0;36m<module>\u001b[1;34m\u001b[0m\n\u001b[0;32m      1\u001b[0m \u001b[1;31m#train model and predict model training time\u001b[0m\u001b[1;33m\u001b[0m\u001b[1;33m\u001b[0m\u001b[1;33m\u001b[0m\u001b[0m\n\u001b[0;32m      2\u001b[0m \u001b[0mt0\u001b[0m \u001b[1;33m=\u001b[0m \u001b[0mtime\u001b[0m\u001b[1;33m(\u001b[0m\u001b[1;33m)\u001b[0m\u001b[1;33m\u001b[0m\u001b[1;33m\u001b[0m\u001b[0m\n\u001b[1;32m----> 3\u001b[1;33m \u001b[0mmodel4\u001b[0m\u001b[1;33m.\u001b[0m\u001b[0mfit\u001b[0m\u001b[1;33m(\u001b[0m\u001b[0mx\u001b[0m\u001b[1;33m,\u001b[0m \u001b[0my_train\u001b[0m\u001b[1;33m)\u001b[0m\u001b[1;33m\u001b[0m\u001b[1;33m\u001b[0m\u001b[0m\n\u001b[0m\u001b[0;32m      4\u001b[0m \u001b[0mprint\u001b[0m\u001b[1;33m(\u001b[0m\u001b[1;34m\"\\nTraining time:\"\u001b[0m\u001b[1;33m,\u001b[0m \u001b[0mround\u001b[0m\u001b[1;33m(\u001b[0m\u001b[0mtime\u001b[0m\u001b[1;33m(\u001b[0m\u001b[1;33m)\u001b[0m\u001b[1;33m-\u001b[0m\u001b[0mt0\u001b[0m\u001b[1;33m,\u001b[0m \u001b[1;36m3\u001b[0m\u001b[1;33m)\u001b[0m\u001b[1;33m,\u001b[0m \u001b[1;34m\"s\\n\"\u001b[0m\u001b[1;33m)\u001b[0m\u001b[1;33m\u001b[0m\u001b[1;33m\u001b[0m\u001b[0m\n\u001b[0;32m      5\u001b[0m \u001b[0mtraining_time\u001b[0m\u001b[1;33m.\u001b[0m\u001b[0mappend\u001b[0m\u001b[1;33m(\u001b[0m\u001b[0mround\u001b[0m\u001b[1;33m(\u001b[0m\u001b[0mtime\u001b[0m\u001b[1;33m(\u001b[0m\u001b[1;33m)\u001b[0m\u001b[1;33m-\u001b[0m\u001b[0mt0\u001b[0m\u001b[1;33m,\u001b[0m \u001b[1;36m3\u001b[0m\u001b[1;33m)\u001b[0m\u001b[1;33m)\u001b[0m\u001b[1;33m\u001b[0m\u001b[1;33m\u001b[0m\u001b[0m\n",
            "\u001b[1;31mNameError\u001b[0m: name 'x' is not defined"
          ]
        }
      ],
      "source": [
        "#train model and predict model training time\n",
        "t0 = time()\n",
        "model4.fit(x, y_train)\n",
        "print(\"\\nTraining time:\", round(time()-t0, 3), \"s\\n\")\n",
        "training_time.append(round(time()-t0, 3))"
      ]
    },
    {
      "cell_type": "code",
      "execution_count": null,
      "id": "f89c623b",
      "metadata": {
        "id": "f89c623b",
        "outputId": "dda97324-b82d-4f83-f4a4-cc6a6503460a"
      },
      "outputs": [
        {
          "ename": "NameError",
          "evalue": "name 'test_x' is not defined",
          "output_type": "error",
          "traceback": [
            "\u001b[1;31m---------------------------------------------------------------------------\u001b[0m",
            "\u001b[1;31mNameError\u001b[0m                                 Traceback (most recent call last)",
            "\u001b[1;32m<ipython-input-86-5c7796c25bfe>\u001b[0m in \u001b[0;36m<module>\u001b[1;34m\u001b[0m\n\u001b[0;32m      1\u001b[0m \u001b[1;31m# Predit using the trained model\u001b[0m\u001b[1;33m\u001b[0m\u001b[1;33m\u001b[0m\u001b[1;33m\u001b[0m\u001b[0m\n\u001b[0;32m      2\u001b[0m \u001b[0mt1\u001b[0m \u001b[1;33m=\u001b[0m \u001b[0mtime\u001b[0m\u001b[1;33m(\u001b[0m\u001b[1;33m)\u001b[0m\u001b[1;33m\u001b[0m\u001b[1;33m\u001b[0m\u001b[0m\n\u001b[1;32m----> 3\u001b[1;33m \u001b[0mpredicted\u001b[0m \u001b[1;33m=\u001b[0m \u001b[0mmodel4\u001b[0m\u001b[1;33m.\u001b[0m\u001b[0mpredict\u001b[0m\u001b[1;33m(\u001b[0m\u001b[0mtest_x\u001b[0m\u001b[1;33m)\u001b[0m\u001b[1;33m\u001b[0m\u001b[1;33m\u001b[0m\u001b[0m\n\u001b[0m\u001b[0;32m      4\u001b[0m \u001b[0mprint\u001b[0m\u001b[1;33m(\u001b[0m\u001b[1;34m\"Predicting time:\"\u001b[0m\u001b[1;33m,\u001b[0m \u001b[0mround\u001b[0m\u001b[1;33m(\u001b[0m\u001b[0mtime\u001b[0m\u001b[1;33m(\u001b[0m\u001b[1;33m)\u001b[0m\u001b[1;33m-\u001b[0m\u001b[0mt1\u001b[0m\u001b[1;33m,\u001b[0m \u001b[1;36m3\u001b[0m\u001b[1;33m)\u001b[0m\u001b[1;33m,\u001b[0m \u001b[1;34m\"s\\n\"\u001b[0m\u001b[1;33m)\u001b[0m\u001b[1;33m\u001b[0m\u001b[1;33m\u001b[0m\u001b[0m\n\u001b[0;32m      5\u001b[0m \u001b[0mpredicting_time\u001b[0m\u001b[1;33m.\u001b[0m\u001b[0mappend\u001b[0m\u001b[1;33m(\u001b[0m\u001b[0mround\u001b[0m\u001b[1;33m(\u001b[0m\u001b[0mtime\u001b[0m\u001b[1;33m(\u001b[0m\u001b[1;33m)\u001b[0m\u001b[1;33m-\u001b[0m\u001b[0mt1\u001b[0m\u001b[1;33m,\u001b[0m \u001b[1;36m3\u001b[0m\u001b[1;33m)\u001b[0m\u001b[1;33m)\u001b[0m\u001b[1;33m\u001b[0m\u001b[1;33m\u001b[0m\u001b[0m\n",
            "\u001b[1;31mNameError\u001b[0m: name 'test_x' is not defined"
          ]
        }
      ],
      "source": [
        "# Predit using the trained model\n",
        "t1 = time()\n",
        "predicted = model4.predict(test_x)\n",
        "print(\"Predicting time:\", round(time()-t1, 3), \"s\\n\")\n",
        "predicting_time.append(round(time()-t1, 3))"
      ]
    },
    {
      "cell_type": "code",
      "execution_count": null,
      "id": "17618279",
      "metadata": {
        "id": "17618279",
        "outputId": "6e6c710c-2613-461b-8483-359f94dd420f"
      },
      "outputs": [
        {
          "ename": "NameError",
          "evalue": "name 'y_test' is not defined",
          "output_type": "error",
          "traceback": [
            "\u001b[1;31m---------------------------------------------------------------------------\u001b[0m",
            "\u001b[1;31mNameError\u001b[0m                                 Traceback (most recent call last)",
            "\u001b[1;32m<ipython-input-87-9c0690d76aeb>\u001b[0m in \u001b[0;36m<module>\u001b[1;34m\u001b[0m\n\u001b[0;32m      2\u001b[0m \u001b[1;32mfrom\u001b[0m \u001b[0msklearn\u001b[0m\u001b[1;33m.\u001b[0m\u001b[0mmetrics\u001b[0m \u001b[1;32mimport\u001b[0m \u001b[0mprecision_recall_fscore_support\u001b[0m\u001b[1;33m\u001b[0m\u001b[1;33m\u001b[0m\u001b[0m\n\u001b[0;32m      3\u001b[0m \u001b[1;33m\u001b[0m\u001b[0m\n\u001b[1;32m----> 4\u001b[1;33m \u001b[0mprint\u001b[0m\u001b[1;33m(\u001b[0m\u001b[1;34m'\\nAccuracy Score'\u001b[0m\u001b[1;33m,\u001b[0m\u001b[0maccuracy_score\u001b[0m\u001b[1;33m(\u001b[0m\u001b[0my_test\u001b[0m\u001b[1;33m,\u001b[0m\u001b[0mpredicted\u001b[0m\u001b[1;33m)\u001b[0m\u001b[1;33m)\u001b[0m\u001b[1;33m\u001b[0m\u001b[1;33m\u001b[0m\u001b[0m\n\u001b[0m\u001b[0;32m      5\u001b[0m \u001b[1;33m\u001b[0m\u001b[0m\n\u001b[0;32m      6\u001b[0m \u001b[0maccuracy_scores\u001b[0m\u001b[1;33m.\u001b[0m\u001b[0mappend\u001b[0m\u001b[1;33m(\u001b[0m\u001b[0maccuracy_score\u001b[0m\u001b[1;33m(\u001b[0m\u001b[0my_test\u001b[0m\u001b[1;33m,\u001b[0m\u001b[0mpredicted\u001b[0m\u001b[1;33m)\u001b[0m\u001b[1;33m.\u001b[0m\u001b[0mround\u001b[0m\u001b[1;33m(\u001b[0m\u001b[1;36m2\u001b[0m\u001b[1;33m)\u001b[0m\u001b[1;33m)\u001b[0m\u001b[1;33m\u001b[0m\u001b[1;33m\u001b[0m\u001b[0m\n",
            "\u001b[1;31mNameError\u001b[0m: name 'y_test' is not defined"
          ]
        }
      ],
      "source": [
        "## Evaluate model - Accuracy, Precision, Recall\n",
        "from sklearn.metrics import precision_recall_fscore_support\n",
        "\n",
        "print('\\nAccuracy Score',accuracy_score(y_test,predicted))\n",
        "\n",
        "accuracy_scores.append(accuracy_score(y_test,predicted).round(2))\n",
        "\n",
        "print(\"Classification Report:\\n\",classification_report(y_test, predicted))\n",
        "clf_rep = precision_recall_fscore_support(y_test,predicted)\n",
        "precision_scores.append(clf_rep[0][0].round(2))\n",
        "recall_scores.append(clf_rep[1][0].round(2))\n",
        "f1_scores.append(clf_rep[2][0].round(2))\n",
        "\n",
        "## Plot confusion matrix\n",
        "print(\"confusion matrix:\\n\",confusion_matrix(y_test, predicted))"
      ]
    },
    {
      "cell_type": "code",
      "execution_count": null,
      "id": "b22413ee",
      "metadata": {
        "id": "b22413ee"
      },
      "outputs": [],
      "source": [
        "model_name = ['Multinomial Bayes','Gaussian Bayes','Decision Tree','RandomForest','KNN','Logistic Regression','SVM','Neural Network']"
      ]
    },
    {
      "cell_type": "code",
      "execution_count": null,
      "id": "7b5be011",
      "metadata": {
        "id": "7b5be011",
        "outputId": "ef59c680-cce6-4f6f-e279-387a09c66ac9"
      },
      "outputs": [
        {
          "ename": "ValueError",
          "evalue": "arrays must all be same length",
          "output_type": "error",
          "traceback": [
            "\u001b[1;31m---------------------------------------------------------------------------\u001b[0m",
            "\u001b[1;31mValueError\u001b[0m                                Traceback (most recent call last)",
            "\u001b[1;32m<ipython-input-89-9345873d24a3>\u001b[0m in \u001b[0;36m<module>\u001b[1;34m\u001b[0m\n\u001b[1;32m----> 1\u001b[1;33m performance_table = pd.DataFrame({'Model_name' : model_name,\n\u001b[0m\u001b[0;32m      2\u001b[0m                             \u001b[1;34m'Training time'\u001b[0m \u001b[1;33m:\u001b[0m \u001b[0mtraining_time\u001b[0m\u001b[1;33m,\u001b[0m\u001b[1;33m\u001b[0m\u001b[1;33m\u001b[0m\u001b[0m\n\u001b[0;32m      3\u001b[0m                             \u001b[1;34m'Prediction time'\u001b[0m \u001b[1;33m:\u001b[0m \u001b[0mpredicting_time\u001b[0m\u001b[1;33m,\u001b[0m\u001b[1;33m\u001b[0m\u001b[1;33m\u001b[0m\u001b[0m\n\u001b[0;32m      4\u001b[0m                             \u001b[1;34m'Accuracy'\u001b[0m \u001b[1;33m:\u001b[0m \u001b[0maccuracy_scores\u001b[0m\u001b[1;33m,\u001b[0m\u001b[1;33m\u001b[0m\u001b[1;33m\u001b[0m\u001b[0m\n\u001b[0;32m      5\u001b[0m                             \u001b[1;34m'Precision'\u001b[0m \u001b[1;33m:\u001b[0m \u001b[0mprecision_scores\u001b[0m\u001b[1;33m,\u001b[0m\u001b[1;33m\u001b[0m\u001b[1;33m\u001b[0m\u001b[0m\n",
            "\u001b[1;32m~\\anaconda3\\lib\\site-packages\\pandas\\core\\frame.py\u001b[0m in \u001b[0;36m__init__\u001b[1;34m(self, data, index, columns, dtype, copy)\u001b[0m\n\u001b[0;32m    527\u001b[0m \u001b[1;33m\u001b[0m\u001b[0m\n\u001b[0;32m    528\u001b[0m         \u001b[1;32melif\u001b[0m \u001b[0misinstance\u001b[0m\u001b[1;33m(\u001b[0m\u001b[0mdata\u001b[0m\u001b[1;33m,\u001b[0m \u001b[0mdict\u001b[0m\u001b[1;33m)\u001b[0m\u001b[1;33m:\u001b[0m\u001b[1;33m\u001b[0m\u001b[1;33m\u001b[0m\u001b[0m\n\u001b[1;32m--> 529\u001b[1;33m             \u001b[0mmgr\u001b[0m \u001b[1;33m=\u001b[0m \u001b[0minit_dict\u001b[0m\u001b[1;33m(\u001b[0m\u001b[0mdata\u001b[0m\u001b[1;33m,\u001b[0m \u001b[0mindex\u001b[0m\u001b[1;33m,\u001b[0m \u001b[0mcolumns\u001b[0m\u001b[1;33m,\u001b[0m \u001b[0mdtype\u001b[0m\u001b[1;33m=\u001b[0m\u001b[0mdtype\u001b[0m\u001b[1;33m)\u001b[0m\u001b[1;33m\u001b[0m\u001b[1;33m\u001b[0m\u001b[0m\n\u001b[0m\u001b[0;32m    530\u001b[0m         \u001b[1;32melif\u001b[0m \u001b[0misinstance\u001b[0m\u001b[1;33m(\u001b[0m\u001b[0mdata\u001b[0m\u001b[1;33m,\u001b[0m \u001b[0mma\u001b[0m\u001b[1;33m.\u001b[0m\u001b[0mMaskedArray\u001b[0m\u001b[1;33m)\u001b[0m\u001b[1;33m:\u001b[0m\u001b[1;33m\u001b[0m\u001b[1;33m\u001b[0m\u001b[0m\n\u001b[0;32m    531\u001b[0m             \u001b[1;32mimport\u001b[0m \u001b[0mnumpy\u001b[0m\u001b[1;33m.\u001b[0m\u001b[0mma\u001b[0m\u001b[1;33m.\u001b[0m\u001b[0mmrecords\u001b[0m \u001b[1;32mas\u001b[0m \u001b[0mmrecords\u001b[0m\u001b[1;33m\u001b[0m\u001b[1;33m\u001b[0m\u001b[0m\n",
            "\u001b[1;32m~\\anaconda3\\lib\\site-packages\\pandas\\core\\internals\\construction.py\u001b[0m in \u001b[0;36minit_dict\u001b[1;34m(data, index, columns, dtype)\u001b[0m\n\u001b[0;32m    285\u001b[0m             \u001b[0marr\u001b[0m \u001b[1;32mif\u001b[0m \u001b[1;32mnot\u001b[0m \u001b[0mis_datetime64tz_dtype\u001b[0m\u001b[1;33m(\u001b[0m\u001b[0marr\u001b[0m\u001b[1;33m)\u001b[0m \u001b[1;32melse\u001b[0m \u001b[0marr\u001b[0m\u001b[1;33m.\u001b[0m\u001b[0mcopy\u001b[0m\u001b[1;33m(\u001b[0m\u001b[1;33m)\u001b[0m \u001b[1;32mfor\u001b[0m \u001b[0marr\u001b[0m \u001b[1;32min\u001b[0m \u001b[0marrays\u001b[0m\u001b[1;33m\u001b[0m\u001b[1;33m\u001b[0m\u001b[0m\n\u001b[0;32m    286\u001b[0m         ]\n\u001b[1;32m--> 287\u001b[1;33m     \u001b[1;32mreturn\u001b[0m \u001b[0marrays_to_mgr\u001b[0m\u001b[1;33m(\u001b[0m\u001b[0marrays\u001b[0m\u001b[1;33m,\u001b[0m \u001b[0mdata_names\u001b[0m\u001b[1;33m,\u001b[0m \u001b[0mindex\u001b[0m\u001b[1;33m,\u001b[0m \u001b[0mcolumns\u001b[0m\u001b[1;33m,\u001b[0m \u001b[0mdtype\u001b[0m\u001b[1;33m=\u001b[0m\u001b[0mdtype\u001b[0m\u001b[1;33m)\u001b[0m\u001b[1;33m\u001b[0m\u001b[1;33m\u001b[0m\u001b[0m\n\u001b[0m\u001b[0;32m    288\u001b[0m \u001b[1;33m\u001b[0m\u001b[0m\n\u001b[0;32m    289\u001b[0m \u001b[1;33m\u001b[0m\u001b[0m\n",
            "\u001b[1;32m~\\anaconda3\\lib\\site-packages\\pandas\\core\\internals\\construction.py\u001b[0m in \u001b[0;36marrays_to_mgr\u001b[1;34m(arrays, arr_names, index, columns, dtype, verify_integrity)\u001b[0m\n\u001b[0;32m     78\u001b[0m         \u001b[1;31m# figure out the index, if necessary\u001b[0m\u001b[1;33m\u001b[0m\u001b[1;33m\u001b[0m\u001b[1;33m\u001b[0m\u001b[0m\n\u001b[0;32m     79\u001b[0m         \u001b[1;32mif\u001b[0m \u001b[0mindex\u001b[0m \u001b[1;32mis\u001b[0m \u001b[1;32mNone\u001b[0m\u001b[1;33m:\u001b[0m\u001b[1;33m\u001b[0m\u001b[1;33m\u001b[0m\u001b[0m\n\u001b[1;32m---> 80\u001b[1;33m             \u001b[0mindex\u001b[0m \u001b[1;33m=\u001b[0m \u001b[0mextract_index\u001b[0m\u001b[1;33m(\u001b[0m\u001b[0marrays\u001b[0m\u001b[1;33m)\u001b[0m\u001b[1;33m\u001b[0m\u001b[1;33m\u001b[0m\u001b[0m\n\u001b[0m\u001b[0;32m     81\u001b[0m         \u001b[1;32melse\u001b[0m\u001b[1;33m:\u001b[0m\u001b[1;33m\u001b[0m\u001b[1;33m\u001b[0m\u001b[0m\n\u001b[0;32m     82\u001b[0m             \u001b[0mindex\u001b[0m \u001b[1;33m=\u001b[0m \u001b[0mensure_index\u001b[0m\u001b[1;33m(\u001b[0m\u001b[0mindex\u001b[0m\u001b[1;33m)\u001b[0m\u001b[1;33m\u001b[0m\u001b[1;33m\u001b[0m\u001b[0m\n",
            "\u001b[1;32m~\\anaconda3\\lib\\site-packages\\pandas\\core\\internals\\construction.py\u001b[0m in \u001b[0;36mextract_index\u001b[1;34m(data)\u001b[0m\n\u001b[0;32m    399\u001b[0m             \u001b[0mlengths\u001b[0m \u001b[1;33m=\u001b[0m \u001b[0mlist\u001b[0m\u001b[1;33m(\u001b[0m\u001b[0mset\u001b[0m\u001b[1;33m(\u001b[0m\u001b[0mraw_lengths\u001b[0m\u001b[1;33m)\u001b[0m\u001b[1;33m)\u001b[0m\u001b[1;33m\u001b[0m\u001b[1;33m\u001b[0m\u001b[0m\n\u001b[0;32m    400\u001b[0m             \u001b[1;32mif\u001b[0m \u001b[0mlen\u001b[0m\u001b[1;33m(\u001b[0m\u001b[0mlengths\u001b[0m\u001b[1;33m)\u001b[0m \u001b[1;33m>\u001b[0m \u001b[1;36m1\u001b[0m\u001b[1;33m:\u001b[0m\u001b[1;33m\u001b[0m\u001b[1;33m\u001b[0m\u001b[0m\n\u001b[1;32m--> 401\u001b[1;33m                 \u001b[1;32mraise\u001b[0m \u001b[0mValueError\u001b[0m\u001b[1;33m(\u001b[0m\u001b[1;34m\"arrays must all be same length\"\u001b[0m\u001b[1;33m)\u001b[0m\u001b[1;33m\u001b[0m\u001b[1;33m\u001b[0m\u001b[0m\n\u001b[0m\u001b[0;32m    402\u001b[0m \u001b[1;33m\u001b[0m\u001b[0m\n\u001b[0;32m    403\u001b[0m             \u001b[1;32mif\u001b[0m \u001b[0mhave_dicts\u001b[0m\u001b[1;33m:\u001b[0m\u001b[1;33m\u001b[0m\u001b[1;33m\u001b[0m\u001b[0m\n",
            "\u001b[1;31mValueError\u001b[0m: arrays must all be same length"
          ]
        }
      ],
      "source": [
        "performance_table = pd.DataFrame({'Model_name' : model_name,\n",
        "                            'Training time' : training_time,\n",
        "                            'Prediction time' : predicting_time,\n",
        "                            'Accuracy' : accuracy_scores,\n",
        "                            'Precision' : precision_scores,\n",
        "                            'Recall' : recall_scores,\n",
        "                            'F1-scores' : f1_scores}).sort_values('F1-scores',ascending=False)"
      ]
    },
    {
      "cell_type": "code",
      "execution_count": null,
      "id": "74294219",
      "metadata": {
        "id": "74294219",
        "outputId": "2a9ac2f6-4656-491c-eaa0-3c693cfdfee1"
      },
      "outputs": [
        {
          "ename": "NameError",
          "evalue": "name 'performance_table' is not defined",
          "output_type": "error",
          "traceback": [
            "\u001b[1;31m---------------------------------------------------------------------------\u001b[0m",
            "\u001b[1;31mNameError\u001b[0m                                 Traceback (most recent call last)",
            "\u001b[1;32m<ipython-input-90-94534983f793>\u001b[0m in \u001b[0;36m<module>\u001b[1;34m\u001b[0m\n\u001b[1;32m----> 1\u001b[1;33m \u001b[0mperformance_table\u001b[0m\u001b[1;33m\u001b[0m\u001b[1;33m\u001b[0m\u001b[0m\n\u001b[0m",
            "\u001b[1;31mNameError\u001b[0m: name 'performance_table' is not defined"
          ]
        }
      ],
      "source": [
        "performance_table"
      ]
    },
    {
      "cell_type": "code",
      "execution_count": null,
      "id": "64de40b5",
      "metadata": {
        "id": "64de40b5",
        "outputId": "94ce39f4-3d87-4d42-93be-d569aa3104fd"
      },
      "outputs": [
        {
          "ename": "SyntaxError",
          "evalue": "EOL while scanning string literal (<ipython-input-91-01e5af21392c>, line 1)",
          "output_type": "error",
          "traceback": [
            "\u001b[1;36m  File \u001b[1;32m\"<ipython-input-91-01e5af21392c>\"\u001b[1;36m, line \u001b[1;32m1\u001b[0m\n\u001b[1;33m    rec = [\"A comet the color of blood and flame cuts across the sky. Two great leaders—Lord Eddard Stark and Robert Baratheon—who hold sway over an age of enf\u001b[0m\n\u001b[1;37m                                                                                                                                                               ^\u001b[0m\n\u001b[1;31mSyntaxError\u001b[0m\u001b[1;31m:\u001b[0m EOL while scanning string literal\n"
          ]
        }
      ],
      "source": [
        "rec = [\"A comet the color of blood and flame cuts across the sky. Two great leaders—Lord Eddard Stark and Robert Baratheon—who hold sway over an age of enf"
      ]
    },
    {
      "cell_type": "code",
      "execution_count": null,
      "id": "4adeed0f",
      "metadata": {
        "id": "4adeed0f",
        "outputId": "fe8a1fb4-5c75-4e79-dfe1-29a868a419fd"
      },
      "outputs": [
        {
          "ename": "NameError",
          "evalue": "name 'rec' is not defined",
          "output_type": "error",
          "traceback": [
            "\u001b[1;31m---------------------------------------------------------------------------\u001b[0m",
            "\u001b[1;31mNameError\u001b[0m                                 Traceback (most recent call last)",
            "\u001b[1;32m<ipython-input-92-777bf545bb60>\u001b[0m in \u001b[0;36m<module>\u001b[1;34m\u001b[0m\n\u001b[1;32m----> 1\u001b[1;33m \u001b[0mt\u001b[0m \u001b[1;33m=\u001b[0m \u001b[0mcv\u001b[0m\u001b[1;33m.\u001b[0m\u001b[0mtransform\u001b[0m\u001b[1;33m(\u001b[0m\u001b[0mrec\u001b[0m\u001b[1;33m)\u001b[0m\u001b[1;33m.\u001b[0m\u001b[0mtoarray\u001b[0m\u001b[1;33m(\u001b[0m\u001b[1;33m)\u001b[0m\u001b[1;33m\u001b[0m\u001b[1;33m\u001b[0m\u001b[0m\n\u001b[0m",
            "\u001b[1;31mNameError\u001b[0m: name 'rec' is not defined"
          ]
        }
      ],
      "source": [
        "t = cv.transform(rec).toarray()"
      ]
    },
    {
      "cell_type": "code",
      "execution_count": null,
      "id": "61bb98a9",
      "metadata": {
        "id": "61bb98a9",
        "outputId": "dec537a3-2f7c-4e0d-c714-d6e424b2d833"
      },
      "outputs": [
        {
          "ename": "NameError",
          "evalue": "name 't' is not defined",
          "output_type": "error",
          "traceback": [
            "\u001b[1;31m---------------------------------------------------------------------------\u001b[0m",
            "\u001b[1;31mNameError\u001b[0m                                 Traceback (most recent call last)",
            "\u001b[1;32m<ipython-input-93-627058a52ea4>\u001b[0m in \u001b[0;36m<module>\u001b[1;34m\u001b[0m\n\u001b[1;32m----> 1\u001b[1;33m \u001b[0mpr\u001b[0m \u001b[1;33m=\u001b[0m \u001b[0mle\u001b[0m\u001b[1;33m.\u001b[0m\u001b[0minverse_transform\u001b[0m\u001b[1;33m(\u001b[0m\u001b[0mmodel1\u001b[0m\u001b[1;33m.\u001b[0m\u001b[0mpredict\u001b[0m\u001b[1;33m(\u001b[0m\u001b[0mt\u001b[0m\u001b[1;33m)\u001b[0m\u001b[1;33m)\u001b[0m\u001b[1;33m\u001b[0m\u001b[1;33m\u001b[0m\u001b[0m\n\u001b[0m",
            "\u001b[1;31mNameError\u001b[0m: name 't' is not defined"
          ]
        }
      ],
      "source": [
        "pr = le.inverse_transform(model1.predict(t))"
      ]
    },
    {
      "cell_type": "code",
      "execution_count": null,
      "id": "9da218bb",
      "metadata": {
        "id": "9da218bb",
        "outputId": "0a00e36d-2673-410c-dddb-1e11c8405493"
      },
      "outputs": [
        {
          "ename": "NameError",
          "evalue": "name 'pr' is not defined",
          "output_type": "error",
          "traceback": [
            "\u001b[1;31m---------------------------------------------------------------------------\u001b[0m",
            "\u001b[1;31mNameError\u001b[0m                                 Traceback (most recent call last)",
            "\u001b[1;32m<ipython-input-94-efc8eaca6e41>\u001b[0m in \u001b[0;36m<module>\u001b[1;34m\u001b[0m\n\u001b[1;32m----> 1\u001b[1;33m \u001b[0mpr\u001b[0m\u001b[1;33m[\u001b[0m\u001b[1;36m0\u001b[0m\u001b[1;33m]\u001b[0m\u001b[1;33m\u001b[0m\u001b[1;33m\u001b[0m\u001b[0m\n\u001b[0m",
            "\u001b[1;31mNameError\u001b[0m: name 'pr' is not defined"
          ]
        }
      ],
      "source": [
        "pr[0]"
      ]
    },
    {
      "cell_type": "code",
      "execution_count": null,
      "id": "31e71517",
      "metadata": {
        "id": "31e71517"
      },
      "outputs": [],
      "source": [
        "def recommend(genre):\n",
        "    recommended_books = df[df['genre'] == genre].sort_values(by = 'average_rating',ascending = False).head()\n",
        "    print(recommended_books.title)\n",
        "        \n",
        "    return"
      ]
    },
    {
      "cell_type": "code",
      "execution_count": null,
      "id": "d61ca3ee",
      "metadata": {
        "id": "d61ca3ee",
        "outputId": "dd724239-edb3-4057-d83e-f6f2cbc13d97"
      },
      "outputs": [
        {
          "name": "stdout",
          "output_type": "stream",
          "text": [
            "Series([], Name: title, dtype: object)\n"
          ]
        }
      ],
      "source": [
        "recommend('Fantasy')"
      ]
    },
    {
      "cell_type": "code",
      "execution_count": null,
      "id": "309fc46d",
      "metadata": {
        "id": "309fc46d"
      },
      "outputs": [],
      "source": [
        ""
      ]
    }
  ],
  "metadata": {
    "kernelspec": {
      "display_name": "Python 3",
      "language": "python",
      "name": "python3"
    },
    "language_info": {
      "codemirror_mode": {
        "name": "ipython",
        "version": 3
      },
      "file_extension": ".py",
      "mimetype": "text/x-python",
      "name": "python",
      "nbconvert_exporter": "python",
      "pygments_lexer": "ipython3",
      "version": "3.8.8"
    },
    "toc": {
      "base_numbering": 1,
      "nav_menu": {},
      "number_sections": true,
      "sideBar": true,
      "skip_h1_title": false,
      "title_cell": "Table of Contents",
      "title_sidebar": "Contents",
      "toc_cell": false,
      "toc_position": {},
      "toc_section_display": true,
      "toc_window_display": false
    },
    "varInspector": {
      "cols": {
        "lenName": 16,
        "lenType": 16,
        "lenVar": 40
      },
      "kernels_config": {
        "python": {
          "delete_cmd_postfix": "",
          "delete_cmd_prefix": "del ",
          "library": "var_list.py",
          "varRefreshCmd": "print(var_dic_list())"
        },
        "r": {
          "delete_cmd_postfix": ") ",
          "delete_cmd_prefix": "rm(",
          "library": "var_list.r",
          "varRefreshCmd": "cat(var_dic_list()) "
        }
      },
      "types_to_exclude": [
        "module",
        "function",
        "builtin_function_or_method",
        "instance",
        "_Feature"
      ],
      "window_display": false
    },
    "colab": {
      "name": "Himanshu_BS_Model_1.ipynb",
      "provenance": [],
      "include_colab_link": true
    }
  },
  "nbformat": 4,
  "nbformat_minor": 5
}