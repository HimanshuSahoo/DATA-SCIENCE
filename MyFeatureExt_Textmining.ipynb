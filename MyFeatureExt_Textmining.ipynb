{
  "nbformat": 4,
  "nbformat_minor": 0,
  "metadata": {
    "kernelspec": {
      "display_name": "Python 3",
      "language": "python",
      "name": "python3"
    },
    "language_info": {
      "codemirror_mode": {
        "name": "ipython",
        "version": 3
      },
      "file_extension": ".py",
      "mimetype": "text/x-python",
      "name": "python",
      "nbconvert_exporter": "python",
      "pygments_lexer": "ipython3",
      "version": "3.8.8"
    },
    "toc": {
      "base_numbering": 1,
      "nav_menu": {},
      "number_sections": true,
      "sideBar": true,
      "skip_h1_title": false,
      "title_cell": "Table of Contents",
      "title_sidebar": "Contents",
      "toc_cell": false,
      "toc_position": {},
      "toc_section_display": true,
      "toc_window_display": false
    },
    "varInspector": {
      "cols": {
        "lenName": 16,
        "lenType": 16,
        "lenVar": 40
      },
      "kernels_config": {
        "python": {
          "delete_cmd_postfix": "",
          "delete_cmd_prefix": "del ",
          "library": "var_list.py",
          "varRefreshCmd": "print(var_dic_list())"
        },
        "r": {
          "delete_cmd_postfix": ") ",
          "delete_cmd_prefix": "rm(",
          "library": "var_list.r",
          "varRefreshCmd": "cat(var_dic_list()) "
        }
      },
      "types_to_exclude": [
        "module",
        "function",
        "builtin_function_or_method",
        "instance",
        "_Feature"
      ],
      "window_display": false
    },
    "colab": {
      "name": "MyFeatureExt_Textmining.ipynb",
      "provenance": [],
      "include_colab_link": true
    }
  },
  "cells": [
    {
      "cell_type": "markdown",
      "metadata": {
        "id": "view-in-github",
        "colab_type": "text"
      },
      "source": [
        "<a href=\"https://colab.research.google.com/github/HimanshuSahoo/DATA-SCIENCE/blob/main/MyFeatureExt_Textmining.ipynb\" target=\"_parent\"><img src=\"https://colab.research.google.com/assets/colab-badge.svg\" alt=\"Open In Colab\"/></a>"
      ]
    },
    {
      "cell_type": "markdown",
      "metadata": {
        "id": "wi3AThgqszHw"
      },
      "source": [
        "## Bag of words"
      ]
    },
    {
      "cell_type": "markdown",
      "metadata": {
        "id": "-3Oh77UvszH0"
      },
      "source": [
        "### CountVectorizer"
      ]
    },
    {
      "cell_type": "code",
      "metadata": {
        "id": "YwNS9_ZxszH1"
      },
      "source": [
        "from sklearn.feature_extraction.text import CountVectorizer\n",
        "import pandas as pd\n",
        "import numpy as np"
      ],
      "execution_count": null,
      "outputs": []
    },
    {
      "cell_type": "code",
      "metadata": {
        "id": "jMhOn4mtszH2"
      },
      "source": [
        "corpus = [\n",
        "     'The car is driven on the road',\n",
        "     'The truck is driven on the highway',     \n",
        " ]"
      ],
      "execution_count": null,
      "outputs": []
    },
    {
      "cell_type": "code",
      "metadata": {
        "id": "JG8w3ZmnszH2",
        "outputId": "12a1a2ca-1d8a-49c9-b77d-f5e34f5c3000"
      },
      "source": [
        "vectorizer = CountVectorizer(ngram_range=(1,2))\n",
        "X = vectorizer.fit_transform(corpus)\n",
        "print(X.toarray())"
      ],
      "execution_count": null,
      "outputs": [
        {
          "name": "stdout",
          "output_type": "stream",
          "text": [
            "[[1 1 1 1 0 1 1 1 1 1 2 1 0 1 0 0 0]\n",
            " [0 0 1 1 1 1 1 1 1 0 2 0 1 0 1 1 1]]\n"
          ]
        }
      ]
    },
    {
      "cell_type": "code",
      "metadata": {
        "scrolled": true,
        "id": "Nxl6lc3RszH3",
        "outputId": "9384b4bf-b2f4-47c8-c35b-c1b9408bea23"
      },
      "source": [
        "vocab = vectorizer.vocabulary_\n",
        "vocab"
      ],
      "execution_count": null,
      "outputs": [
        {
          "data": {
            "text/plain": [
              "{'the': 10,\n",
              " 'car': 0,\n",
              " 'is': 5,\n",
              " 'driven': 2,\n",
              " 'on': 7,\n",
              " 'road': 9,\n",
              " 'the car': 11,\n",
              " 'car is': 1,\n",
              " 'is driven': 6,\n",
              " 'driven on': 3,\n",
              " 'on the': 8,\n",
              " 'the road': 13,\n",
              " 'truck': 15,\n",
              " 'highway': 4,\n",
              " 'the truck': 14,\n",
              " 'truck is': 16,\n",
              " 'the highway': 12}"
            ]
          },
          "execution_count": 37,
          "metadata": {},
          "output_type": "execute_result"
        }
      ]
    },
    {
      "cell_type": "markdown",
      "metadata": {
        "id": "8q2dqq5zszH3"
      },
      "source": [
        "## TF-IDF"
      ]
    },
    {
      "cell_type": "code",
      "metadata": {
        "id": "ivHht2aGszH4",
        "outputId": "b536f3f0-5504-4211-8bca-1fce511080cd"
      },
      "source": [
        "from sklearn.feature_extraction.text import TfidfVectorizer\n",
        "vectorizer = TfidfVectorizer()\n",
        "\n",
        "tfidf = vectorizer.fit_transform(corpus) \n",
        "pd.DataFrame(tfidf.toarray())\n",
        "#vectorizer.vocabulary_"
      ],
      "execution_count": null,
      "outputs": [
        {
          "data": {
            "text/html": [
              "<div>\n",
              "<style scoped>\n",
              "    .dataframe tbody tr th:only-of-type {\n",
              "        vertical-align: middle;\n",
              "    }\n",
              "\n",
              "    .dataframe tbody tr th {\n",
              "        vertical-align: top;\n",
              "    }\n",
              "\n",
              "    .dataframe thead th {\n",
              "        text-align: right;\n",
              "    }\n",
              "</style>\n",
              "<table border=\"1\" class=\"dataframe\">\n",
              "  <thead>\n",
              "    <tr style=\"text-align: right;\">\n",
              "      <th></th>\n",
              "      <th>0</th>\n",
              "      <th>1</th>\n",
              "      <th>2</th>\n",
              "      <th>3</th>\n",
              "      <th>4</th>\n",
              "      <th>5</th>\n",
              "      <th>6</th>\n",
              "      <th>7</th>\n",
              "    </tr>\n",
              "  </thead>\n",
              "  <tbody>\n",
              "    <tr>\n",
              "      <th>0</th>\n",
              "      <td>0.424717</td>\n",
              "      <td>0.30219</td>\n",
              "      <td>0.000000</td>\n",
              "      <td>0.30219</td>\n",
              "      <td>0.30219</td>\n",
              "      <td>0.424717</td>\n",
              "      <td>0.60438</td>\n",
              "      <td>0.000000</td>\n",
              "    </tr>\n",
              "    <tr>\n",
              "      <th>1</th>\n",
              "      <td>0.000000</td>\n",
              "      <td>0.30219</td>\n",
              "      <td>0.424717</td>\n",
              "      <td>0.30219</td>\n",
              "      <td>0.30219</td>\n",
              "      <td>0.000000</td>\n",
              "      <td>0.60438</td>\n",
              "      <td>0.424717</td>\n",
              "    </tr>\n",
              "  </tbody>\n",
              "</table>\n",
              "</div>"
            ],
            "text/plain": [
              "          0        1         2        3        4         5        6         7\n",
              "0  0.424717  0.30219  0.000000  0.30219  0.30219  0.424717  0.60438  0.000000\n",
              "1  0.000000  0.30219  0.424717  0.30219  0.30219  0.000000  0.60438  0.424717"
            ]
          },
          "execution_count": 5,
          "metadata": {},
          "output_type": "execute_result"
        }
      ]
    },
    {
      "cell_type": "markdown",
      "metadata": {
        "id": "RtgZTi71szH4"
      },
      "source": [
        "## Log(IDF)"
      ]
    },
    {
      "cell_type": "code",
      "metadata": {
        "id": "N5B83BOnszH5",
        "outputId": "c36de387-a861-4e9d-d501-87380fa05807"
      },
      "source": [
        "vectorizer = TfidfVectorizer()\n",
        "model = vectorizer.fit(corpus) \n",
        "dictionary = dict( zip( model.get_feature_names(), list(np.log(model.idf_))))\n",
        "for sent in corpus:\n",
        "    for word in sent.split(): \n",
        "        tf_idf = dictionary[word.lower()]*(sent.count(word)/len(sent.split()))\n",
        "        print(word+\" ----> \" +str(tf_idf))"
      ],
      "execution_count": null,
      "outputs": [
        {
          "name": "stdout",
          "output_type": "stream",
          "text": [
            "The ----> 0.0\n",
            "car ----> 0.04862404082917019\n",
            "is ----> 0.0\n",
            "driven ----> 0.0\n",
            "on ----> 0.0\n",
            "the ----> 0.0\n",
            "road ----> 0.04862404082917019\n",
            "The ----> 0.0\n",
            "truck ----> 0.04862404082917019\n",
            "is ----> 0.0\n",
            "driven ----> 0.0\n",
            "on ----> 0.0\n",
            "the ----> 0.0\n",
            "highway ----> 0.04862404082917019\n"
          ]
        }
      ]
    },
    {
      "cell_type": "markdown",
      "metadata": {
        "id": "TlchUAv5szH5"
      },
      "source": [
        "# Simple Classifier"
      ]
    },
    {
      "cell_type": "code",
      "metadata": {
        "id": "o55mFJsHszH5",
        "outputId": "5c4d90aa-4181-4599-abd6-19c5b542a3f4"
      },
      "source": [
        "# Perform imports and load the dataset\n",
        "\n",
        "df = pd.read_csv('smsspamcollection.tsv', sep='\\t')\n",
        "df.head()"
      ],
      "execution_count": null,
      "outputs": [
        {
          "data": {
            "text/html": [
              "<div>\n",
              "<style scoped>\n",
              "    .dataframe tbody tr th:only-of-type {\n",
              "        vertical-align: middle;\n",
              "    }\n",
              "\n",
              "    .dataframe tbody tr th {\n",
              "        vertical-align: top;\n",
              "    }\n",
              "\n",
              "    .dataframe thead th {\n",
              "        text-align: right;\n",
              "    }\n",
              "</style>\n",
              "<table border=\"1\" class=\"dataframe\">\n",
              "  <thead>\n",
              "    <tr style=\"text-align: right;\">\n",
              "      <th></th>\n",
              "      <th>label</th>\n",
              "      <th>message</th>\n",
              "      <th>length</th>\n",
              "      <th>punct</th>\n",
              "    </tr>\n",
              "  </thead>\n",
              "  <tbody>\n",
              "    <tr>\n",
              "      <th>0</th>\n",
              "      <td>ham</td>\n",
              "      <td>Go until jurong point, crazy.. Available only ...</td>\n",
              "      <td>111</td>\n",
              "      <td>9</td>\n",
              "    </tr>\n",
              "    <tr>\n",
              "      <th>1</th>\n",
              "      <td>ham</td>\n",
              "      <td>Ok lar... Joking wif u oni...</td>\n",
              "      <td>29</td>\n",
              "      <td>6</td>\n",
              "    </tr>\n",
              "    <tr>\n",
              "      <th>2</th>\n",
              "      <td>spam</td>\n",
              "      <td>Free entry in 2 a wkly comp to win FA Cup fina...</td>\n",
              "      <td>155</td>\n",
              "      <td>6</td>\n",
              "    </tr>\n",
              "    <tr>\n",
              "      <th>3</th>\n",
              "      <td>ham</td>\n",
              "      <td>U dun say so early hor... U c already then say...</td>\n",
              "      <td>49</td>\n",
              "      <td>6</td>\n",
              "    </tr>\n",
              "    <tr>\n",
              "      <th>4</th>\n",
              "      <td>ham</td>\n",
              "      <td>Nah I don't think he goes to usf, he lives aro...</td>\n",
              "      <td>61</td>\n",
              "      <td>2</td>\n",
              "    </tr>\n",
              "  </tbody>\n",
              "</table>\n",
              "</div>"
            ],
            "text/plain": [
              "  label                                            message  length  punct\n",
              "0   ham  Go until jurong point, crazy.. Available only ...     111      9\n",
              "1   ham                      Ok lar... Joking wif u oni...      29      6\n",
              "2  spam  Free entry in 2 a wkly comp to win FA Cup fina...     155      6\n",
              "3   ham  U dun say so early hor... U c already then say...      49      6\n",
              "4   ham  Nah I don't think he goes to usf, he lives aro...      61      2"
            ]
          },
          "execution_count": 7,
          "metadata": {},
          "output_type": "execute_result"
        }
      ]
    },
    {
      "cell_type": "markdown",
      "metadata": {
        "id": "i1w5w_BTszH6"
      },
      "source": [
        "### Check for missing values:"
      ]
    },
    {
      "cell_type": "code",
      "metadata": {
        "id": "QUkAT7VxszH6",
        "outputId": "dc9d2b65-ea24-4597-9c67-56a76ea20382"
      },
      "source": [
        "df.isnull().sum()"
      ],
      "execution_count": null,
      "outputs": [
        {
          "data": {
            "text/plain": [
              "label      0\n",
              "message    0\n",
              "length     0\n",
              "punct      0\n",
              "dtype: int64"
            ]
          },
          "execution_count": 8,
          "metadata": {},
          "output_type": "execute_result"
        }
      ]
    },
    {
      "cell_type": "code",
      "metadata": {
        "id": "EihgPP23szH6",
        "outputId": "47a4fb24-a9fb-485e-b3fd-da499f6b8c3c"
      },
      "source": [
        "df['label'].value_counts()"
      ],
      "execution_count": null,
      "outputs": [
        {
          "data": {
            "text/plain": [
              "ham     4825\n",
              "spam     747\n",
              "Name: label, dtype: int64"
            ]
          },
          "execution_count": 9,
          "metadata": {},
          "output_type": "execute_result"
        }
      ]
    },
    {
      "cell_type": "markdown",
      "metadata": {
        "id": "D-rVIjhfszH6"
      },
      "source": [
        "### Split the data into train & test sets:"
      ]
    },
    {
      "cell_type": "code",
      "metadata": {
        "id": "621HZRI9szH7"
      },
      "source": [
        "from sklearn.model_selection import train_test_split\n",
        "\n",
        "X = df['message']  # this time we want to look at the text\n",
        "y = df['label']\n",
        "\n",
        "X_train, X_test, y_train, y_test = train_test_split(X, y, test_size=0.33, random_state=42)"
      ],
      "execution_count": null,
      "outputs": []
    },
    {
      "cell_type": "code",
      "metadata": {
        "id": "DkZMHAFTszH7",
        "outputId": "308d66fc-2e1a-49ec-87f3-e1721a7a9fca"
      },
      "source": [
        "y_train"
      ],
      "execution_count": null,
      "outputs": [
        {
          "data": {
            "text/plain": [
              "3235    ham\n",
              "945     ham\n",
              "5319    ham\n",
              "5528    ham\n",
              "247     ham\n",
              "       ... \n",
              "3772    ham\n",
              "5191    ham\n",
              "5226    ham\n",
              "5390    ham\n",
              "860     ham\n",
              "Name: label, Length: 3733, dtype: object"
            ]
          },
          "execution_count": 11,
          "metadata": {},
          "output_type": "execute_result"
        }
      ]
    },
    {
      "cell_type": "code",
      "metadata": {
        "id": "Fg-ohHJgszH7"
      },
      "source": [
        "#from sklearn.feature_extraction.text import CountVectorizer\n",
        "#count_vect = CountVectorizer()\n",
        "\n",
        "#X_train_counts = count_vect.fit_transform(X_train)"
      ],
      "execution_count": null,
      "outputs": []
    },
    {
      "cell_type": "code",
      "metadata": {
        "id": "vQNMMN4UszH7"
      },
      "source": [
        "#X_train_counts"
      ],
      "execution_count": null,
      "outputs": []
    },
    {
      "cell_type": "code",
      "metadata": {
        "id": "NwAEwPjZszH7"
      },
      "source": [
        "#X_train_counts.shape"
      ],
      "execution_count": null,
      "outputs": []
    },
    {
      "cell_type": "code",
      "metadata": {
        "id": "kWt7mmViszH7",
        "outputId": "b84b0929-e66e-46b4-b13a-55b8aa6cce72"
      },
      "source": [
        "from sklearn.feature_extraction.text import TfidfVectorizer\n",
        "vectorizer = TfidfVectorizer()\n",
        "\n",
        "X_train_tfidf = vectorizer.fit_transform(X_train) # remember to use the original X_train set\n",
        "X_train_tfidf.shape"
      ],
      "execution_count": null,
      "outputs": [
        {
          "data": {
            "text/plain": [
              "(3733, 7082)"
            ]
          },
          "execution_count": 15,
          "metadata": {},
          "output_type": "execute_result"
        }
      ]
    },
    {
      "cell_type": "markdown",
      "metadata": {
        "id": "9Dke3AS8szH8"
      },
      "source": [
        "## Train a Classifier"
      ]
    },
    {
      "cell_type": "markdown",
      "metadata": {
        "id": "1R_9TyEyszH8"
      },
      "source": [
        "## Model 1 - Linear SVC"
      ]
    },
    {
      "cell_type": "code",
      "metadata": {
        "id": "LL9wwgkTszH8",
        "outputId": "57802e4b-befd-4cc8-81b8-a951ba08a16c"
      },
      "source": [
        "from sklearn.svm import LinearSVC\n",
        "clf = LinearSVC()\n",
        "clf.fit(X_train_tfidf,y_train)"
      ],
      "execution_count": null,
      "outputs": [
        {
          "data": {
            "text/plain": [
              "LinearSVC()"
            ]
          },
          "execution_count": 16,
          "metadata": {},
          "output_type": "execute_result"
        }
      ]
    },
    {
      "cell_type": "code",
      "metadata": {
        "id": "RgsNnaStszH8",
        "outputId": "8b8aa9d1-2b9e-466d-bf38-a34a712a1a37"
      },
      "source": [
        "# Form a prediction set\n",
        "predictions = clf.predict(X_train_tfidf)\n",
        "predictions"
      ],
      "execution_count": null,
      "outputs": [
        {
          "data": {
            "text/plain": [
              "array(['ham', 'ham', 'ham', ..., 'ham', 'ham', 'ham'], dtype=object)"
            ]
          },
          "execution_count": 17,
          "metadata": {},
          "output_type": "execute_result"
        }
      ]
    },
    {
      "cell_type": "code",
      "metadata": {
        "id": "6m-sazKHszH8"
      },
      "source": [
        "#train_predict = pd.DataFrame({'message': X_train.values,'train_y':y_train.values,'train_preds':predictions[1]})\n",
        "#train_predict"
      ],
      "execution_count": null,
      "outputs": []
    },
    {
      "cell_type": "code",
      "metadata": {
        "id": "EqHnuEnlszH8"
      },
      "source": [
        "#train_predict[train_predict['train_preds']=='spam']"
      ],
      "execution_count": null,
      "outputs": []
    },
    {
      "cell_type": "markdown",
      "metadata": {
        "id": "oNNcpGjkszH9"
      },
      "source": [
        "## Build a Pipeline"
      ]
    },
    {
      "cell_type": "code",
      "metadata": {
        "id": "Otmq3vrWszH9",
        "outputId": "71c1d6f1-cbc7-44db-965d-062861f4fe1d"
      },
      "source": [
        "from sklearn.pipeline import Pipeline\n",
        "# from sklearn.feature_extraction.text import TfidfVectorizer\n",
        "# from sklearn.svm import LinearSVC\n",
        "\n",
        "text_clf = Pipeline([('tfidf', TfidfVectorizer()),\n",
        "                     ('clf', LinearSVC()),\n",
        "])\n",
        "\n",
        "# Feed the training data through the pipeline\n",
        "text_clf.fit(X_train, y_train)  "
      ],
      "execution_count": null,
      "outputs": [
        {
          "data": {
            "text/plain": [
              "Pipeline(steps=[('tfidf', TfidfVectorizer()), ('clf', LinearSVC())])"
            ]
          },
          "execution_count": 20,
          "metadata": {},
          "output_type": "execute_result"
        }
      ]
    },
    {
      "cell_type": "code",
      "metadata": {
        "id": "3czRakRLszH9",
        "outputId": "51cb9da0-c603-4273-a0f2-7362552a1726"
      },
      "source": [
        "type(X_train), type(y_train)"
      ],
      "execution_count": null,
      "outputs": [
        {
          "data": {
            "text/plain": [
              "(pandas.core.series.Series, pandas.core.series.Series)"
            ]
          },
          "execution_count": 21,
          "metadata": {},
          "output_type": "execute_result"
        }
      ]
    },
    {
      "cell_type": "code",
      "metadata": {
        "id": "iLoWOg4mszH9",
        "outputId": "cc71902e-e40e-4ee8-efae-af4040b383f1"
      },
      "source": [
        "X_train.shape"
      ],
      "execution_count": null,
      "outputs": [
        {
          "data": {
            "text/plain": [
              "(3733,)"
            ]
          },
          "execution_count": 22,
          "metadata": {},
          "output_type": "execute_result"
        }
      ]
    },
    {
      "cell_type": "markdown",
      "metadata": {
        "id": "1X4gHEBMszH9"
      },
      "source": [
        "## Test the classifier and display results"
      ]
    },
    {
      "cell_type": "code",
      "metadata": {
        "id": "r-vAbWqLszH-",
        "outputId": "730a72c7-4083-44a6-ca19-612f26a421e4"
      },
      "source": [
        "# Form a prediction set\n",
        "predictions = text_clf.predict(X_test)\n",
        "predictions"
      ],
      "execution_count": null,
      "outputs": [
        {
          "data": {
            "text/plain": [
              "array(['ham', 'ham', 'ham', ..., 'ham', 'ham', 'ham'], dtype=object)"
            ]
          },
          "execution_count": 23,
          "metadata": {},
          "output_type": "execute_result"
        }
      ]
    },
    {
      "cell_type": "code",
      "metadata": {
        "id": "RmOu_pcwszH-",
        "outputId": "68ad9381-6c16-4033-ef89-ed0a31494d69"
      },
      "source": [
        "# Report the confusion matrix\n",
        "from sklearn import metrics\n",
        "print(metrics.confusion_matrix(y_test,predictions))"
      ],
      "execution_count": null,
      "outputs": [
        {
          "name": "stdout",
          "output_type": "stream",
          "text": [
            "[[1586    7]\n",
            " [  12  234]]\n"
          ]
        }
      ]
    },
    {
      "cell_type": "code",
      "metadata": {
        "id": "0V9eaM5sszH-",
        "outputId": "e9a34332-a0be-4b15-b244-49bfdf33e6af"
      },
      "source": [
        "# Print a classification report\n",
        "print(metrics.classification_report(y_test,predictions))"
      ],
      "execution_count": null,
      "outputs": [
        {
          "name": "stdout",
          "output_type": "stream",
          "text": [
            "              precision    recall  f1-score   support\n",
            "\n",
            "         ham       0.99      1.00      0.99      1593\n",
            "        spam       0.97      0.95      0.96       246\n",
            "\n",
            "    accuracy                           0.99      1839\n",
            "   macro avg       0.98      0.97      0.98      1839\n",
            "weighted avg       0.99      0.99      0.99      1839\n",
            "\n"
          ]
        }
      ]
    },
    {
      "cell_type": "code",
      "metadata": {
        "id": "Ms_lOQQWszH-",
        "outputId": "36b1064f-ce28-46fa-948e-4dc60ff2d803"
      },
      "source": [
        "# Print the overall accuracy\n",
        "print(metrics.accuracy_score(y_test,predictions))"
      ],
      "execution_count": null,
      "outputs": [
        {
          "name": "stdout",
          "output_type": "stream",
          "text": [
            "0.989668297988037\n"
          ]
        }
      ]
    },
    {
      "cell_type": "code",
      "metadata": {
        "id": "Ss_InySFszH-"
      },
      "source": [
        "#predictions"
      ],
      "execution_count": null,
      "outputs": []
    },
    {
      "cell_type": "markdown",
      "metadata": {
        "id": "R7LT96URszH-"
      },
      "source": [
        "## Model 2 Random Forest"
      ]
    },
    {
      "cell_type": "code",
      "metadata": {
        "id": "t6hvY_mRszH-",
        "outputId": "35e87ca6-3ca8-4c60-ed76-0f40eee131ad"
      },
      "source": [
        "from sklearn.pipeline import Pipeline\n",
        "from sklearn.naive_bayes import MultinomialNB\n",
        "from sklearn.ensemble import RandomForestClassifier\n",
        "\n",
        "\n",
        "\n",
        "# from sklearn.feature_extraction.text import TfidfVectorizer\n",
        "# from sklearn.svm import LinearSVC\n",
        "\n",
        "text_clf = Pipeline([('tfidf', TfidfVectorizer()),\n",
        "                     ('rf', RandomForestClassifier(n_estimators=100)),\n",
        "])\n",
        "\n",
        "# Feed the training data through the pipeline\n",
        "text_clf.fit(X_train, y_train)  "
      ],
      "execution_count": null,
      "outputs": [
        {
          "data": {
            "text/plain": [
              "Pipeline(steps=[('tfidf', TfidfVectorizer()), ('rf', RandomForestClassifier())])"
            ]
          },
          "execution_count": 28,
          "metadata": {},
          "output_type": "execute_result"
        }
      ]
    },
    {
      "cell_type": "markdown",
      "metadata": {
        "id": "Ti5-027hszH_"
      },
      "source": [
        "## Test the classifier and display results"
      ]
    },
    {
      "cell_type": "code",
      "metadata": {
        "id": "J8gK8fwfszH_"
      },
      "source": [
        "# Form a prediction set\n",
        "predictions = text_clf.predict(X_test)"
      ],
      "execution_count": null,
      "outputs": []
    },
    {
      "cell_type": "code",
      "metadata": {
        "id": "PDphif6DszH_",
        "outputId": "dbe5b39e-18af-4f62-8341-026b4118bf69"
      },
      "source": [
        "# Print the overall accuracy\n",
        "print(metrics.accuracy_score(y_test, predictions))"
      ],
      "execution_count": null,
      "outputs": [
        {
          "name": "stdout",
          "output_type": "stream",
          "text": [
            "0.9793365959760739\n"
          ]
        }
      ]
    },
    {
      "cell_type": "code",
      "metadata": {
        "id": "rapPL-SmszH_",
        "outputId": "1dee5e3d-8fe8-44cc-f818-3a701bdddadf"
      },
      "source": [
        "# Report the confusion matrix\n",
        "from sklearn import metrics\n",
        "print(metrics.confusion_matrix(y_test,predictions))"
      ],
      "execution_count": null,
      "outputs": [
        {
          "name": "stdout",
          "output_type": "stream",
          "text": [
            "[[1593    0]\n",
            " [  38  208]]\n"
          ]
        }
      ]
    },
    {
      "cell_type": "markdown",
      "metadata": {
        "id": "gBSZF_wWszH_"
      },
      "source": [
        "## Word Cloud"
      ]
    },
    {
      "cell_type": "code",
      "metadata": {
        "id": "N_KX420vszH_"
      },
      "source": [
        "from PIL import Image\n",
        "from wordcloud import WordCloud, STOPWORDS\n",
        "import matplotlib.pyplot as plt"
      ],
      "execution_count": null,
      "outputs": []
    },
    {
      "cell_type": "code",
      "metadata": {
        "id": "PqLOWDc0szH_"
      },
      "source": [
        "# Returns a string\n",
        "dataset = open(\"../data/modi.txt\", \"r\").read()\n",
        "dataset = dataset.lower()"
      ],
      "execution_count": null,
      "outputs": []
    },
    {
      "cell_type": "code",
      "metadata": {
        "id": "fPBTiH1uszH_"
      },
      "source": [
        "maskArray = np.array(Image.open(\"../data/modi.png\"))\n",
        "cloud = WordCloud(background_color = \"white\", max_words = 200, mask = maskArray, stopwords = set(STOPWORDS))"
      ],
      "execution_count": null,
      "outputs": []
    },
    {
      "cell_type": "code",
      "metadata": {
        "scrolled": true,
        "id": "40Wunwg_szH_",
        "outputId": "ae274d75-d50c-4aee-9607-8fd7af85b55d"
      },
      "source": [
        "#cloud = WordCloud(background_color = \"black\", max_words = 100,  stopwords = set(STOPWORDS))\n",
        "cloud.generate(dataset)\n",
        "#cloud.to_file(\"wordCloud.png\")\n",
        "plt.axis(\"off\")\n",
        "plt.imshow(cloud)\n",
        "#plt.show()"
      ],
      "execution_count": null,
      "outputs": [
        {
          "data": {
            "text/plain": [
              "<matplotlib.image.AxesImage at 0x7fb5f9eaaee0>"
            ]
          },
          "execution_count": 41,
          "metadata": {},
          "output_type": "execute_result"
        },
        {
          "data": {
            "image/png": "[encoded data removed]",
            "text/plain": [
              "<Figure size 432x288 with 1 Axes>"
            ]
          },
          "metadata": {
            "needs_background": "light"
          },
          "output_type": "display_data"
        }
      ]
    },
    {
      "cell_type": "code",
      "metadata": {
        "id": "Nd6wb4nGszIA"
      },
      "source": [
        ""
      ],
      "execution_count": null,
      "outputs": []
    }
  ]
}