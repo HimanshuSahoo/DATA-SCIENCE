{
  "nbformat": 4,
  "nbformat_minor": 0,
  "metadata": {
    "kernelspec": {
      "display_name": "Python 3",
      "language": "python",
      "name": "python3"
    },
    "language_info": {
      "codemirror_mode": {
        "name": "ipython",
        "version": 3
      },
      "file_extension": ".py",
      "mimetype": "text/x-python",
      "name": "python",
      "nbconvert_exporter": "python",
      "pygments_lexer": "ipython3",
      "version": "3.8.8"
    },
    "toc": {
      "base_numbering": 1,
      "nav_menu": {},
      "number_sections": true,
      "sideBar": true,
      "skip_h1_title": false,
      "title_cell": "Table of Contents",
      "title_sidebar": "Contents",
      "toc_cell": false,
      "toc_position": {},
      "toc_section_display": true,
      "toc_window_display": false
    },
    "varInspector": {
      "cols": {
        "lenName": 16,
        "lenType": 16,
        "lenVar": 40
      },
      "kernels_config": {
        "python": {
          "delete_cmd_postfix": "",
          "delete_cmd_prefix": "del ",
          "library": "var_list.py",
          "varRefreshCmd": "print(var_dic_list())"
        },
        "r": {
          "delete_cmd_postfix": ") ",
          "delete_cmd_prefix": "rm(",
          "library": "var_list.r",
          "varRefreshCmd": "cat(var_dic_list()) "
        }
      },
      "types_to_exclude": [
        "module",
        "function",
        "builtin_function_or_method",
        "instance",
        "_Feature"
      ],
      "window_display": false
    },
    "colab": {
      "name": "Text Processing_Feature Extraction (1).ipynb",
      "provenance": [],
      "include_colab_link": true
    }
  },
  "cells": [
    {
      "cell_type": "markdown",
      "metadata": {
        "id": "view-in-github",
        "colab_type": "text"
      },
      "source": [
        "<a href=\"https://colab.research.google.com/github/HimanshuSahoo/DATA-SCIENCE/blob/main/Text_Processing_Feature_Extraction.ipynb\" target=\"_parent\"><img src=\"https://colab.research.google.com/assets/colab-badge.svg\" alt=\"Open In Colab\"/></a>"
      ]
    },
    {
      "cell_type": "code",
      "metadata": {
        "id": "OYjOKuP9TSJw",
        "outputId": "ba47f521-a6bf-43d3-8e53-01ef00856894"
      },
      "source": [
        "pip install wordcloud"
      ],
      "execution_count": null,
      "outputs": [
        {
          "name": "stdout",
          "output_type": "stream",
          "text": [
            "Collecting wordcloud\n",
            "  Downloading wordcloud-1.8.1-cp38-cp38-win_amd64.whl (155 kB)\n",
            "Requirement already satisfied: matplotlib in c:\\users\\himan\\anaconda3\\lib\\site-packages (from wordcloud) (3.3.4)\n",
            "Requirement already satisfied: numpy>=1.6.1 in c:\\users\\himan\\anaconda3\\lib\\site-packages (from wordcloud) (1.20.1)\n",
            "Requirement already satisfied: pillow in c:\\users\\himan\\anaconda3\\lib\\site-packages (from wordcloud) (8.2.0)\n",
            "Requirement already satisfied: python-dateutil>=2.1 in c:\\users\\himan\\anaconda3\\lib\\site-packages (from matplotlib->wordcloud) (2.8.1)\n",
            "Requirement already satisfied: cycler>=0.10 in c:\\users\\himan\\anaconda3\\lib\\site-packages (from matplotlib->wordcloud) (0.10.0)\n",
            "Requirement already satisfied: pyparsing!=2.0.4,!=2.1.2,!=2.1.6,>=2.0.3 in c:\\users\\himan\\anaconda3\\lib\\site-packages (from matplotlib->wordcloud) (2.4.7)\n",
            "Requirement already satisfied: kiwisolver>=1.0.1 in c:\\users\\himan\\anaconda3\\lib\\site-packages (from matplotlib->wordcloud) (1.3.1)\n",
            "Requirement already satisfied: six in c:\\users\\himan\\anaconda3\\lib\\site-packages (from cycler>=0.10->matplotlib->wordcloud) (1.15.0)\n",
            "Installing collected packages: wordcloud\n",
            "Successfully installed wordcloud-1.8.1\n",
            "Note: you may need to restart the kernel to use updated packages.\n"
          ]
        }
      ]
    },
    {
      "cell_type": "code",
      "metadata": {
        "id": "OhbYOFm2TSJz",
        "outputId": "1d7fa847-b288-419c-d9aa-7950a4440ab0"
      },
      "source": [
        "pip install spacy"
      ],
      "execution_count": null,
      "outputs": [
        {
          "name": "stdout",
          "output_type": "stream",
          "text": [
            "Collecting spacy\n",
            "  Downloading spacy-3.1.1-cp38-cp38-win_amd64.whl (12.0 MB)\n",
            "Collecting catalogue<2.1.0,>=2.0.4\n",
            "  Downloading catalogue-2.0.4-py3-none-any.whl (16 kB)\n",
            "Requirement already satisfied: setuptools in c:\\users\\himan\\anaconda3\\lib\\site-packages (from spacy) (52.0.0.post20210125)\n",
            "Collecting wasabi<1.1.0,>=0.8.1\n",
            "  Downloading wasabi-0.8.2-py3-none-any.whl (23 kB)\n",
            "Collecting spacy-legacy<3.1.0,>=3.0.7\n",
            "  Downloading spacy_legacy-3.0.8-py2.py3-none-any.whl (14 kB)\n",
            "Requirement already satisfied: tqdm<5.0.0,>=4.38.0 in c:\\users\\himan\\anaconda3\\lib\\site-packages (from spacy) (4.59.0)\n",
            "Collecting blis<0.8.0,>=0.4.0\n",
            "  Downloading blis-0.7.4-cp38-cp38-win_amd64.whl (6.5 MB)\n",
            "Collecting pydantic!=1.8,!=1.8.1,<1.9.0,>=1.7.4\n",
            "  Downloading pydantic-1.8.2-cp38-cp38-win_amd64.whl (2.0 MB)\n",
            "Requirement already satisfied: packaging>=20.0 in c:\\users\\himan\\anaconda3\\lib\\site-packages (from spacy) (20.9)\n",
            "Collecting cymem<2.1.0,>=2.0.2\n",
            "  Downloading cymem-2.0.5-cp38-cp38-win_amd64.whl (36 kB)\n",
            "Collecting typer<0.4.0,>=0.3.0\n",
            "  Downloading typer-0.3.2-py3-none-any.whl (21 kB)\n",
            "Collecting murmurhash<1.1.0,>=0.28.0\n",
            "  Downloading murmurhash-1.0.5-cp38-cp38-win_amd64.whl (21 kB)\n",
            "Collecting srsly<3.0.0,>=2.4.1\n",
            "  Downloading srsly-2.4.1-cp38-cp38-win_amd64.whl (451 kB)\n",
            "Requirement already satisfied: numpy>=1.15.0 in c:\\users\\himan\\anaconda3\\lib\\site-packages (from spacy) (1.20.1)\n",
            "Requirement already satisfied: jinja2 in c:\\users\\himan\\anaconda3\\lib\\site-packages (from spacy) (2.11.3)\n",
            "Requirement already satisfied: requests<3.0.0,>=2.13.0 in c:\\users\\himan\\anaconda3\\lib\\site-packages (from spacy) (2.25.1)\n",
            "Collecting thinc<8.1.0,>=8.0.8\n",
            "  Downloading thinc-8.0.8-cp38-cp38-win_amd64.whl (1.0 MB)\n",
            "Collecting pathy>=0.3.5\n",
            "  Downloading pathy-0.6.0-py3-none-any.whl (42 kB)\n",
            "Collecting preshed<3.1.0,>=3.0.2\n",
            "  Downloading preshed-3.0.5-cp38-cp38-win_amd64.whl (112 kB)\n",
            "Requirement already satisfied: pyparsing>=2.0.2 in c:\\users\\himan\\anaconda3\\lib\\site-packages (from packaging>=20.0->spacy) (2.4.7)\n",
            "Collecting smart-open<6.0.0,>=5.0.0\n",
            "  Downloading smart_open-5.1.0-py3-none-any.whl (57 kB)\n",
            "Requirement already satisfied: typing-extensions>=3.7.4.3 in c:\\users\\himan\\anaconda3\\lib\\site-packages (from pydantic!=1.8,!=1.8.1,<1.9.0,>=1.7.4->spacy) (3.7.4.3)\n",
            "Requirement already satisfied: urllib3<1.27,>=1.21.1 in c:\\users\\himan\\anaconda3\\lib\\site-packages (from requests<3.0.0,>=2.13.0->spacy) (1.26.4)\n",
            "Requirement already satisfied: chardet<5,>=3.0.2 in c:\\users\\himan\\anaconda3\\lib\\site-packages (from requests<3.0.0,>=2.13.0->spacy) (4.0.0)\n",
            "Requirement already satisfied: certifi>=2017.4.17 in c:\\users\\himan\\anaconda3\\lib\\site-packages (from requests<3.0.0,>=2.13.0->spacy) (2020.12.5)\n",
            "Requirement already satisfied: idna<3,>=2.5 in c:\\users\\himan\\anaconda3\\lib\\site-packages (from requests<3.0.0,>=2.13.0->spacy) (2.10)\n",
            "Requirement already satisfied: click<7.2.0,>=7.1.1 in c:\\users\\himan\\anaconda3\\lib\\site-packages (from typer<0.4.0,>=0.3.0->spacy) (7.1.2)\n",
            "Requirement already satisfied: MarkupSafe>=0.23 in c:\\users\\himan\\anaconda3\\lib\\site-packages (from jinja2->spacy) (1.1.1)\n",
            "Installing collected packages: murmurhash, cymem, catalogue, wasabi, typer, srsly, smart-open, pydantic, preshed, blis, thinc, spacy-legacy, pathy, spacy\n",
            "Successfully installed blis-0.7.4 catalogue-2.0.4 cymem-2.0.5 murmurhash-1.0.5 pathy-0.6.0 preshed-3.0.5 pydantic-1.8.2 smart-open-5.1.0 spacy-3.1.1 spacy-legacy-3.0.8 srsly-2.4.1 thinc-8.0.8 typer-0.3.2 wasabi-0.8.2\n",
            "Note: you may need to restart the kernel to use updated packages.\n"
          ]
        }
      ]
    },
    {
      "cell_type": "code",
      "metadata": {
        "id": "6t09Yz-pTSJ0"
      },
      "source": [
        "import numpy as np # linear algebra\n",
        "import pandas as pd # data processing, CSV file I/O (e.g. pd.read_csv)\n",
        "import string # special operations on strings\n",
        "import spacy # language models\n",
        "\n",
        "from matplotlib.pyplot import imread\n",
        "from matplotlib import pyplot as plt\n",
        "from wordcloud import WordCloud\n",
        "%matplotlib inline"
      ],
      "execution_count": null,
      "outputs": []
    },
    {
      "cell_type": "code",
      "metadata": {
        "id": "aHmbrqO_TSJ1"
      },
      "source": [
        "#!python -m spacy download en_core_web_md"
      ],
      "execution_count": null,
      "outputs": []
    },
    {
      "cell_type": "code",
      "metadata": {
        "id": "RUF9sQVHTSJ1",
        "outputId": "92165de5-ed6e-49ba-c8e7-fee97e2bf4a7"
      },
      "source": [
        "import pandas\n",
        "book=pd.read_csv(\"apple.txt\",error_bad_lines=False)"
      ],
      "execution_count": null,
      "outputs": [
        {
          "name": "stderr",
          "output_type": "stream",
          "text": [
            "b'Skipping line 6: expected 1 fields, saw 14\\n'\n"
          ]
        }
      ]
    },
    {
      "cell_type": "code",
      "metadata": {
        "id": "XTWqUMv2TSJ2",
        "outputId": "09d32111-bd46-496c-d837-8ef54f06563c"
      },
      "source": [
        "book"
      ],
      "execution_count": null,
      "outputs": [
        {
          "data": {
            "text/html": [
              "<div>\n",
              "<style scoped>\n",
              "    .dataframe tbody tr th:only-of-type {\n",
              "        vertical-align: middle;\n",
              "    }\n",
              "\n",
              "    .dataframe tbody tr th {\n",
              "        vertical-align: top;\n",
              "    }\n",
              "\n",
              "    .dataframe thead th {\n",
              "        text-align: right;\n",
              "    }\n",
              "</style>\n",
              "<table border=\"1\" class=\"dataframe\">\n",
              "  <thead>\n",
              "    <tr style=\"text-align: right;\">\n",
              "      <th></th>\n",
              "      <th>x</th>\n",
              "    </tr>\n",
              "  </thead>\n",
              "  <tbody>\n",
              "    <tr>\n",
              "      <th>0</th>\n",
              "      <td>It's amazing..... battery last around 10 -12 h...</td>\n",
              "    </tr>\n",
              "    <tr>\n",
              "      <th>1</th>\n",
              "      <td>Finally a MacBook possession. Got it in 50k in...</td>\n",
              "    </tr>\n",
              "    <tr>\n",
              "      <th>2</th>\n",
              "      <td>Best Laptop under 60k. If you don't want any a...</td>\n",
              "    </tr>\n",
              "    <tr>\n",
              "      <th>3</th>\n",
              "      <td>Pros:1. Light weight and super fast response t...</td>\n",
              "    </tr>\n",
              "    <tr>\n",
              "      <th>4</th>\n",
              "      <td>\"</td>\n",
              "    </tr>\n",
              "    <tr>\n",
              "      <th>5</th>\n",
              "      <td>I am very upset about the product as I checked...</td>\n",
              "    </tr>\n",
              "    <tr>\n",
              "      <th>6</th>\n",
              "      <td>Reason for 1 star is I ot an defective piece. ...</td>\n",
              "    </tr>\n",
              "    <tr>\n",
              "      <th>7</th>\n",
              "      <td>Got the Apple Macbook air on amazon discount s...</td>\n",
              "    </tr>\n",
              "    <tr>\n",
              "      <th>8</th>\n",
              "      <td>White line coming on screen in just three mont...</td>\n",
              "    </tr>\n",
              "    <tr>\n",
              "      <th>9</th>\n",
              "      <td>Bought this product recently on 5 April, was w...</td>\n",
              "    </tr>\n",
              "    <tr>\n",
              "      <th>10</th>\n",
              "      <td>Hi, Think thousand time before buying. One cal...</td>\n",
              "    </tr>\n",
              "    <tr>\n",
              "      <th>11</th>\n",
              "      <td>We buy macbook's expecting that it will lasts ...</td>\n",
              "    </tr>\n",
              "    <tr>\n",
              "      <th>12</th>\n",
              "      <td>I use this for music production and it works a...</td>\n",
              "    </tr>\n",
              "    <tr>\n",
              "      <th>13</th>\n",
              "      <td>Never purchase any Apple products. I bought 3 ...</td>\n",
              "    </tr>\n",
              "    <tr>\n",
              "      <th>14</th>\n",
              "      <td>Good purchase of mineBest for programming...On...</td>\n",
              "    </tr>\n",
              "    <tr>\n",
              "      <th>15</th>\n",
              "      <td>I bought MacBook air in 2017, it was working f...</td>\n",
              "    </tr>\n",
              "    <tr>\n",
              "      <th>16</th>\n",
              "      <td>Bought it on 9th July, stopped working / not t...</td>\n",
              "    </tr>\n",
              "    <tr>\n",
              "      <th>17</th>\n",
              "      <td>I bought it last year from Amazon during Sale....</td>\n",
              "    </tr>\n",
              "    <tr>\n",
              "      <th>18</th>\n",
              "      <td>All are Gud.. For now..\\n</td>\n",
              "    </tr>\n",
              "    <tr>\n",
              "      <th>19</th>\n",
              "      <td>Apple,apple,apple, thats the first thing that ...</td>\n",
              "    </tr>\n",
              "    <tr>\n",
              "      <th>20</th>\n",
              "      <td>After using Windows Operating system for the p...</td>\n",
              "    </tr>\n",
              "    <tr>\n",
              "      <th>21</th>\n",
              "      <td>MacBook Air is excellent. The build is super s...</td>\n",
              "    </tr>\n",
              "    <tr>\n",
              "      <th>22</th>\n",
              "      <td>Very handy laptop, light weight and portable. ...</td>\n",
              "    </tr>\n",
              "    <tr>\n",
              "      <th>23</th>\n",
              "      <td>I was apprehensive of buying Apple product fro...</td>\n",
              "    </tr>\n",
              "    <tr>\n",
              "      <th>24</th>\n",
              "      <td>I brought this mac air on sep 2017. From past ...</td>\n",
              "    </tr>\n",
              "    <tr>\n",
              "      <th>25</th>\n",
              "      <td>Don't want to mention anything for apple MAC b...</td>\n",
              "    </tr>\n",
              "    <tr>\n",
              "      <th>26</th>\n",
              "      <td>I have my worst nightmare with the macbook air...</td>\n",
              "    </tr>\n",
              "    <tr>\n",
              "      <th>27</th>\n",
              "      <td>Everything about this product seems to be fine...</td>\n",
              "    </tr>\n",
              "    <tr>\n",
              "      <th>28</th>\n",
              "      <td>I was looking for an affordable long lasting l...</td>\n",
              "    </tr>\n",
              "    <tr>\n",
              "      <th>29</th>\n",
              "      <td>This is the worst  apple product I have ever s...</td>\n",
              "    </tr>\n",
              "    <tr>\n",
              "      <th>30</th>\n",
              "      <td>Amazing product..it has quality written all ov...</td>\n",
              "    </tr>\n",
              "    <tr>\n",
              "      <th>31</th>\n",
              "      <td>From the very beginning the battery life was h...</td>\n",
              "    </tr>\n",
              "    <tr>\n",
              "      <th>32</th>\n",
              "      <td>The rating isn't for Apple's performance. I ex...</td>\n",
              "    </tr>\n",
              "    <tr>\n",
              "      <th>33</th>\n",
              "      <td>I preferred this over other good spec windows ...</td>\n",
              "    </tr>\n",
              "    <tr>\n",
              "      <th>34</th>\n",
              "      <td>When i received, within 15 days i realised the...</td>\n",
              "    </tr>\n",
              "    <tr>\n",
              "      <th>35</th>\n",
              "      <td>Be careful while buying electronic products th...</td>\n",
              "    </tr>\n",
              "    <tr>\n",
              "      <th>36</th>\n",
              "      <td>MERITS..IT IS BEST IN ITS PERFORMANCE..SOUND Q...</td>\n",
              "    </tr>\n",
              "    <tr>\n",
              "      <th>37</th>\n",
              "      <td>3 years and still running! great product\\n    ...</td>\n",
              "    </tr>\n",
              "    <tr>\n",
              "      <th>38</th>\n",
              "      <td>The elegant work of apple can be seen in this ...</td>\n",
              "    </tr>\n",
              "    <tr>\n",
              "      <th>39</th>\n",
              "      <td>I got a great deal on this laptop, which I hav...</td>\n",
              "    </tr>\n",
              "  </tbody>\n",
              "</table>\n",
              "</div>"
            ],
            "text/plain": [
              "                                                    x\n",
              "0   It's amazing..... battery last around 10 -12 h...\n",
              "1   Finally a MacBook possession. Got it in 50k in...\n",
              "2   Best Laptop under 60k. If you don't want any a...\n",
              "3   Pros:1. Light weight and super fast response t...\n",
              "4                                                   \"\n",
              "5   I am very upset about the product as I checked...\n",
              "6   Reason for 1 star is I ot an defective piece. ...\n",
              "7   Got the Apple Macbook air on amazon discount s...\n",
              "8   White line coming on screen in just three mont...\n",
              "9   Bought this product recently on 5 April, was w...\n",
              "10  Hi, Think thousand time before buying. One cal...\n",
              "11  We buy macbook's expecting that it will lasts ...\n",
              "12  I use this for music production and it works a...\n",
              "13  Never purchase any Apple products. I bought 3 ...\n",
              "14  Good purchase of mineBest for programming...On...\n",
              "15  I bought MacBook air in 2017, it was working f...\n",
              "16  Bought it on 9th July, stopped working / not t...\n",
              "17  I bought it last year from Amazon during Sale....\n",
              "18              All are Gud.. For now..\\n            \n",
              "19  Apple,apple,apple, thats the first thing that ...\n",
              "20  After using Windows Operating system for the p...\n",
              "21  MacBook Air is excellent. The build is super s...\n",
              "22  Very handy laptop, light weight and portable. ...\n",
              "23  I was apprehensive of buying Apple product fro...\n",
              "24  I brought this mac air on sep 2017. From past ...\n",
              "25  Don't want to mention anything for apple MAC b...\n",
              "26  I have my worst nightmare with the macbook air...\n",
              "27  Everything about this product seems to be fine...\n",
              "28  I was looking for an affordable long lasting l...\n",
              "29  This is the worst  apple product I have ever s...\n",
              "30  Amazing product..it has quality written all ov...\n",
              "31  From the very beginning the battery life was h...\n",
              "32  The rating isn't for Apple's performance. I ex...\n",
              "33  I preferred this over other good spec windows ...\n",
              "34  When i received, within 15 days i realised the...\n",
              "35  Be careful while buying electronic products th...\n",
              "36  MERITS..IT IS BEST IN ITS PERFORMANCE..SOUND Q...\n",
              "37  3 years and still running! great product\\n    ...\n",
              "38  The elegant work of apple can be seen in this ...\n",
              "39  I got a great deal on this laptop, which I hav..."
            ]
          },
          "execution_count": 5,
          "metadata": {},
          "output_type": "execute_result"
        }
      ]
    },
    {
      "cell_type": "code",
      "metadata": {
        "id": "lHYahyvGTSJ3",
        "outputId": "6e00cd2e-cd1d-435c-96a7-f95693799712"
      },
      "source": [
        "book = [x.strip() for x in book.x] # remove both the leading and the trailing characters\n",
        "book = [x for x in book if x] # removes empty strings, because they are considered in Python as False\n",
        "book[0:10]"
      ],
      "execution_count": null,
      "outputs": [
        {
          "data": {
            "text/plain": [
              "[\"It's amazing..... battery last around 10 -12 hrs.....best laptop for students and coders\",\n",
              " \"Finally a MacBook possession. Got it in 50k in Diwali sale. Technically good laptop.Good News.luxury product, niche technology, good battery life, reliable machine (other laptops crash and become defunct in 6-10 years), no anti-virus required, security of data and transactions much better. Terrific sense of possession & pride.Bad News. Problems will be there if you are switching from windows based system - very less space in hard disk, no CD drive, inability to transfer data from Mac to your existing external hard disc unless you format it, apps are mostly paid and re unreasonably expensive (no free apps which are available otherwise on google play store, even the angry bird costs Rs 400 !!), all printers are not compatible (e.g. the most economical MFD laser printer RICOH SP 111 can't be used), huge compatibility issues with Pages (MS Word) and Keynote (powerpoint) unless you master it by working on these (still mostly the document and slides either do not open in windows environment or have distortion issues). you need to spend extra for an external CD writer and tp buy a carry bag. Mac con not be connected to most of the projectors unless you buy some connectors, which are expensive and theres no clarity which one to buy and from where. you can't connect it to your TV, the ports are different and again theres no clarity - customer support, manuals or help section are silent ! Marketing strategy for Indian market, if at all has been planned, has been very bad. If these critical issues (and a few more not mentioned here) are handled properly, the Mac can sweep away other laptops in India. Presently, it doesn't seem to be happening.Overall Verdict.If compatibility issues mentioned above do not bother you, go for it. Else, think hard.  If its an emotional issue to own a long cherished Mac, then its a different thing. Go ahead and gradually you would figure out most (but not all) of the above problems, like I did.\",\n",
              " \"Best Laptop under 60k. If you don't want any accounting softwares like tally or busy then go for it, better than windows in every term. I just love it's battery life with sleek look 😍Now talking about MS officeIt's available on app store, free for 1 monthAfter that you will have to pay.You cannot install pirated version but if you install Windows 7 or any other version then u can use Ms office for freeBut in MacBook there are other apps which are good substitute for Ms office appsNumbers for ExcelPages for wordKeynote for PowerPointAnd you can convert your numbers file to Excel file or csv fileSame for the pages & keynoteSo no need of Ms office for me.Cons1. U cannot play games, your laptop will just heat up, battery will drain* U cannot play pubg mobile on emulator if you are pubg lover😁2. Storage 128gb, it will work fine but if you want to store movies or TV shows u can't, u have to buy external hard disk\",\n",
              " 'Pros:1. Light weight and super fast response time2. Highly optimize which avoids any kind of process lag.3. Beautiful looks and feels like a prime product.4. Long battery life and awesome sound clarity5. Purchased during Amazon sale cost around 52k.Cons:1. Not enough memory2. Limited softwares available3. Operating system is not that user-friendlyProbably one of the best option for 50k+ laptops',\n",
              " '\"',\n",
              " 'I am very upset about the product as I checked my MacBook 15 days back in December, it didn’t start. It was luckily in warranty . I took it to the service centre and they informed me the mother board and battery collapsed. If it was not in warranty I had to pay 47000/. I asked for replacement of the product and I was refused. They got it fixed for me. I don’t know why should I pay 57000/ for Mac quality. If this is the quality and the service, then I have to go to other product. In January my product expiry was due. They have give an extension of 3 months warranty when I had asked for 1 year. Very disappointed.',\n",
              " 'Reason for 1 star is I ot an defective piece. The sound quality was not good . My laptop started giving issues with power button from  4 months. The screen would flicker and it would shutdown automatically after sometime. Took the mac to service centre. They replaced the motherboard free of cost as it was in warranty. Now my mac is perfectly fine :',\n",
              " 'Got the Apple Macbook air on amazon discount sale.1) The OS is smooth and is a breeze to work with. Ships with macOS sierra but update is available to macOS mojave2) The design and build quality, as you can expect from an apple product is top notch.3) Excellen sound quality, keyboard.Cons:1) 128GB may be low incase you want to have movies and media in your laptop.You need to carry around a hard disk that kind of nullifies the advantage of having a light weight laptop.2) Display resolution is not exactly upto the mark',\n",
              " 'White line coming on screen in just three months of purchase from amazon. Doubting the quality of the products sold on amazon',\n",
              " 'Bought this product recently on 5 April, was working perfectly fine for few days and on 16 April the Mac working charge or turn on. Apple service centre says they can’t fix the product under warranty and amazon in try to come up with a solution ever since , no solid answer . I m stuck with a dead mac after using it for 10days. Request seller , Amazon or apple to take full responsibility.']"
            ]
          },
          "execution_count": 6,
          "metadata": {},
          "output_type": "execute_result"
        }
      ]
    },
    {
      "cell_type": "code",
      "metadata": {
        "id": "IiiEpjD3TSJ4",
        "outputId": "1150819c-33ba-4eac-b108-4410c1b360b9"
      },
      "source": [
        "# Joining the list into one string/text\n",
        "text = ' '.join(book)\n",
        "text"
      ],
      "execution_count": null,
      "outputs": [
        {
          "data": {
            "text/plain": [
              "'It\\'s amazing..... battery last around 10 -12 hrs.....best laptop for students and coders Finally a MacBook possession. Got it in 50k in Diwali sale. Technically good laptop.Good News.luxury product, niche technology, good battery life, reliable machine (other laptops crash and become defunct in 6-10 years), no anti-virus required, security of data and transactions much better. Terrific sense of possession & pride.Bad News. Problems will be there if you are switching from windows based system - very less space in hard disk, no CD drive, inability to transfer data from Mac to your existing external hard disc unless you format it, apps are mostly paid and re unreasonably expensive (no free apps which are available otherwise on google play store, even the angry bird costs Rs 400 !!), all printers are not compatible (e.g. the most economical MFD laser printer RICOH SP 111 can\\'t be used), huge compatibility issues with Pages (MS Word) and Keynote (powerpoint) unless you master it by working on these (still mostly the document and slides either do not open in windows environment or have distortion issues). you need to spend extra for an external CD writer and tp buy a carry bag. Mac con not be connected to most of the projectors unless you buy some connectors, which are expensive and theres no clarity which one to buy and from where. you can\\'t connect it to your TV, the ports are different and again theres no clarity - customer support, manuals or help section are silent ! Marketing strategy for Indian market, if at all has been planned, has been very bad. If these critical issues (and a few more not mentioned here) are handled properly, the Mac can sweep away other laptops in India. Presently, it doesn\\'t seem to be happening.Overall Verdict.If compatibility issues mentioned above do not bother you, go for it. Else, think hard.  If its an emotional issue to own a long cherished Mac, then its a different thing. Go ahead and gradually you would figure out most (but not all) of the above problems, like I did. Best Laptop under 60k. If you don\\'t want any accounting softwares like tally or busy then go for it, better than windows in every term. I just love it\\'s battery life with sleek look 😍Now talking about MS officeIt\\'s available on app store, free for 1 monthAfter that you will have to pay.You cannot install pirated version but if you install Windows 7 or any other version then u can use Ms office for freeBut in MacBook there are other apps which are good substitute for Ms office appsNumbers for ExcelPages for wordKeynote for PowerPointAnd you can convert your numbers file to Excel file or csv fileSame for the pages & keynoteSo no need of Ms office for me.Cons1. U cannot play games, your laptop will just heat up, battery will drain* U cannot play pubg mobile on emulator if you are pubg lover😁2. Storage 128gb, it will work fine but if you want to store movies or TV shows u can\\'t, u have to buy external hard disk Pros:1. Light weight and super fast response time2. Highly optimize which avoids any kind of process lag.3. Beautiful looks and feels like a prime product.4. Long battery life and awesome sound clarity5. Purchased during Amazon sale cost around 52k.Cons:1. Not enough memory2. Limited softwares available3. Operating system is not that user-friendlyProbably one of the best option for 50k+ laptops \" I am very upset about the product as I checked my MacBook 15 days back in December, it didn’t start. It was luckily in warranty . I took it to the service centre and they informed me the mother board and battery collapsed. If it was not in warranty I had to pay 47000/. I asked for replacement of the product and I was refused. They got it fixed for me. I don’t know why should I pay 57000/ for Mac quality. If this is the quality and the service, then I have to go to other product. In January my product expiry was due. They have give an extension of 3 months warranty when I had asked for 1 year. Very disappointed. Reason for 1 star is I ot an defective piece. The sound quality was not good . My laptop started giving issues with power button from  4 months. The screen would flicker and it would shutdown automatically after sometime. Took the mac to service centre. They replaced the motherboard free of cost as it was in warranty. Now my mac is perfectly fine : Got the Apple Macbook air on amazon discount sale.1) The OS is smooth and is a breeze to work with. Ships with macOS sierra but update is available to macOS mojave2) The design and build quality, as you can expect from an apple product is top notch.3) Excellen sound quality, keyboard.Cons:1) 128GB may be low incase you want to have movies and media in your laptop.You need to carry around a hard disk that kind of nullifies the advantage of having a light weight laptop.2) Display resolution is not exactly upto the mark White line coming on screen in just three months of purchase from amazon. Doubting the quality of the products sold on amazon Bought this product recently on 5 April, was working perfectly fine for few days and on 16 April the Mac working charge or turn on. Apple service centre says they can’t fix the product under warranty and amazon in try to come up with a solution ever since , no solid answer . I m stuck with a dead mac after using it for 10days. Request seller , Amazon or apple to take full responsibility. Hi, Think thousand time before buying. One calm night i was cuddling in jaipuri blanket while enjoying youtube on this expensive machine. Cold night and little excitement created electrostatic charge which spike though spaceBar button. that\\'s how it went to deep sleep forever. Nothing can bring it back and i am in no mood in spending another fortune on this machine. Apple, of you (i)care, this is the least of security feature included in all electronic devices. And the best part, it was a week after Warranty expiration date. We buy macbook\\'s expecting that it will lasts at least 3 years, not in my case they are saying it will costs 46000rs to repair.. i bought this in 58000rs.. if i don\\'t want to repair it still I\\'ve to pay 2500rs as diagnostic cost.. not recommended.. I use this for music production and it works awesome..however the display is not so good as it should have been in a 63k laptop Never purchase any Apple products. I bought 3 and start giving problems just after 6 months. I need to visit 4 times service station which is far 12 km. Again MacBook start acting dead after 6 more months. Mean a top priced laptop giving problems in every 6 months.I have good experiences with other brands of laptops. I hope this comment can help to save somebody’s money. Good purchase of mineBest for programming...Only some heating issues...but can be ignored!! I bought MacBook air in 2017, it was working fine till last month. It suddenly stopped charging I took it apple care and was shocked to hear the feedback. They told me that the motherboard is dead and i have to buy a new motherboard. The cost was 50k ( i bought at 53k in 2017). We buy Apple products because they are meant to be long-lasting. I am really disappointed and would prefer other companies next time. They earn extra money from selling an extended warranty. Bought it on 9th July, stopped working / not turning power on by 4th Nov. Adding to this disappointment is - Apple\\'s refusal to repair it under warranty stating that there is corrosion in Logic Board. Amazon also did not help. The seller - Appario - does not like to be bothered with it. Sometimes I wonder if buying electronics online is a good idea! I bought it last year from Amazon during Sale. It worked well for on year and then suddenly stopped working. I am unable to switch it on. I took it to service centre and they told that the logic board has to be replaced. The cost is around 45000. I am helpless. I dont want to invest more into that. I used the laptop very carefully but I think Amazon sent a defected piece on sale. All are Gud.. For now.. Apple,apple,apple, thats the first thing that must have flashed in you mind when you saw this product, so here i have a total breif review on the laptop...***Pros***4k Video Editing with Final Cut Pro X on this thing works like butter, there is heating issue that i am going to go to apple service center to get it checkedEveryday works like checking mail and is just gr8The Battery is just OVERPOWERED, works for around 11-12 hours on continuous work and 8-9 hours when editingThe graphics card scores 30 fps in cinebench which is not that badThe performance is also fine, 280 cb processor score on cinebenchSpeakers are really good with perfect bassDisplay brightness is 300 nits, which is fineThe Wi-Fi is extremely good, can get a network even from the living room while the router is in the bedroomVery thin and lightweightMacOS is good for School work if you know all the office applications for mac, for eg.Pages is WordMagSafe 2 is the best partGood Trackpad and Keyboard with backlightThe Storage is fast!, thanks to the M.2 based SSD!***Cons***Display, though the resolution is fairly good for a 13.3 inch display, the viewing angle is not appropriate for a 84k laptopGets heated up (Going to get it checked by apple support). Cooling not appropriate for this cpu, need a better thermal paste and fanRam management on MacOS Mojave is not good, 8 GBs of memory is not well distributed among all tasks running in backgroundMacOS is not made for gaming, you need to boot camp on this mac with Windows if you are really a hard-core gamerIntel HD integrated graphics at the price???, god damn it apple (Though its not bad, have seen GeForce 940MX at the same price)No Force trackpadBezels are way too thick in today\\'s standardsNo thunderbolt 3 or Usb CCan\\'t detect Android Devices until Android Device Explorer is installedThe Storage is less! (128 GB, will upgrade to 256 GB in a few years)***My Verdict***This devices is for them who want Battery and Power, and people who want to do Video Editing on Final Cut Pro X, if anyone has a heat up issue than you should Call apple Support and visit one service center immediately to get your laptop checked! Though the graphics is OK from my view, apple could have given better graphics like the radeon vega 8 graphics or Intel Iris Plus or Pro for a laptop that is so expensive! Everything else is Great! And MacOS is not that hard, i easily use both my Lenovo Gaming PC and my apple macbook air easily! Go for it if you are in the criteria I explained above! For hard-core video editing I would recommend atleast an iMac 4k or MacBook Pro Base Model because of its cooling Fan structure, Better Graphics and CPU! This Air is enough to edit 4k60fps videos but will slow down a bit in 5k60fps! While exporting the 4k60fps video the CPU and GPU went up to 104 degrees, this is the reason i am going to apple support! Thank You if you read the whole review because I spent a lot of time writing this!*Update on 8 Oct, 2019*Apple service did nothing, so I thought of doing my own service! Yes, I changed the thermal paste and dusted the fan, now, everything is running even better than ever, even the heating issua is solved! Now while exporting a 4k 60 fps video, it\\'s just around 80 degrees, hence no thermal throttling, Yay! After using Windows Operating system for the past 10+ years, I switched to Mac. The switch was inspired by the awesome reviews I got from my friends. I must say that they were all real and that the device and the tech is so very impressive. Be it the design,  be it the processing speed, be it the battery life......all are way ahead than that of a Windows device. I am satisfied to get the marvel of a tech in my hands. It is saving my time every now and then as I am stricken with an idea to pen a couplet, short story or poem.....I simply open the lid, note the idea and then simply close it....no need of shutting the OS down everytime. Working perfectly. MacBook Air is excellent. The build is super strong, the operating systems runs smooth. The trackpad and keyboard are great. The only thing that can be improved is its screen (the visuals). Not as good as expected. The hard disk is too small but if you carry an external hard disk you can solve that problem. Got it at the price of a Dell Windows laptop during Amazon sale. A great deal. Very handy laptop, light weight and portable. Mac OS is super cool. Battery backup was good. Defective product recieved,within 2 months of use, laptop gets switched off suddenly while on battery. Requires power input to restart again.Contacted service centre, they told its motherboard problem and replaced motherboard under warranty, but problem still persisting. Laptop still at service center. Earlier i was using toshiba laptop, satellite 340,lasted 8 yrs without any problem. Paid a premium for macbook air very dissapointed with apple quality of products. And to repair it outside warranty, parts cost as much as the laptop itself🙄 I was apprehensive of buying Apple product from Amazon as some reviews suggested that imported items are being sold. However what I got was fresh and genuine product, I checked warranty on Apple site with serial no. All serial no - on bill, box, inner box and in macOS itself were consistent. Display is too good and it feels like butter operating the device. Only thing is that price difference between this and 256GB version is too much. I brought this mac air on sep 2017. From past 1 week I am not able to turn on my mac, went to apple store and after troubleshooting they said it is having motherboard problem and need to replace which cost 50k, I was shocked and said how come in less than 2 year mac will have this issue. So kindly please beawre on this big bug mac air. Don\\'t want to mention anything for apple MAC book :)Super product I have my worst nightmare with the macbook air I bought. I bought it on theOctober 2018, it got into teouble in the month april 2019. It would turn was trying to restart automatically. I then reoaired it from apple care. It again got dead and woulnt turn onn. I put all the money into water. I dont know what to do with this. Everything about this product seems to be fine as of now. Got an option to upgrade to higher OS and install tools required for my work. Except for not so good sound quality while watching movies through itunes stores, other aspect seems to be fine. Higher storage options (256 GB) may be required for power users who may want to app development on this system. Current configuration suits light - medium heavy user(I belong to this category)- (need xcode debugging feature for my projects ). I was looking for an affordable long lasting light laptop and my search led me to this. I know Apple has launch a new Air but this is still a good performer and with the recent price cut this laptop makes so much sense. I was using MacBook Pro for last 8 years, and after it retired this replaced the Pro and is not doing a bad job at it at all. This is the worst  apple product I have ever seen ...6 month After purchase of this fake book ...some of its keys of keyboard  stopped working ...So the service center  replace my keyboard with the new one ...But after some months with  the new replaced  keyboard some of its key again stopped working .All these things happen in one year and 3 month timeline which is roughly 1.5 years of original purchase date ... ...When I spoke to the service center they told me that the warranty is over you need to pay 12000 rs ...So I don\\'t have any option. The cost is too high. ..So now I m working with the external keyboard which cost me merely 200 rs ... My friend bought the same macbook from the showroom and i must say its really working good and it doesnt show any fault at all .Till now .i wish i also bought this macbook from the showroom .... Amazing product..it has quality written all over it..great battery, easy to adapt if you are moving from windows..the trackpad, gestures, everything is so damm goodHad read many reviews about the display being bad...it is..if you are trying to look at atomic level details..its a fantastic screen with great audio output..Everything g screams quality and premium about the macbook..love it. From the very beginning the battery life was horrible . hardly 2 hours. And after using it for just a year it just stopped working . and i cannot even charge it. Terrible product sold by Amazon The rating isn\\'t for Apple\\'s performance. I exchanged my old MacBook Air 11\\' (2013) for MacBook Air 13.3\\' (2017): and I haven\\'t been disappointed. They both are fantastic machines, there isn\\'t a bit of change except the screen - it is slightly bigger and better...The rating for the seller - I would give 5 star for delivery and 4 star for packaging. However, the product came with multiple scratches. I am unable to conclude whose fault it is- Apple or the reseller (in this case - Cloudtail India Pvt Ltd).I have restored my previous backup and will observe the performance over the week. If it under performs- I will report it to the authorities. If it performs well, the scratches may have been anyone\\'s fault but can be ignored...I shall update this review in a week\\'s time... I preferred this over other good spec windows laptop, just for reason mac. 128 gb ssd was only concern as it may not be sufficient however adding external hd or flash drive will do the job for u. Overall even the screen is not full hd i did not find it much of the issue, however If u r concern about good display must for consider this as option. Additionaly over 13000 discount in last sale made this perfect deal. When i received, within 15 days i realised the hinges were loose. Then after less than 2 months very rare use i got a line on the display. The replacement window was only 10 days. Now i have given it for service and even apple doesn\\'t have a replacement policy. So i have to use a repaired device inspite of buying new. Very disappointing. Be careful while buying electronic products through Amazon.I bought this macbook for 56k on March 2018. After 1.5 years of usage, the display stopped working for no reason. The device never had any accidental drop or shock while I was using it through these years. The service center guy told me it would cost around 41k for screen replacement. Now I\\'m left with no option.If you are buying, I suggest you to buy it along with a protection plan or any extended warranty. MERITS..IT IS BEST IN ITS PERFORMANCE..SOUND QUALITY IS AMAZING..NICE PICTURE QUALITY...GREAT STABILIZATION..BEST UI(USER INTERFACE)..BEST LAPTOP FOR NORMAL HUMANS🤣 >50KDEMERITSCANNOT BE USED FOR GAMINGbut If You areNot a Productive person Then only You Play games..And...THERE\\'s nothing much bad about 3 years and still running! great product The elegant work of apple can be seen in this product. The design, the user friendliness, the compactness can be easily seen in this laptop. Coming to the performance, the speed of this is remarkable, and you can get to know the power of Mac os when you have another apple product. You can get one of the best movie experiences on this . Overall I would it a 4.5/5. I got a great deal on this laptop, which I have been using for almost a year now. I got it not only on discount but also was able to exchange my old laptop with this! Laptop works really well, it was a good purchase!'"
            ]
          },
          "execution_count": 7,
          "metadata": {},
          "output_type": "execute_result"
        }
      ]
    },
    {
      "cell_type": "code",
      "metadata": {
        "id": "bb6UQjl7TSJ4",
        "outputId": "7a568b81-6b7c-46ea-e521-73a40794e18c"
      },
      "source": [
        "#Punctuation\n",
        "no_punc_text = text.translate(str.maketrans('', '', string.punctuation)) #with arguments (x, y, z) where 'x' and 'y'\n",
        "# must be equal-length strings and characters in 'x'\n",
        "# are replaced by characters in 'y'. 'z'\n",
        "# is a string (string.punctuation here)\n",
        "no_punc_text"
      ],
      "execution_count": null,
      "outputs": [
        {
          "data": {
            "text/plain": [
              "'Its amazing battery last around 10 12 hrsbest laptop for students and coders Finally a MacBook possession Got it in 50k in Diwali sale Technically good laptopGood Newsluxury product niche technology good battery life reliable machine other laptops crash and become defunct in 610 years no antivirus required security of data and transactions much better Terrific sense of possession  prideBad News Problems will be there if you are switching from windows based system  very less space in hard disk no CD drive inability to transfer data from Mac to your existing external hard disc unless you format it apps are mostly paid and re unreasonably expensive no free apps which are available otherwise on google play store even the angry bird costs Rs 400  all printers are not compatible eg the most economical MFD laser printer RICOH SP 111 cant be used huge compatibility issues with Pages MS Word and Keynote powerpoint unless you master it by working on these still mostly the document and slides either do not open in windows environment or have distortion issues you need to spend extra for an external CD writer and tp buy a carry bag Mac con not be connected to most of the projectors unless you buy some connectors which are expensive and theres no clarity which one to buy and from where you cant connect it to your TV the ports are different and again theres no clarity  customer support manuals or help section are silent  Marketing strategy for Indian market if at all has been planned has been very bad If these critical issues and a few more not mentioned here are handled properly the Mac can sweep away other laptops in India Presently it doesnt seem to be happeningOverall VerdictIf compatibility issues mentioned above do not bother you go for it Else think hard  If its an emotional issue to own a long cherished Mac then its a different thing Go ahead and gradually you would figure out most but not all of the above problems like I did Best Laptop under 60k If you dont want any accounting softwares like tally or busy then go for it better than windows in every term I just love its battery life with sleek look 😍Now talking about MS officeIts available on app store free for 1 monthAfter that you will have to payYou cannot install pirated version but if you install Windows 7 or any other version then u can use Ms office for freeBut in MacBook there are other apps which are good substitute for Ms office appsNumbers for ExcelPages for wordKeynote for PowerPointAnd you can convert your numbers file to Excel file or csv fileSame for the pages  keynoteSo no need of Ms office for meCons1 U cannot play games your laptop will just heat up battery will drain U cannot play pubg mobile on emulator if you are pubg lover😁2 Storage 128gb it will work fine but if you want to store movies or TV shows u cant u have to buy external hard disk Pros1 Light weight and super fast response time2 Highly optimize which avoids any kind of process lag3 Beautiful looks and feels like a prime product4 Long battery life and awesome sound clarity5 Purchased during Amazon sale cost around 52kCons1 Not enough memory2 Limited softwares available3 Operating system is not that userfriendlyProbably one of the best option for 50k laptops  I am very upset about the product as I checked my MacBook 15 days back in December it didn’t start It was luckily in warranty  I took it to the service centre and they informed me the mother board and battery collapsed If it was not in warranty I had to pay 47000 I asked for replacement of the product and I was refused They got it fixed for me I don’t know why should I pay 57000 for Mac quality If this is the quality and the service then I have to go to other product In January my product expiry was due They have give an extension of 3 months warranty when I had asked for 1 year Very disappointed Reason for 1 star is I ot an defective piece The sound quality was not good  My laptop started giving issues with power button from  4 months The screen would flicker and it would shutdown automatically after sometime Took the mac to service centre They replaced the motherboard free of cost as it was in warranty Now my mac is perfectly fine  Got the Apple Macbook air on amazon discount sale1 The OS is smooth and is a breeze to work with Ships with macOS sierra but update is available to macOS mojave2 The design and build quality as you can expect from an apple product is top notch3 Excellen sound quality keyboardCons1 128GB may be low incase you want to have movies and media in your laptopYou need to carry around a hard disk that kind of nullifies the advantage of having a light weight laptop2 Display resolution is not exactly upto the mark White line coming on screen in just three months of purchase from amazon Doubting the quality of the products sold on amazon Bought this product recently on 5 April was working perfectly fine for few days and on 16 April the Mac working charge or turn on Apple service centre says they can’t fix the product under warranty and amazon in try to come up with a solution ever since  no solid answer  I m stuck with a dead mac after using it for 10days Request seller  Amazon or apple to take full responsibility Hi Think thousand time before buying One calm night i was cuddling in jaipuri blanket while enjoying youtube on this expensive machine Cold night and little excitement created electrostatic charge which spike though spaceBar button thats how it went to deep sleep forever Nothing can bring it back and i am in no mood in spending another fortune on this machine Apple of you icare this is the least of security feature included in all electronic devices And the best part it was a week after Warranty expiration date We buy macbooks expecting that it will lasts at least 3 years not in my case they are saying it will costs 46000rs to repair i bought this in 58000rs if i dont want to repair it still Ive to pay 2500rs as diagnostic cost not recommended I use this for music production and it works awesomehowever the display is not so good as it should have been in a 63k laptop Never purchase any Apple products I bought 3 and start giving problems just after 6 months I need to visit 4 times service station which is far 12 km Again MacBook start acting dead after 6 more months Mean a top priced laptop giving problems in every 6 monthsI have good experiences with other brands of laptops I hope this comment can help to save somebody’s money Good purchase of mineBest for programmingOnly some heating issuesbut can be ignored I bought MacBook air in 2017 it was working fine till last month It suddenly stopped charging I took it apple care and was shocked to hear the feedback They told me that the motherboard is dead and i have to buy a new motherboard The cost was 50k  i bought at 53k in 2017 We buy Apple products because they are meant to be longlasting I am really disappointed and would prefer other companies next time They earn extra money from selling an extended warranty Bought it on 9th July stopped working  not turning power on by 4th Nov Adding to this disappointment is  Apples refusal to repair it under warranty stating that there is corrosion in Logic Board Amazon also did not help The seller  Appario  does not like to be bothered with it Sometimes I wonder if buying electronics online is a good idea I bought it last year from Amazon during Sale It worked well for on year and then suddenly stopped working I am unable to switch it on I took it to service centre and they told that the logic board has to be replaced The cost is around 45000 I am helpless I dont want to invest more into that I used the laptop very carefully but I think Amazon sent a defected piece on sale All are Gud For now Appleappleapple thats the first thing that must have flashed in you mind when you saw this product so here i have a total breif review on the laptopPros4k Video Editing with Final Cut Pro X on this thing works like butter there is heating issue that i am going to go to apple service center to get it checkedEveryday works like checking mail and is just gr8The Battery is just OVERPOWERED works for around 1112 hours on continuous work and 89 hours when editingThe graphics card scores 30 fps in cinebench which is not that badThe performance is also fine 280 cb processor score on cinebenchSpeakers are really good with perfect bassDisplay brightness is 300 nits which is fineThe WiFi is extremely good can get a network even from the living room while the router is in the bedroomVery thin and lightweightMacOS is good for School work if you know all the office applications for mac for egPages is WordMagSafe 2 is the best partGood Trackpad and Keyboard with backlightThe Storage is fast thanks to the M2 based SSDConsDisplay though the resolution is fairly good for a 133 inch display the viewing angle is not appropriate for a 84k laptopGets heated up Going to get it checked by apple support Cooling not appropriate for this cpu need a better thermal paste and fanRam management on MacOS Mojave is not good 8 GBs of memory is not well distributed among all tasks running in backgroundMacOS is not made for gaming you need to boot camp on this mac with Windows if you are really a hardcore gamerIntel HD integrated graphics at the price god damn it apple Though its not bad have seen GeForce 940MX at the same priceNo Force trackpadBezels are way too thick in todays standardsNo thunderbolt 3 or Usb CCant detect Android Devices until Android Device Explorer is installedThe Storage is less 128 GB will upgrade to 256 GB in a few yearsMy VerdictThis devices is for them who want Battery and Power and people who want to do Video Editing on Final Cut Pro X if anyone has a heat up issue than you should Call apple Support and visit one service center immediately to get your laptop checked Though the graphics is OK from my view apple could have given better graphics like the radeon vega 8 graphics or Intel Iris Plus or Pro for a laptop that is so expensive Everything else is Great And MacOS is not that hard i easily use both my Lenovo Gaming PC and my apple macbook air easily Go for it if you are in the criteria I explained above For hardcore video editing I would recommend atleast an iMac 4k or MacBook Pro Base Model because of its cooling Fan structure Better Graphics and CPU This Air is enough to edit 4k60fps videos but will slow down a bit in 5k60fps While exporting the 4k60fps video the CPU and GPU went up to 104 degrees this is the reason i am going to apple support Thank You if you read the whole review because I spent a lot of time writing thisUpdate on 8 Oct 2019Apple service did nothing so I thought of doing my own service Yes I changed the thermal paste and dusted the fan now everything is running even better than ever even the heating issua is solved Now while exporting a 4k 60 fps video its just around 80 degrees hence no thermal throttling Yay After using Windows Operating system for the past 10 years I switched to Mac The switch was inspired by the awesome reviews I got from my friends I must say that they were all real and that the device and the tech is so very impressive Be it the design  be it the processing speed be it the battery lifeall are way ahead than that of a Windows device I am satisfied to get the marvel of a tech in my hands It is saving my time every now and then as I am stricken with an idea to pen a couplet short story or poemI simply open the lid note the idea and then simply close itno need of shutting the OS down everytime Working perfectly MacBook Air is excellent The build is super strong the operating systems runs smooth The trackpad and keyboard are great The only thing that can be improved is its screen the visuals Not as good as expected The hard disk is too small but if you carry an external hard disk you can solve that problem Got it at the price of a Dell Windows laptop during Amazon sale A great deal Very handy laptop light weight and portable Mac OS is super cool Battery backup was good Defective product recievedwithin 2 months of use laptop gets switched off suddenly while on battery Requires power input to restart againContacted service centre they told its motherboard problem and replaced motherboard under warranty but problem still persisting Laptop still at service center Earlier i was using toshiba laptop satellite 340lasted 8 yrs without any problem Paid a premium for macbook air very dissapointed with apple quality of products And to repair it outside warranty parts cost as much as the laptop itself🙄 I was apprehensive of buying Apple product from Amazon as some reviews suggested that imported items are being sold However what I got was fresh and genuine product I checked warranty on Apple site with serial no All serial no  on bill box inner box and in macOS itself were consistent Display is too good and it feels like butter operating the device Only thing is that price difference between this and 256GB version is too much I brought this mac air on sep 2017 From past 1 week I am not able to turn on my mac went to apple store and after troubleshooting they said it is having motherboard problem and need to replace which cost 50k I was shocked and said how come in less than 2 year mac will have this issue So kindly please beawre on this big bug mac air Dont want to mention anything for apple MAC book Super product I have my worst nightmare with the macbook air I bought I bought it on theOctober 2018 it got into teouble in the month april 2019 It would turn was trying to restart automatically I then reoaired it from apple care It again got dead and woulnt turn onn I put all the money into water I dont know what to do with this Everything about this product seems to be fine as of now Got an option to upgrade to higher OS and install tools required for my work Except for not so good sound quality while watching movies through itunes stores other aspect seems to be fine Higher storage options 256 GB may be required for power users who may want to app development on this system Current configuration suits light  medium heavy userI belong to this category need xcode debugging feature for my projects  I was looking for an affordable long lasting light laptop and my search led me to this I know Apple has launch a new Air but this is still a good performer and with the recent price cut this laptop makes so much sense I was using MacBook Pro for last 8 years and after it retired this replaced the Pro and is not doing a bad job at it at all This is the worst  apple product I have ever seen 6 month After purchase of this fake book some of its keys of keyboard  stopped working So the service center  replace my keyboard with the new one But after some months with  the new replaced  keyboard some of its key again stopped working All these things happen in one year and 3 month timeline which is roughly 15 years of original purchase date  When I spoke to the service center they told me that the warranty is over you need to pay 12000 rs So I dont have any option The cost is too high So now I m working with the external keyboard which cost me merely 200 rs  My friend bought the same macbook from the showroom and i must say its really working good and it doesnt show any fault at all Till now i wish i also bought this macbook from the showroom  Amazing productit has quality written all over itgreat battery easy to adapt if you are moving from windowsthe trackpad gestures everything is so damm goodHad read many reviews about the display being badit isif you are trying to look at atomic level detailsits a fantastic screen with great audio outputEverything g screams quality and premium about the macbooklove it From the very beginning the battery life was horrible  hardly 2 hours And after using it for just a year it just stopped working  and i cannot even charge it Terrible product sold by Amazon The rating isnt for Apples performance I exchanged my old MacBook Air 11 2013 for MacBook Air 133 2017 and I havent been disappointed They both are fantastic machines there isnt a bit of change except the screen  it is slightly bigger and betterThe rating for the seller  I would give 5 star for delivery and 4 star for packaging However the product came with multiple scratches I am unable to conclude whose fault it is Apple or the reseller in this case  Cloudtail India Pvt LtdI have restored my previous backup and will observe the performance over the week If it under performs I will report it to the authorities If it performs well the scratches may have been anyones fault but can be ignoredI shall update this review in a weeks time I preferred this over other good spec windows laptop just for reason mac 128 gb ssd was only concern as it may not be sufficient however adding external hd or flash drive will do the job for u Overall even the screen is not full hd i did not find it much of the issue however If u r concern about good display must for consider this as option Additionaly over 13000 discount in last sale made this perfect deal When i received within 15 days i realised the hinges were loose Then after less than 2 months very rare use i got a line on the display The replacement window was only 10 days Now i have given it for service and even apple doesnt have a replacement policy So i have to use a repaired device inspite of buying new Very disappointing Be careful while buying electronic products through AmazonI bought this macbook for 56k on March 2018 After 15 years of usage the display stopped working for no reason The device never had any accidental drop or shock while I was using it through these years The service center guy told me it would cost around 41k for screen replacement Now Im left with no optionIf you are buying I suggest you to buy it along with a protection plan or any extended warranty MERITSIT IS BEST IN ITS PERFORMANCESOUND QUALITY IS AMAZINGNICE PICTURE QUALITYGREAT STABILIZATIONBEST UIUSER INTERFACEBEST LAPTOP FOR NORMAL HUMANS🤣 50KDEMERITSCANNOT BE USED FOR GAMINGbut If You areNot a Productive person Then only You Play gamesAndTHEREs nothing much bad about 3 years and still running great product The elegant work of apple can be seen in this product The design the user friendliness the compactness can be easily seen in this laptop Coming to the performance the speed of this is remarkable and you can get to know the power of Mac os when you have another apple product You can get one of the best movie experiences on this  Overall I would it a 455 I got a great deal on this laptop which I have been using for almost a year now I got it not only on discount but also was able to exchange my old laptop with this Laptop works really well it was a good purchase'"
            ]
          },
          "execution_count": 8,
          "metadata": {},
          "output_type": "execute_result"
        }
      ]
    },
    {
      "cell_type": "code",
      "metadata": {
        "id": "pN0gqdVtTSJ5",
        "outputId": "f3e8cb36-dce6-4b05-b2d6-c2250baddb58"
      },
      "source": [
        "pip install nltk"
      ],
      "execution_count": null,
      "outputs": [
        {
          "name": "stdout",
          "output_type": "stream",
          "text": [
            "Requirement already satisfied: nltk in c:\\users\\himan\\anaconda3\\lib\\site-packages (3.6.1)\n",
            "Requirement already satisfied: tqdm in c:\\users\\himan\\anaconda3\\lib\\site-packages (from nltk) (4.59.0)\n",
            "Requirement already satisfied: click in c:\\users\\himan\\anaconda3\\lib\\site-packages (from nltk) (7.1.2)\n",
            "Requirement already satisfied: joblib in c:\\users\\himan\\anaconda3\\lib\\site-packages (from nltk) (1.0.1)\n",
            "Requirement already satisfied: regex in c:\\users\\himan\\anaconda3\\lib\\site-packages (from nltk) (2021.4.4)\n",
            "Note: you may need to restart the kernel to use updated packages.\n"
          ]
        }
      ]
    },
    {
      "cell_type": "code",
      "metadata": {
        "id": "DVjxMBeQTSJ5"
      },
      "source": [
        "import nltk"
      ],
      "execution_count": null,
      "outputs": []
    },
    {
      "cell_type": "code",
      "metadata": {
        "id": "7BGAnRa-TSJ5",
        "outputId": "5d6038cc-8fb9-4407-8061-b3fbd4dd0df2"
      },
      "source": [
        "nltk.download('punkt')"
      ],
      "execution_count": null,
      "outputs": [
        {
          "name": "stderr",
          "output_type": "stream",
          "text": [
            "[nltk_data] Downloading package punkt to\n",
            "[nltk_data]     C:\\Users\\himan\\AppData\\Roaming\\nltk_data...\n",
            "[nltk_data]   Unzipping tokenizers\\punkt.zip.\n"
          ]
        },
        {
          "data": {
            "text/plain": [
              "True"
            ]
          },
          "execution_count": 12,
          "metadata": {},
          "output_type": "execute_result"
        }
      ]
    },
    {
      "cell_type": "code",
      "metadata": {
        "id": "vWwu_R5fTSJ6",
        "outputId": "8a579e92-0a1d-4c0a-a702-c19919671baf"
      },
      "source": [
        "#Tokenization\n",
        "from nltk.tokenize import word_tokenize\n",
        "text_tokens = word_tokenize(no_punc_text)\n",
        "print(text_tokens[0:50])"
      ],
      "execution_count": null,
      "outputs": [
        {
          "name": "stdout",
          "output_type": "stream",
          "text": [
            "['Its', 'amazing', 'battery', 'last', 'around', '10', '12', 'hrsbest', 'laptop', 'for', 'students', 'and', 'coders', 'Finally', 'a', 'MacBook', 'possession', 'Got', 'it', 'in', '50k', 'in', 'Diwali', 'sale', 'Technically', 'good', 'laptopGood', 'Newsluxury', 'product', 'niche', 'technology', 'good', 'battery', 'life', 'reliable', 'machine', 'other', 'laptops', 'crash', 'and', 'become', 'defunct', 'in', '610', 'years', 'no', 'antivirus', 'required', 'security', 'of']\n"
          ]
        }
      ]
    },
    {
      "cell_type": "code",
      "metadata": {
        "id": "S7C9tyQkTSJ6",
        "outputId": "295aedf5-25c6-4578-afd1-ae4187951846"
      },
      "source": [
        "len(text_tokens)"
      ],
      "execution_count": null,
      "outputs": [
        {
          "data": {
            "text/plain": [
              "3444"
            ]
          },
          "execution_count": 14,
          "metadata": {},
          "output_type": "execute_result"
        }
      ]
    },
    {
      "cell_type": "code",
      "metadata": {
        "id": "rObhMOL0TSJ6",
        "outputId": "216cd485-77a5-49be-e91b-d22e5d8989c8"
      },
      "source": [
        "#Remove stopwords\n",
        "import nltk\n",
        "from nltk.corpus import stopwords\n",
        "nltk.download('punkt')\n",
        "nltk.download('stopwords')\n",
        "\n",
        "my_stop_words = stopwords.words('english')\n",
        "my_stop_words.append('the')\n",
        "no_stop_tokens = [word for word in text_tokens if not word in my_stop_words]\n",
        "print(no_stop_tokens[0:40])"
      ],
      "execution_count": null,
      "outputs": [
        {
          "name": "stderr",
          "output_type": "stream",
          "text": [
            "[nltk_data] Downloading package punkt to\n",
            "[nltk_data]     C:\\Users\\himan\\AppData\\Roaming\\nltk_data...\n",
            "[nltk_data]   Package punkt is already up-to-date!\n",
            "[nltk_data] Downloading package stopwords to\n",
            "[nltk_data]     C:\\Users\\himan\\AppData\\Roaming\\nltk_data...\n"
          ]
        },
        {
          "name": "stdout",
          "output_type": "stream",
          "text": [
            "['Its', 'amazing', 'battery', 'last', 'around', '10', '12', 'hrsbest', 'laptop', 'students', 'coders', 'Finally', 'MacBook', 'possession', 'Got', '50k', 'Diwali', 'sale', 'Technically', 'good', 'laptopGood', 'Newsluxury', 'product', 'niche', 'technology', 'good', 'battery', 'life', 'reliable', 'machine', 'laptops', 'crash', 'become', 'defunct', '610', 'years', 'antivirus', 'required', 'security', 'data']\n"
          ]
        },
        {
          "name": "stderr",
          "output_type": "stream",
          "text": [
            "[nltk_data]   Unzipping corpora\\stopwords.zip.\n"
          ]
        }
      ]
    },
    {
      "cell_type": "code",
      "metadata": {
        "id": "ftJYI0YYTSJ6",
        "outputId": "940e918b-3ccf-4cad-f65c-172e043ea44e"
      },
      "source": [
        "#Noramalize the data\n",
        "lower_words = [x.lower() for x in no_stop_tokens]\n",
        "print(lower_words[0:25])"
      ],
      "execution_count": null,
      "outputs": [
        {
          "name": "stdout",
          "output_type": "stream",
          "text": [
            "['its', 'amazing', 'battery', 'last', 'around', '10', '12', 'hrsbest', 'laptop', 'students', 'coders', 'finally', 'macbook', 'possession', 'got', '50k', 'diwali', 'sale', 'technically', 'good', 'laptopgood', 'newsluxury', 'product', 'niche', 'technology']\n"
          ]
        }
      ]
    },
    {
      "cell_type": "code",
      "metadata": {
        "id": "M3jmYDGOTSJ7",
        "outputId": "a0fea0e7-a1e9-4057-b73a-80422a3f123d"
      },
      "source": [
        "#Stemming\n",
        "from nltk.stem import PorterStemmer\n",
        "ps = PorterStemmer()\n",
        "stemmed_tokens = [ps.stem(word) for word in lower_words]\n",
        "print(stemmed_tokens[0:40])"
      ],
      "execution_count": null,
      "outputs": [
        {
          "name": "stdout",
          "output_type": "stream",
          "text": [
            "['it', 'amaz', 'batteri', 'last', 'around', '10', '12', 'hrsbest', 'laptop', 'student', 'coder', 'final', 'macbook', 'possess', 'got', '50k', 'diwali', 'sale', 'technic', 'good', 'laptopgood', 'newsluxuri', 'product', 'nich', 'technolog', 'good', 'batteri', 'life', 'reliabl', 'machin', 'laptop', 'crash', 'becom', 'defunct', '610', 'year', 'antiviru', 'requir', 'secur', 'data']\n"
          ]
        }
      ]
    },
    {
      "cell_type": "code",
      "metadata": {
        "id": "dPSeOiR7TSJ7"
      },
      "source": [
        "#!python -m spacy download en"
      ],
      "execution_count": null,
      "outputs": []
    },
    {
      "cell_type": "code",
      "metadata": {
        "id": "GuOjrcRQTSJ7",
        "outputId": "18770a92-6903-4c79-a73e-2aea82bb0343"
      },
      "source": [
        "# NLP english language model of spacy library\n",
        "nlp = spacy.load('en') \n",
        "\n"
      ],
      "execution_count": null,
      "outputs": [
        {
          "ename": "OSError",
          "evalue": "[E941] Can't find model 'en'. It looks like you're trying to load a model from a shortcut, which is obsolete as of spaCy v3.0. To load the model, use its full name instead:\n\nnlp = spacy.load(\"en_core_web_sm\")\n\nFor more details on the available models, see the models directory: https://spacy.io/models. If you want to create a blank model, use spacy.blank: nlp = spacy.blank(\"en\")",
          "output_type": "error",
          "traceback": [
            "\u001b[1;31m---------------------------------------------------------------------------\u001b[0m",
            "\u001b[1;31mOSError\u001b[0m                                   Traceback (most recent call last)",
            "\u001b[1;32m<ipython-input-25-ef727e97ff38>\u001b[0m in \u001b[0;36m<module>\u001b[1;34m\u001b[0m\n\u001b[0;32m      1\u001b[0m \u001b[1;31m# NLP english language model of spacy library\u001b[0m\u001b[1;33m\u001b[0m\u001b[1;33m\u001b[0m\u001b[1;33m\u001b[0m\u001b[0m\n\u001b[1;32m----> 2\u001b[1;33m \u001b[0mnlp\u001b[0m \u001b[1;33m=\u001b[0m \u001b[0mspacy\u001b[0m\u001b[1;33m.\u001b[0m\u001b[0mload\u001b[0m\u001b[1;33m(\u001b[0m\u001b[1;34m'en'\u001b[0m\u001b[1;33m)\u001b[0m\u001b[1;33m\u001b[0m\u001b[1;33m\u001b[0m\u001b[0m\n\u001b[0m\u001b[0;32m      3\u001b[0m \u001b[1;33m\u001b[0m\u001b[0m\n",
            "\u001b[1;32m~\\anaconda3\\lib\\site-packages\\spacy\\__init__.py\u001b[0m in \u001b[0;36mload\u001b[1;34m(name, vocab, disable, exclude, config)\u001b[0m\n\u001b[0;32m     49\u001b[0m     \u001b[0mRETURNS\u001b[0m \u001b[1;33m(\u001b[0m\u001b[0mLanguage\u001b[0m\u001b[1;33m)\u001b[0m\u001b[1;33m:\u001b[0m \u001b[0mThe\u001b[0m \u001b[0mloaded\u001b[0m \u001b[0mnlp\u001b[0m \u001b[0mobject\u001b[0m\u001b[1;33m.\u001b[0m\u001b[1;33m\u001b[0m\u001b[1;33m\u001b[0m\u001b[0m\n\u001b[0;32m     50\u001b[0m     \"\"\"\n\u001b[1;32m---> 51\u001b[1;33m     return util.load_model(\n\u001b[0m\u001b[0;32m     52\u001b[0m         \u001b[0mname\u001b[0m\u001b[1;33m,\u001b[0m \u001b[0mvocab\u001b[0m\u001b[1;33m=\u001b[0m\u001b[0mvocab\u001b[0m\u001b[1;33m,\u001b[0m \u001b[0mdisable\u001b[0m\u001b[1;33m=\u001b[0m\u001b[0mdisable\u001b[0m\u001b[1;33m,\u001b[0m \u001b[0mexclude\u001b[0m\u001b[1;33m=\u001b[0m\u001b[0mexclude\u001b[0m\u001b[1;33m,\u001b[0m \u001b[0mconfig\u001b[0m\u001b[1;33m=\u001b[0m\u001b[0mconfig\u001b[0m\u001b[1;33m\u001b[0m\u001b[1;33m\u001b[0m\u001b[0m\n\u001b[0;32m     53\u001b[0m     )\n",
            "\u001b[1;32m~\\anaconda3\\lib\\site-packages\\spacy\\util.py\u001b[0m in \u001b[0;36mload_model\u001b[1;34m(name, vocab, disable, exclude, config)\u001b[0m\n\u001b[0;32m    328\u001b[0m         \u001b[1;32mreturn\u001b[0m \u001b[0mload_model_from_path\u001b[0m\u001b[1;33m(\u001b[0m\u001b[0mname\u001b[0m\u001b[1;33m,\u001b[0m \u001b[1;33m**\u001b[0m\u001b[0mkwargs\u001b[0m\u001b[1;33m)\u001b[0m\u001b[1;33m\u001b[0m\u001b[1;33m\u001b[0m\u001b[0m\n\u001b[0;32m    329\u001b[0m     \u001b[1;32mif\u001b[0m \u001b[0mname\u001b[0m \u001b[1;32min\u001b[0m \u001b[0mOLD_MODEL_SHORTCUTS\u001b[0m\u001b[1;33m:\u001b[0m\u001b[1;33m\u001b[0m\u001b[1;33m\u001b[0m\u001b[0m\n\u001b[1;32m--> 330\u001b[1;33m         \u001b[1;32mraise\u001b[0m \u001b[0mIOError\u001b[0m\u001b[1;33m(\u001b[0m\u001b[0mErrors\u001b[0m\u001b[1;33m.\u001b[0m\u001b[0mE941\u001b[0m\u001b[1;33m.\u001b[0m\u001b[0mformat\u001b[0m\u001b[1;33m(\u001b[0m\u001b[0mname\u001b[0m\u001b[1;33m=\u001b[0m\u001b[0mname\u001b[0m\u001b[1;33m,\u001b[0m \u001b[0mfull\u001b[0m\u001b[1;33m=\u001b[0m\u001b[0mOLD_MODEL_SHORTCUTS\u001b[0m\u001b[1;33m[\u001b[0m\u001b[0mname\u001b[0m\u001b[1;33m]\u001b[0m\u001b[1;33m)\u001b[0m\u001b[1;33m)\u001b[0m\u001b[1;33m\u001b[0m\u001b[1;33m\u001b[0m\u001b[0m\n\u001b[0m\u001b[0;32m    331\u001b[0m     \u001b[1;32mraise\u001b[0m \u001b[0mIOError\u001b[0m\u001b[1;33m(\u001b[0m\u001b[0mErrors\u001b[0m\u001b[1;33m.\u001b[0m\u001b[0mE050\u001b[0m\u001b[1;33m.\u001b[0m\u001b[0mformat\u001b[0m\u001b[1;33m(\u001b[0m\u001b[0mname\u001b[0m\u001b[1;33m=\u001b[0m\u001b[0mname\u001b[0m\u001b[1;33m)\u001b[0m\u001b[1;33m)\u001b[0m\u001b[1;33m\u001b[0m\u001b[1;33m\u001b[0m\u001b[0m\n\u001b[0;32m    332\u001b[0m \u001b[1;33m\u001b[0m\u001b[0m\n",
            "\u001b[1;31mOSError\u001b[0m: [E941] Can't find model 'en'. It looks like you're trying to load a model from a shortcut, which is obsolete as of spaCy v3.0. To load the model, use its full name instead:\n\nnlp = spacy.load(\"en_core_web_sm\")\n\nFor more details on the available models, see the models directory: https://spacy.io/models. If you want to create a blank model, use spacy.blank: nlp = spacy.blank(\"en\")"
          ]
        }
      ]
    },
    {
      "cell_type": "code",
      "metadata": {
        "id": "s2BhLMfoTSJ7",
        "outputId": "37302ff5-b3fc-48e1-f784-c35611e11069"
      },
      "source": [
        "# lemmas being one of them, but mostly POS, which will follow later\n",
        "doc = nlp(' '.join(no_stop_tokens))\n",
        "print(doc[0:40])"
      ],
      "execution_count": null,
      "outputs": [
        {
          "ename": "NameError",
          "evalue": "name 'nlp' is not defined",
          "output_type": "error",
          "traceback": [
            "\u001b[1;31m---------------------------------------------------------------------------\u001b[0m",
            "\u001b[1;31mNameError\u001b[0m                                 Traceback (most recent call last)",
            "\u001b[1;32m<ipython-input-20-07addf093188>\u001b[0m in \u001b[0;36m<module>\u001b[1;34m\u001b[0m\n\u001b[0;32m      1\u001b[0m \u001b[1;31m# lemmas being one of them, but mostly POS, which will follow later\u001b[0m\u001b[1;33m\u001b[0m\u001b[1;33m\u001b[0m\u001b[1;33m\u001b[0m\u001b[0m\n\u001b[1;32m----> 2\u001b[1;33m \u001b[0mdoc\u001b[0m \u001b[1;33m=\u001b[0m \u001b[0mnlp\u001b[0m\u001b[1;33m(\u001b[0m\u001b[1;34m' '\u001b[0m\u001b[1;33m.\u001b[0m\u001b[0mjoin\u001b[0m\u001b[1;33m(\u001b[0m\u001b[0mno_stop_tokens\u001b[0m\u001b[1;33m)\u001b[0m\u001b[1;33m)\u001b[0m\u001b[1;33m\u001b[0m\u001b[1;33m\u001b[0m\u001b[0m\n\u001b[0m\u001b[0;32m      3\u001b[0m \u001b[0mprint\u001b[0m\u001b[1;33m(\u001b[0m\u001b[0mdoc\u001b[0m\u001b[1;33m[\u001b[0m\u001b[1;36m0\u001b[0m\u001b[1;33m:\u001b[0m\u001b[1;36m40\u001b[0m\u001b[1;33m]\u001b[0m\u001b[1;33m)\u001b[0m\u001b[1;33m\u001b[0m\u001b[1;33m\u001b[0m\u001b[0m\n",
            "\u001b[1;31mNameError\u001b[0m: name 'nlp' is not defined"
          ]
        }
      ]
    },
    {
      "cell_type": "code",
      "metadata": {
        "id": "sOjJWH1WTSJ7",
        "outputId": "fdc100fc-d26d-481f-cde5-279f7bc60d21"
      },
      "source": [
        "lemmas = [token.lemma_ for token in doc]\n",
        "print(lemmas[0:25])"
      ],
      "execution_count": null,
      "outputs": [
        {
          "ename": "NameError",
          "evalue": "name 'doc' is not defined",
          "output_type": "error",
          "traceback": [
            "\u001b[1;31m---------------------------------------------------------------------------\u001b[0m",
            "\u001b[1;31mNameError\u001b[0m                                 Traceback (most recent call last)",
            "\u001b[1;32m<ipython-input-23-78f460dec681>\u001b[0m in \u001b[0;36m<module>\u001b[1;34m\u001b[0m\n\u001b[1;32m----> 1\u001b[1;33m \u001b[0mlemmas\u001b[0m \u001b[1;33m=\u001b[0m \u001b[1;33m[\u001b[0m\u001b[0mtoken\u001b[0m\u001b[1;33m.\u001b[0m\u001b[0mlemma_\u001b[0m \u001b[1;32mfor\u001b[0m \u001b[0mtoken\u001b[0m \u001b[1;32min\u001b[0m \u001b[0mdoc\u001b[0m\u001b[1;33m]\u001b[0m\u001b[1;33m\u001b[0m\u001b[1;33m\u001b[0m\u001b[0m\n\u001b[0m\u001b[0;32m      2\u001b[0m \u001b[0mprint\u001b[0m\u001b[1;33m(\u001b[0m\u001b[0mlemmas\u001b[0m\u001b[1;33m[\u001b[0m\u001b[1;36m0\u001b[0m\u001b[1;33m:\u001b[0m\u001b[1;36m25\u001b[0m\u001b[1;33m]\u001b[0m\u001b[1;33m)\u001b[0m\u001b[1;33m\u001b[0m\u001b[1;33m\u001b[0m\u001b[0m\n",
            "\u001b[1;31mNameError\u001b[0m: name 'doc' is not defined"
          ]
        }
      ]
    },
    {
      "cell_type": "markdown",
      "metadata": {
        "id": "_gJ_Z_9xTSJ8"
      },
      "source": [
        "#### Feature Extraction"
      ]
    },
    {
      "cell_type": "code",
      "metadata": {
        "id": "iIPUa3pFTSJ9"
      },
      "source": [
        "from sklearn.feature_extraction.text import CountVectorizer\n",
        "vectorizer = CountVectorizer()\n",
        "X = vectorizer.fit_transform(lemmas)"
      ],
      "execution_count": null,
      "outputs": []
    },
    {
      "cell_type": "code",
      "metadata": {
        "id": "-49i6D4LTSJ9"
      },
      "source": [
        "print(vectorizer.vocabulary_)"
      ],
      "execution_count": null,
      "outputs": []
    },
    {
      "cell_type": "code",
      "metadata": {
        "scrolled": true,
        "id": "CDNiWst9TSJ9"
      },
      "source": [
        "print(vectorizer.get_feature_names()[50:100])\n",
        "print(X.toarray()[50:100])"
      ],
      "execution_count": null,
      "outputs": []
    },
    {
      "cell_type": "code",
      "metadata": {
        "id": "3wSM6-ZqTSJ9"
      },
      "source": [
        "print(X.toarray().shape)"
      ],
      "execution_count": null,
      "outputs": []
    },
    {
      "cell_type": "markdown",
      "metadata": {
        "id": "2RcbL29RTSJ-"
      },
      "source": [
        "#### Let's see how can bigrams and trigrams can be included here"
      ]
    },
    {
      "cell_type": "code",
      "metadata": {
        "id": "JZseug3xTSJ-"
      },
      "source": [
        "vectorizer_ngram_range = CountVectorizer(analyzer='word',ngram_range=(1,3),max_features = 100)\n",
        "bow_matrix_ngram =vectorizer_ngram_range.fit_transform(book)"
      ],
      "execution_count": null,
      "outputs": []
    },
    {
      "cell_type": "code",
      "metadata": {
        "id": "PU3RLD_4TSJ-"
      },
      "source": [
        "print(vectorizer_ngram_range.get_feature_names())\n",
        "print(bow_matrix_ngram.toarray())"
      ],
      "execution_count": null,
      "outputs": []
    },
    {
      "cell_type": "markdown",
      "metadata": {
        "id": "rmSvHVPUTSJ_"
      },
      "source": [
        "#### TFidf vectorizer"
      ]
    },
    {
      "cell_type": "code",
      "metadata": {
        "id": "FB6diSiPTSJ_"
      },
      "source": [
        "from sklearn.feature_extraction.text import TfidfVectorizer\n",
        "vectorizer_n_gram_max_features = TfidfVectorizer(norm=\"l2\",analyzer='word', ngram_range=(1,3), max_features = 500)\n",
        "tf_idf_matrix_n_gram_max_features =vectorizer_n_gram_max_features.fit_transform(book)\n",
        "print(vectorizer_n_gram_max_features.get_feature_names())\n",
        "print(tf_idf_matrix_n_gram_max_features.toarray())"
      ],
      "execution_count": null,
      "outputs": []
    },
    {
      "cell_type": "markdown",
      "metadata": {
        "id": "5In6u3D7TSJ_"
      },
      "source": [
        "####  Generate wordcloud"
      ]
    },
    {
      "cell_type": "code",
      "metadata": {
        "id": "saV6OhqGTSJ_"
      },
      "source": [
        "# Import packages\n",
        "import matplotlib.pyplot as plt\n",
        "%matplotlib inline\n",
        "from wordcloud import WordCloud, STOPWORDS\n",
        "# Define a function to plot word cloud\n",
        "def plot_cloud(wordcloud):\n",
        "    # Set figure size\n",
        "    plt.figure(figsize=(40, 30))\n",
        "    # Display image\n",
        "    plt.imshow(wordcloud) \n",
        "    # No axis details\n",
        "    plt.axis(\"off\");"
      ],
      "execution_count": null,
      "outputs": []
    },
    {
      "cell_type": "code",
      "metadata": {
        "id": "94hnlTWcTSJ_"
      },
      "source": [
        "# Generate wordcloud\n",
        "stopwords = STOPWORDS\n",
        "stopwords.add('will')\n",
        "wordcloud = WordCloud(width = 3000, height = 2000, background_color='black', max_words=100,colormap='Set2',stopwords=stopwords).generate(text)\n",
        "# Plot\n",
        "plot_cloud(wordcloud)"
      ],
      "execution_count": null,
      "outputs": []
    },
    {
      "cell_type": "code",
      "metadata": {
        "id": "BYBpx7TETSJ_"
      },
      "source": [
        "# Save image\n",
        "#wordcloud.to_file(\"wordcloud.png\")"
      ],
      "execution_count": null,
      "outputs": []
    }
  ]
}